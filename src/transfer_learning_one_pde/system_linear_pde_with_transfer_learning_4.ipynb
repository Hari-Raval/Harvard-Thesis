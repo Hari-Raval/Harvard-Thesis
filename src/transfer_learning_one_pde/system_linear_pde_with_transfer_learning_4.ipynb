{
  "cells": [
    {
      "cell_type": "markdown",
      "source": [
        "# Imports and Pytorch Settings"
      ],
      "metadata": {
        "id": "Gmb2KtCWcE2J"
      },
      "id": "Gmb2KtCWcE2J"
    },
    {
      "cell_type": "code",
      "execution_count": 1,
      "id": "91f732e6",
      "metadata": {
        "id": "91f732e6"
      },
      "outputs": [],
      "source": [
        "# imports\n",
        "import torch\n",
        "import torch.nn as nn\n",
        "import matplotlib.pyplot as plt\n",
        "import numpy as np\n",
        "import time\n",
        "import sys\n",
        "from collections import defaultdict\n",
        "from scipy.integrate import solve_ivp\n",
        "from mpl_toolkits import mplot3d"
      ]
    },
    {
      "cell_type": "code",
      "source": [
        "torch.autograd.set_detect_anomaly(False)\n",
        "torch.autograd.profiler.profile(False)\n",
        "torch.autograd.profiler.emit_nvtx(False)"
      ],
      "metadata": {
        "colab": {
          "base_uri": "https://localhost:8080/"
        },
        "id": "FJBDlxZBU8_8",
        "outputId": "56778776-0671-4309-c61f-e0674d5404f7"
      },
      "id": "FJBDlxZBU8_8",
      "execution_count": 2,
      "outputs": [
        {
          "output_type": "execute_result",
          "data": {
            "text/plain": [
              "<torch.autograd.profiler.emit_nvtx at 0x7fa263de26d0>"
            ]
          },
          "metadata": {},
          "execution_count": 2
        }
      ]
    },
    {
      "cell_type": "markdown",
      "source": [
        "# Check Library Version Info and GPU Availability"
      ],
      "metadata": {
        "id": "JTh28XOMcI8t"
      },
      "id": "JTh28XOMcI8t"
    },
    {
      "cell_type": "code",
      "source": [
        "def check_versions_and_device():\n",
        "  # set the device to the GPU if it is available, otherwise use the CPU\n",
        "  current_dev = torch.device('cuda' if torch.cuda.is_available() else 'cpu')\n",
        "  print('Python VERSION:', sys.version)\n",
        "  print('pyTorch VERSION:', torch.__version__)\n",
        "  print('Active CUDA Device: GPU', torch.cuda.current_device())\n",
        "  print('Available devices: ', torch.cuda.device_count())\n",
        "  print('Current CUDA device: ', torch.cuda.current_device())\n",
        "  !nvidia-smi\n",
        "  return current_dev\n",
        "\n",
        "# set a global device variable to use in code\n",
        "dev = check_versions_and_device()"
      ],
      "metadata": {
        "colab": {
          "base_uri": "https://localhost:8080/"
        },
        "id": "kkzFM1-ocJDO",
        "outputId": "c2542433-3e3b-404c-a5d1-b6aa52a8308e"
      },
      "id": "kkzFM1-ocJDO",
      "execution_count": 3,
      "outputs": [
        {
          "output_type": "stream",
          "name": "stdout",
          "text": [
            "Python VERSION: 3.8.10 (default, Nov 14 2022, 12:59:47) \n",
            "[GCC 9.4.0]\n",
            "pyTorch VERSION: 1.13.1+cu116\n",
            "Active CUDA Device: GPU 0\n",
            "Available devices:  1\n",
            "Current CUDA device:  0\n",
            "Wed Feb 22 00:26:48 2023       \n",
            "+-----------------------------------------------------------------------------+\n",
            "| NVIDIA-SMI 510.47.03    Driver Version: 510.47.03    CUDA Version: 11.6     |\n",
            "|-------------------------------+----------------------+----------------------+\n",
            "| GPU  Name        Persistence-M| Bus-Id        Disp.A | Volatile Uncorr. ECC |\n",
            "| Fan  Temp  Perf  Pwr:Usage/Cap|         Memory-Usage | GPU-Util  Compute M. |\n",
            "|                               |                      |               MIG M. |\n",
            "|===============================+======================+======================|\n",
            "|   0  Tesla T4            Off  | 00000000:00:04.0 Off |                    0 |\n",
            "| N/A   73C    P0    31W /  70W |      3MiB / 15360MiB |      5%      Default |\n",
            "|                               |                      |                  N/A |\n",
            "+-------------------------------+----------------------+----------------------+\n",
            "                                                                               \n",
            "+-----------------------------------------------------------------------------+\n",
            "| Processes:                                                                  |\n",
            "|  GPU   GI   CI        PID   Type   Process name                  GPU Memory |\n",
            "|        ID   ID                                                   Usage      |\n",
            "|=============================================================================|\n",
            "|  No running processes found                                                 |\n",
            "+-----------------------------------------------------------------------------+\n"
          ]
        }
      ]
    },
    {
      "cell_type": "markdown",
      "id": "ea60f378",
      "metadata": {
        "id": "ea60f378"
      },
      "source": [
        "# Compute Loss Function"
      ]
    },
    {
      "cell_type": "code",
      "source": [
        "# calculate gradient with respect to any x and use this to form loss\n",
        "def compute_gradient(u, x, num_u_vectors):\n",
        "    \n",
        "    # compute gradient of outputs with respect to inputs \n",
        "    derivs_list = []\n",
        "    for i in range(num_u_vectors):\n",
        "        # individually compute du/dx for each u and combine them all together afterwards\n",
        "        du_dx = torch.autograd.grad(u[:, i, :], x, grad_outputs=torch.ones_like(u[:, i, :]), create_graph=True)[0]\n",
        "        derivs_list.append(du_dx)\n",
        "\n",
        "    deriv_to_x = torch.stack(derivs_list, dim=1)\n",
        "    \n",
        "    return deriv_to_x\n",
        "\n",
        "# build the loss function\n",
        "def loss(x, A_list, v_list, force, G_list, model):\n",
        "    \n",
        "    # dictionary to store loss results for plotting\n",
        "    loss_dict = {} \n",
        "    # current loss\n",
        "    L = 0\n",
        "\n",
        "    # create the trial solution\n",
        "    model_result = lambda x: model(x)[0]\n",
        "    u_results = model_result(x)\n",
        "   \n",
        "    # determine the number of u vectors\n",
        "    num_u_vectors = u_results['head 1'].shape[1]\n",
        "    \n",
        "    # loss will be the sum of the terms from the \"multi-head\" model, hence we iterate over each head's outputs\n",
        "    for i, head_i in enumerate(u_results.keys()):\n",
        "        # extract the u for the current \"head\", corresponding to one of the initial conditions\n",
        "        u = u_results[head_i].unsqueeze(dim=-1)\n",
        "\n",
        "        # compute matrix of partial derivatives\n",
        "        D_u = compute_gradient(u, x, num_u_vectors) \n",
        "\n",
        "        # compute D_U * G.T\n",
        "        D_u_times_G_T = torch.matmul(D_u, G_list[i].T)\n",
        "\n",
        "        # compute (D_U * G.T) x I where x is the Hadamard product\n",
        "        identity_mat = torch.eye(num_u_vectors, device=dev)\n",
        "        D_u_times_G_t_x_I = torch.mul(D_u_times_G_T, identity_mat)\n",
        "\n",
        "        # compute ((D_U * G.T) x I) * [1, 1....]\n",
        "        ones_vec = torch.ones(num_u_vectors, device=dev).unsqueeze(dim=-1)\n",
        "        D_u_times_G_t_x_I_times_ones = torch.matmul(D_u_times_G_t_x_I, ones_vec)\n",
        "\n",
        "        # compute A * u \n",
        "        A_times_u = torch.matmul(A_list[i], u)\n",
        "\n",
        "        # compute the L_t term \n",
        "        L_t_term = D_u_times_G_t_x_I_times_ones + A_times_u - torch.stack([force] * len(x))\n",
        "        L_t = torch.matmul(L_t_term.mT, L_t_term)\n",
        "\n",
        "        # extract u_0 from the model (BOUNDARY CONDITION DEPENDENT)\n",
        "        # u_0 = model_result(torch.cat([x[:, 0:1], torch.zeros(len(x), 1, device=dev)], dim=1))[head_i]\n",
        "        u_0 = model_result(torch.cat([x[:, 0:1], x[:, 0:1]], dim=1))[head_i]\n",
        "\n",
        "        # compute the L_0_1 term (boundary condition\n",
        "        boundary_funct = v_list[i]\n",
        "        if num_u_vectors != 1: \n",
        "          L_0_1_term = (u_0 - boundary_funct(x)).reshape(len(x), -1, 1)  \n",
        "        else:\n",
        "          # TODO: perhaps L_0_1_term = u_0 - boundary_funct(x).reshape(-1, 1) works for both\n",
        "          L_0_1_term = u_0 - boundary_funct(x).reshape(-1, num_u_vectors)\n",
        "\n",
        "        L_0_1 = torch.matmul(L_0_1_term.mT, L_0_1_term)\n",
        "      \n",
        "        # compute the overall loss \n",
        "        L += (torch.mean(L_t) + torch.mean(L_0_1))\n",
        "      \n",
        "    loss_dict['L_D'] = L\n",
        "    loss_dict['L_total'] = L\n",
        "\n",
        "    return loss_dict"
      ],
      "metadata": {
        "id": "r-55oE02Psw3"
      },
      "id": "r-55oE02Psw3",
      "execution_count": 4,
      "outputs": []
    },
    {
      "cell_type": "markdown",
      "id": "5ff8d6af",
      "metadata": {
        "id": "5ff8d6af"
      },
      "source": [
        "# Build Network"
      ]
    },
    {
      "cell_type": "code",
      "execution_count": 5,
      "id": "2a1adb98",
      "metadata": {
        "id": "2a1adb98"
      },
      "outputs": [],
      "source": [
        "# class to build the network \n",
        "class BuildNetwork(nn.Module):\n",
        "    def __init__(self, input_size, h_size1, h_size2, h_size3, output_size, n_heads):\n",
        "        super(BuildNetwork, self).__init__()\n",
        "        # store the number of \"heads\" to use in the model\n",
        "        self.n_heads = n_heads\n",
        "        \n",
        "        # build the layers to use for the forward pass\n",
        "        self.l1 = nn.Linear(input_size, h_size1)\n",
        "        self.tanh = nn.Tanh()\n",
        "        self.l2 = nn.Linear(h_size1, h_size2)\n",
        "        self.l3 = nn.Linear(h_size2, h_size3)\n",
        "        \n",
        "        # build n_heads output layers, each corresponding to different conditions during training\n",
        "        self.multi_head_output = nn.ModuleList([nn.Linear(h_size3, output_size)])\n",
        "        self.multi_head_output.extend([nn.Linear(h_size3, output_size) for i in range(n_heads-1)])\n",
        "         \n",
        "    def forward(self, x):\n",
        "        # dictionary to store the output for each \"head\" in the model\n",
        "        u_results = {}\n",
        "        \n",
        "        # all \"heads\" have the same pass through the hidden layers\n",
        "        result = self.l1(x)\n",
        "        result = self.tanh(result)\n",
        "        result = self.l2(result)\n",
        "        result = self.tanh(result)\n",
        "        result = self.l3(result)\n",
        "        # store h to return\n",
        "        h = self.tanh(result)\n",
        "\n",
        "        # apply the corresponding output layer to each \"head\"\n",
        "        for i in range(self.n_heads):\n",
        "            result_i = self.multi_head_output[i](h)\n",
        "            u_results[f\"head {i + 1}\"] = result_i\n",
        "                         \n",
        "        return u_results, h"
      ]
    },
    {
      "cell_type": "markdown",
      "id": "9add8fa9",
      "metadata": {
        "id": "9add8fa9"
      },
      "source": [
        "# Train Model"
      ]
    },
    {
      "cell_type": "code",
      "execution_count": 6,
      "id": "08b54931",
      "metadata": {
        "id": "08b54931"
      },
      "outputs": [],
      "source": [
        "# train and evaluate the model\n",
        "def run_model(iterations, x_range, num_inputs, A_list, v_list, force, G_list, \n",
        "              hid_lay, num_equations, num_heads, true_functs, head_to_track):\n",
        "        \n",
        "    assert num_equations > 0, 'num_equations must be >= 1'\n",
        "    assert len(v_list) == num_heads, 'num_heads must equal the length of v_list'\n",
        "    assert len(A_list) == num_heads, 'num_heads must equal the length of A_list'\n",
        "    assert len(G_list) == num_heads, 'num_heads must equal the length of G_list'\n",
        "    assert len(A_list[0]) == num_equations, 'num_equations does not match equation set-up'\n",
        "    assert hid_lay[-1] % num_equations == 0, 'last hidden layer does not evenly divide num_equations for transfer learning'\n",
        "    \n",
        "    # build the neural net model\n",
        "    model = BuildNetwork(num_inputs, hid_lay[0], hid_lay[1], hid_lay[2], num_equations, num_heads).to(dev)    \n",
        "    # set-up the optimizer\n",
        "    optimizer = torch.optim.SGD(model.parameters(), lr=0.0001, momentum=0.9)\n",
        "    # create a learning rate scheduler\n",
        "    scheduler = torch.optim.lr_scheduler.ExponentialLR(optimizer, gamma=0.99)\n",
        "    \n",
        "    # extract the min and max range of values to sample\n",
        "    min_x, max_x = x_range\n",
        "    \n",
        "    # index of the head being tracked for MSE\n",
        "    head_idx = int(head_to_track.split()[-1]) - 1\n",
        "    \n",
        "    # create a random number generator for loss computation\n",
        "    rng = np.random.default_rng()\n",
        "    \n",
        "    # store loss and mse values\n",
        "    loss_history = defaultdict(list)\n",
        "    MSEs = []\n",
        "    \n",
        "    start_time = time.time()\n",
        "    \n",
        "    # training loop\n",
        "    for i in range(iterations):\n",
        "        \n",
        "        if i % 1000 == 0:\n",
        "            print(f\"Running Iteration {i + 1}\")\n",
        "        \n",
        "        # every batch, randomly sample inputs from min and max range\n",
        "        data = torch.arange(min_x, max_x, 0.001, requires_grad=True, device=dev)\n",
        "    \n",
        "        # generate x1 and x2 separately to create 2D PDE input\n",
        "        # TODO: generate these in a loop depending on how many dependent vars...\n",
        "        x1 = data[rng.choice(range(0, len(data)), size=512, replace=False)] \n",
        "        x1, _ = x1.reshape(-1, 1).sort(dim=0)\n",
        "        x2 = data[rng.choice(range(0, len(data)), size=512, replace=False)]\n",
        "        x2, _ = x2.reshape(-1, 1).sort(dim=0)\n",
        "        x = torch.cat([x1, x2], dim=1)\n",
        "\n",
        "        # forward: compute loss\n",
        "        curr_loss = loss(x, A_list, v_list, force, G_list, model)\n",
        "        \n",
        "        # store individual loss terms for plotting\n",
        "        loss_history['LD_losses'].append(curr_loss['L_D'].detach().item())\n",
        "        loss_history['Ltotal_losses'].append(curr_loss['L_total'].detach().item())\n",
        "            \n",
        "        # backward: backpropagation\n",
        "        curr_loss['L_total'].backward()\n",
        "      \n",
        "        # update weights and reset the gradients\n",
        "        optimizer.step() \n",
        "        optimizer.zero_grad() \n",
        "        \n",
        "        # learning rate update\n",
        "        # scheduler.step()\n",
        "        \n",
        "        # compute the mse for the head that is being monitored ('head_to_track')\n",
        "        with torch.no_grad():\n",
        "            current_mse = 0\n",
        "            for j in range(num_equations):\n",
        "                network_sol_j = model(x)[0][head_to_track][:, j].cpu().unsqueeze(dim=1).numpy()\n",
        "                true_sol_j = true_functs(x.cpu(), A_list[head_idx].cpu(), v_list[head_idx])[:, j] \n",
        "                true_sol_j = np.expand_dims(true_sol_j, axis=1)\n",
        "\n",
        "                current_mse += np.mean((true_sol_j - network_sol_j) ** 2)\n",
        "            MSEs.append(current_mse)\n",
        "               \n",
        "    end_time = time.time()\n",
        "    total_time = end_time - start_time\n",
        "    print(f\"Model Training Complete in{total_time: .3f} seconds\")\n",
        "    \n",
        "    return loss_history, model, total_time, MSEs"
      ]
    },
    {
      "cell_type": "markdown",
      "id": "f653d9cd",
      "metadata": {
        "id": "f653d9cd"
      },
      "source": [
        "# Plot Solution, Loss, and MSE Information"
      ]
    },
    {
      "cell_type": "code",
      "execution_count": 8,
      "id": "e9c934eb",
      "metadata": {
        "id": "e9c934eb"
      },
      "outputs": [],
      "source": [
        "# function to plot the neural network vs exact solution\n",
        "def plot_solution(x_range, true_functs, trained_model, v_list, A_list, force, axis, head_to_track):\n",
        "    \n",
        "    # function to extract the model results\n",
        "    model_result = lambda x: trained_model(x)[0]\n",
        "    \n",
        "    # x values to predict on\n",
        "    min_x, max_x = x_range\n",
        "    xx1 = np.linspace(min_x, max_x, 200)[:, None] # TODO: make the xx creation in a loop so it works for any # of vars...\n",
        "    xx2 = np.linspace(min_x, max_x, 200)[:, None]\n",
        "    xx = torch.tensor(np.concatenate((xx1, xx2), axis=1), \n",
        "                                  dtype=torch.float32, device=dev)\n",
        "\n",
        "    # find the model results\n",
        "    u = model_result(xx)[head_to_track] \n",
        "\n",
        "    # determine the number of curves to plot\n",
        "    num_curves = u.shape[1]\n",
        "    # store the true solutions and network solutions\n",
        "    yys, yts = [], []\n",
        "\n",
        "    # save the network solutions in a list for plotting \n",
        "    with torch.no_grad():\n",
        "        head_idx = int(head_to_track.split()[-1]) - 1\n",
        "        for i in range(num_curves):\n",
        "            yys.append(u[:, i].cpu().numpy())\n",
        "            yts.append(true_functs(xx.cpu(), A_list[head_idx].cpu(), v_list[head_idx]))\n",
        "                    \n",
        "    # plot the network solutions\n",
        "    for i in range(num_curves):\n",
        "      axis.plot3D(xx1, xx2, yys[i], 'x', \n",
        "                  label=f'Network Solution $u_{{{i+1}}}(x_1, x_2)$ ({head_to_track})', \n",
        "                  linewidth=3.5)\n",
        "\n",
        "    # plot the true solutions\n",
        "    for i in range(num_curves):\n",
        "      axis.plot3D(xx[:, 0].cpu().numpy(), xx[:, 1].cpu().numpy(), \n",
        "                  yts[i][:, i].cpu().squeeze(), \n",
        "                  label=f'Actual Solution $u_{{{i+1}}}(x_1, x_2)$', \n",
        "                  linewidth=2.5)\n",
        "\n",
        "    axis.set_title(\"Actual vs Approximation Solutions\")\n",
        "    axis.set_xlabel('$x_1$')\n",
        "    axis.set_ylabel('$x_2$')\n",
        "    axis.set_zlabel('$u(x_1, x_2)$')\n",
        "    axis.legend(loc='lower right')\n",
        "    \n",
        "# function to plot the overall loss of the network solution\n",
        "def plot_total_loss(iterations, train_losses, axis, loss_label):\n",
        "    axis.plot(range(iterations), train_losses, label=loss_label)\n",
        "    axis.set_yscale(\"log\")\n",
        "    axis.set_title(\"Total Loss vs Iterations\")\n",
        "    axis.set_xlabel('Iterations')\n",
        "    axis.set_ylabel('Loss')\n",
        "    axis.legend(loc='best')\n",
        "    \n",
        "# function to plot the MSEs\n",
        "def plot_mse(iterations, mses, axis, head_to_track):\n",
        "    axis.plot(range(iterations), mses, label=f'MSE ({head_to_track})')\n",
        "    axis.set_yscale(\"log\")\n",
        "    axis.set_title(\"MSE vs Iterations\")\n",
        "    axis.set_xlabel('Iterations')\n",
        "    axis.set_ylabel('MSE')\n",
        "    axis.legend(loc='best')\n",
        "    \n",
        "# wrapper function to plot the solution and the overall loss & MSE of the network solution\n",
        "def plot_loss_mse_and_solution(x_range, true_functs, iterations, trained_model, v_list, \n",
        "                               A_list, force, train_losses, loss_label, mses, head_to_track):\n",
        "    \n",
        "    fig = plt.figure(figsize=(24, 8))\n",
        "    \n",
        "    ax_0 = fig.add_subplot(1, 3, 1)\n",
        "    plot_total_loss(iterations=iterations, train_losses=train_losses, \n",
        "                    axis=ax_0, loss_label=loss_label)\n",
        "    \n",
        "    ax_1 = fig.add_subplot(1, 3, 2, projection='3d')\n",
        "    plot_solution(x_range=x_range, true_functs=true_functs, \n",
        "                  trained_model=trained_model, v_list=v_list,\n",
        "                  A_list=A_list, force=force, axis=ax_1, \n",
        "                  head_to_track=head_to_track)\n",
        "    \n",
        "    ax_2 = fig.add_subplot(1, 3, 3)\n",
        "    plot_mse(iterations=iterations, mses=mses, axis=ax_2, \n",
        "             head_to_track=head_to_track)\n",
        "    \n",
        "    plt.show()"
      ]
    },
    {
      "cell_type": "markdown",
      "id": "259e919b",
      "metadata": {
        "id": "259e919b"
      },
      "source": [
        "# Find Output Layer Weights with Transfer Learning"
      ]
    },
    {
      "cell_type": "code",
      "source": [
        "def compute_H_and_S(min_x, max_x, G, trained_model, num_equations, hid_lay):\n",
        "\n",
        "  start_time = time.time()\n",
        "\n",
        "  # generate a set of inputs to evaluate with TODO: make this happen in a loop so it is not hard-coded...\n",
        "  rng = np.random.default_rng()\n",
        "  data = torch.arange(min_x, max_x, 0.001, requires_grad=True, device=dev)\n",
        "  x1 = data[rng.choice(range(0, len(data)), size=5, replace=False)]\n",
        "  x1, _ = x1.reshape(-1, 1).sort(dim=0)\n",
        "  x2 = data[rng.choice(range(0, len(data)), size=5, replace=False)]\n",
        "  x2, _ = x2.reshape(-1, 1).sort(dim=0)\n",
        "  x = torch.cat([x1, x2], dim=1)\n",
        "\n",
        "  # forward pass with x to extract H \n",
        "  _, H = trained_model(x)\n",
        "  H = H.reshape(-1, num_equations, hid_lay[-1] // num_equations)\n",
        "\n",
        "  # build S based off the index notation\n",
        "  S = []\n",
        "  for i in range(H.shape[1]):\n",
        "    S_per_equation = []\n",
        "    for j in range(H.shape[2]):\n",
        "      H_i_j_deriv_x = torch.autograd.grad(H[:, i, j], x, grad_outputs=torch.ones_like(H[:, i, j]), create_graph=True)[0]\n",
        "      for k in range(H_i_j_deriv_x.shape[1]):\n",
        "        H_i_j_deriv_x[:, k] = H_i_j_deriv_x[:, k] # * G[i, k]\n",
        "        if k == 0: \n",
        "          print(H_i_j_deriv_x[:, 0])\n",
        "\n",
        "      S_per_equation.append(H_i_j_deriv_x.sum(axis=1))\n",
        "    S.append(torch.stack(S_per_equation))\n",
        "\n",
        "  # reshape S and concatenate 0s\n",
        "  S = torch.stack(S)\n",
        "  print(\"S shape before reshaping:\", S.shape)\n",
        "  S = S.reshape(-1, num_equations, hid_lay[-1] // num_equations)\n",
        "  S = torch.cat((torch.zeros(len(x), num_equations, 1, device=dev), S), 2)\n",
        "\n",
        "  # concatenate 1s onto H to account for intercept\n",
        "  H = torch.cat((torch.ones(len(x), num_equations, 1, device=dev), H), 2)\n",
        "\n",
        "  # forward pass with (x, 0) to extract H_0 (BOUNDARY CONDITION DEPENDENT)\n",
        "  # x_0 = torch.cat([x[:, 0:1], torch.zeros(len(x), 1, device=dev)], dim=1)\n",
        "  x_0 = torch.cat([x[:, 0:1], x[:, 0:1]], dim=1)\n",
        "  _, H_0 = trained_model(x_0)\n",
        "\n",
        "  # reshape H_0 to batch_size X num_equations X d // num_equations\n",
        "  H_0 = H_0.reshape(-1, num_equations, hid_lay[-1] // num_equations)\n",
        "  H_0 = torch.cat((torch.ones(len(x), num_equations, 1, device=dev), H_0), 2)\n",
        "\n",
        "  end_time = time.time()\n",
        "  total_time = end_time - start_time\n",
        "  print(f\"Time to compute H and dH_dt: {total_time: .3f} seconds\")\n",
        "\n",
        "  return H, S, H_0, x, x_0"
      ],
      "metadata": {
        "id": "vmkXH5CNBiKC"
      },
      "id": "vmkXH5CNBiKC",
      "execution_count": 23,
      "outputs": []
    },
    {
      "cell_type": "code",
      "source": [
        "def analytically_compute_weights(H, H_0, S, x, x_0, v, A, force):\n",
        "    \n",
        "    # TODO: THIS IS BUILDING \"S\" the non-general way...\n",
        "    # alpha = -1\n",
        "    # S = H_x1 + alpha * H_x2\n",
        "\n",
        "    # compute S.T * S\n",
        "    S_T_times_S = torch.matmul(S.mT, S)\n",
        "\n",
        "    # compute S.T * A * H \n",
        "    S_T_times_A_H = torch.matmul(torch.matmul(S.mT, A), H)\n",
        "\n",
        "    # compute H.T * A.T * S\n",
        "    H_T_times_A_T_times_S = torch.matmul(torch.matmul(H.mT, A.T), S)\n",
        "\n",
        "    # compute H.T * A.T * A * H \n",
        "    H_T_times_A_T_times_A_times_H = torch.matmul(torch.matmul(torch.matmul(H.mT, A.T), A), H)\n",
        "\n",
        "    # compute H_0.T * H_0\n",
        "    H_0_T_times_H_0 = torch.matmul(H_0.mT, H_0)\n",
        "\n",
        "    # compute the the M matrix \n",
        "    M_sum_terms = S_T_times_S + S_T_times_A_H + H_T_times_A_T_times_S + H_T_times_A_T_times_A_times_H + H_0_T_times_H_0\n",
        "    M = M_sum_terms.mean(axis=0)\n",
        "\n",
        "    # invert the \"M\" matrix \n",
        "    M_inv = torch.linalg.pinv(M) # CHECK PINV VS INV...\n",
        "\n",
        "    print(\"Condition Number: \", torch.linalg.cond(M))\n",
        "\n",
        "    # compute S.T * force\n",
        "    S_T_times_f = torch.matmul(S.mT, force)\n",
        "\n",
        "    # compute H * A.T * force\n",
        "    H_T_times_A_T_f = torch.matmul(torch.matmul(H.mT, A.T), force)\n",
        "\n",
        "    # sum the force-contributing terms\n",
        "    force_terms = S_T_times_f + H_T_times_A_T_f\n",
        "    force_terms = force_terms.mean(axis=0)\n",
        "\n",
        "    # add the force-contributing terms to H_0 * v\n",
        "    # v_eval = v(x_0)\n",
        "    v_eval = v(x_0).reshape(-1, H.shape[1], 1)\n",
        "\n",
        "    print(v_eval.shape) # torch.Size([512, 2])\n",
        "    print(H_0.shape) # torch.Size([512, 2, 65])\n",
        "    print(torch.matmul(H_0.mT, v_eval).shape)\n",
        "    print(force_terms.shape)\n",
        "\n",
        "    # H_0_T_times_u_0 = (torch.matmul(H_0.T, v_eval).reshape(H.shape[-1], H.shape[1])) / len(x)\n",
        "    H_0_T_times_u_0 = torch.matmul(H_0.mT, v_eval).mean(axis=0)\n",
        "    rhs_terms = force_terms + H_0_T_times_u_0\n",
        "    \n",
        "    # print(\"H_0:\", H_0.shape)\n",
        "    # print(\"v_eval shape: \", v_eval.shape)\n",
        "    print(\"H_0_T_times_u_0 shape: \", H_0_T_times_u_0.shape)\n",
        "    print(\"force terms: \", force_terms.shape)\n",
        "    # print(\"torch.matmul(H_0.mT, v_eval) shape: \", ((torch.matmul(H_0.T, v_eval).reshape(H.shape[-1], H.shape[1])) / len(x)).shape)\n",
        "    # print(\"H_0:\", H_0.shape)\n",
        "\n",
        "    # for one-dimensional case...\n",
        "    # v_eval = v(x_0)\n",
        "    # H_0_T_times_u_0 = (torch.matmul(H_0.T, v_eval).reshape(H.shape[-1], H.shape[1])) / len(x)\n",
        "    # rhs_terms = force_terms + H_0_T_times_u_0\n",
        "\n",
        " \n",
        "    ############################################################################\n",
        "    # IF CODE FAILS FOR HIGHER DIMENSION, LOOK AT THE RHS SECTION...\n",
        "    # v_eval = v(x_0).reshape(-1, H.shape[1], 1)\n",
        "    # rhs_terms = force_terms + torch.matmul(H_0.mT, v_eval)\n",
        "    ############################################################################\n",
        "\n",
        "    # compute the output weights by W_out = M ^-1 * (force_terms + H_0 * v)\n",
        "    W_out = torch.matmul(M_inv, rhs_terms)\n",
        "\n",
        "    return M_inv, W_out, force_terms"
      ],
      "metadata": {
        "id": "vYjxpK2x86W4"
      },
      "id": "vYjxpK2x86W4",
      "execution_count": 10,
      "outputs": []
    },
    {
      "cell_type": "markdown",
      "id": "af8b523b",
      "metadata": {
        "id": "af8b523b"
      },
      "source": [
        "# Plot Transfer Learned and Analytical Solutions"
      ]
    },
    {
      "cell_type": "code",
      "execution_count": 11,
      "id": "24a95b4e",
      "metadata": {
        "id": "24a95b4e"
      },
      "outputs": [],
      "source": [
        "def plot_transfer_learned_and_analytical(H, W_out, x, v, A, force, num_equations, true_funct):\n",
        "    \n",
        "    # compute the transfer learned solution\n",
        "    u_transfer = torch.matmul(H, W_out)\n",
        "    \n",
        "    # plot the transfer learned solutions\n",
        "    for i in range(num_equations):\n",
        "        plt.plot(x[:, 0:1].detach().cpu().numpy(), u_transfer[:, i, :].detach().cpu().numpy(), 'x',\n",
        "                    label=f'Transfer Learned $U_{{{i+1}}}$', linewidth=3.5);\n",
        "\n",
        "    # plot the true solutions\n",
        "    for i in range(num_equations):\n",
        "        plt.plot(x[:, 0:1].detach().cpu().numpy(), \n",
        "                    true_funct(x.cpu(), A.detach().cpu(), v).detach().numpy()[:, i], \n",
        "                    label= f'True $U_{{{i+1}}}$', linewidth=2.5);\n",
        "\n",
        "    truth = true_funct(x.cpu(), A.detach().cpu(), v).detach().numpy()[:, i]\n",
        "    predicted = u_transfer[:, i, :].detach().cpu().numpy()\n",
        "\n",
        "    l2 = (truth-predicted) **2\n",
        "    print(np.mean(l2))\n",
        "\n",
        "\n",
        "\n",
        "    plt.xlabel(\"x\")\n",
        "    plt.ylabel(\"$u(x)$\")\n",
        "    plt.title(\"Transfer Learned vs Analytical Solution\")\n",
        "    plt.legend();"
      ]
    },
    {
      "cell_type": "markdown",
      "id": "0dbadee3",
      "metadata": {
        "id": "0dbadee3"
      },
      "source": [
        "# Execute"
      ]
    },
    {
      "cell_type": "markdown",
      "id": "820e3242",
      "metadata": {
        "id": "820e3242"
      },
      "source": [
        "### Step 1: Choose Network Parameters and Set-up Differential Equations"
      ]
    },
    {
      "cell_type": "code",
      "execution_count": 13,
      "id": "f5c6bb4c",
      "metadata": {
        "id": "f5c6bb4c"
      },
      "outputs": [],
      "source": [
        "# set-up network training parameters\n",
        "x_range = [0, 1]\n",
        "hid_lay = [128, 128, 256]\n",
        "num_inputs = 2\n",
        "num_equations = 1\n",
        "iterations = 1000\n",
        "\n",
        "# set-up boundary conditions for various differential equations\n",
        "v_list_one_eq_pde = [lambda x: torch.sin(x[:, 0:1]), \n",
        "                     lambda x: torch.cos(x[:, 0:1]), \n",
        "                     lambda x: torch.tan(x[:, 0:1]), \n",
        "                     lambda x: torch.cosh(x[:, 0:1])]\n",
        "\n",
        "v_list_two_eq_pde = [lambda x: torch.cat((2 * x[:, 0:1], 3 * x[:, 0:1]), dim=1), \n",
        "                    lambda x: torch.cat((2 * x[:, 0:1], 3 * x[:, 0:1]), dim=1),\n",
        "                    lambda x: torch.cat((2 * x[:, 0:1], 3 * x[:, 0:1]), dim=1),\n",
        "                    lambda x: torch.cat((2 * x[:, 0:1], 3 * x[:, 0:1]), dim=1)]\n",
        "            \n",
        "# set-up forcing function\n",
        "force_one_eq_pde = torch.tensor([[0.]], device=dev)\n",
        "\n",
        "force_two_eq_pde = torch.tensor([[0.], [0.]], device=dev)\n",
        "\n",
        "# set up A matrix for various differential equations\n",
        "A_single_eq_pde = [torch.tensor([[0.]], device=dev),\n",
        "               torch.tensor([[0.5]], device=dev), \n",
        "               torch.tensor([[1.]], device=dev), \n",
        "               torch.tensor([[-1.]], device=dev)] \n",
        "\n",
        "A_two_eq_pde = [torch.tensor([[0., 0.], [0., 0.]], device=dev), \n",
        "                           torch.tensor([[0., 0.], [0., 0.]], device=dev),\n",
        "                           torch.tensor([[0., 0.], [0., 0.]], device=dev), \n",
        "                           torch.tensor([[0., 0.], [0., 0.]], device=dev)]\n",
        "\n",
        "# set up G matrix for various differential equations\n",
        "G_single_eq_pde = [torch.tensor([[1., -1.]], device=dev), \n",
        "                  torch.tensor([[1., -1.]], device=dev),\n",
        "                  torch.tensor([[1., -1.]], device=dev), \n",
        "                  torch.tensor([[1., -1.]], device=dev)]\n",
        "\n",
        "G_two_eq_pde = [torch.tensor([[1., 4.], [1., 9.]], device=dev), \n",
        "                torch.tensor([[1., 4.], [1., 9.]], device=dev),\n",
        "                torch.tensor([[1., 4.], [1., 9.]], device=dev), \n",
        "                torch.tensor([[1., 4.], [1., 9.]], device=dev)]"
      ]
    },
    {
      "cell_type": "code",
      "execution_count": 14,
      "id": "cf104c74",
      "metadata": {
        "id": "cf104c74"
      },
      "outputs": [],
      "source": [
        "# analytical solutions for various partial differential equations\n",
        "\n",
        "# analytical solution for du/dx - A * du/dy + Bu = 0\n",
        "def single_pde_eq(x, A, v):\n",
        "  return torch.exp(A * (0.5 * x[:, 1:2] - 0.5 * x[:, 0:1])) * v((x[:, 0:1] + x[:, 1:2]) / 2) # original\n",
        "\n",
        "true_single_pde_eq = lambda x, A, v: single_pde_eq(x, A, v)\n",
        "\n",
        "# analytical solution for du1/dx + 4 * du1/dy = 0; du2/dx + 9 * du2/dy = 0\n",
        "def simple_coupled_PDE(x, A, v):\n",
        "  return torch.cat([2 * (x[:, 0:1] - x[:, 1:2] / 4), \n",
        "                   3 * (x[:, 0:1] - x[:, 1:2] / 9)], dim=1)\n",
        "\n",
        "# TODO: change simple_coupled_PDE so it depends on A (general solution) and also maybe depends on v               \n",
        "true_coupled_pde_eq = lambda x, A, v: simple_coupled_PDE(x, A, v)"
      ]
    },
    {
      "cell_type": "code",
      "source": [
        "# [lambda x: torch.cat((2 * x[:, 0:1], 3 * x[:, 0:1]), dim=1)\n",
        "# use this as v for simple_coupled_PDE... figure out how to incorporate it...\n",
        "\n",
        "# then, pass in an extra G argument..."
      ],
      "metadata": {
        "id": "ypfZQE4Y3w_F"
      },
      "id": "ypfZQE4Y3w_F",
      "execution_count": null,
      "outputs": []
    },
    {
      "cell_type": "markdown",
      "id": "029620d0",
      "metadata": {
        "id": "029620d0"
      },
      "source": [
        "### Step 2: Run Model"
      ]
    },
    {
      "cell_type": "code",
      "execution_count": 15,
      "id": "588949ea",
      "metadata": {
        "colab": {
          "base_uri": "https://localhost:8080/"
        },
        "id": "588949ea",
        "outputId": "89533bcc-b8e8-45c6-ad08-e13a1f16b151"
      },
      "outputs": [
        {
          "output_type": "stream",
          "name": "stdout",
          "text": [
            "Running Iteration 1\n",
            "Model Training Complete in 18.251 seconds\n"
          ]
        }
      ],
      "source": [
        "# choose the equation(s) to work with\n",
        "# A_list = A_two_eq_pde\n",
        "# true_funct = true_coupled_pde_eq\n",
        "# v_list = v_list_two_eq_pde\n",
        "# force = force_two_eq_pde\n",
        "# G_list = G_two_eq_pde\n",
        "# num_heads = 4\n",
        "# head_to_track = 'head 1'\n",
        "\n",
        "A_list = A_single_eq_pde\n",
        "true_funct = true_single_pde_eq\n",
        "v_list = v_list_one_eq_pde\n",
        "force = force_one_eq_pde\n",
        "G_list = G_single_eq_pde\n",
        "num_heads = 4\n",
        "head_to_track = 'head 1'\n",
        "\n",
        "# run model which has two non-coupled equations\n",
        "loss_hist, trained_model, model_time, MSE_hist = run_model(iterations=iterations, x_range=x_range, \n",
        "                                                           num_inputs=num_inputs, A_list=A_list, \n",
        "                                                           v_list=v_list, force=force, G_list=G_list,\n",
        "                                                           hid_lay=hid_lay, num_equations=num_equations, \n",
        "                                                           num_heads=num_heads, true_functs=true_funct,\n",
        "                                                           head_to_track=head_to_track)"
      ]
    },
    {
      "cell_type": "markdown",
      "id": "70d623a5",
      "metadata": {
        "id": "70d623a5"
      },
      "source": [
        "### Step 3: View Training Results and History"
      ]
    },
    {
      "cell_type": "code",
      "execution_count": 15,
      "id": "12c8d502",
      "metadata": {
        "colab": {
          "base_uri": "https://localhost:8080/",
          "height": 482
        },
        "id": "12c8d502",
        "outputId": "860ab542-62a9-44fd-fd30-1e6c857bee23"
      },
      "outputs": [
        {
          "output_type": "display_data",
          "data": {
            "text/plain": [
              "<Figure size 1728x576 with 3 Axes>"
            ],
            "image/png": "[encoded data removed]"
          },
          "metadata": {
            "needs_background": "light"
          }
        }
      ],
      "source": [
        "# plot the total loss, network vs true solution and MSE for two non-coupled equations\n",
        "plot_loss_mse_and_solution(x_range=x_range, true_functs=true_funct, iterations=iterations, \n",
        "                           trained_model=trained_model, v_list=v_list, A_list=A_list, \n",
        "                           force=force, train_losses=loss_hist['Ltotal_losses'], \n",
        "                           loss_label='Total Loss ($L_D$)', mses=MSE_hist, \n",
        "                           head_to_track=head_to_track)"
      ]
    },
    {
      "cell_type": "markdown",
      "id": "fcff1006",
      "metadata": {
        "id": "fcff1006"
      },
      "source": [
        "### Step 4a: Perform One-Shot Transfer Learning (use an initial condition that was trained on)"
      ]
    },
    {
      "cell_type": "code",
      "source": [
        "# pick a G that has been trained on\n",
        "G = G_list[0]\n",
        "\n",
        "# compute H, S, and H_0\n",
        "H, S, H_0, x, x_0 = compute_H_and_S(x_range[0], x_range[1], G, trained_model, num_equations, hid_lay)\n",
        "\n",
        "# print(S.shape)\n",
        "# print(S)\n",
        "# print(\"-\" * 25)\n",
        "\n",
        "# pick an initial condition and A matrix from those that were trained on (easy case)\n",
        "v = v_list[0]\n",
        "A = A_list[0]\n",
        "\n",
        "# print(S)\n",
        "#################################################################\n",
        "# create S original way for 1 equation...\n",
        "_, H_orig = trained_model(x)\n",
        "print(H_orig.shape)\n",
        "dH_dx = [torch.autograd.grad(H_orig[:, i], x, grad_outputs=torch.ones_like(H_orig[:, i]), create_graph=True)[0] for i in range(H_orig.shape[1])]\n",
        "dH_dx = torch.hstack(dH_dx)\n",
        "print(\"dH)dx shape: \", dH_dx.shape)\n",
        "H_x1 = dH_dx[:, 0:256] # 0:hid_lay[-1]\n",
        "# H_x1 = dH_dx[:, range(0, 512, 2)]\n",
        "H_x1 = H_x1.reshape(-1, num_equations, hid_lay[-1] // num_equations)\n",
        "H_x1 = torch.cat((torch.zeros(len(x), num_equations, 1, device=dev), H_x1), 2)\n",
        "H_x2 = dH_dx[:, 256:]\n",
        "# H_x2 = dH_dx[:, range(1, 512, 2)]\n",
        "H_x2 = H_x2.reshape(-1, num_equations, hid_lay[-1] // num_equations)\n",
        "H_x2 = torch.cat((torch.zeros(len(x), num_equations, 1, device=dev), H_x2), 2)\n",
        "S = H_x1 - 1 * H_x2\n",
        "print(S.shape)\n",
        "# print(S)\n",
        "print(\"-\" * 25)\n",
        "################################################################\n",
        "\n",
        "################################################################\n",
        "# create S original way for 2 equations...\n",
        "# _, H_orig = trained_model(x)\n",
        "# print(H_orig.shape)\n",
        "# dH_dx = [torch.autograd.grad(H_orig[:, i], x, grad_outputs=torch.ones_like(H_orig[:, i]), create_graph=True)[0] for i in range(H_orig.shape[1])]\n",
        "# dH_dx = torch.hstack(dH_dx)\n",
        "# print(\"dH_dx shape: \", dH_dx.shape) # [512, 256]\n",
        "# # you have as many H_xis as independent variables??\n",
        "# H_x1 = dH_dx[:, 0:256] \n",
        "# # H_x1 = dH_dx[:, range(0, 1024, 2)]\n",
        "# H_x1 = H_x1.reshape(-1, num_equations, hid_lay[-1] // num_equations)\n",
        "# H_x1 = torch.cat((torch.zeros(len(x), num_equations, 1, device=dev), H_x1), 2)\n",
        "# H_x2 = dH_dx[:, 256:]\n",
        "# # H_x2 = dH_dx[:, range(1, 1024, 2)]\n",
        "# H_x2 = H_x2.reshape(-1, num_equations, hid_lay[-1] // num_equations)\n",
        "# H_x2 = torch.cat((torch.zeros(len(x), num_equations, 1, device=dev), H_x2), 2)\n",
        "# print(H_x1.shape)\n",
        "# print(H_x2.shape)\n",
        "# S = torch.mul(G[0:1].T, H_x1) + torch.mul(G[1:2].T, H_x2)\n",
        "# # S = torch.mul(G[:, 0:1], H_x1) + torch.mul(G[:, 1:2], H_x2)\n",
        "# print(S.shape)\n",
        "# print(\"-\" * 25)\n",
        "\n",
        "# S needs to be of shape ([512, 2, 65])\n",
        "################################################################\n",
        "\n",
        "# compute and plot the transfer learned solution\n",
        "M_inv, W_out, force_terms = analytically_compute_weights(H, H_0, S, x, x_0, v, A, force)\n",
        "plot_transfer_learned_and_analytical(H, W_out, x, v, A, force, num_equations, true_funct)\n",
        "\n",
        "\n",
        "# tensor([ 0.0010, -0.0171, -0.0232, -0.0174, -0.0161], device='cuda:0',"
      ],
      "metadata": {
        "colab": {
          "base_uri": "https://localhost:8080/",
          "height": 1000
        },
        "id": "TUKpeC4xrb0f",
        "outputId": "253780b0-e41b-4586-eaed-db1b20c887f1"
      },
      "id": "TUKpeC4xrb0f",
      "execution_count": 25,
      "outputs": [
        {
          "output_type": "stream",
          "name": "stdout",
          "text": [
            "tensor([ 0.0149, -0.0186, -0.0208, -0.0169, -0.0094], device='cuda:0',\n",
            "       grad_fn=<SelectBackward0>)\n",
            "tensor([-0.1169, -0.1163, -0.1119, -0.1123, -0.1122], device='cuda:0',\n",
            "       grad_fn=<SelectBackward0>)\n",
            "tensor([-0.0857, -0.1463, -0.1684, -0.1834, -0.1900], device='cuda:0',\n",
            "       grad_fn=<SelectBackward0>)\n",
            "tensor([ 0.0198, -0.0095, -0.0087,  0.0133,  0.0342], device='cuda:0',\n",
            "       grad_fn=<SelectBackward0>)\n",
            "tensor([-0.1114, -0.0961, -0.0967, -0.1008, -0.1020], device='cuda:0',\n",
            "       grad_fn=<SelectBackward0>)\n",
            "tensor([0.1263, 0.1578, 0.1791, 0.1922, 0.1997], device='cuda:0',\n",
            "       grad_fn=<SelectBackward0>)\n",
            "tensor([ 0.0140, -0.0513, -0.0973, -0.1122, -0.1227], device='cuda:0',\n",
            "       grad_fn=<SelectBackward0>)\n",
            "tensor([-0.0562, -0.0628, -0.0418, -0.0273, -0.0148], device='cuda:0',\n",
            "       grad_fn=<SelectBackward0>)\n",
            "tensor([0.0228, 0.0098, 0.0056, 0.0115, 0.0193], device='cuda:0',\n",
            "       grad_fn=<SelectBackward0>)\n",
            "tensor([0.1324, 0.1432, 0.1448, 0.1389, 0.1356], device='cuda:0',\n",
            "       grad_fn=<SelectBackward0>)\n",
            "tensor([0.1846, 0.1865, 0.1510, 0.1324, 0.1101], device='cuda:0',\n",
            "       grad_fn=<SelectBackward0>)\n",
            "tensor([-0.0217,  0.0017,  0.0147,  0.0189,  0.0207], device='cuda:0',\n",
            "       grad_fn=<SelectBackward0>)\n",
            "tensor([0.1161, 0.1688, 0.1741, 0.1672, 0.1585], device='cuda:0',\n",
            "       grad_fn=<SelectBackward0>)\n",
            "tensor([-0.0024, -0.0403, -0.0645, -0.0797, -0.0944], device='cuda:0',\n",
            "       grad_fn=<SelectBackward0>)\n",
            "tensor([0.2901, 0.2448, 0.1948, 0.1943, 0.1893], device='cuda:0',\n",
            "       grad_fn=<SelectBackward0>)\n",
            "tensor([-0.0183, -0.0955, -0.1334, -0.1419, -0.1402], device='cuda:0',\n",
            "       grad_fn=<SelectBackward0>)\n",
            "tensor([0.0832, 0.0706, 0.0537, 0.0529, 0.0541], device='cuda:0',\n",
            "       grad_fn=<SelectBackward0>)\n",
            "tensor([ 0.0127, -0.0095, -0.0264, -0.0258, -0.0278], device='cuda:0',\n",
            "       grad_fn=<SelectBackward0>)\n",
            "tensor([-0.2228, -0.2788, -0.2694, -0.2479, -0.2264], device='cuda:0',\n",
            "       grad_fn=<SelectBackward0>)\n",
            "tensor([-0.0354,  0.0019,  0.0450,  0.0715,  0.0965], device='cuda:0',\n",
            "       grad_fn=<SelectBackward0>)\n",
            "tensor([-0.1358, -0.1222, -0.1079, -0.1103, -0.1058], device='cuda:0',\n",
            "       grad_fn=<SelectBackward0>)\n",
            "tensor([0.1293, 0.0898, 0.0735, 0.0800, 0.0830], device='cuda:0',\n",
            "       grad_fn=<SelectBackward0>)\n",
            "tensor([-0.1870, -0.2299, -0.2210, -0.2146, -0.2000], device='cuda:0',\n",
            "       grad_fn=<SelectBackward0>)\n",
            "tensor([-0.2319, -0.2607, -0.2553, -0.2496, -0.2410], device='cuda:0',\n",
            "       grad_fn=<SelectBackward0>)\n",
            "tensor([-0.2281, -0.2366, -0.2247, -0.2375, -0.2386], device='cuda:0',\n",
            "       grad_fn=<SelectBackward0>)\n",
            "tensor([-0.0607, -0.0290, -0.0117, -0.0148, -0.0154], device='cuda:0',\n",
            "       grad_fn=<SelectBackward0>)\n",
            "tensor([-0.0554, -0.0625, -0.0618, -0.0532, -0.0443], device='cuda:0',\n",
            "       grad_fn=<SelectBackward0>)\n",
            "tensor([-0.2027, -0.2165, -0.2216, -0.2370, -0.2448], device='cuda:0',\n",
            "       grad_fn=<SelectBackward0>)\n",
            "tensor([-0.1506, -0.1423, -0.1299, -0.1317, -0.1306], device='cuda:0',\n",
            "       grad_fn=<SelectBackward0>)\n",
            "tensor([0.1577, 0.1105, 0.0957, 0.1102, 0.1234], device='cuda:0',\n",
            "       grad_fn=<SelectBackward0>)\n",
            "tensor([0.0388, 0.1054, 0.1222, 0.1201, 0.1167], device='cuda:0',\n",
            "       grad_fn=<SelectBackward0>)\n",
            "tensor([0.0093, 0.0417, 0.0639, 0.0850, 0.0983], device='cuda:0',\n",
            "       grad_fn=<SelectBackward0>)\n",
            "tensor([ 0.0061, -0.0428, -0.0714, -0.0835, -0.0918], device='cuda:0',\n",
            "       grad_fn=<SelectBackward0>)\n",
            "tensor([-0.1234, -0.1132, -0.0916, -0.0869, -0.0836], device='cuda:0',\n",
            "       grad_fn=<SelectBackward0>)\n",
            "tensor([-0.0271,  0.0009,  0.0051, -0.0072, -0.0169], device='cuda:0',\n",
            "       grad_fn=<SelectBackward0>)\n",
            "tensor([0.2575, 0.3149, 0.3101, 0.3006, 0.2817], device='cuda:0',\n",
            "       grad_fn=<SelectBackward0>)\n",
            "tensor([0.0708, 0.0714, 0.0561, 0.0419, 0.0235], device='cuda:0',\n",
            "       grad_fn=<SelectBackward0>)\n",
            "tensor([ 0.0089,  0.0197,  0.0129,  0.0058, -0.0006], device='cuda:0',\n",
            "       grad_fn=<SelectBackward0>)\n",
            "tensor([0.1982, 0.2165, 0.2117, 0.2116, 0.2076], device='cuda:0',\n",
            "       grad_fn=<SelectBackward0>)\n",
            "tensor([-0.2247, -0.2886, -0.2913, -0.2810, -0.2618], device='cuda:0',\n",
            "       grad_fn=<SelectBackward0>)\n",
            "tensor([-0.1148, -0.1291, -0.1090, -0.1013, -0.0879], device='cuda:0',\n",
            "       grad_fn=<SelectBackward0>)\n",
            "tensor([ 0.0191, -0.0082, -0.0226, -0.0191, -0.0183], device='cuda:0',\n",
            "       grad_fn=<SelectBackward0>)\n",
            "tensor([0.0358, 0.0138, 0.0070, 0.0070, 0.0083], device='cuda:0',\n",
            "       grad_fn=<SelectBackward0>)\n",
            "tensor([0.0640, 0.0792, 0.1003, 0.1070, 0.1170], device='cuda:0',\n",
            "       grad_fn=<SelectBackward0>)\n",
            "tensor([-0.0424,  0.0257,  0.0640,  0.0791,  0.0898], device='cuda:0',\n",
            "       grad_fn=<SelectBackward0>)\n",
            "tensor([0.0509, 0.0779, 0.0828, 0.0725, 0.0597], device='cuda:0',\n",
            "       grad_fn=<SelectBackward0>)\n",
            "tensor([-0.0969, -0.0835, -0.0780, -0.0820, -0.0848], device='cuda:0',\n",
            "       grad_fn=<SelectBackward0>)\n",
            "tensor([-0.2531, -0.2533, -0.2391, -0.2429, -0.2435], device='cuda:0',\n",
            "       grad_fn=<SelectBackward0>)\n",
            "tensor([-0.1137, -0.1319, -0.1196, -0.1095, -0.0963], device='cuda:0',\n",
            "       grad_fn=<SelectBackward0>)\n",
            "tensor([-0.0390, -0.0087,  0.0182,  0.0171,  0.0143], device='cuda:0',\n",
            "       grad_fn=<SelectBackward0>)\n",
            "tensor([-0.0997, -0.0928, -0.0772, -0.0825, -0.0822], device='cuda:0',\n",
            "       grad_fn=<SelectBackward0>)\n",
            "tensor([0.0818, 0.0494, 0.0493, 0.0674, 0.0817], device='cuda:0',\n",
            "       grad_fn=<SelectBackward0>)\n",
            "tensor([0.0236, 0.0494, 0.0444, 0.0315, 0.0160], device='cuda:0',\n",
            "       grad_fn=<SelectBackward0>)\n",
            "tensor([-0.1664, -0.2199, -0.2142, -0.2017, -0.1816], device='cuda:0',\n",
            "       grad_fn=<SelectBackward0>)\n",
            "tensor([0.1035, 0.1160, 0.1051, 0.0859, 0.0628], device='cuda:0',\n",
            "       grad_fn=<SelectBackward0>)\n",
            "tensor([-0.0808, -0.0279, -0.0072, -0.0109, -0.0159], device='cuda:0',\n",
            "       grad_fn=<SelectBackward0>)\n",
            "tensor([0.0192, 0.0141, 0.0203, 0.0387, 0.0533], device='cuda:0',\n",
            "       grad_fn=<SelectBackward0>)\n",
            "tensor([0.1410, 0.1139, 0.1046, 0.1153, 0.1251], device='cuda:0',\n",
            "       grad_fn=<SelectBackward0>)\n",
            "tensor([-0.2098, -0.2218, -0.2222, -0.2379, -0.2433], device='cuda:0',\n",
            "       grad_fn=<SelectBackward0>)\n",
            "tensor([0.0652, 0.0859, 0.1083, 0.1317, 0.1477], device='cuda:0',\n",
            "       grad_fn=<SelectBackward0>)\n",
            "tensor([-0.1971, -0.2916, -0.3270, -0.3414, -0.3443], device='cuda:0',\n",
            "       grad_fn=<SelectBackward0>)\n",
            "tensor([0.0922, 0.2178, 0.2556, 0.2488, 0.2342], device='cuda:0',\n",
            "       grad_fn=<SelectBackward0>)\n",
            "tensor([0.1431, 0.1162, 0.1049, 0.1070, 0.1052], device='cuda:0',\n",
            "       grad_fn=<SelectBackward0>)\n",
            "tensor([0.0066, 0.0292, 0.0543, 0.0755, 0.0926], device='cuda:0',\n",
            "       grad_fn=<SelectBackward0>)\n",
            "tensor([0.2367, 0.2290, 0.1876, 0.1780, 0.1611], device='cuda:0',\n",
            "       grad_fn=<SelectBackward0>)\n",
            "tensor([0.1986, 0.2451, 0.2480, 0.2519, 0.2522], device='cuda:0',\n",
            "       grad_fn=<SelectBackward0>)\n",
            "tensor([0.0855, 0.0700, 0.0568, 0.0766, 0.0919], device='cuda:0',\n",
            "       grad_fn=<SelectBackward0>)\n",
            "tensor([0.1147, 0.2085, 0.2437, 0.2526, 0.2486], device='cuda:0',\n",
            "       grad_fn=<SelectBackward0>)\n",
            "tensor([-0.1301, -0.0974, -0.0730, -0.0651, -0.0615], device='cuda:0',\n",
            "       grad_fn=<SelectBackward0>)\n",
            "tensor([-0.2059, -0.2256, -0.2323, -0.2462, -0.2454], device='cuda:0',\n",
            "       grad_fn=<SelectBackward0>)\n",
            "tensor([0.0281, 0.0814, 0.1253, 0.1326, 0.1389], device='cuda:0',\n",
            "       grad_fn=<SelectBackward0>)\n",
            "tensor([0.2382, 0.2704, 0.2536, 0.2383, 0.2193], device='cuda:0',\n",
            "       grad_fn=<SelectBackward0>)\n",
            "tensor([0.2248, 0.2190, 0.1945, 0.1921, 0.1868], device='cuda:0',\n",
            "       grad_fn=<SelectBackward0>)\n",
            "tensor([-0.0867, -0.0255, -0.0096, -0.0125, -0.0168], device='cuda:0',\n",
            "       grad_fn=<SelectBackward0>)\n",
            "tensor([0.2267, 0.2245, 0.2103, 0.2101, 0.2007], device='cuda:0',\n",
            "       grad_fn=<SelectBackward0>)\n",
            "tensor([0.0184, 0.0269, 0.0396, 0.0237, 0.0186], device='cuda:0',\n",
            "       grad_fn=<SelectBackward0>)\n",
            "tensor([ 0.0093,  0.0204,  0.0167,  0.0047, -0.0052], device='cuda:0',\n",
            "       grad_fn=<SelectBackward0>)\n",
            "tensor([-0.0236,  0.0009,  0.0045, -0.0041, -0.0134], device='cuda:0',\n",
            "       grad_fn=<SelectBackward0>)\n",
            "tensor([0.0625, 0.1136, 0.1116, 0.0893, 0.0636], device='cuda:0',\n",
            "       grad_fn=<SelectBackward0>)\n",
            "tensor([0.2417, 0.2513, 0.2300, 0.2046, 0.1808], device='cuda:0',\n",
            "       grad_fn=<SelectBackward0>)\n",
            "tensor([ 0.0047, -0.0457, -0.0751, -0.0846, -0.0888], device='cuda:0',\n",
            "       grad_fn=<SelectBackward0>)\n",
            "tensor([0.0810, 0.0916, 0.0699, 0.0490, 0.0287], device='cuda:0',\n",
            "       grad_fn=<SelectBackward0>)\n",
            "tensor([0.0450, 0.0870, 0.1028, 0.1046, 0.1003], device='cuda:0',\n",
            "       grad_fn=<SelectBackward0>)\n",
            "tensor([-0.0894, -0.1272, -0.1364, -0.1448, -0.1496], device='cuda:0',\n",
            "       grad_fn=<SelectBackward0>)\n",
            "tensor([0.2143, 0.1962, 0.1712, 0.1728, 0.1676], device='cuda:0',\n",
            "       grad_fn=<SelectBackward0>)\n",
            "tensor([0.0929, 0.1117, 0.0995, 0.0805, 0.0610], device='cuda:0',\n",
            "       grad_fn=<SelectBackward0>)\n",
            "tensor([-0.0192,  0.0029,  0.0176,  0.0214,  0.0242], device='cuda:0',\n",
            "       grad_fn=<SelectBackward0>)\n",
            "tensor([ 0.0298,  0.0141,  0.0041, -0.0010, -0.0027], device='cuda:0',\n",
            "       grad_fn=<SelectBackward0>)\n",
            "tensor([-0.0733, -0.0729, -0.0676, -0.0773, -0.0825], device='cuda:0',\n",
            "       grad_fn=<SelectBackward0>)\n",
            "tensor([0.0951, 0.0537, 0.0340, 0.0393, 0.0436], device='cuda:0',\n",
            "       grad_fn=<SelectBackward0>)\n",
            "tensor([0.2014, 0.1497, 0.0998, 0.0769, 0.0540], device='cuda:0',\n",
            "       grad_fn=<SelectBackward0>)\n",
            "tensor([0.2007, 0.2397, 0.2317, 0.2244, 0.2146], device='cuda:0',\n",
            "       grad_fn=<SelectBackward0>)\n",
            "tensor([-0.1031, -0.1090, -0.0902, -0.0823, -0.0711], device='cuda:0',\n",
            "       grad_fn=<SelectBackward0>)\n",
            "tensor([0.1529, 0.1464, 0.1480, 0.1453, 0.1425], device='cuda:0',\n",
            "       grad_fn=<SelectBackward0>)\n",
            "tensor([-0.0686, -0.0493, -0.0463, -0.0519, -0.0544], device='cuda:0',\n",
            "       grad_fn=<SelectBackward0>)\n",
            "tensor([-0.2324, -0.2210, -0.2015, -0.1961, -0.1806], device='cuda:0',\n",
            "       grad_fn=<SelectBackward0>)\n",
            "tensor([-0.1020, -0.0809, -0.0649, -0.0700, -0.0741], device='cuda:0',\n",
            "       grad_fn=<SelectBackward0>)\n",
            "tensor([0.2288, 0.2397, 0.2367, 0.2451, 0.2508], device='cuda:0',\n",
            "       grad_fn=<SelectBackward0>)\n",
            "tensor([0.1176, 0.1539, 0.1559, 0.1489, 0.1395], device='cuda:0',\n",
            "       grad_fn=<SelectBackward0>)\n",
            "tensor([0.0022, 0.0066, 0.0179, 0.0424, 0.0648], device='cuda:0',\n",
            "       grad_fn=<SelectBackward0>)\n",
            "tensor([-0.0632, -0.0857, -0.0786, -0.0622, -0.0489], device='cuda:0',\n",
            "       grad_fn=<SelectBackward0>)\n",
            "tensor([-0.1270, -0.1776, -0.1900, -0.1870, -0.1800], device='cuda:0',\n",
            "       grad_fn=<SelectBackward0>)\n",
            "tensor([-0.1096, -0.0903, -0.0949, -0.1012, -0.1035], device='cuda:0',\n",
            "       grad_fn=<SelectBackward0>)\n",
            "tensor([-0.0911, -0.0923, -0.0762, -0.0509, -0.0300], device='cuda:0',\n",
            "       grad_fn=<SelectBackward0>)\n",
            "tensor([ 0.0735,  0.0409,  0.0131,  0.0011, -0.0077], device='cuda:0',\n",
            "       grad_fn=<SelectBackward0>)\n",
            "tensor([-0.0665, -0.0798, -0.0704, -0.0664, -0.0634], device='cuda:0',\n",
            "       grad_fn=<SelectBackward0>)\n",
            "tensor([0.0532, 0.0398, 0.0288, 0.0274, 0.0259], device='cuda:0',\n",
            "       grad_fn=<SelectBackward0>)\n",
            "tensor([-0.0378, -0.0524, -0.0683, -0.0839, -0.1029], device='cuda:0',\n",
            "       grad_fn=<SelectBackward0>)\n",
            "tensor([-0.0997, -0.0511, -0.0312, -0.0343, -0.0387], device='cuda:0',\n",
            "       grad_fn=<SelectBackward0>)\n",
            "tensor([-0.1012, -0.1055, -0.1008, -0.1066, -0.1067], device='cuda:0',\n",
            "       grad_fn=<SelectBackward0>)\n",
            "tensor([0.0347, 0.0559, 0.0709, 0.0790, 0.0849], device='cuda:0',\n",
            "       grad_fn=<SelectBackward0>)\n",
            "tensor([-0.0104, -0.0078,  0.0033,  0.0055,  0.0114], device='cuda:0',\n",
            "       grad_fn=<SelectBackward0>)\n",
            "tensor([-0.1208, -0.1399, -0.1275, -0.1179, -0.1017], device='cuda:0',\n",
            "       grad_fn=<SelectBackward0>)\n",
            "tensor([-0.1116, -0.0906, -0.0983, -0.1169, -0.1327], device='cuda:0',\n",
            "       grad_fn=<SelectBackward0>)\n",
            "tensor([ 1.0481e-01, -1.6078e-05, -4.6726e-02, -5.1255e-02, -5.1216e-02],\n",
            "       device='cuda:0', grad_fn=<SelectBackward0>)\n",
            "tensor([0.1831, 0.2402, 0.2400, 0.2295, 0.2139], device='cuda:0',\n",
            "       grad_fn=<SelectBackward0>)\n",
            "tensor([-2.0687e-02, -5.5892e-03,  1.9451e-03,  1.4937e-03, -4.5192e-05],\n",
            "       device='cuda:0', grad_fn=<SelectBackward0>)\n",
            "tensor([-0.2155, -0.2429, -0.2290, -0.2278, -0.2217], device='cuda:0',\n",
            "       grad_fn=<SelectBackward0>)\n",
            "tensor([-0.0280, -0.0309, -0.0293, -0.0176, -0.0090], device='cuda:0',\n",
            "       grad_fn=<SelectBackward0>)\n",
            "tensor([-0.0407, -0.0127, -0.0043, -0.0058, -0.0095], device='cuda:0',\n",
            "       grad_fn=<SelectBackward0>)\n",
            "tensor([-0.0316, -0.0199, -0.0095,  0.0118,  0.0319], device='cuda:0',\n",
            "       grad_fn=<SelectBackward0>)\n",
            "tensor([-0.1946, -0.2516, -0.2594, -0.2479, -0.2316], device='cuda:0',\n",
            "       grad_fn=<SelectBackward0>)\n",
            "tensor([-0.0692, -0.0158,  0.0083,  0.0111,  0.0176], device='cuda:0',\n",
            "       grad_fn=<SelectBackward0>)\n",
            "tensor([-0.1272, -0.2149, -0.2385, -0.2370, -0.2238], device='cuda:0',\n",
            "       grad_fn=<SelectBackward0>)\n",
            "tensor([-0.2023, -0.2072, -0.1955, -0.1930, -0.1857], device='cuda:0',\n",
            "       grad_fn=<SelectBackward0>)\n",
            "tensor([-0.0875, -0.0353, -0.0291, -0.0507, -0.0682], device='cuda:0',\n",
            "       grad_fn=<SelectBackward0>)\n",
            "tensor([-0.0927, -0.0780, -0.0758, -0.0738, -0.0743], device='cuda:0',\n",
            "       grad_fn=<SelectBackward0>)\n",
            "tensor([-0.1272, -0.0832, -0.0484, -0.0289, -0.0117], device='cuda:0',\n",
            "       grad_fn=<SelectBackward0>)\n",
            "tensor([-0.3356, -0.3458, -0.3096, -0.2978, -0.2782], device='cuda:0',\n",
            "       grad_fn=<SelectBackward0>)\n",
            "tensor([0.1833, 0.2082, 0.2208, 0.2410, 0.2532], device='cuda:0',\n",
            "       grad_fn=<SelectBackward0>)\n",
            "tensor([0.3123, 0.2795, 0.2198, 0.1976, 0.1755], device='cuda:0',\n",
            "       grad_fn=<SelectBackward0>)\n",
            "tensor([0.2092, 0.1909, 0.1750, 0.1855, 0.1930], device='cuda:0',\n",
            "       grad_fn=<SelectBackward0>)\n",
            "tensor([0.1775, 0.2603, 0.3097, 0.3282, 0.3388], device='cuda:0',\n",
            "       grad_fn=<SelectBackward0>)\n",
            "tensor([0.0355, 0.0299, 0.0320, 0.0300, 0.0279], device='cuda:0',\n",
            "       grad_fn=<SelectBackward0>)\n",
            "tensor([0.1179, 0.1173, 0.1013, 0.0963, 0.0871], device='cuda:0',\n",
            "       grad_fn=<SelectBackward0>)\n",
            "tensor([0.0459, 0.0771, 0.0977, 0.1093, 0.1125], device='cuda:0',\n",
            "       grad_fn=<SelectBackward0>)\n",
            "tensor([0.2035, 0.2208, 0.1995, 0.1921, 0.1744], device='cuda:0',\n",
            "       grad_fn=<SelectBackward0>)\n",
            "tensor([-0.0042,  0.0067,  0.0050, -0.0087, -0.0167], device='cuda:0',\n",
            "       grad_fn=<SelectBackward0>)\n",
            "tensor([-0.0109,  0.0308,  0.0341,  0.0200,  0.0077], device='cuda:0',\n",
            "       grad_fn=<SelectBackward0>)\n",
            "tensor([-0.0526, -0.0586, -0.0592, -0.0623, -0.0665], device='cuda:0',\n",
            "       grad_fn=<SelectBackward0>)\n",
            "tensor([-0.2858, -0.3287, -0.3233, -0.3287, -0.3285], device='cuda:0',\n",
            "       grad_fn=<SelectBackward0>)\n",
            "tensor([ 0.0323, -0.0071, -0.0275, -0.0302, -0.0296], device='cuda:0',\n",
            "       grad_fn=<SelectBackward0>)\n",
            "tensor([0.0798, 0.0791, 0.0833, 0.0904, 0.0965], device='cuda:0',\n",
            "       grad_fn=<SelectBackward0>)\n",
            "tensor([0.1441, 0.1513, 0.1572, 0.1641, 0.1636], device='cuda:0',\n",
            "       grad_fn=<SelectBackward0>)\n",
            "tensor([0.1784, 0.1855, 0.1668, 0.1669, 0.1620], device='cuda:0',\n",
            "       grad_fn=<SelectBackward0>)\n",
            "tensor([-0.0770, -0.1052, -0.0994, -0.0939, -0.0875], device='cuda:0',\n",
            "       grad_fn=<SelectBackward0>)\n",
            "tensor([-0.1169, -0.1800, -0.2020, -0.1989, -0.1952], device='cuda:0',\n",
            "       grad_fn=<SelectBackward0>)\n",
            "tensor([-0.1775, -0.1977, -0.1910, -0.1715, -0.1546], device='cuda:0',\n",
            "       grad_fn=<SelectBackward0>)\n",
            "tensor([0.1827, 0.1446, 0.1274, 0.1357, 0.1380], device='cuda:0',\n",
            "       grad_fn=<SelectBackward0>)\n",
            "tensor([0.0293, 0.0635, 0.0678, 0.0620, 0.0569], device='cuda:0',\n",
            "       grad_fn=<SelectBackward0>)\n",
            "tensor([0.1484, 0.0828, 0.0520, 0.0522, 0.0525], device='cuda:0',\n",
            "       grad_fn=<SelectBackward0>)\n",
            "tensor([0.2719, 0.3043, 0.3038, 0.3142, 0.3176], device='cuda:0',\n",
            "       grad_fn=<SelectBackward0>)\n",
            "tensor([0.0505, 0.0280, 0.0377, 0.0506, 0.0643], device='cuda:0',\n",
            "       grad_fn=<SelectBackward0>)\n",
            "tensor([0.0396, 0.0245, 0.0066, 0.0036, 0.0010], device='cuda:0',\n",
            "       grad_fn=<SelectBackward0>)\n",
            "tensor([-0.2133, -0.2043, -0.1954, -0.2146, -0.2268], device='cuda:0',\n",
            "       grad_fn=<SelectBackward0>)\n",
            "tensor([0.2615, 0.2380, 0.2184, 0.2205, 0.2190], device='cuda:0',\n",
            "       grad_fn=<SelectBackward0>)\n",
            "tensor([-0.2328, -0.2643, -0.2418, -0.2232, -0.2003], device='cuda:0',\n",
            "       grad_fn=<SelectBackward0>)\n",
            "tensor([0.0064, 0.0490, 0.0600, 0.0608, 0.0574], device='cuda:0',\n",
            "       grad_fn=<SelectBackward0>)\n",
            "tensor([-0.0969, -0.0368, -0.0227, -0.0202, -0.0210], device='cuda:0',\n",
            "       grad_fn=<SelectBackward0>)\n",
            "tensor([0.1027, 0.0886, 0.0804, 0.0808, 0.0825], device='cuda:0',\n",
            "       grad_fn=<SelectBackward0>)\n",
            "tensor([ 0.0215,  0.0049, -0.0129, -0.0171, -0.0205], device='cuda:0',\n",
            "       grad_fn=<SelectBackward0>)\n",
            "tensor([-0.1366, -0.1362, -0.1109, -0.0909, -0.0744], device='cuda:0',\n",
            "       grad_fn=<SelectBackward0>)\n",
            "tensor([-0.0271, -0.0097, -0.0031, -0.0068, -0.0078], device='cuda:0',\n",
            "       grad_fn=<SelectBackward0>)\n",
            "tensor([-0.2146, -0.1776, -0.1575, -0.1627, -0.1681], device='cuda:0',\n",
            "       grad_fn=<SelectBackward0>)\n",
            "tensor([0.0143, 0.0823, 0.1251, 0.1490, 0.1632], device='cuda:0',\n",
            "       grad_fn=<SelectBackward0>)\n",
            "tensor([0.2371, 0.2127, 0.1902, 0.1940, 0.1936], device='cuda:0',\n",
            "       grad_fn=<SelectBackward0>)\n",
            "tensor([-0.0015, -0.0029, -0.0181, -0.0223, -0.0297], device='cuda:0',\n",
            "       grad_fn=<SelectBackward0>)\n",
            "tensor([0.1154, 0.1546, 0.1729, 0.1791, 0.1841], device='cuda:0',\n",
            "       grad_fn=<SelectBackward0>)\n",
            "tensor([-0.0136, -0.0246, -0.0278, -0.0289, -0.0253], device='cuda:0',\n",
            "       grad_fn=<SelectBackward0>)\n",
            "tensor([0.0661, 0.0717, 0.0709, 0.0775, 0.0799], device='cuda:0',\n",
            "       grad_fn=<SelectBackward0>)\n",
            "tensor([0.0697, 0.0992, 0.1058, 0.1054, 0.1031], device='cuda:0',\n",
            "       grad_fn=<SelectBackward0>)\n",
            "tensor([-0.0099,  0.0330,  0.0584,  0.0655,  0.0657], device='cuda:0',\n",
            "       grad_fn=<SelectBackward0>)\n",
            "tensor([0.1246, 0.1343, 0.1106, 0.0872, 0.0626], device='cuda:0',\n",
            "       grad_fn=<SelectBackward0>)\n",
            "tensor([-0.0955, -0.0906, -0.0529, -0.0446, -0.0365], device='cuda:0',\n",
            "       grad_fn=<SelectBackward0>)\n",
            "tensor([-0.0948, -0.1479, -0.1567, -0.1504, -0.1416], device='cuda:0',\n",
            "       grad_fn=<SelectBackward0>)\n",
            "tensor([0.2376, 0.2162, 0.1934, 0.1921, 0.1815], device='cuda:0',\n",
            "       grad_fn=<SelectBackward0>)\n",
            "tensor([ 0.0293, -0.0204, -0.0654, -0.0910, -0.1151], device='cuda:0',\n",
            "       grad_fn=<SelectBackward0>)\n",
            "tensor([0.2126, 0.1929, 0.1876, 0.1978, 0.2010], device='cuda:0',\n",
            "       grad_fn=<SelectBackward0>)\n",
            "tensor([-0.0336, -0.0732, -0.0812, -0.0701, -0.0600], device='cuda:0',\n",
            "       grad_fn=<SelectBackward0>)\n",
            "tensor([-0.1936, -0.2203, -0.2069, -0.1944, -0.1787], device='cuda:0',\n",
            "       grad_fn=<SelectBackward0>)\n",
            "tensor([0.2028, 0.1716, 0.1331, 0.1311, 0.1246], device='cuda:0',\n",
            "       grad_fn=<SelectBackward0>)\n",
            "tensor([ 0.0906,  0.0322, -0.0041, -0.0161, -0.0260], device='cuda:0',\n",
            "       grad_fn=<SelectBackward0>)\n",
            "tensor([-0.2257, -0.1747, -0.1456, -0.1479, -0.1464], device='cuda:0',\n",
            "       grad_fn=<SelectBackward0>)\n",
            "tensor([ 0.0039, -0.0542, -0.0787, -0.0824, -0.0857], device='cuda:0',\n",
            "       grad_fn=<SelectBackward0>)\n",
            "tensor([0.2608, 0.2877, 0.2889, 0.2869, 0.2796], device='cuda:0',\n",
            "       grad_fn=<SelectBackward0>)\n",
            "tensor([-0.0908, -0.1527, -0.1544, -0.1487, -0.1369], device='cuda:0',\n",
            "       grad_fn=<SelectBackward0>)\n",
            "tensor([-0.1975, -0.2178, -0.2171, -0.2234, -0.2261], device='cuda:0',\n",
            "       grad_fn=<SelectBackward0>)\n",
            "tensor([-0.0995, -0.0621, -0.0347, -0.0182, -0.0033], device='cuda:0',\n",
            "       grad_fn=<SelectBackward0>)\n",
            "tensor([-0.0929, -0.0739, -0.0611, -0.0648, -0.0654], device='cuda:0',\n",
            "       grad_fn=<SelectBackward0>)\n",
            "tensor([-0.0874, -0.1079, -0.1071, -0.1048, -0.0991], device='cuda:0',\n",
            "       grad_fn=<SelectBackward0>)\n",
            "tensor([-0.1215, -0.0932, -0.0744, -0.0715, -0.0631], device='cuda:0',\n",
            "       grad_fn=<SelectBackward0>)\n",
            "tensor([0.2220, 0.2360, 0.2332, 0.2509, 0.2582], device='cuda:0',\n",
            "       grad_fn=<SelectBackward0>)\n",
            "tensor([0.0841, 0.1079, 0.1125, 0.1098, 0.1104], device='cuda:0',\n",
            "       grad_fn=<SelectBackward0>)\n",
            "tensor([0.0987, 0.1179, 0.1045, 0.0925, 0.0752], device='cuda:0',\n",
            "       grad_fn=<SelectBackward0>)\n",
            "tensor([-0.0183,  0.0111,  0.0406,  0.0546,  0.0688], device='cuda:0',\n",
            "       grad_fn=<SelectBackward0>)\n",
            "tensor([-0.1448, -0.0576, -0.0194, -0.0313, -0.0442], device='cuda:0',\n",
            "       grad_fn=<SelectBackward0>)\n",
            "tensor([0.0204, 0.0372, 0.0466, 0.0601, 0.0673], device='cuda:0',\n",
            "       grad_fn=<SelectBackward0>)\n",
            "tensor([-0.2735, -0.3002, -0.2903, -0.3003, -0.2984], device='cuda:0',\n",
            "       grad_fn=<SelectBackward0>)\n",
            "tensor([-0.0230, -0.0529, -0.0659, -0.0762, -0.0785], device='cuda:0',\n",
            "       grad_fn=<SelectBackward0>)\n",
            "tensor([0.2880, 0.3161, 0.3145, 0.3320, 0.3386], device='cuda:0',\n",
            "       grad_fn=<SelectBackward0>)\n",
            "tensor([-0.0806, -0.1526, -0.1613, -0.1543, -0.1411], device='cuda:0',\n",
            "       grad_fn=<SelectBackward0>)\n",
            "tensor([ 0.0052, -0.0284, -0.0351, -0.0352, -0.0360], device='cuda:0',\n",
            "       grad_fn=<SelectBackward0>)\n",
            "tensor([-0.0127, -0.0774, -0.1016, -0.1007, -0.0994], device='cuda:0',\n",
            "       grad_fn=<SelectBackward0>)\n",
            "tensor([-0.1447, -0.1873, -0.1794, -0.1723, -0.1641], device='cuda:0',\n",
            "       grad_fn=<SelectBackward0>)\n",
            "tensor([0.0826, 0.0444, 0.0318, 0.0320, 0.0347], device='cuda:0',\n",
            "       grad_fn=<SelectBackward0>)\n",
            "tensor([0.0946, 0.1070, 0.1101, 0.1135, 0.1146], device='cuda:0',\n",
            "       grad_fn=<SelectBackward0>)\n",
            "tensor([0.0493, 0.0666, 0.0674, 0.0576, 0.0454], device='cuda:0',\n",
            "       grad_fn=<SelectBackward0>)\n",
            "tensor([-0.0406, -0.0321, -0.0282, -0.0306, -0.0290], device='cuda:0',\n",
            "       grad_fn=<SelectBackward0>)\n",
            "tensor([0.0327, 0.0513, 0.0653, 0.0769, 0.0867], device='cuda:0',\n",
            "       grad_fn=<SelectBackward0>)\n",
            "tensor([ 0.0135, -0.0241, -0.0383, -0.0464, -0.0504], device='cuda:0',\n",
            "       grad_fn=<SelectBackward0>)\n",
            "tensor([0.1672, 0.1816, 0.1824, 0.1904, 0.1930], device='cuda:0',\n",
            "       grad_fn=<SelectBackward0>)\n",
            "tensor([-0.0672, -0.0429, -0.0251, -0.0191, -0.0127], device='cuda:0',\n",
            "       grad_fn=<SelectBackward0>)\n",
            "tensor([-0.0711, -0.0405, -0.0387, -0.0564, -0.0691], device='cuda:0',\n",
            "       grad_fn=<SelectBackward0>)\n",
            "tensor([-0.0003, -0.0265, -0.0406, -0.0436, -0.0448], device='cuda:0',\n",
            "       grad_fn=<SelectBackward0>)\n",
            "tensor([-0.2483, -0.2584, -0.2515, -0.2729, -0.2817], device='cuda:0',\n",
            "       grad_fn=<SelectBackward0>)\n",
            "tensor([0.0540, 0.0630, 0.0810, 0.1091, 0.1337], device='cuda:0',\n",
            "       grad_fn=<SelectBackward0>)\n",
            "tensor([-0.1893, -0.1888, -0.1621, -0.1509, -0.1346], device='cuda:0',\n",
            "       grad_fn=<SelectBackward0>)\n",
            "tensor([-0.0077,  0.0489,  0.0654,  0.0550,  0.0483], device='cuda:0',\n",
            "       grad_fn=<SelectBackward0>)\n",
            "tensor([-0.0344, -0.1568, -0.3515, -0.5109, -0.6923], device='cuda:0',\n",
            "       grad_fn=<SelectBackward0>)\n",
            "tensor([-0.0947, -0.1201, -0.1116, -0.1019, -0.0862], device='cuda:0',\n",
            "       grad_fn=<SelectBackward0>)\n",
            "tensor([-0.1644, -0.1486, -0.1289, -0.1319, -0.1324], device='cuda:0',\n",
            "       grad_fn=<SelectBackward0>)\n",
            "tensor([0.0263, 0.0334, 0.0287, 0.0200, 0.0150], device='cuda:0',\n",
            "       grad_fn=<SelectBackward0>)\n",
            "tensor([0.1150, 0.1240, 0.1198, 0.1172, 0.1118], device='cuda:0',\n",
            "       grad_fn=<SelectBackward0>)\n",
            "tensor([0.1066, 0.0881, 0.0732, 0.0779, 0.0794], device='cuda:0',\n",
            "       grad_fn=<SelectBackward0>)\n",
            "tensor([-0.2252, -0.2474, -0.2316, -0.2197, -0.1980], device='cuda:0',\n",
            "       grad_fn=<SelectBackward0>)\n",
            "tensor([0.1073, 0.1094, 0.0914, 0.0844, 0.0750], device='cuda:0',\n",
            "       grad_fn=<SelectBackward0>)\n",
            "tensor([-0.2354, -0.2926, -0.3159, -0.3288, -0.3365], device='cuda:0',\n",
            "       grad_fn=<SelectBackward0>)\n",
            "tensor([ 0.0200, -0.0146, -0.0274, -0.0092,  0.0048], device='cuda:0',\n",
            "       grad_fn=<SelectBackward0>)\n",
            "tensor([0.0691, 0.0617, 0.0564, 0.0624, 0.0676], device='cuda:0',\n",
            "       grad_fn=<SelectBackward0>)\n",
            "tensor([-0.0063, -0.0192, -0.0094,  0.0035,  0.0158], device='cuda:0',\n",
            "       grad_fn=<SelectBackward0>)\n",
            "tensor([-0.1741, -0.1783, -0.1830, -0.2139, -0.2350], device='cuda:0',\n",
            "       grad_fn=<SelectBackward0>)\n",
            "tensor([-0.3478, -0.3387, -0.2938, -0.2923, -0.2818], device='cuda:0',\n",
            "       grad_fn=<SelectBackward0>)\n",
            "tensor([-0.1421, -0.1456, -0.1442, -0.1545, -0.1550], device='cuda:0',\n",
            "       grad_fn=<SelectBackward0>)\n",
            "tensor([0.1290, 0.0793, 0.0462, 0.0440, 0.0385], device='cuda:0',\n",
            "       grad_fn=<SelectBackward0>)\n",
            "tensor([0.1974, 0.2240, 0.2141, 0.2083, 0.1947], device='cuda:0',\n",
            "       grad_fn=<SelectBackward0>)\n",
            "tensor([-0.0203, -0.0531, -0.0511, -0.0357, -0.0208], device='cuda:0',\n",
            "       grad_fn=<SelectBackward0>)\n",
            "tensor([-0.0978, -0.1097, -0.1174, -0.1372, -0.1474], device='cuda:0',\n",
            "       grad_fn=<SelectBackward0>)\n",
            "tensor([-0.0129,  0.0273,  0.0451,  0.0461,  0.0471], device='cuda:0',\n",
            "       grad_fn=<SelectBackward0>)\n",
            "tensor([0.0500, 0.0404, 0.0256, 0.0118, 0.0018], device='cuda:0',\n",
            "       grad_fn=<SelectBackward0>)\n",
            "tensor([-0.1225, -0.0819, -0.0580, -0.0516, -0.0466], device='cuda:0',\n",
            "       grad_fn=<SelectBackward0>)\n",
            "tensor([-0.2638, -0.3007, -0.3001, -0.3048, -0.2981], device='cuda:0',\n",
            "       grad_fn=<SelectBackward0>)\n",
            "tensor([0.2413, 0.2818, 0.2975, 0.3162, 0.3294], device='cuda:0',\n",
            "       grad_fn=<SelectBackward0>)\n",
            "tensor([-0.0990, -0.1203, -0.1317, -0.1350, -0.1344], device='cuda:0',\n",
            "       grad_fn=<SelectBackward0>)\n",
            "tensor([0.0946, 0.1018, 0.0948, 0.0927, 0.0896], device='cuda:0',\n",
            "       grad_fn=<SelectBackward0>)\n",
            "tensor([-0.0560, -0.0626, -0.0604, -0.0713, -0.0735], device='cuda:0',\n",
            "       grad_fn=<SelectBackward0>)\n",
            "tensor([0.0626, 0.1052, 0.1050, 0.0961, 0.0854], device='cuda:0',\n",
            "       grad_fn=<SelectBackward0>)\n",
            "tensor([0.0627, 0.0775, 0.0677, 0.0585, 0.0498], device='cuda:0',\n",
            "       grad_fn=<SelectBackward0>)\n",
            "tensor([-0.0166, -0.0106, -0.0248, -0.0435, -0.0591], device='cuda:0',\n",
            "       grad_fn=<SelectBackward0>)\n",
            "tensor([-0.1444, -0.1433, -0.1407, -0.1498, -0.1572], device='cuda:0',\n",
            "       grad_fn=<SelectBackward0>)\n",
            "tensor([0.2401, 0.2898, 0.2719, 0.2561, 0.2385], device='cuda:0',\n",
            "       grad_fn=<SelectBackward0>)\n",
            "tensor([0.0739, 0.0822, 0.0727, 0.0570, 0.0393], device='cuda:0',\n",
            "       grad_fn=<SelectBackward0>)\n",
            "tensor([-0.0746, -0.0066,  0.0330,  0.0293,  0.0244], device='cuda:0',\n",
            "       grad_fn=<SelectBackward0>)\n",
            "tensor([-0.0051, -0.0669, -0.0921, -0.0982, -0.1006], device='cuda:0',\n",
            "       grad_fn=<SelectBackward0>)\n",
            "tensor([0.2424, 0.2593, 0.2476, 0.2472, 0.2437], device='cuda:0',\n",
            "       grad_fn=<SelectBackward0>)\n",
            "tensor([0.1270, 0.1500, 0.1520, 0.1385, 0.1240], device='cuda:0',\n",
            "       grad_fn=<SelectBackward0>)\n",
            "tensor([-0.1191, -0.0868, -0.0730, -0.0825, -0.0916], device='cuda:0',\n",
            "       grad_fn=<SelectBackward0>)\n",
            "S shape before reshaping: torch.Size([1, 256, 5])\n",
            "Time to compute H and dH_dt:  0.663 seconds\n",
            "torch.Size([5, 256])\n",
            "dH)dx shape:  torch.Size([5, 512])\n",
            "torch.Size([5, 1, 257])\n",
            "-------------------------\n",
            "Condition Number:  tensor(4.0489e+11, device='cuda:0', grad_fn=<SqueezeBackward1>)\n",
            "torch.Size([5, 1, 1])\n",
            "torch.Size([5, 1, 257])\n",
            "torch.Size([5, 257, 1])\n",
            "torch.Size([257, 1])\n",
            "H_0_T_times_u_0 shape:  torch.Size([257, 1])\n",
            "force terms:  torch.Size([257, 1])\n",
            "0.12474292\n"
          ]
        },
        {
          "output_type": "display_data",
          "data": {
            "text/plain": [
              "<Figure size 432x288 with 1 Axes>"
            ],
            "image/png": "[encoded data removed]"
          },
          "metadata": {
            "needs_background": "light"
          }
        }
      ]
    },
    {
      "cell_type": "code",
      "source": [
        "H_x1\n",
        "\n",
        "tensor([ 0.0010, -0.0171, -0.0232, -0.0174, -0.0161], device='cuda:0',"
      ],
      "metadata": {
        "colab": {
          "base_uri": "https://localhost:8080/"
        },
        "id": "VKp6WA7vpVSs",
        "outputId": "1a6ff110-0de6-4d18-8e6b-d94379e2b923"
      },
      "id": "VKp6WA7vpVSs",
      "execution_count": 26,
      "outputs": [
        {
          "output_type": "execute_result",
          "data": {
            "text/plain": [
              "tensor([[[ 0.0000,  0.0149, -0.0495,  ..., -0.0054, -0.1272, -0.1932]],\n",
              "\n",
              "        [[ 0.0000, -0.0186, -0.0929,  ...,  0.0740, -0.0832, -0.1400]],\n",
              "\n",
              "        [[ 0.0000, -0.0208, -0.0960,  ...,  0.0951, -0.0484, -0.0922]],\n",
              "\n",
              "        [[ 0.0000, -0.0169, -0.0846,  ...,  0.0967, -0.0289, -0.0607]],\n",
              "\n",
              "        [[ 0.0000, -0.0094, -0.0696,  ...,  0.0942, -0.0117, -0.0351]]],\n",
              "       device='cuda:0', grad_fn=<CatBackward0>)"
            ]
          },
          "metadata": {},
          "execution_count": 26
        }
      ]
    },
    {
      "cell_type": "code",
      "source": [
        "print(dH_dx)\n",
        "print(dH_dx.shape)"
      ],
      "metadata": {
        "colab": {
          "base_uri": "https://localhost:8080/"
        },
        "id": "0irgQJrZpZ8L",
        "outputId": "d3843301-8389-4e42-a097-f224989cc234"
      },
      "id": "0irgQJrZpZ8L",
      "execution_count": null,
      "outputs": [
        {
          "output_type": "stream",
          "name": "stdout",
          "text": [
            "tensor([[ 0.0162,  0.2446, -0.0060,  ...,  0.1547,  0.0400,  0.3026],\n",
            "        [ 0.0161,  0.2445, -0.0059,  ...,  0.1547,  0.0401,  0.3027],\n",
            "        [ 0.0157,  0.2441, -0.0057,  ...,  0.1547,  0.0401,  0.3031],\n",
            "        ...,\n",
            "        [-0.1282,  0.0338,  0.2055,  ...,  0.1547,  0.1007,  0.4181],\n",
            "        [-0.1279,  0.0339,  0.2065,  ...,  0.1547,  0.1005,  0.4179],\n",
            "        [-0.1278,  0.0340,  0.2072,  ...,  0.1548,  0.1004,  0.4177]],\n",
            "       device='cuda:0', grad_fn=<CatBackward0>)\n",
            "torch.Size([512, 512])\n"
          ]
        }
      ]
    },
    {
      "cell_type": "code",
      "source": [
        "# TODO:\n",
        "# 1.) run with 60,000 epochs to see how it works...\n",
        "# 2.) code up the generalized S this new way...\n",
        "# 3.) clean up the code\n",
        "# 4.) train with varying G and initial conditions\n",
        "# 5.) try transfer learning..."
      ],
      "metadata": {
        "id": "B-FtCjE_zXkI"
      },
      "id": "B-FtCjE_zXkI",
      "execution_count": null,
      "outputs": []
    },
    {
      "cell_type": "code",
      "source": [
        "# pick a G that has been trained on\n",
        "G = G_list[0]\n",
        "\n",
        "# compute H, S, and H_0\n",
        "H, S, H_0, x, x_0 = compute_H_and_S(x_range[0], x_range[1], G, trained_model, num_equations, hid_lay)\n",
        "\n",
        "# print(S.shape)\n",
        "# print(S)\n",
        "# print(\"-\" * 25)\n",
        "\n",
        "# pick an initial condition and A matrix from those that were trained on (easy case)\n",
        "v = v_list[0]\n",
        "A = A_list[0]\n",
        "\n",
        "# ################################################################\n",
        "# create S original way for 1 equation...\n",
        "_, H_orig = trained_model(x)\n",
        "print(H_orig.shape)\n",
        "dH_dx = [torch.autograd.grad(H_orig[:, i], x, grad_outputs=torch.ones_like(H_orig[:, i]), create_graph=True)[0] for i in range(H_orig.shape[1])]\n",
        "dH_dx = torch.hstack(dH_dx)\n",
        "print(dH_dx.shape)\n",
        "H_x1 = dH_dx[:, 0:256] # 0:hid_lay[-1]\n",
        "H_x1 = H_x1.reshape(-1, num_equations, hid_lay[-1] // num_equations)\n",
        "H_x1 = torch.cat((torch.zeros(len(x), num_equations, 1, device=dev), H_x1), 2)\n",
        "\n",
        "H_x2 = dH_dx[:, 256:]\n",
        "H_x2 = H_x2.reshape(-1, num_equations, hid_lay[-1] // num_equations)\n",
        "H_x2 = torch.cat((torch.zeros(len(x), num_equations, 1, device=dev), H_x2), 2)\n",
        "\n",
        "S = H_x1 - 1 * H_x2\n",
        "\n",
        "# print(S.shape)\n",
        "# print(S)\n",
        "# print(\"-\" * 25)\n",
        "# ################################################################\n",
        "\n",
        "################################################################\n",
        "# create S original way for 2 equations...\n",
        "_, H_orig = trained_model(x)\n",
        "print(H_orig.shape)\n",
        "dH_dx = [torch.autograd.grad(H_orig[:, i], x, grad_outputs=torch.ones_like(H_orig[:, i]), create_graph=True)[0] for i in range(H_orig.shape[1])]\n",
        "dH_dx = torch.hstack(dH_dx)\n",
        "print(\"dH_dx: \", dH_dx.shape) # [512, 256]\n",
        "print(torch.linalg.cond(dH_dx))\n",
        "# you have as many H_xis as independent variables??\n",
        "H_x1 = dH_dx[:, 0:256] \n",
        "H_x1 = H_x1.reshape(-1, num_equations, hid_lay[-1] // num_equations)\n",
        "H_x1 = torch.cat((torch.zeros(len(x), num_equations, 1, device=dev), H_x1), 2)\n",
        "H_x2 = dH_dx[:, 256:]\n",
        "H_x2 = H_x2.reshape(-1, num_equations, hid_lay[-1] // num_equations)\n",
        "H_x2 = torch.cat((torch.zeros(len(x), num_equations, 1, device=dev), H_x2), 2)\n",
        "print(H_x1.shape)\n",
        "print(H_x2.shape)\n",
        "# S = torch.mul(G[0:1].T, H_x1) + torch.mul(G[1:2].T, H_x2)\n",
        "S = torch.mul(G[:, 0:1], H_x1) + torch.mul(G[:, 1:2], H_x2)\n",
        "print(S.shape)\n",
        "print(\"-\" * 25)\n",
        "\n",
        "# S needs to be of shape ([512, 2, 65])\n",
        "################################################################\n",
        "\n",
        "\n",
        "# compute and plot the transfer learned solution\n",
        "M_inv, W_out, force_terms = analytically_compute_weights(H, H_0, S, x, x_0, v, A, force)\n",
        "plot_transfer_learned_and_analytical(H, W_out, x, v, A, force, num_equations, true_funct)"
      ],
      "metadata": {
        "colab": {
          "base_uri": "https://localhost:8080/",
          "height": 597
        },
        "id": "kZ2iyBkOtJgq",
        "outputId": "16bc1e98-41cd-4614-ede1-62bfdf254a2c"
      },
      "id": "kZ2iyBkOtJgq",
      "execution_count": 56,
      "outputs": [
        {
          "output_type": "stream",
          "name": "stdout",
          "text": [
            "S shape before reshaping: torch.Size([2, 128, 512])\n",
            "Time to compute H and dH_dt:  0.208 seconds\n",
            "torch.Size([512, 256])\n",
            "dH_dx:  torch.Size([512, 512])\n",
            "tensor(9.2651e+11, device='cuda:0', grad_fn=<SqueezeBackward1>)\n",
            "torch.Size([512, 2, 129])\n",
            "torch.Size([512, 2, 129])\n",
            "torch.Size([512, 2, 129])\n",
            "-------------------------\n",
            "Condition Number:  tensor(5.1852e+10, device='cuda:0', grad_fn=<SqueezeBackward1>)\n",
            "torch.Size([512, 2, 1])\n",
            "torch.Size([512, 2, 129])\n",
            "torch.Size([512, 129, 1])\n",
            "torch.Size([129, 1])\n",
            "H_0_T_times_u_0 shape:  torch.Size([129, 1])\n",
            "force terms:  torch.Size([129, 1])\n",
            "1.0907824\n"
          ]
        },
        {
          "output_type": "display_data",
          "data": {
            "text/plain": [
              "<Figure size 432x288 with 1 Axes>"
            ],
            "image/png": "[encoded data removed]"
          },
          "metadata": {
            "needs_background": "light"
          }
        }
      ]
    },
    {
      "cell_type": "code",
      "source": [
        "print(G)\n",
        "print(G[0:1].T.shape)\n",
        "print(G[:, 0:1].shape)"
      ],
      "metadata": {
        "colab": {
          "base_uri": "https://localhost:8080/"
        },
        "id": "edg6naJv59ml",
        "outputId": "eaeacce8-b2e2-428f-9ebd-d4e0ea8e60a0"
      },
      "id": "edg6naJv59ml",
      "execution_count": null,
      "outputs": [
        {
          "output_type": "stream",
          "name": "stdout",
          "text": [
            "tensor([[1., 4.],\n",
            "        [1., 9.]], device='cuda:0')\n",
            "torch.Size([2, 1])\n",
            "torch.Size([2, 1])\n"
          ]
        }
      ]
    },
    {
      "cell_type": "code",
      "source": [
        "# torch.mul(G[0:1].T, torch.ones((10, 2, 15), device=dev))"
      ],
      "metadata": {
        "id": "nm9NTSxp7vN6"
      },
      "id": "nm9NTSxp7vN6",
      "execution_count": null,
      "outputs": []
    },
    {
      "cell_type": "markdown",
      "id": "292050b9",
      "metadata": {
        "id": "292050b9"
      },
      "source": [
        "### Step 4b: Perform One-Shot Transfer Learning (use a new, unseen initial condition)"
      ]
    },
    {
      "cell_type": "code",
      "execution_count": null,
      "id": "91c81002",
      "metadata": {
        "id": "91c81002",
        "outputId": "3aa269c2-5895-409b-9ebd-1454c707002e",
        "colab": {
          "base_uri": "https://localhost:8080/",
          "height": 368
        }
      },
      "outputs": [
        {
          "output_type": "stream",
          "name": "stderr",
          "text": [
            "<ipython-input-26-ee4e683835b2>:8: UserWarning: The use of `x.T` on tensors of dimension other than 2 to reverse their shape is deprecated and it will throw an error in a future release. Consider `x.mT` to transpose batches of matrices or `x.permute(*torch.arange(x.ndim - 1, -1, -1))` to reverse the dimensions of a tensor. (Triggered internally at ../aten/src/ATen/native/TensorShape.cpp:3277.)\n",
            "  W_out_transfer = torch.matmul(M_inv, force_terms + (torch.matmul(H_0.T, v_eval_transfer).reshape(H.shape[-1], H.shape[1])) / len(x))\n"
          ]
        },
        {
          "output_type": "stream",
          "name": "stdout",
          "text": [
            "0.2308059\n"
          ]
        },
        {
          "output_type": "display_data",
          "data": {
            "text/plain": [
              "<Figure size 432x288 with 1 Axes>"
            ],
            "image/png": "[encoded data removed]"
          },
          "metadata": {
            "needs_background": "light"
          }
        }
      ],
      "source": [
        "# choose new initial condition that has not been trained on (harder case)\n",
        "v_transfer = lambda x: torch.sinh(x[:, 0:1])\n",
        "# v_transfer = lambda x: torch.cat((2 * x[:, 0:1], 3 * x[:, 0:1]), dim=1)\n",
        "\n",
        "v_eval_transfer = v_transfer(x_0)\n",
        "\n",
        "# compute and plot the transfer learned solution\n",
        "W_out_transfer = torch.matmul(M_inv, force_terms + (torch.matmul(H_0.T, v_eval_transfer).reshape(H.shape[-1], H.shape[1])) / len(x))\n",
        "plot_transfer_learned_and_analytical(H, W_out_transfer, x, v_transfer, A, force, num_equations, true_funct)"
      ]
    },
    {
      "cell_type": "markdown",
      "id": "5def4061",
      "metadata": {
        "id": "5def4061"
      },
      "source": [
        "### Step 4c: Perform One-Shot Transfer Learning (use a new diff eq. and an initial condition that was trained on)"
      ]
    },
    {
      "cell_type": "code",
      "source": [
        "# new differential equation to apply training to\n",
        "transfer_A = torch.tensor([[-0.34]], device=dev)\n",
        "\n",
        "# compute and plot the transfer learned solution\n",
        "M_inv_new, W_out_new, force_terms_new = analytically_compute_weights(H, H_0, S, x, x_0, v, transfer_A, force)\n",
        "plot_transfer_learned_and_analytical(H, W_out_new, x, v, transfer_A, force, num_equations, true_funct)"
      ],
      "metadata": {
        "colab": {
          "base_uri": "https://localhost:8080/",
          "height": 384
        },
        "id": "XYaEgBUVoNrP",
        "outputId": "0e29435f-d93a-4713-96db-1c7170968afd"
      },
      "id": "XYaEgBUVoNrP",
      "execution_count": null,
      "outputs": [
        {
          "output_type": "stream",
          "name": "stdout",
          "text": [
            "torch.Size([512, 1, 1])\n",
            "torch.Size([512, 1, 257])\n",
            "torch.Size([512, 257, 1])\n",
            "torch.Size([257, 1])\n",
            "0.1258672\n"
          ]
        },
        {
          "output_type": "display_data",
          "data": {
            "text/plain": [
              "<Figure size 432x288 with 1 Axes>"
            ],
            "image/png": "[encoded data removed]"
          },
          "metadata": {
            "needs_background": "light"
          }
        }
      ]
    },
    {
      "cell_type": "markdown",
      "id": "439e91c1",
      "metadata": {
        "id": "439e91c1"
      },
      "source": [
        "### Step 4d: Perform One-Shot Transfer Learning (use a new diff eq. and an unseen initial condition)"
      ]
    },
    {
      "cell_type": "code",
      "execution_count": null,
      "id": "a0f2cea9",
      "metadata": {
        "id": "a0f2cea9",
        "outputId": "9c38b304-01af-4c25-fa63-66aeb01797e9",
        "colab": {
          "base_uri": "https://localhost:8080/",
          "height": 384
        }
      },
      "outputs": [
        {
          "output_type": "stream",
          "name": "stdout",
          "text": [
            "torch.Size([512, 1, 1])\n",
            "torch.Size([512, 1, 257])\n",
            "torch.Size([512, 257, 1])\n",
            "torch.Size([257, 1])\n",
            "0.10197416\n"
          ]
        },
        {
          "output_type": "display_data",
          "data": {
            "text/plain": [
              "<Figure size 432x288 with 1 Axes>"
            ],
            "image/png": "[encoded data removed]"
          },
          "metadata": {
            "needs_background": "light"
          }
        }
      ],
      "source": [
        "# use both a new A and a new intital condition\n",
        "transfer_A_new = torch.tensor([[-0.5]], device=dev)\n",
        "v_transfer_new = lambda x: torch.tanh(x[:, 0:1])\n",
        "\n",
        "# compute and plot the transfer learned solution\n",
        "M_inv_new, W_out_new, force_terms_new = analytically_compute_weights(H, H_0, S, x, x_0, v_transfer_new, transfer_A_new, force)\n",
        "plot_transfer_learned_and_analytical(H, W_out_new, x, v_transfer_new, transfer_A_new, force, num_equations, true_funct)"
      ]
    },
    {
      "cell_type": "markdown",
      "source": [
        "# CODE BELOW HERE IS NOT ADAPTED FOR PDEs yet..."
      ],
      "metadata": {
        "id": "KJvNH2M2b1_2"
      },
      "id": "KJvNH2M2b1_2"
    },
    {
      "cell_type": "markdown",
      "id": "057c68c7",
      "metadata": {
        "id": "057c68c7"
      },
      "source": [
        "# Appendix"
      ]
    },
    {
      "cell_type": "code",
      "execution_count": null,
      "id": "b82e6140",
      "metadata": {
        "id": "b82e6140",
        "outputId": "b158148e-d0ab-45ce-961c-52803de38d82",
        "colab": {
          "base_uri": "https://localhost:8080/",
          "height": 331
        }
      },
      "outputs": [
        {
          "output_type": "stream",
          "name": "stdout",
          "text": [
            "Mean of residuals: 0.0007473001023754478\n",
            "Initial Condition Residual: 1.7308775568380952e-07\n"
          ]
        },
        {
          "output_type": "display_data",
          "data": {
            "text/plain": [
              "<Figure size 432x288 with 1 Axes>"
            ],
            "image/png": "[encoded data removed]"
          },
          "metadata": {
            "needs_background": "light"
          }
        }
      ],
      "source": [
        "# compute the residuals to determine effectiveness of transfer learning when changing initial condition\n",
        "residuals = ((torch.matmul(dH_dt_new, W_out_transfer) + torch.matmul(A, torch.matmul(H, W_out_transfer)) - torch.stack([force] * len(t_eval))).squeeze()) ** 2\n",
        "residuals = residuals.reshape(-1, 1).detach().cpu().numpy()\n",
        "\n",
        "print(f\"Mean of residuals: {residuals.mean()}\")\n",
        "initial_cond_residuals = ((torch.matmul(H_0, W_out_transfer) - v_transfer) ** 2).mean()\n",
        "print(f\"Initial Condition Residual: {initial_cond_residuals.item()}\")\n",
        "\n",
        "# plot the residuals\n",
        "plt.plot(residuals);\n",
        "plt.xlabel(\"t\")\n",
        "plt.ylabel(\"Residual\")\n",
        "plt.title(\"Plot of Residuals\");"
      ]
    },
    {
      "cell_type": "code",
      "execution_count": null,
      "id": "710b878a",
      "metadata": {
        "id": "710b878a",
        "outputId": "25faa96a-7747-447a-8ffa-24e7b5069fa6",
        "colab": {
          "base_uri": "https://localhost:8080/",
          "height": 283
        }
      },
      "outputs": [
        {
          "output_type": "execute_result",
          "data": {
            "text/plain": [
              "[<matplotlib.lines.Line2D at 0x7f9748619390>]"
            ]
          },
          "metadata": {},
          "execution_count": 40
        },
        {
          "output_type": "display_data",
          "data": {
            "text/plain": [
              "<Figure size 432x288 with 1 Axes>"
            ],
            "image/png": "[encoded data removed]"
          },
          "metadata": {
            "needs_background": "light"
          }
        }
      ],
      "source": [
        "plt.plot(t_eval.detach().cpu().numpy(), residuals[0:500])"
      ]
    },
    {
      "cell_type": "code",
      "execution_count": null,
      "id": "c002eee1",
      "metadata": {
        "id": "c002eee1",
        "outputId": "451fdafc-dc84-46b3-92b4-54882758553b",
        "colab": {
          "base_uri": "https://localhost:8080/",
          "height": 283
        }
      },
      "outputs": [
        {
          "output_type": "execute_result",
          "data": {
            "text/plain": [
              "[<matplotlib.lines.Line2D at 0x7f974847fd90>]"
            ]
          },
          "metadata": {},
          "execution_count": 41
        },
        {
          "output_type": "display_data",
          "data": {
            "text/plain": [
              "<Figure size 432x288 with 1 Axes>"
            ],
            "image/png": "[encoded data removed]"
          },
          "metadata": {
            "needs_background": "light"
          }
        }
      ],
      "source": [
        "plt.plot(t_eval.detach().cpu().numpy(), residuals[500:])"
      ]
    },
    {
      "cell_type": "code",
      "execution_count": null,
      "id": "3580a5d5",
      "metadata": {
        "id": "3580a5d5",
        "outputId": "9bf11d21-8b5a-4ca9-95a4-d264d92661e9",
        "colab": {
          "base_uri": "https://localhost:8080/"
        }
      },
      "outputs": [
        {
          "output_type": "stream",
          "name": "stdout",
          "text": [
            "Total Time to evaluate w_out for 10000 different initial conditions:  0.55 seconds\n"
          ]
        }
      ],
      "source": [
        "# time One-Shot Transfer Learning\n",
        "\n",
        "start_one_shot_time = time.time()\n",
        "\n",
        "# compute weights for 10000 different initial conditions\n",
        "for i in range(10000): \n",
        "    random_u_0 = torch.rand((num_equations, 1), device=dev)\n",
        "    w_out = torch.matmul(M_inv, force_terms + torch.matmul(H_0.T, random_u_0))\n",
        "    \n",
        "end_one_shot_time = time.time() \n",
        "total_one_shot = end_one_shot_time - start_one_shot_time\n",
        "print(f\"Total Time to evaluate w_out for 10000 different initial conditions: {total_one_shot: .2f} seconds\")"
      ]
    },
    {
      "cell_type": "code",
      "execution_count": null,
      "id": "5c2e9caf",
      "metadata": {
        "id": "5c2e9caf"
      },
      "outputs": [],
      "source": [
        "# QUESTIONS:\n",
        "\n",
        "# Note: \n",
        "    # TODO: once list is created temp = [xx1, xx2, xx3..] pass into np.concatenate() like np.cat(*temp) to unpack so length of number of arguments can vary\n",
        "\n",
        "########################################################################################################################\n",
        "\n",
        "# TODOS:\n",
        "\n",
        "\n",
        "# ONCE 2 EQUATION EXAMPLE WORKS, MAKE SURE ONE EQUATION EXAMPLE FROM BEFORE STILL WORKS... (with sin(x) boundary condition)\n",
        "\n",
        "# 1. Create notes entry for Pavlos's PDE notes...\n",
        "\n",
        "# 2. comment + add dostrings for all ODE and PDE code\n",
        "\n",
        "# 3. create a config file for all the configuration info for both ODE and PDE\n",
        "\n",
        "# 4. for ODE code, implement + train an example with a forcing function (f) that is not constant (functino of t)\n",
        "     # and try transfer learning this way\n",
        "\n",
        "# 5. for ODE code, implement A matrix that is a function of t and do transfer learning with it...\n",
        "\n",
        "# 6. make transfer learning plot 3D for PDE code \n",
        "\n",
        "# 7. save 109a lecture slide from last semester\n",
        "\n",
        "########################################################################################################################\n",
        "\n",
        "# COMPLETED:\n"
      ]
    },
    {
      "cell_type": "code",
      "source": [
        "# rng = np.random.default_rng()\n",
        "# # every batch, randomly sample inputs from min and max range\n",
        "# data = torch.arange(0, 2, 0.001, requires_grad=True, device=dev)\n",
        "\n",
        "# x1 = data[rng.choice(range(0, len(data)), size=3, replace=False)] # TODO: change size back to 512\n",
        "# x1, _ = x1.reshape(-1, 1).sort(dim=0)\n",
        "# x2 = data[rng.choice(range(0, len(data)), size=3, replace=False)] # TODO: change size back to 512\n",
        "# x2, _ = x2.reshape(-1, 1).sort(dim=0)\n",
        "# x = torch.cat([x1, x2], dim=1)\n",
        "# print(x)\n",
        "# print(x.shape)\n",
        "# print(\"result: \")\n",
        "# print(true_single_pde_eq(x, A_single_eq_pde[0], v_list_one_eq_pde[0]))"
      ],
      "metadata": {
        "id": "egrYhyO_rA1E"
      },
      "id": "egrYhyO_rA1E",
      "execution_count": null,
      "outputs": []
    }
  ],
  "metadata": {
    "kernelspec": {
      "display_name": "Python 3",
      "language": "python",
      "name": "python3"
    },
    "language_info": {
      "codemirror_mode": {
        "name": "ipython",
        "version": 3
      },
      "file_extension": ".py",
      "mimetype": "text/x-python",
      "name": "python",
      "nbconvert_exporter": "python",
      "pygments_lexer": "ipython3",
      "version": "3.7.13"
    },
    "colab": {
      "provenance": []
    },
    "accelerator": "GPU",
    "gpuClass": "standard"
  },
  "nbformat": 4,
  "nbformat_minor": 5
}