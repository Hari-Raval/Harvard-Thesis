{
 "cells": [
  {
   "cell_type": "code",
   "execution_count": 1,
   "id": "91f732e6",
   "metadata": {},
   "outputs": [
    {
     "name": "stderr",
     "output_type": "stream",
     "text": [
      "/Users/HariRaval/miniconda3/envs/thesis/lib/python3.7/site-packages/tqdm/auto.py:22: TqdmWarning: IProgress not found. Please update jupyter and ipywidgets. See https://ipywidgets.readthedocs.io/en/stable/user_install.html\n",
      "  from .autonotebook import tqdm as notebook_tqdm\n"
     ]
    }
   ],
   "source": [
    "# imports\n",
    "import torch\n",
    "import torch.nn as nn\n",
    "import matplotlib.pyplot as plt\n",
    "import numpy as np\n",
    "import time\n",
    "from collections import defaultdict"
   ]
  },
  {
   "cell_type": "markdown",
   "id": "ea60f378",
   "metadata": {},
   "source": [
    "# Compute Loss Function"
   ]
  },
  {
   "cell_type": "code",
   "execution_count": 2,
   "id": "f871b7f9",
   "metadata": {},
   "outputs": [],
   "source": [
    "# calculate du^n / dt^n for arbitrary n and use this to form loss\n",
    "def compute_derivative(u, t, norm_term, num_u_vectors):\n",
    "    \n",
    "    # compute derivative of outputs with respect to inputs \n",
    "    derivs_list = []\n",
    "    for i in range(num_u_vectors):\n",
    "        # individually compute du/dt for each u and combine them all together afterwards\n",
    "        du_dt = torch.autograd.grad(u[:, i, :], t, grad_outputs=torch.ones_like(u[:, i, :]), create_graph=True)[0]\n",
    "        derivs_list.append(du_dt)\n",
    "\n",
    "    deriv_to_t = torch.stack(derivs_list, dim=1) \n",
    "    \n",
    "    return deriv_to_t\n",
    "\n",
    "# build the loss function\n",
    "def loss(x, A, v_list, model):\n",
    "    \n",
    "    # dictionary to store loss results for plotting\n",
    "    loss_dict = {} \n",
    "    # current loss\n",
    "    L = 0\n",
    "    \n",
    "    # create the trial solution\n",
    "    model_result = lambda t: model(t)[0]\n",
    "    u_results = model_result(x)\n",
    "    \n",
    "    # determine the number of u vectors\n",
    "    num_u_vectors = u_results['head 1'].shape[1]\n",
    "    \n",
    "    # loss will be the sum of the terms from the \"multi-head\" model, hence we iterate over each head's outputs\n",
    "    for i, head_i in enumerate(u_results.keys()):\n",
    "        # extract the u for the current \"head\", corresponding to one of the initial conditions\n",
    "        u = u_results[head_i].unsqueeze(dim=-1)    \n",
    "    \n",
    "        # compute A * u\n",
    "        A_times_u = torch.matmul(A, u)\n",
    "    \n",
    "        # compute du/dt (Note: each u is computed separately to avoid torch.autograd.grad() summing them together)\n",
    "        du_dt = compute_derivative(u, x, 0, num_u_vectors)\n",
    "\n",
    "        # compute the L_T term\n",
    "        L_t_term = du_dt + A_times_u\n",
    "        L_t = torch.matmul(L_t_term.mT, L_t_term)\n",
    "\n",
    "        # compute the L_0 term\n",
    "        u_0 = model_result(torch.tensor([[0]], dtype=torch.float32))[head_i][0].unsqueeze(dim=-1)\n",
    "        L_0_term = u_0 - v_list[i]\n",
    "        L_0 = torch.matmul(L_0_term.T, L_0_term)\n",
    "    \n",
    "        # compute the overall loss \n",
    "        L += (torch.mean(L_t) + L_0)\n",
    "    \n",
    "    # normalize loss and use it to compute the normalization factor\n",
    "    # norm_term1, norm_term2 = 1 / As[0] ** 2, 1 / As[1] ** 2 ---> these are now 1 / v[0] **2 (I.C.)\n",
    "    \n",
    "    loss_dict['L_D'] = L\n",
    "    loss_dict['L_total'] = L\n",
    "\n",
    "    return loss_dict"
   ]
  },
  {
   "cell_type": "markdown",
   "id": "5ff8d6af",
   "metadata": {},
   "source": [
    "# Build Network"
   ]
  },
  {
   "cell_type": "code",
   "execution_count": 3,
   "id": "2a1adb98",
   "metadata": {},
   "outputs": [],
   "source": [
    "# class to build the network \n",
    "class BuildNetwork(nn.Module):\n",
    "    def __init__(self, input_size, h_size1, h_size2, h_size3, output_size, n_heads):\n",
    "        super(BuildNetwork, self).__init__()\n",
    "        # store the number of \"heads\" to use in the model\n",
    "        self.n_heads = n_heads\n",
    "        \n",
    "        # build the layers to use for the forward pass\n",
    "        self.l1 = nn.Linear(input_size, h_size1)\n",
    "        self.tanh = nn.Tanh()\n",
    "        self.l2 = nn.Linear(h_size1, h_size2)\n",
    "        self.l3 = nn.Linear(h_size2, h_size3)\n",
    "        \n",
    "        # build n_heads output layers, each corresponding to different conditions during training\n",
    "        self.multi_head_output= nn.ModuleList([nn.Linear(h_size3, output_size)])\n",
    "        self.multi_head_output.extend([nn.Linear(h_size3, output_size) for i in range(n_heads-1)])\n",
    "         \n",
    "    def forward(self, x):\n",
    "        # dictionary to store the output for each \"head\" in the model\n",
    "        u_results = {}\n",
    "        \n",
    "        # all \"heads\" have the same pass through the hidden laers\n",
    "        result = self.l1(x)\n",
    "        result = self.tanh(result)\n",
    "        result = self.l2(result)\n",
    "        result = self.tanh(result)\n",
    "        result = self.l3(result)\n",
    "        h = self.tanh(result)\n",
    "        \n",
    "        # apply the corresponding output layer to each \"head\"\n",
    "        for i in range(self.n_heads):\n",
    "            result_i = self.multi_head_output[i](h)\n",
    "            u_results[f\"head {i + 1}\"] = result_i\n",
    "            \n",
    "        return u_results, h"
   ]
  },
  {
   "cell_type": "markdown",
   "id": "9add8fa9",
   "metadata": {},
   "source": [
    "# Train Model"
   ]
  },
  {
   "cell_type": "code",
   "execution_count": 4,
   "id": "08b54931",
   "metadata": {},
   "outputs": [],
   "source": [
    "# train and evaluate the model\n",
    "def run_model(iterations, x_range, A, v_list, hid_lay, num_equations, num_heads, true_functs, head_to_track):\n",
    "        \n",
    "    assert num_equations > 0, 'num_equations must be >= 1'\n",
    "    assert len(true_functs) == num_equations, 'num_equations must equal the length of true_functs'\n",
    "    assert len(v_list) == num_heads, 'num_heads must equal the length of v_list'\n",
    "    \n",
    "    # build the neural net model\n",
    "    model = BuildNetwork(1, hid_lay[0], hid_lay[1], hid_lay[2], num_equations, num_heads)\n",
    "    # set-up the optimizer\n",
    "    optimizer = torch.optim.SGD(model.parameters(), lr=0.001, momentum=0.9)\n",
    "    # create a learning rate scheduler\n",
    "    scheduler = torch.optim.lr_scheduler.ExponentialLR(optimizer, gamma=0.99)\n",
    "    \n",
    "    # extract the min and max range of x values to sample\n",
    "    min_x, max_x = x_range\n",
    "    \n",
    "    # index of the head being tracked for MSE\n",
    "    head_idx = int(head_to_track.split()[-1]) - 1\n",
    "    \n",
    "    # create a random number generator for loss computation\n",
    "    rng = np.random.default_rng()\n",
    "    \n",
    "    # store loss and mse values\n",
    "    loss_history = defaultdict(list)\n",
    "    MSEs = []\n",
    "    \n",
    "    start_time = time.time()\n",
    "    \n",
    "    # training loop\n",
    "    for i in range(iterations):\n",
    "        \n",
    "        if i % 1000 == 0:\n",
    "            print(f\"Running Iteration {i + 1}\")\n",
    "        \n",
    "        # every batch, randomly sample from min and max range\n",
    "        x = torch.arange(min_x, max_x, 0.001, requires_grad=True)\n",
    "        x = x[rng.integers(low=0, high=len(x), size=3)]\n",
    "        x = x.reshape(-1, 1)\n",
    "\n",
    "        # forward: compute loss\n",
    "        curr_loss = loss(x, A, v_list, model)\n",
    "        \n",
    "        # store individual loss terms for plotting\n",
    "        loss_history['LD_losses'].append(curr_loss['L_D'].item())\n",
    "        loss_history['Ltotal_losses'].append(curr_loss['L_total'].item())\n",
    "            \n",
    "        # backward: backpropagation\n",
    "        curr_loss['L_total'].backward()\n",
    "        \n",
    "        # update weights and reset the gradients\n",
    "        optimizer.step() \n",
    "        optimizer.zero_grad() \n",
    "        \n",
    "        # learning rate update\n",
    "        # scheduler.step()\n",
    "        \n",
    "        # compute the mse for the head that is being monitored ('head_to_track')\n",
    "        with torch.no_grad():\n",
    "            current_mse = 0\n",
    "            for j in range(num_equations):\n",
    "                network_sol_j = model(x)[0][head_to_track][:, j].unsqueeze(dim=1).numpy()\n",
    "                true_sol_j = true_functs[j](x, v_list[head_idx])\n",
    "                current_mse += np.mean((true_sol_j - network_sol_j) ** 2)\n",
    "            MSEs.append(current_mse)\n",
    "               \n",
    "    end_time = time.time()\n",
    "    total_time = end_time - start_time\n",
    "    print(f\"Model Training Complete in{total_time: .3f} seconds\")\n",
    "    \n",
    "    return loss_history, model, total_time, MSEs"
   ]
  },
  {
   "cell_type": "markdown",
   "id": "f653d9cd",
   "metadata": {},
   "source": [
    "# Plot Solution, Loss, and MSE Information"
   ]
  },
  {
   "cell_type": "code",
   "execution_count": 5,
   "id": "e9c934eb",
   "metadata": {},
   "outputs": [],
   "source": [
    "# function to plot the neural network vs exact solution\n",
    "def plot_solution(x_range, true_functs, trained_model, v_list, axis, head_to_track):\n",
    "    \n",
    "    # function to extract the model results\n",
    "    model_result = lambda t: trained_model(t)[0]\n",
    "    \n",
    "    # x values to predict on\n",
    "    min_x, max_x = x_range\n",
    "    xx = np.linspace(min_x, max_x, 200)[:, None]\n",
    "\n",
    "    # find the model results\n",
    "    u = model_result(torch.Tensor(xx))[head_to_track] \n",
    "    # determine the number of curves to plot\n",
    "    num_curves = u.shape[1]\n",
    "    # store the true solutions and network solutions\n",
    "    yys, yts = [], []\n",
    "\n",
    "    # save the network solutions in a list for plotting \n",
    "    with torch.no_grad():\n",
    "        head_idx = int(head_to_track.split()[-1]) - 1\n",
    "        for i in range(num_curves):\n",
    "            yys.append(u[:, i].numpy())\n",
    "            yts.append(true_functs[i](xx, v_list[head_idx]))\n",
    "    \n",
    "    # plot the true solutions\n",
    "    for i in range(num_curves):\n",
    "         axis.plot(xx, yts[i], label=f'Actual Solution $u_{i+1}(t)$')\n",
    "     \n",
    "    # plot the network solutions\n",
    "    for i in range(num_curves):\n",
    "        axis.plot(xx, yys[i], '--', label=f'Network Solution $u_{i+1}(t)$ ({head_to_track})')\n",
    "            \n",
    "    axis.set_title(\"u(t) vs t for Actual and Approximation Solutions\")\n",
    "    axis.set_xlabel('$t$')\n",
    "    axis.set_ylabel('$u(t)$')\n",
    "    axis.legend(loc='best')\n",
    "    \n",
    "# function to plot the overall loss of the network solution\n",
    "def plot_total_loss(iterations, train_losses, axis, loss_label):\n",
    "    axis.plot(range(iterations), train_losses, label=loss_label)\n",
    "    axis.set_yscale(\"log\")\n",
    "    axis.set_title(\"Total Loss vs Iterations\")\n",
    "    axis.set_xlabel('Iterations')\n",
    "    axis.set_ylabel('Loss')\n",
    "    axis.legend(loc='best')\n",
    "    \n",
    "# function to plot the MSEs\n",
    "def plot_mse(iterations, mses, axis, head_to_track):\n",
    "    axis.plot(range(iterations), mses, label=f'MSE ({head_to_track})')\n",
    "    axis.set_yscale(\"log\")\n",
    "    axis.set_title(\"MSE vs Iterations\")\n",
    "    axis.set_xlabel('Iterations')\n",
    "    axis.set_ylabel('MSE')\n",
    "    axis.legend(loc='best')\n",
    "    \n",
    "# wrapper function to plot the solution and the overall loss & MSE of the network solution\n",
    "def plot_loss_mse_and_solution(x_range, true_functs, iterations, trained_model, v_list, \n",
    "                               train_losses, loss_label, mses, head_to_track):\n",
    "    \n",
    "    fig, axs = plt.subplots(1, 3,  tight_layout=True, figsize=(24, 8))\n",
    "    \n",
    "    plot_total_loss(iterations=iterations, train_losses=train_losses, \n",
    "                    axis=axs[0], loss_label=loss_label)\n",
    "    \n",
    "    plot_solution(x_range=x_range, true_functs=true_functs, \n",
    "                  trained_model=trained_model, v_list=v_list,\n",
    "                  axis=axs[1], head_to_track=head_to_track)\n",
    "    \n",
    "    plot_mse(iterations=iterations, mses=mses, axis=axs[2], \n",
    "             head_to_track=head_to_track)\n",
    "    \n",
    "    plt.show()"
   ]
  },
  {
   "cell_type": "markdown",
   "id": "02765014",
   "metadata": {},
   "source": [
    "# Choose Network Parameters and Set-up Differential Equations"
   ]
  },
  {
   "cell_type": "code",
   "execution_count": 19,
   "id": "9c7b6ee7",
   "metadata": {},
   "outputs": [],
   "source": [
    "# set-up network training parameters\n",
    "x_range = [0, 2]\n",
    "hid_lay = [128, 128, 128]\n",
    "num_equations, iterations = 2, 40000\n",
    "\n",
    "# set-up differential equation parameters for network\n",
    "v_list = [torch.tensor([[0.12], [0.35]]), torch.tensor([[0.87], [0.62]]), \n",
    "          torch.tensor([[0.34], [0.69]]), torch.tensor([[0.75], [0.25]])]\n",
    "# v_list = [torch.tensor([[0.12]]), torch.tensor([[0.87]]), \n",
    "#           torch.tensor([[0.34]]), torch.tensor([[0.75]])]\n",
    "\n",
    "# set up A matrix for various differential equations\n",
    "A_single_eq = torch.tensor([[1.05]])\n",
    "A_non_coupled_2_eq_easy = torch.tensor([[1.1, 0], [0, 1.1]])\n",
    "A_non_coupled_2_eq_hard = torch.tensor([[1.1, 0], [0, 3]])\n",
    "A_coupled_2_eq_easy = torch.tensor([[0, 1.1], [1.1, 0]])\n",
    "A_coupled_2_eq_hard = torch.tensor([[0, 1.1], [1.5, 0]])\n",
    "\n",
    "\n",
    "# analytical solutions for various differential equations\n",
    "true_single_eq = [lambda x, v: (v[0] * np.exp(-1.05 * x)).numpy()]\n",
    "true_non_coupled_2_eq_easy = [lambda x, v: (v[0] * np.exp(-1.1 * x)).numpy(), \n",
    "                              lambda x, v: (v[1] * np.exp(-1.1 * x)).numpy()]\n",
    "true_non_coupled_2_eq_hard = [lambda x, v: (v[0] * np.exp(-1.1 * x)).numpy(), \n",
    "                              lambda x, v: (v[1] * np.exp(-3 * x)).numpy()]\n",
    "true_coupled_2_eq_easy = [lambda x, v: (0.5 * v[0] * np.exp(-1.1 * x) * (np.exp(2.2 * x) + 1) - (0.5 * v[1] * np.exp(-1.1 * x) * (np.exp(2.2 * x) - 1))).numpy(),\n",
    "                         lambda x, v: (0.5 * v[1] * np.exp(-1.1 * x) * (np.exp(2.2 * x) + 1) - (0.5 * v[0] * np.exp(-1.1 * x) * (np.exp(2.2 * x) - 1))).numpy()]\n",
    "true_coupled_2_eq_hard = [lambda x, v: (0.5 * v[0] * np.exp(-1.28452 * x) * (np.exp(2.56905 * x) + 1) - (0.428174 * v[1] * np.exp(-1.28452 * x) * (np.exp(2.56905 * x) - 1))).numpy(),\n",
    "                          lambda x, v: (0.5 * v[1] * np.exp(-1.28452 * x) * (np.exp(2.56905 * x) + 1) - (0.583874 * v[0] * np.exp(-1.28452 * x) * (np.exp(2.56905 * x) - 1))).numpy()]\n"
   ]
  },
  {
   "cell_type": "code",
   "execution_count": 20,
   "id": "cb268155",
   "metadata": {},
   "outputs": [],
   "source": [
    "A = A_coupled_2_eq_easy\n",
    "true_funct = true_coupled_2_eq_easy\n",
    "num_heads = 4\n",
    "head_to_track = 'head 2'"
   ]
  },
  {
   "cell_type": "markdown",
   "id": "bb3d70e7",
   "metadata": {},
   "source": [
    "# Run Models"
   ]
  },
  {
   "cell_type": "code",
   "execution_count": null,
   "id": "d9c46b71",
   "metadata": {},
   "outputs": [
    {
     "name": "stdout",
     "output_type": "stream",
     "text": [
      "Running Iteration 1\n",
      "Running Iteration 1001\n",
      "Running Iteration 2001\n",
      "Running Iteration 3001\n",
      "Running Iteration 4001\n",
      "Running Iteration 5001\n",
      "Running Iteration 6001\n",
      "Running Iteration 7001\n",
      "Running Iteration 8001\n",
      "Running Iteration 9001\n",
      "Running Iteration 10001\n",
      "Running Iteration 11001\n",
      "Running Iteration 12001\n",
      "Running Iteration 13001\n",
      "Running Iteration 14001\n",
      "Running Iteration 15001\n",
      "Running Iteration 16001\n",
      "Running Iteration 17001\n",
      "Running Iteration 18001\n",
      "Running Iteration 19001\n",
      "Running Iteration 20001\n",
      "Running Iteration 21001\n",
      "Running Iteration 22001\n",
      "Running Iteration 23001\n",
      "Running Iteration 24001\n",
      "Running Iteration 25001\n",
      "Running Iteration 26001\n",
      "Running Iteration 27001\n",
      "Running Iteration 28001\n"
     ]
    }
   ],
   "source": [
    "# run model which has two non-coupled equations\n",
    "loss_hist, trained_model, model_time, MSE_hist = run_model(iterations=iterations, x_range=x_range, \n",
    "                                                           A=A, v_list=v_list, hid_lay=hid_lay,\n",
    "                                                           num_equations=num_equations, num_heads=num_heads,\n",
    "                                                           true_functs=true_funct,\n",
    "                                                           head_to_track=head_to_track)\n",
    "\n",
    "# plot the total loss, network vs true solution and MSE for two non-coupled equations\n",
    "plot_loss_mse_and_solution(x_range=x_range, true_functs=true_funct, iterations=iterations, \n",
    "                           trained_model=trained_model, v_list=v_list,\n",
    "                           train_losses=loss_hist['Ltotal_losses'], \n",
    "                           loss_label='Total Loss ($L_D$)', mses=MSE_hist, \n",
    "                           head_to_track=head_to_track)"
   ]
  },
  {
   "cell_type": "markdown",
   "id": "259e919b",
   "metadata": {},
   "source": [
    "# Perform Transfer Learning"
   ]
  },
  {
   "cell_type": "code",
   "execution_count": 9,
   "id": "4cd9b234",
   "metadata": {},
   "outputs": [],
   "source": [
    "# generate a set of times to evaluate with\n",
    "rng = np.random.default_rng()\n",
    "t_eval = torch.arange(0, 2, 0.001, requires_grad=True)\n",
    "t_eval = t_eval[rng.integers(low=0, high=2000, size=500)]\n",
    "t_eval = t_eval.reshape(-1, 1)\n",
    "\n",
    "# pick an initial condition\n",
    "v = v_list[-1]\n",
    "\n",
    "# forward pass with t_eval to extract H \n",
    "output, H = trained_model(t_eval) \n",
    "# reshape \"H\" to 2 x d \n",
    "H = H.reshape(-1, num_equations, hid_lay[-1] // num_equations)\n",
    "H = torch.cat((torch.ones(len(t_eval), num_equations, 1), H), 2)"
   ]
  },
  {
   "cell_type": "code",
   "execution_count": 10,
   "id": "0f82e9ee",
   "metadata": {},
   "outputs": [],
   "source": [
    "# compute dH_dt (note: time intensive due to large jacobian calculation)\n",
    "trained_model_H_only = lambda x: trained_model(x)[1]\n",
    "dH_dt = torch.autograd.functional.jacobian(trained_model_H_only, t_eval, create_graph=True).sum(axis=2)\n",
    "dH_dt_new = dH_dt.reshape(-1, num_equations, hid_lay[-1] // num_equations)\n",
    "dH_dt_new = torch.cat((torch.zeros(len(t_eval), num_equations, 1), dH_dt_new), 2)"
   ]
  },
  {
   "cell_type": "code",
   "execution_count": 16,
   "id": "07c4d150",
   "metadata": {},
   "outputs": [
    {
     "name": "stdout",
     "output_type": "stream",
     "text": [
      "torch.Size([500, 2, 65])\n",
      "torch.Size([500, 128, 1])\n",
      "torch.Size([500, 2, 65])\n"
     ]
    }
   ],
   "source": [
    "print(H.shape)\n",
    "print(dH_dt.shape)\n",
    "print(dH_dt_new.shape)"
   ]
  },
  {
   "cell_type": "code",
   "execution_count": 11,
   "id": "601aa334",
   "metadata": {},
   "outputs": [
    {
     "name": "stdout",
     "output_type": "stream",
     "text": [
      "W_out shape:  torch.Size([65, 1])\n"
     ]
    }
   ],
   "source": [
    "# compute dH_dt * dH_dt.T\n",
    "dH_dt_times_dH_dt_T = torch.matmul(dH_dt_new.mT, dH_dt_new)\n",
    "\n",
    "# compute dH_dt * A * H\n",
    "dH_dt_times_A_times_H = torch.matmul(torch.matmul(dH_dt_new.mT, A), H)\n",
    "\n",
    "# compute H * A.T * dH_dt\n",
    "H_times_A_T_times_dH_dt = torch.matmul(torch.matmul(H.mT, A.T), dH_dt_new)\n",
    "\n",
    "# compute H.T * A.T * A * H\n",
    "H_T_times_A_T_times_A_times_H = torch.matmul(torch.matmul(torch.matmul(H.mT, A.T), A), H)\n",
    "\n",
    "# compute the \"summation portion\" of the M matrix \n",
    "M_sum_terms = dH_dt_times_dH_dt_T + dH_dt_times_A_times_H + H_times_A_T_times_dH_dt + H_T_times_A_T_times_A_times_H\n",
    "M_sum_terms = M_sum_terms.sum(axis=0)\n",
    "M_sum_terms = M_sum_terms / len(t_eval)\n",
    "\n",
    "# evalute model at t = 0\n",
    "output_0, H_0 = trained_model(torch.tensor([[0.]], dtype=torch.float32, requires_grad=True))\n",
    "# reshape \"H\" to 2 x d \n",
    "H_0 = H_0.reshape(-1, num_equations, hid_lay[-1] // num_equations)\n",
    "H_0 = torch.cat((torch.ones(1, num_equations, 1), H_0), 2).squeeze()\n",
    "\n",
    "H_0 = H_0.unsqueeze(dim=0) if num_equations == 1 else H_0\n",
    "\n",
    "# compute H_0.T * H_0\n",
    "H_0_T_times_H_0 = torch.matmul(H_0.mT, H_0) # originally: H_0_T_times_H_0 = torch.matmul(H_0.mT, H_0)\n",
    "\n",
    "# compute the \"M\" matrix and invert it\n",
    "M = M_sum_terms + H_0_T_times_H_0\n",
    "M_inv = torch.linalg.pinv(M)\n",
    "\n",
    "# compute the output weights by W_out = M ^ -1 * H_0 * u_0\n",
    "W_out = torch.matmul(torch.matmul(M_inv, H_0.T), v)\n",
    "print(\"W_out shape: \", W_out.shape)"
   ]
  },
  {
   "cell_type": "markdown",
   "id": "af8b523b",
   "metadata": {},
   "source": [
    "# Plot Transfer Learned Solution"
   ]
  },
  {
   "cell_type": "code",
   "execution_count": 12,
   "id": "37d6024e",
   "metadata": {},
   "outputs": [
    {
     "data": {
      "image/png": "[encoded data removed]",
      "text/plain": [
       "<Figure size 432x288 with 1 Axes>"
      ]
     },
     "metadata": {
      "needs_background": "light"
     },
     "output_type": "display_data"
    }
   ],
   "source": [
    "# compute the transfer learned solution\n",
    "u_transfer = torch.matmul(H, W_out).squeeze()\n",
    "\n",
    "# plot analytical and transfer learned solution\n",
    "plt.scatter(t_eval.detach().numpy(), true_funct[0](t_eval.detach().numpy(), v), label= 'True $U_1$');\n",
    "plt.scatter(t_eval.detach().numpy(), u_transfer[:, 0].detach().numpy(), label='Transfer Learned $U_1$', s=3);\n",
    "plt.scatter(t_eval.detach().numpy(), true_funct[1](t_eval.detach().numpy(), v), label= 'True $U_2$');\n",
    "plt.scatter(t_eval.detach().numpy(), u_transfer[:, 1].detach().numpy(), label='Transfer Learned $U_2$', s=3);\n",
    "plt.xlabel(\"t\")\n",
    "plt.ylabel(\"$u(t)$\")\n",
    "plt.title(\"Transfer Learned vs Analytical Solution\")\n",
    "plt.legend();"
   ]
  },
  {
   "cell_type": "markdown",
   "id": "140e8cbd",
   "metadata": {},
   "source": [
    "# Change Initial Conditions and Do One-Shot Transfer Learning"
   ]
  },
  {
   "cell_type": "code",
   "execution_count": 13,
   "id": "41610052",
   "metadata": {},
   "outputs": [
    {
     "data": {
      "image/png": "[encoded data removed]",
      "text/plain": [
       "<Figure size 432x288 with 1 Axes>"
      ]
     },
     "metadata": {
      "needs_background": "light"
     },
     "output_type": "display_data"
    }
   ],
   "source": [
    "# v_transfer = torch.tensor([[-2.86], [20.05]])\n",
    "v_transfer = torch.tensor([[1.75], [2.05]])\n",
    "\n",
    "W_out_transfer = torch.matmul(torch.matmul(M_inv, H_0.T), v_transfer)\n",
    "u_transfer_initial_change = torch.matmul(H, W_out_transfer).squeeze()\n",
    "\n",
    "plt.scatter(t_eval.detach().numpy(), true_funct[0](t_eval.detach().numpy(), v_transfer), label='True $U_1$');\n",
    "plt.scatter(t_eval.detach().numpy(), u_transfer_initial_change[:, 0].detach().numpy(), label='Transfer Learned $U_1$', s=3);\n",
    "plt.scatter(t_eval.detach().numpy(), true_funct[1](t_eval.detach().numpy(), v_transfer), label='True $U_2$');\n",
    "plt.scatter(t_eval.detach().numpy(), u_transfer_initial_change[:, 1].detach().numpy(), label='Transfer Learned $U_2$', s=3);\n",
    "plt.xlabel(\"t\")\n",
    "plt.ylabel(\"$u(t)$\")\n",
    "plt.title(\"Transfer Learned vs Analytical Solution\")\n",
    "plt.legend();"
   ]
  },
  {
   "cell_type": "code",
   "execution_count": 14,
   "id": "b82e6140",
   "metadata": {},
   "outputs": [
    {
     "name": "stdout",
     "output_type": "stream",
     "text": [
      "Mean of residuals: 0.00016859261086210608\n",
      "Initial Condition Residual: 1.1839759395115834e-07\n"
     ]
    },
    {
     "data": {
      "image/png": "[encoded data removed]",
      "text/plain": [
       "<Figure size 432x288 with 1 Axes>"
      ]
     },
     "metadata": {
      "needs_background": "light"
     },
     "output_type": "display_data"
    }
   ],
   "source": [
    "# compute the residuals to determine effectiveness of transfer learning when changing initial condition\n",
    "residuals = ((torch.matmul(dH_dt_new, W_out_transfer) + torch.matmul(A, torch.matmul(H, W_out_transfer))).squeeze()) ** 2\n",
    "residuals = residuals.reshape(-1, 1).detach().numpy()\n",
    "\n",
    "print(f\"Mean of residuals: {residuals.mean()}\")\n",
    "initial_cond_residuals = ((torch.matmul(H_0, W_out_transfer) - v_transfer) ** 2).mean()\n",
    "print(f\"Initial Condition Residual: {initial_cond_residuals.item()}\")\n",
    "\n",
    "# plot the residuals\n",
    "plt.plot(residuals);\n",
    "plt.xlabel(\"t\")\n",
    "plt.ylabel(\"Residual\")\n",
    "plt.title(\"Plot of Residuals\");"
   ]
  },
  {
   "cell_type": "markdown",
   "id": "afc81941",
   "metadata": {},
   "source": [
    "# Time One-Shot Transfer Learning"
   ]
  },
  {
   "cell_type": "code",
   "execution_count": 15,
   "id": "3580a5d5",
   "metadata": {},
   "outputs": [
    {
     "name": "stdout",
     "output_type": "stream",
     "text": [
      "Total Time to evaluate w_out for 10000 different initial conditions:  0.21 seconds\n"
     ]
    }
   ],
   "source": [
    "start_one_shot_time = time.time()\n",
    "rng = np.random.default_rng(12345)\n",
    "for i in range(10000):\n",
    "    random_u_0 = torch.Tensor([[rng.random()], [rng.random()]]) # TODO: make this automatically the appropriate size depending on number of equations\n",
    "    w_out = torch.matmul(torch.matmul(M_inv, H_0.T), random_u_0)\n",
    "    \n",
    "end_one_shot_time = time.time() \n",
    "total_one_shot = end_one_shot_time - start_one_shot_time\n",
    "print(f\"Total Time to evaluate w_out for 10000 different initial conditions: {total_one_shot: .2f} seconds\")"
   ]
  },
  {
   "cell_type": "markdown",
   "id": "375eecce",
   "metadata": {},
   "source": [
    "### NEED TO IMPLEMENT CHANGING A IN TRAINING..."
   ]
  },
  {
   "cell_type": "markdown",
   "id": "1758f2d3",
   "metadata": {},
   "source": [
    "# Change Differential Equation (\"A\")  and Try One-Shot Transfer Learning"
   ]
  },
  {
   "cell_type": "code",
   "execution_count": null,
   "id": "7250ce5b",
   "metadata": {},
   "outputs": [],
   "source": [
    "# new differential equation to apply training to\n",
    "factor_1 = 1.43\n",
    "transfer_A = torch.tensor([[0, factor_1], [factor_1, 0]])\n",
    "\n",
    "# compute the new dH_dt * dH_dt.T using SAME dH_dt_new from previous training since it won't change\n",
    "dH_dt_times_dH_dt_T_new = torch.matmul(dH_dt_new.mT, dH_dt_new)\n",
    "\n",
    "# compute the new dH_dt * transfer_A * H using dH_dt and H from previous training since it won't change\n",
    "dH_dt_times_A_times_H_new = torch.matmul(torch.matmul(dH_dt_new.mT, transfer_A), H)\n",
    "\n",
    "# compute the new H * transfer_A.T * dH_dt using dH_dt and H from previous training since it won't change\n",
    "H_times_A_T_times_dH_dt_new = torch.matmul(torch.matmul(H.mT, transfer_A.T), dH_dt_new)\n",
    "\n",
    "# compute the new H.T * transfer_A.T * transfer_A * H\n",
    "H_T_times_A_T_times_A_times_H_new = torch.matmul(torch.matmul(torch.matmul(H.mT, transfer_A.T), transfer_A), H)\n",
    "\n",
    "# compute the new \"summation portion\" of the M matrix \n",
    "M_sum_terms_new = dH_dt_times_dH_dt_T_new + dH_dt_times_A_times_H_new + H_times_A_T_times_dH_dt_new + H_T_times_A_T_times_A_times_H_new\n",
    "M_sum_terms_new = M_sum_terms_new.sum(axis=0)\n",
    "M_sum_terms_new = M_sum_terms_new / len(t_eval)\n",
    "\n",
    "# compute the new \"M\" matrix and invert it\n",
    "M_new = M_sum_terms_new + H_0_T_times_H_0\n",
    "M_inv_new = torch.linalg.pinv(M_new)\n",
    "\n",
    "# compute the output weights by W_out = M ^ -1 * H_0 * u_0\n",
    "W_out_new_A = torch.matmul(torch.matmul(M_inv_new, H_0.T), v)\n",
    "print(\"W_out shape: \", W_out_new_A.shape)"
   ]
  },
  {
   "cell_type": "code",
   "execution_count": null,
   "id": "33cfae10",
   "metadata": {},
   "outputs": [],
   "source": [
    "# true_f1_coupled_2_eq_transfer_new_A = lambda x: (0.5 * v[0] * np.exp(-factor_1 * x) * (np.exp(factor_1 * 2 * x) + 1) - (0.5 * v[1] * np.exp(-factor_1 * x) * (np.exp(factor_1 * 2 * x) - 1))).numpy()\n",
    "# true_f2_coupled_2_eq_transfer_new_A = lambda x: (0.5 * v[1] * np.exp(-factor_1 * x) * (np.exp(factor_1 * 2 * x) + 1) - (0.5 * v[0] * np.exp(-factor_1 * x) * (np.exp(factor_1 * 2 * x) - 1))).numpy()\n",
    "true_f1_coupled_2_eq_transfer_new_A = lambda x: (0.5 * v[0] * np.exp(-factor_1 * x) * (np.exp(factor_1 * 2 * x) + 1) - (0.428174 * v[1] * np.exp(-factor_1 * x) * (np.exp(factor_1 * 2 * x) - 1))).numpy()\n",
    "true_f2_coupled_2_eq_transfer_new_A = lambda x: (0.5 * v[1] * np.exp(-factor_1 * x) * (np.exp(factor_1 * 2 * x) + 1) - (0.583874 * v[0] * np.exp(-factor_1 * x) * (np.exp(factor_1 * 2 * x) - 1))).numpy()\n",
    "\n",
    "u_transfer_equation_change = torch.matmul(H, W_out_new_A).squeeze()\n",
    "\n",
    "plt.scatter(t_eval.detach().numpy(), true_f1_coupled_2_eq_transfer_new_A(t_eval.detach().numpy()), label='True $U_1$');\n",
    "plt.scatter(t_eval.detach().numpy(), u_transfer_equation_change[:, 0].detach().numpy(), label='Transfer Learned $U_1$', s=3);\n",
    "plt.scatter(t_eval.detach().numpy(), true_f2_coupled_2_eq_transfer_new_A(t_eval.detach().numpy()), label='True $U_2$');\n",
    "plt.scatter(t_eval.detach().numpy(), u_transfer_equation_change[:, 1].detach().numpy(), label='Transfer Learned $U_2$', s=3);\n",
    "plt.xlabel(\"t\")\n",
    "plt.ylabel(\"$u(t)$\")\n",
    "plt.title(\"Transfer Learned vs Analytical Solution\")\n",
    "plt.legend();"
   ]
  }
 ],
 "metadata": {
  "kernelspec": {
   "display_name": "Python 3",
   "language": "python",
   "name": "python3"
  },
  "language_info": {
   "codemirror_mode": {
    "name": "ipython",
    "version": 3
   },
   "file_extension": ".py",
   "mimetype": "text/x-python",
   "name": "python",
   "nbconvert_exporter": "python",
   "pygments_lexer": "ipython3",
   "version": "3.7.13"
  }
 },
 "nbformat": 4,
 "nbformat_minor": 5
}
