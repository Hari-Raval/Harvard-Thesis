{
 "cells": [
  {
   "cell_type": "code",
   "execution_count": 1,
   "id": "91f732e6",
   "metadata": {},
   "outputs": [
    {
     "name": "stderr",
     "output_type": "stream",
     "text": [
      "/Users/HariRaval/miniconda3/envs/thesis/lib/python3.7/site-packages/tqdm/auto.py:22: TqdmWarning: IProgress not found. Please update jupyter and ipywidgets. See https://ipywidgets.readthedocs.io/en/stable/user_install.html\n",
      "  from .autonotebook import tqdm as notebook_tqdm\n"
     ]
    }
   ],
   "source": [
    "# imports\n",
    "import torch\n",
    "import torch.nn as nn\n",
    "import matplotlib.pyplot as plt\n",
    "import numpy as np\n",
    "import time\n",
    "from collections import defaultdict"
   ]
  },
  {
   "cell_type": "code",
   "execution_count": 2,
   "id": "f871b7f9",
   "metadata": {},
   "outputs": [],
   "source": [
    "# calculate du^ n / dt^n for arbitrary n and use this to create a loss term\n",
    "def higher_order_loss_term(weight, outputs, t, norm_term, forcing_funct):\n",
    "    \n",
    "    # compute derivative of outputs with respect to inputs \n",
    "    deriv_to_t = torch.autograd.grad(outputs, t, grad_outputs=torch.ones_like(outputs), \n",
    "                                 create_graph=True)[0]\n",
    "        \n",
    "    # additional loss term\n",
    "#     loss_term = norm_term * weight * torch.mean((deriv_to_t - forcing_funct) ** 2)\n",
    "    loss_term = weight * torch.mean((deriv_to_t - forcing_funct) ** 2)\n",
    "    \n",
    "    return loss_term, deriv_to_t\n",
    "\n",
    "# build the loss function\n",
    "def loss(t, A, lambda_val, model, loss_term_weights):\n",
    "            \n",
    "    # create the trial solution\n",
    "    u_t = lambda t: model(t)[0] # TODO: this is weird, just use model(t)[0] directly, no lambda function needed\n",
    "\n",
    "    # normalize loss and use it to compute the normalization factor\n",
    "    norm_term = 1 / u_t(torch.tensor([[0]], dtype=torch.float32)) ** 2\n",
    "    \n",
    "    # initialize all loss terms in case they do not need to be computed\n",
    "    L_D, L_DD, L_DDD, L_DDDD = [torch.tensor([[0.]])] * 4\n",
    "    \n",
    "    # loss results\n",
    "    loss_dict = {}\n",
    "    \n",
    "    # define f (aka forcing function)\n",
    "    f = lambda t, u: -lambda_val * u # TODO: remove minus here and change loss_term above to deriv_to_t + forcing_funct\n",
    "    # compute u(t)\n",
    "    outputs = u_t(t)\n",
    "    \n",
    "    # initial value loss terms\n",
    "    initial_val_loss = (A - u_t(torch.tensor([[0]], dtype=torch.float32)))**2\n",
    "        \n",
    "    # computes residual (function call also returns du / dt as u_t_x)\n",
    "    L_D, u_t_x = higher_order_loss_term(loss_term_weights[0], outputs, t, norm_term, f(t, outputs))\n",
    "                \n",
    "#     if loss_term_weights[1] or loss_term_weights[2] or loss_term_weights[3]:\n",
    "#         # define f' (derivative of f)\n",
    "#         f_t = -lambda_val * u_t_x\n",
    "#         # first derivative of residual (function call also returns d^2u / dt^2 as u_tt_x)\n",
    "#         L_DD, u_tt_x = higher_order_loss_term(loss_term_weights[1], u_t_x, t, norm_term, f_t)\n",
    "\n",
    "#     if loss_term_weights[2] or loss_term_weights[3]:\n",
    "#         # define f'' (derivative of f')\n",
    "#         f_tt = -lambda_val * u_tt_x\n",
    "#         # second derivative of residual (function call also returns d^3u / dt^3 as u_ttt_x)\n",
    "#         L_DDD, u_ttt_x = higher_order_loss_term(loss_term_weights[2], u_tt_x, t, norm_term, f_tt)\n",
    "        \n",
    "#     if loss_term_weights[3]:\n",
    "#         # define f''' (derivative of f'')\n",
    "#         f_ttt = -lambda_val * u_ttt_x\n",
    "#         # third derivative of residual (function call also returns d^4u / dt^4 as u_tttt_x)\n",
    "#         L_DDDD, u_tttt_x = higher_order_loss_term(loss_term_weights[3], u_ttt_x, t, norm_term, f_ttt)\n",
    "        \n",
    "    # total loss \n",
    "    L_total = L_D + L_DD + L_DDD + L_DDDD + initial_val_loss\n",
    "    \n",
    "    loss_dict['L_D'] = L_D\n",
    "    loss_dict['L_DD'] = L_DD\n",
    "    loss_dict['L_DDD'] = L_DDD\n",
    "    loss_dict['L_DDDD'] = L_DDDD\n",
    "    loss_dict['L_total'] = L_total\n",
    "\n",
    "    return loss_dict\n"
   ]
  },
  {
   "cell_type": "code",
   "execution_count": 3,
   "id": "2a1adb98",
   "metadata": {},
   "outputs": [],
   "source": [
    "# class to build the network \n",
    "class BuildNetwork(nn.Module):\n",
    "    def __init__(self, input_size, h_size1, h_size2, h_size3, output_size):\n",
    "        super(BuildNetwork, self).__init__()\n",
    "        self.l1 = nn.Linear(input_size, h_size1)\n",
    "        self.tanh = nn.Tanh()\n",
    "        self.l2 = nn.Linear(h_size1, h_size2)\n",
    "        self.l3 = nn.Linear(h_size2, h_size3)\n",
    "        self.output = nn.Linear(h_size3, output_size)\n",
    "        \n",
    "    def forward(self, x):\n",
    "        result = self.l1(x)\n",
    "        result = self.tanh(result)\n",
    "        result = self.l2(result)\n",
    "        result = self.tanh(result)\n",
    "        result = self.l3(result)\n",
    "        h = self.tanh(result) # this is H...\n",
    "        result = self.output(h)\n",
    "        \n",
    "        return result, h"
   ]
  },
  {
   "cell_type": "code",
   "execution_count": null,
   "id": "30a6ab81",
   "metadata": {},
   "outputs": [],
   "source": [
    "# Old Model Code: \n",
    "# model = nn.Sequential(nn.Linear(1, 64), nn.Tanh(), nn.Linear(64, 64), nn.Tanh(), nn.Linear(64,1))\n",
    "\n",
    "# Old trial solution parametrization: \n",
    "# u_t = lambda t: A + (1 - torch.exp(-t)) * model(t)"
   ]
  },
  {
   "cell_type": "code",
   "execution_count": 40,
   "id": "08b54931",
   "metadata": {},
   "outputs": [],
   "source": [
    "# train and evaluate the model\n",
    "def run_model(iterations, min_x, max_x, A_vals, lambda_val, loss_term_weights):\n",
    "    \n",
    "    assert sum(loss_term_weights) != 0, \"ERROR: Invalid Loss Function\"\n",
    "    \n",
    "    for idx, num in enumerate(loss_term_weights[:-1]):\n",
    "        next_num = loss_term_weights[idx + 1]\n",
    "        assert next_num <= num, 'ERROR: Invalid Loss Function'\n",
    "      \n",
    "    # build the neural net model\n",
    "    model = BuildNetwork(1, 9, 9, 9, 1) # originally: (1, 64, 64, 64, 1)\n",
    "    # set-up the optimizer\n",
    "    optimizer = torch.optim.SGD(model.parameters(), lr=0.001, momentum=0.9)\n",
    "    # create a learning rate scheduler\n",
    "    scheduler = torch.optim.lr_scheduler.ExponentialLR(optimizer, gamma=0.99)\n",
    "    \n",
    "    # create a random number generator for loss computation\n",
    "    rng = np.random.default_rng()\n",
    "    \n",
    "    # store loss and mse values\n",
    "    loss_history = defaultdict(list)\n",
    "    MSEs = []\n",
    "    \n",
    "    start_time = time.time()\n",
    "    \n",
    "    # starting initial value for transfer learning\n",
    "    curr_A_indx = 0\n",
    "    A = A_vals[curr_A_indx]\n",
    "    print(f\"Initial Condition: {A}\")\n",
    "    # run the training loop\n",
    "    for i in range(iterations):\n",
    "        \n",
    "        if i % 1000 == 0 and i != 0: \n",
    "            curr_A_indx +=1 \n",
    "            A = A_vals[curr_A_indx]\n",
    "            print(f\"Initial Condition: {A}\")\n",
    "        \n",
    "        # every batch, randomly sample from min and max range\n",
    "        x = torch.arange(min_x, max_x, 0.001, requires_grad=True)\n",
    "        x = x[rng.integers(low=0, high=len(x), size=500)]\n",
    "        x = x.reshape(-1, 1)\n",
    "\n",
    "        # forward: compute loss\n",
    "        curr_loss = loss(x, A, lambda_val, model, loss_term_weights)\n",
    "        \n",
    "        # store individual loss terms for plotting\n",
    "        loss_history['LD_losses'].append(curr_loss['L_D'].item())\n",
    "        loss_history['LDD_losses'].append(curr_loss['L_DD'].item())\n",
    "        loss_history['LDDD_losses'].append(curr_loss['L_DDD'].item())\n",
    "        loss_history['LDDDD_losses'].append(curr_loss['L_DDDD'].item())\n",
    "        loss_history['Ltotal_losses'].append(curr_loss['L_total'].item())\n",
    "            \n",
    "        # backward: backpropagation\n",
    "        curr_loss['L_total'].backward()\n",
    "        \n",
    "        # update weights and reset the gradients\n",
    "        optimizer.step() \n",
    "        optimizer.zero_grad() \n",
    "        \n",
    "        # learning rate update\n",
    "        # scheduler.step()\n",
    "        \n",
    "        # compute the mse\n",
    "        with torch.no_grad():\n",
    "            true_sol = (A * np.exp(-lambda_val * x)).numpy()\n",
    "            network_sol = model(x)[0].numpy()\n",
    "        current_mse = np.mean((true_sol - network_sol) ** 2)\n",
    "        MSEs.append(current_mse)\n",
    "   \n",
    "    end_time = time.time()\n",
    "    total_time = end_time - start_time\n",
    "    \n",
    "    print(f\"Model Training Complete in{total_time: .3f} seconds\")\n",
    "    \n",
    "    return loss_history, model, total_time, MSEs"
   ]
  },
  {
   "cell_type": "code",
   "execution_count": 41,
   "id": "e9c934eb",
   "metadata": {},
   "outputs": [],
   "source": [
    "# function to plot the neural network vs exact solution\n",
    "def plot_solution(min_x, max_x, A, lambda_val, trained_model, axis):\n",
    "    \n",
    "    u_t = lambda t: trained_model(t)[0]\n",
    "#     u_t = lambda t: A + (1 - torch.exp(-t)) * trained_model(t)\n",
    "\n",
    "    # plot the solution accuracies\n",
    "    xx = np.linspace(min_x, max_x, 200)[:, None]\n",
    "\n",
    "    with torch.no_grad():\n",
    "        yy = u_t(torch.Tensor(xx)).numpy()\n",
    "\n",
    "    yt = A * np.exp(-lambda_val * xx)\n",
    "\n",
    "    axis.plot(xx, yt, label='Actual Solution')\n",
    "    axis.plot(xx, yy, '--', label='Neural Network Solution')\n",
    "    axis.set_title(\"u(t) vs t for Actual and Approximation\")\n",
    "    axis.set_xlabel('$t$')\n",
    "    axis.set_ylabel('$u(t)$')\n",
    "    axis.legend(loc='best')\n",
    "    \n",
    "# function to plot the overall loss of the network solution\n",
    "def plot_total_loss(iterations, train_losses, axis, loss_label):\n",
    "    axis.plot(range(iterations), train_losses, label=loss_label)\n",
    "    axis.set_yscale(\"log\")\n",
    "    axis.set_title(\"Total Loss vs Iterations\")\n",
    "    axis.set_xlabel('Iterations')\n",
    "    axis.set_ylabel('Loss')\n",
    "    axis.legend(loc='best')\n",
    "    \n",
    "# function to plot the MSEs\n",
    "def plot_mse(iterations, mses, axis):\n",
    "    axis.plot(range(iterations), mses, label='MSE')\n",
    "    axis.set_yscale(\"log\")\n",
    "    axis.set_title(\"MSE vs Iterations\")\n",
    "    axis.set_xlabel('Iterations')\n",
    "    axis.set_ylabel('MSE')\n",
    "    axis.legend(loc='best')\n",
    "    \n",
    "# wrapper function to plot the solution and the overall loss of the network solution\n",
    "def plot_loss_mse_and_solution(min_x, max_x, A, lambda_val, iterations, \n",
    "                               trained_model, train_losses, loss_label, mses):\n",
    "    fig, axs = plt.subplots(1, 3,  tight_layout=True, figsize=(24, 8))\n",
    "    \n",
    "    plot_total_loss(iterations=iterations, train_losses=train_losses, \n",
    "                    axis=axs[0], loss_label=loss_label)\n",
    "    plot_solution(min_x=min_x, max_x=max_x, A=A, lambda_val=lambda_val, \n",
    "                  trained_model=trained_model, axis=axs[1])\n",
    "    plot_mse(iterations=iterations, mses=mses, axis=axs[2])\n",
    "    \n",
    "    plt.show()\n",
    "    \n",
    "# function to plot the loss terms for a given model\n",
    "def plot_individual_loss_terms(iterations, loss_dictionary):\n",
    "    \n",
    "    plt.figure(figsize=(9, 9))\n",
    "    for label, losses in loss_dictionary.items():\n",
    "        plt.plot(range(iterations), losses, label=label)\n",
    "        \n",
    "    plt.yscale(\"log\")\n",
    "    plt.title(\"Loss Terms vs Iterations\")\n",
    "    plt.xlabel('Iterations')\n",
    "    plt.ylabel('Loss')\n",
    "    plt.legend(loc='best')\n",
    "    plt.grid()\n",
    "    plt.show()"
   ]
  },
  {
   "cell_type": "code",
   "execution_count": 42,
   "id": "9c7b6ee7",
   "metadata": {},
   "outputs": [
    {
     "name": "stdout",
     "output_type": "stream",
     "text": [
      "Initial Condition: 0.9\n",
      "Initial Condition: 0.2\n",
      "Initial Condition: 0.35\n",
      "Initial Condition: 0.75\n",
      "Model Training Complete in 5.900 seconds\n"
     ]
    }
   ],
   "source": [
    "# set-up differential equation parameters for network\n",
    "min_x, max_x = 0, 2\n",
    "A_vals = [0.9, 0.2, 0.35, 0.75]\n",
    "# A_vals = [0.9, 0.9, 0.9, 0.9]\n",
    "lambda_val = 1\n",
    "iterations = 4000\n",
    "\n",
    "# run model which has a loss of the MSE (i.e. no higher order terms)\n",
    "loss_history_w1, trained_model_w1, time_w1, MSE_w1 = run_model(iterations=iterations, min_x=min_x, max_x=max_x, A_vals=A_vals, \n",
    "                                                              lambda_val=lambda_val, loss_term_weights=[1, 0, 0, 0])\n",
    "\n",
    "# # run model which has a loss of the residual and the first derivative of the residual (i.e. one higher order term)\n",
    "# loss_history_w2, trained_model_w2, time_w2, MSE_w2 = run_model(iterations=iterations, min_x=min_x, max_x=max_x, A=A, \n",
    "#                                                                 lambda_val=lambda_val, loss_term_weights=[1, 1, 0, 0])\n",
    "\n",
    "# # run model which has a loss of the residual and the first two derivatives of the residual (i.e. two higher order terms)\n",
    "# loss_history_w3, trained_model_w3, time_w3, MSE_w3 = run_model(iterations=iterations, min_x=min_x, max_x=max_x, A=A, \n",
    "#                                                                 lambda_val=lambda_val, loss_term_weights=[1, 1, 1, 0])\n",
    "\n",
    "\n",
    "# # run model which has a loss of the residual and the first three derivatives of the residual (i.e. three higher order terms)\n",
    "# loss_history_w4, trained_model_w4, time_w4, MSE_w4 = run_model(iterations=iterations, min_x=min_x, max_x=max_x, A=A, \n",
    "#                                                                 lambda_val=lambda_val, loss_term_weights=[1, 1, 1, 1])\n",
    "\n"
   ]
  },
  {
   "cell_type": "code",
   "execution_count": 48,
   "id": "a93369a0",
   "metadata": {},
   "outputs": [],
   "source": [
    "# print(list(trained_model_w1.parameters())[-2])\n",
    "# list(trained_model_w1.parameters())\n",
    "\n",
    "# H is the last activation"
   ]
  },
  {
   "cell_type": "code",
   "execution_count": 44,
   "id": "88962d4e",
   "metadata": {},
   "outputs": [
    {
     "name": "stdout",
     "output_type": "stream",
     "text": [
      "\n",
      " Model 1: Loss = L_D\n"
     ]
    },
    {
     "data": {
      "image/png": "[encoded data removed]",
      "text/plain": [
       "<Figure size 1728x576 with 3 Axes>"
      ]
     },
     "metadata": {
      "needs_background": "light"
     },
     "output_type": "display_data"
    }
   ],
   "source": [
    "# plot overall loss and network solution for model which has a loss of the MSE (i.e. no higher order terms)\n",
    "print(\"\\n Model 1: Loss = L_D\")\n",
    "plot_loss_mse_and_solution(min_x=min_x, max_x=max_x, A=A_vals[3], lambda_val=lambda_val, \n",
    "                       iterations=iterations, trained_model=trained_model_w1, \n",
    "                       train_losses=loss_history_w1['Ltotal_losses'], \n",
    "                       loss_label='Total Loss ($L_D$)', mses=MSE_w1)\n",
    "\n",
    "# # plot overall loss and network solution for model which has a loss of the residual and the first derivative of the residual (i.e. one higher order term)\n",
    "# print(\"\\n Model 2: Loss = L_D + L_DD\")\n",
    "# plot_loss_mse_and_solution(min_x=min_x, max_x=max_x, A=A, lambda_val=lambda_val, \n",
    "#                        iterations=iterations, trained_model=trained_model_w2, \n",
    "#                        train_losses=loss_history_w2['Ltotal_losses'], \n",
    "#                        loss_label='Total Loss ($L_D + L_{DD}$)', mses=MSE_w2)\n",
    "\n",
    "# # plot overall loss and network solution for model which has a loss of the residual and the first two derivatives of the residual (i.e. two higher order terms)\n",
    "# print(\"\\n Model 3: Loss = L_D + L_DD + L_DDD\")\n",
    "# plot_loss_mse_and_solution(min_x=min_x, max_x=max_x, A=A, lambda_val=lambda_val, \n",
    "#                        iterations=iterations, trained_model=trained_model_w3, \n",
    "#                        train_losses=loss_history_w3['Ltotal_losses'], \n",
    "#                        loss_label='Total Loss ($L_D + L_{DD} + L_{DDD}$)', mses=MSE_w3)\n",
    "\n",
    "# # plot overall loss and network solution for model which has a loss of the residual and the first three derivatives of the residual (i.e. three higher order terms)\n",
    "# print(\"\\n Model 4: Loss = L_D + L_DD + L_DDD + L_DDDD\")\n",
    "# plot_loss_mse_and_solution(min_x=min_x, max_x=max_x, A=A, lambda_val=lambda_val, \n",
    "#                        iterations=iterations, trained_model=trained_model_w4, \n",
    "#                        train_losses=loss_history_w4['Ltotal_losses'], \n",
    "#                        loss_label='Total Loss ($L_D + L_{DD} + L_{DDD} + L_{DDDD}$)', mses=MSE_w4)\n"
   ]
  },
  {
   "cell_type": "code",
   "execution_count": null,
   "id": "2ba73139",
   "metadata": {
    "scrolled": false
   },
   "outputs": [],
   "source": [
    "# plot of differential equation residual (L_D) for each updated model\n",
    "plot_individual_loss_terms(iterations, {'$L_D$ (loss = $L_D$)' : loss_history_w1['LD_losses'],\n",
    "                                        '$L_D$ (loss = $L_D + L_{DD}$)' : loss_history_w2['LD_losses'],\n",
    "                                        '$L_D$ (loss = $L_D + L_{DD} + L_{DDD}$)' : loss_history_w3['LD_losses'],\n",
    "                                        '$L_D$ (loss = $L_D + L_{DD} + L_{DDD} + L_{DDDD}$)' : loss_history_w4['LD_losses']})\n",
    "\n",
    "# # plot of L_D and L_DD when using a loss of the residual and the first derivative of the residual (i.e. one higher order term)\n",
    "# plot_individual_loss_terms(iterations, {'$L_D$ (loss = $L_D + L_{DD}$)' : loss_history_w2['LD_losses'], \n",
    "#                                         '$L_{DD}$ (loss = $L_D + L_{DD}$)' : loss_history_w2['LDD_losses']})\n",
    "\n",
    "# # plot of L_D, L_DD, and L_DDD when using a loss of the residual and the first two derivatives of the residual (i.e. two higher order terms)\n",
    "# plot_individual_loss_terms(iterations, {'$L_D$ (loss = $L_D + L_{DD} + L_{DDD}$)' : loss_history_w3['LD_losses'], \n",
    "#                                         '$L_{DD}$ (loss = $L_D + L_{DD} + L_{DDD}$)' : loss_history_w3['LDD_losses'],\n",
    "#                                         '$L_{DDD}$ (loss = $L_D + L_{DD} + L_{DDD}$)' : loss_history_w3['LDDD_losses']})\n",
    "\n",
    "# # plot of L_D, L_DD, L_DDD, and L_DDDD when using a loss of the residual and the first three derivatives of the residual (i.e. three higher order terms)\n",
    "# plot_individual_loss_terms(iterations, {'$L_D$ (loss = $L_D + L_{DD} + L_{DDD} + L_{DDDD}$)' : loss_history_w4['LD_losses'], \n",
    "#                                         '$L_{DD}$ (loss = $L_D + L_{DD} + L_{DDD} + L_{DDDD}$)' : loss_history_w4['LDD_losses'],\n",
    "#                                         '$L_{DDD}$ (loss = $L_D + L_{DD} + L_{DDD} + L_{DDDD}$)' : loss_history_w4['LDDD_losses'],\n",
    "#                                         '$L_{DDDD}$ (loss = $L_D + L_{DD} + L_{DDD} + L_{DDDD}$)' : loss_history_w4['LDDDD_losses']})\n"
   ]
  },
  {
   "cell_type": "code",
   "execution_count": 50,
   "id": "c2b34874",
   "metadata": {},
   "outputs": [
    {
     "data": {
      "text/plain": [
       "tensor([[-0.0716, -0.0927,  0.4857, -0.3439, -0.0597, -0.2203, -0.2490,  0.1547,\n",
       "         -0.2447],\n",
       "        [-0.0962, -0.0521,  0.4922, -0.3494, -0.0991, -0.2345, -0.2285,  0.1609,\n",
       "         -0.2642]], grad_fn=<TanhBackward0>)"
      ]
     },
     "execution_count": 50,
     "metadata": {},
     "output_type": "execute_result"
    }
   ],
   "source": [
    "# rng = np.random.default_rng()\n",
    "# test_t = torch.arange(0, 2, 0.001, requires_grad=True)\n",
    "# test_t = test_t[rng.integers(low=0, high=2000, size=500)]\n",
    "# test_t = test_t.reshape(-1, 1)\n",
    "\n",
    "test_t = torch.tensor([[0.4],[0.31]], dtype=torch.float32, requires_grad=True) \n",
    "\n",
    "output, H = trained_model_w1(test_t)\n",
    "H\n"
   ]
  },
  {
   "cell_type": "code",
   "execution_count": 49,
   "id": "6318eb81",
   "metadata": {},
   "outputs": [
    {
     "data": {
      "text/plain": [
       "tensor([[0.3241],\n",
       "        [0.3317]], grad_fn=<MmBackward0>)"
      ]
     },
     "execution_count": 49,
     "metadata": {},
     "output_type": "execute_result"
    }
   ],
   "source": [
    "a = torch.autograd.grad(H, test_t, grad_outputs=torch.ones_like(H), \n",
    "                                 create_graph=True)[0]\n",
    "\n",
    "a\n",
    "# print(H)\n",
    "# should be vector of length 32?"
   ]
  },
  {
   "cell_type": "code",
   "execution_count": 47,
   "id": "fbf79b5c",
   "metadata": {},
   "outputs": [
    {
     "data": {
      "text/plain": [
       "tensor([[[[ 0.2583],\n",
       "          [ 0.0000]],\n",
       "\n",
       "         [[-0.4305],\n",
       "          [ 0.0000]],\n",
       "\n",
       "         [[-0.0749],\n",
       "          [ 0.0000]],\n",
       "\n",
       "         [[ 0.0621],\n",
       "          [ 0.0000]],\n",
       "\n",
       "         [[ 0.4247],\n",
       "          [ 0.0000]],\n",
       "\n",
       "         [[ 0.1517],\n",
       "          [ 0.0000]],\n",
       "\n",
       "         [[-0.2043],\n",
       "          [ 0.0000]],\n",
       "\n",
       "         [[-0.0756],\n",
       "          [ 0.0000]],\n",
       "\n",
       "         [[ 0.2127],\n",
       "          [ 0.0000]]],\n",
       "\n",
       "\n",
       "        [[[ 0.0000],\n",
       "          [ 0.2872]],\n",
       "\n",
       "         [[ 0.0000],\n",
       "          [-0.4697]],\n",
       "\n",
       "         [[ 0.0000],\n",
       "          [-0.0691]],\n",
       "\n",
       "         [[ 0.0000],\n",
       "          [ 0.0594]],\n",
       "\n",
       "         [[ 0.0000],\n",
       "          [ 0.4516]],\n",
       "\n",
       "         [[ 0.0000],\n",
       "          [ 0.1630]],\n",
       "\n",
       "         [[ 0.0000],\n",
       "          [-0.2493]],\n",
       "\n",
       "         [[ 0.0000],\n",
       "          [-0.0617]],\n",
       "\n",
       "         [[ 0.0000],\n",
       "          [ 0.2204]]]])"
      ]
     },
     "execution_count": 47,
     "metadata": {},
     "output_type": "execute_result"
    }
   ],
   "source": [
    "# torch.autograd.functional.jacobian(trained_model_w1 ,test_t)[1]"
   ]
  },
  {
   "cell_type": "code",
   "execution_count": null,
   "id": "4050f273",
   "metadata": {},
   "outputs": [],
   "source": [
    "# CHANGES\n",
    "\n",
    "# 1. removed the norm_term = 1 / u_t(torch.tensor([[0]], dtype=torch.float32)) ** 2 --> still necessary?\n",
    "\n",
    "# 2. changed the trial solution to u_t = lambda t: model(t)\n",
    "\n",
    "# 3. due to 2., changed all other dependent code to use model(t) as opposed to parametrized trial solution\n",
    "\n",
    "# 4. extract H from the model\n"
   ]
  },
  {
   "cell_type": "code",
   "execution_count": null,
   "id": "e12d34d4",
   "metadata": {},
   "outputs": [],
   "source": [
    "# from sympy import*\n",
    "\n",
    "# u, t = symbols('u t')\n",
    "# u_t = Function('u')(t)\n",
    "# deriv_funct = diff(u_t)\n",
    "# forcing_funct = -lambda_val * funct **2 # this is the forcing function\n",
    "\n",
    "# # everything above this needs to be defined in the calling code\n",
    "\n",
    "# du_dt = diff(forcing_funct, t)\n",
    "# print(du_dt) \n",
    "\n",
    "# a = du_dt.subs(funct, t+1)\n",
    "# print(a)\n",
    "\n",
    "# res = du_dt.subs(deriv_funct, t)\n",
    "\n",
    "# print(res)\n",
    "\n",
    "# # ans = lambdify([t], res)\n",
    "# # print(ans(1))"
   ]
  },
  {
   "cell_type": "code",
   "execution_count": null,
   "id": "aebeffc3",
   "metadata": {},
   "outputs": [],
   "source": [
    "# Completed Tasks: \n",
    "\n",
    "    # TODO 4: TIME CODE --> time the training correctly so we know time for L_D, L_DD, and L_DDD (entire run_model but only the relevant \"L_D\" terms)\n",
    "\n",
    "    # TODO 5: ADD MSE PLOTS --> we know analytic solution, compare MSE now for 111, 100, 110 --> MSE will be very small\n",
    "\n",
    "    # TODO 3: why is f_t and f_tt dependent on t and outputs? --> change code in loss to remove this\n",
    "\n",
    "    # TODO 6: keep adding L_D terms -->  keep adding L_D terms until diminishing returns are evident in plot\n",
    "\n",
    "    # TODO 8: change long number of returned items to a dictionary being returned\n",
    "\n",
    "    # TODO 10: TRY more complex architeture\n",
    "\n",
    "    # TODO 2: ask/learn about manufactured solution\n",
    "    \n",
    "    # TODO 12: watch section 13 of the long video\n",
    "    \n",
    "    # TODO 11: fully read one shot transfer learning paper\n"
   ]
  },
  {
   "cell_type": "markdown",
   "id": "968a600e",
   "metadata": {},
   "source": [
    "# Appendix"
   ]
  },
  {
   "cell_type": "markdown",
   "id": "f7e8d964",
   "metadata": {},
   "source": [
    "### Questions: \n",
    "\n",
    "- what is the purpose of dividing by U_0 squared in loss?\n",
    "\n",
    "- why would increasing A makes it more difficult for the network to get the solution?\n",
    "\n",
    "- Why isn't MSE same as loss for L_D\n"
   ]
  },
  {
   "cell_type": "markdown",
   "id": "aa7898bc",
   "metadata": {},
   "source": [
    "### Notes:\n",
    "\n",
    "- $u_t = lambda$ $t: A + t * model(t)$ is outdated, so we use $ u_t = lambda$ $t: A + (1 - exp(-t)) * model(t)$\n",
    "\n",
    "- We are solving $\\frac{du}{dt} + \\lambda * u = 0$ where $f = -\\lambda * u$"
   ]
  },
  {
   "cell_type": "markdown",
   "id": "5a28df10",
   "metadata": {},
   "source": [
    "### Todo:\n",
    "\n",
    "- Automatically compute derivatives as opposed to doing it by hand\n",
    "- Try loss change by doing $L = \\left(\\frac{\\frac{du}{dt} + \\lambda u}{u_0}\\right)^2$ or make $u_0$ equal to $\\bar u$, in which case the denominator would have to be detached from the computational graph"
   ]
  }
 ],
 "metadata": {
  "kernelspec": {
   "display_name": "Python 3",
   "language": "python",
   "name": "python3"
  },
  "language_info": {
   "codemirror_mode": {
    "name": "ipython",
    "version": 3
   },
   "file_extension": ".py",
   "mimetype": "text/x-python",
   "name": "python",
   "nbconvert_exporter": "python",
   "pygments_lexer": "ipython3",
   "version": "3.7.13"
  }
 },
 "nbformat": 4,
 "nbformat_minor": 5
}
