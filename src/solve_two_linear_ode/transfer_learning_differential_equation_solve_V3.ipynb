{
 "cells": [
  {
   "cell_type": "code",
   "execution_count": 1,
   "id": "91f732e6",
   "metadata": {},
   "outputs": [
    {
     "name": "stderr",
     "output_type": "stream",
     "text": [
      "/Users/HariRaval/miniconda3/envs/thesis/lib/python3.7/site-packages/tqdm/auto.py:22: TqdmWarning: IProgress not found. Please update jupyter and ipywidgets. See https://ipywidgets.readthedocs.io/en/stable/user_install.html\n",
      "  from .autonotebook import tqdm as notebook_tqdm\n"
     ]
    }
   ],
   "source": [
    "# imports\n",
    "import torch\n",
    "import torch.nn as nn\n",
    "import matplotlib.pyplot as plt\n",
    "import numpy as np\n",
    "import time\n",
    "from collections import defaultdict"
   ]
  },
  {
   "cell_type": "code",
   "execution_count": 2,
   "id": "f871b7f9",
   "metadata": {},
   "outputs": [],
   "source": [
    "# calculate du^ n / dt^n for arbitrary n and use this to create a loss term\n",
    "def compute_derivative(u, t, norm_term, num_u_vectors):\n",
    "    \n",
    "    # compute derivative of outputs with respect to inputs \n",
    "    derivs_list = []\n",
    "    for i in range(num_u_vectors):\n",
    "        # individually compute du/dt for each u and combine them all togteher afterwards\n",
    "        du_dt = torch.autograd.grad(u[:, i, :], t, grad_outputs=torch.ones_like(u[:, i, :]), create_graph=True)[0]\n",
    "        derivs_list.append(du_dt)\n",
    "\n",
    "    deriv_to_t = torch.stack(derivs_list, dim=1) \n",
    "    \n",
    "    return deriv_to_t\n",
    "\n",
    "# build the loss function\n",
    "def loss(x, A, v, model):\n",
    "    \n",
    "    # loss results\n",
    "    loss_dict = {}\n",
    "            \n",
    "    # create the trial solution\n",
    "    model_result = lambda t: model(t)[0]\n",
    "    u = model_result(x).unsqueeze(dim=-1)\n",
    "    \n",
    "    # determine the number of u vectors\n",
    "    num_u_vectors = u.shape[1]\n",
    "        \n",
    "    # compute A * u\n",
    "    A_times_u = torch.matmul(A, u)\n",
    "    \n",
    "    # compute du/dt (Note: each u is computed separately to avoid torch.autograd.grad() summing them together)\n",
    "    du_dt = compute_derivative(u, x, 0, num_u_vectors)\n",
    "    # du_dt = torch.autograd.functional.jacobian(model_result, x, create_graph=True).sum(axis=2) \n",
    "\n",
    "    # compute the L_T term\n",
    "    L_t_term = du_dt + A_times_u\n",
    "    L_t = torch.matmul(L_t_term.mT, L_t_term)\n",
    "    \n",
    "    # compute the L_0 term\n",
    "    u_0 = model_result(torch.tensor([[0]], dtype=torch.float32))[0].unsqueeze(dim=-1)\n",
    "    L_0_term = u_0 - v\n",
    "    L_0 = torch.matmul(L_0_term.T, L_0_term)\n",
    "    \n",
    "    # compute the overall loss \n",
    "    L = torch.mean(L_t) + L_0\n",
    "    \n",
    "    # normalize loss and use it to compute the normalization factor\n",
    "    # norm_term1, norm_term2 = 1 / As[0] ** 2, 1 / As[1] ** 2 ---> these are now 1 / v[0] **2 (I.C.)\n",
    "    \n",
    "    loss_dict['L_D'] = L\n",
    "    loss_dict['L_total'] = L\n",
    "\n",
    "    return loss_dict\n"
   ]
  },
  {
   "cell_type": "code",
   "execution_count": 3,
   "id": "2a1adb98",
   "metadata": {},
   "outputs": [],
   "source": [
    "# class to build the network \n",
    "class BuildNetwork(nn.Module):\n",
    "    def __init__(self, input_size, h_size1, h_size2, h_size3, output_size):\n",
    "        super(BuildNetwork, self).__init__()\n",
    "        self.l1 = nn.Linear(input_size, h_size1)\n",
    "        self.tanh = nn.Tanh()\n",
    "        self.l2 = nn.Linear(h_size1, h_size2)\n",
    "        self.l3 = nn.Linear(h_size2, h_size3)\n",
    "        self.output = nn.Linear(h_size3, output_size)\n",
    "        \n",
    "    def forward(self, x):\n",
    "        result = self.l1(x)\n",
    "        result = self.tanh(result)\n",
    "        result = self.l2(result)\n",
    "        result = self.tanh(result)\n",
    "        result = self.l3(result)\n",
    "        h = self.tanh(result)\n",
    "        result = self.output(h)\n",
    "        \n",
    "        return result, h"
   ]
  },
  {
   "cell_type": "code",
   "execution_count": 4,
   "id": "08b54931",
   "metadata": {},
   "outputs": [],
   "source": [
    "# train and evaluate the model\n",
    "def run_model(iterations, x_range, A, v_list, hid_lay, num_equations, true_functs):\n",
    "        \n",
    "    assert num_equations > 0, 'The number of equations must be >= 1'\n",
    "    \n",
    "    # build the neural net model\n",
    "    model = BuildNetwork(1, hid_lay[0], hid_lay[1], hid_lay[2], num_equations)\n",
    "    # set-up the optimizer\n",
    "    optimizer = torch.optim.SGD(model.parameters(), lr=0.001, momentum=0.9)\n",
    "    # create a learning rate scheduler\n",
    "    scheduler = torch.optim.lr_scheduler.ExponentialLR(optimizer, gamma=0.99)\n",
    "    \n",
    "    # extract the min and max range of x values to sample\n",
    "    min_x, max_x = x_range\n",
    "    \n",
    "    # create a random number generator for loss computation\n",
    "    rng = np.random.default_rng()\n",
    "    \n",
    "    # store loss and mse values\n",
    "    loss_history = defaultdict(list)\n",
    "    MSEs = []\n",
    "    current_v_idx = -1\n",
    "    \n",
    "    start_time = time.time()\n",
    "    \n",
    "    for i in range(iterations):\n",
    "        \n",
    "        if i % 10000 == 0: \n",
    "            print(f\"Iteration {i + 1} starting\")\n",
    "            current_v_idx += 1\n",
    "            v = v_list[current_v_idx]\n",
    "            print(v)\n",
    "        \n",
    "        # every batch, randomly sample from min and max range\n",
    "        x = torch.arange(min_x, max_x, 0.001, requires_grad=True)\n",
    "        x = x[rng.integers(low=0, high=len(x), size=500)]\n",
    "        x = x.reshape(-1, 1)\n",
    "\n",
    "        # forward: compute loss\n",
    "        curr_loss = loss(x, A, v, model)\n",
    "        \n",
    "        # store individual loss terms for plotting\n",
    "        loss_history['LD_losses'].append(curr_loss['L_D'].item())\n",
    "        loss_history['Ltotal_losses'].append(curr_loss['L_total'].item())\n",
    "            \n",
    "        # backward: backpropagation\n",
    "        curr_loss['L_total'].backward()\n",
    "        \n",
    "        # update weights and reset the gradients\n",
    "        optimizer.step() \n",
    "        optimizer.zero_grad() \n",
    "        \n",
    "        # learning rate update\n",
    "        # scheduler.step()\n",
    "        \n",
    "        # compute the mse\n",
    "        with torch.no_grad():\n",
    "            current_mse = 0\n",
    "            for i in range(num_equations):\n",
    "                network_sol_i = model(x)[0][:, i].unsqueeze(dim=1).numpy()\n",
    "                true_sol_i = true_functs[i](x)\n",
    "                current_mse += np.mean((true_sol_i - network_sol_i) ** 2)\n",
    "            MSEs.append(current_mse)\n",
    "               \n",
    "    end_time = time.time()\n",
    "    total_time = end_time - start_time\n",
    "    \n",
    "    print(f\"Model Training Complete in{total_time: .3f} seconds\")\n",
    "    \n",
    "    return loss_history, model, total_time, MSEs"
   ]
  },
  {
   "cell_type": "code",
   "execution_count": 5,
   "id": "e9c934eb",
   "metadata": {},
   "outputs": [],
   "source": [
    "# function to plot the neural network vs exact solution\n",
    "def plot_solution(x_range, true_functs, trained_model, axis):\n",
    "    \n",
    "    # function to extract the model results\n",
    "    model_result = lambda t: trained_model(t)[0]\n",
    "    \n",
    "    # x values to predict on\n",
    "    min_x, max_x = x_range\n",
    "    xx = np.linspace(min_x, max_x, 200)[:, None]\n",
    "\n",
    "    # find the model results\n",
    "    u = model_result(torch.Tensor(xx))\n",
    "    # determine the number of curves to plot\n",
    "    num_curves = u.shape[1]\n",
    "    # store the true solutions and network solutions\n",
    "    yys, yts = [], []\n",
    "\n",
    "    # save the network solutions in a list for plotting \n",
    "    with torch.no_grad():\n",
    "        for i in range(num_curves):\n",
    "            yys.append(u[:, i].numpy())\n",
    "            yts.append(true_functs[i](xx))\n",
    "    \n",
    "    # plot the true solutions\n",
    "    for i in range(num_curves):\n",
    "         axis.plot(xx, yts[i], label=f'Actual Solution $u_{i+1}(t)$')\n",
    "     \n",
    "    # plot the network solutions\n",
    "    for i in range(num_curves):\n",
    "        axis.plot(xx, yys[i], '--', label=f'Neural Network Solution $u_{i+1}(t)$')\n",
    "            \n",
    "    axis.set_title(\"u(t) vs t for Actual and Approximation\")\n",
    "    axis.set_xlabel('$t$')\n",
    "    axis.set_ylabel('$u(t)$')\n",
    "    axis.legend(loc='best')\n",
    "    \n",
    "# function to plot the overall loss of the network solution\n",
    "def plot_total_loss(iterations, train_losses, axis, loss_label):\n",
    "    axis.plot(range(iterations), train_losses, label=loss_label)\n",
    "    axis.set_yscale(\"log\")\n",
    "    axis.set_title(\"Total Loss vs Iterations\")\n",
    "    axis.set_xlabel('Iterations')\n",
    "    axis.set_ylabel('Loss')\n",
    "    axis.legend(loc='best')\n",
    "    \n",
    "# function to plot the MSEs\n",
    "def plot_mse(iterations, mses, axis):\n",
    "    axis.plot(range(iterations), mses, label='MSE')\n",
    "    axis.set_yscale(\"log\")\n",
    "    axis.set_title(\"MSE vs Iterations\")\n",
    "    axis.set_xlabel('Iterations')\n",
    "    axis.set_ylabel('MSE')\n",
    "    axis.legend(loc='best')\n",
    "    \n",
    "# wrapper function to plot the solution and the overall loss & MSE of the network solution\n",
    "def plot_loss_mse_and_solution(x_range, true_functs, iterations, trained_model, train_losses, \n",
    "                               loss_label, mses):\n",
    "    \n",
    "    fig, axs = plt.subplots(1, 3,  tight_layout=True, figsize=(24, 8))\n",
    "    \n",
    "    plot_total_loss(iterations=iterations, train_losses=train_losses, \n",
    "                    axis=axs[0], loss_label=loss_label)\n",
    "    plot_solution(x_range=x_range, true_functs=true_functs, \n",
    "                  trained_model=trained_model, axis=axs[1])\n",
    "    plot_mse(iterations=iterations, mses=mses, axis=axs[2])\n",
    "    \n",
    "    plt.show()"
   ]
  },
  {
   "cell_type": "code",
   "execution_count": 7,
   "id": "9c7b6ee7",
   "metadata": {},
   "outputs": [],
   "source": [
    "# set-up differential equation parameters for network\n",
    "x_range = [0, 2]\n",
    "A = torch.tensor([[0, 1.1], [1.1, 0]])\n",
    "v_list = [torch.tensor([[0.12], [0.35]]), torch.tensor([[0.87], [0.62]]), \n",
    "          torch.tensor([[0.34], [0.69]]), torch.tensor([[0.75], [0.25]])]\n",
    "# v_list = [torch.tensor([[0.75], [0.25]]), torch.tensor([[0.75], [0.25]]), \n",
    "#           torch.tensor([[0.75], [0.25]]), torch.tensor([[0.75], [0.25]])]\n",
    "hid_lay = [64, 64, 128]\n",
    "num_equations, iterations = 2, 40000\n",
    "\n",
    "# write actual solutions for computing MSE and plotting true solution\n",
    "v = v_list[3]\n",
    "true_f1 = lambda x: (0.5 * v[0] * np.exp(-1.1 * x) * (np.exp(2.2 * x) + 1) - (0.5 * v[1] * np.exp(-1.1 * x) * (np.exp(2.2 * x) - 1))).numpy()\n",
    "true_f2 = lambda x: (0.5 * v[1] * np.exp(-1.1 * x) * (np.exp(2.2 * x) + 1) - (0.5 * v[0] * np.exp(-1.1 * x) * (np.exp(2.2 * x) - 1))).numpy()\n",
    "true_functs = [true_f1, true_f2]\n"
   ]
  },
  {
   "cell_type": "code",
   "execution_count": 8,
   "id": "d9c46b71",
   "metadata": {},
   "outputs": [
    {
     "name": "stdout",
     "output_type": "stream",
     "text": [
      "Iteration 1 starting\n",
      "tensor([[0.1200],\n",
      "        [0.3500]])\n",
      "Iteration 10001 starting\n",
      "tensor([[0.8700],\n",
      "        [0.6200]])\n",
      "Iteration 20001 starting\n",
      "tensor([[0.3400],\n",
      "        [0.6900]])\n",
      "Iteration 30001 starting\n",
      "tensor([[0.7500],\n",
      "        [0.2500]])\n",
      "Model Training Complete in 177.565 seconds\n"
     ]
    },
    {
     "data": {
      "image/png": "[encoded data removed]",
      "text/plain": [
       "<Figure size 1728x576 with 3 Axes>"
      ]
     },
     "metadata": {
      "needs_background": "light"
     },
     "output_type": "display_data"
    }
   ],
   "source": [
    "\n",
    "if False:\n",
    "    # run model which has a loss of the MSE (i.e. no higher order terms)\n",
    "    loss_history_w1, trained_model_w1, time_w1, MSE_w1 = run_model(iterations=iterations, x_range=x_range, \n",
    "                                                                   A=A, v_list=v_list, hid_lay=hid_lay,\n",
    "                                                                   num_equations=num_equations, \n",
    "                                                                   true_functs=true_functs)\n",
    "\n",
    "    # plot the total loss, network vs true solution, and MSE\n",
    "    plot_loss_mse_and_solution(x_range=x_range, true_functs=true_functs, iterations=iterations, \n",
    "                               trained_model=trained_model_w1, \n",
    "                               train_losses=loss_history_w1['Ltotal_losses'], \n",
    "                               loss_label='Total Loss ($L_D$)', mses=MSE_w1)\n",
    "\n",
    "    # save the model \n",
    "    torch.save(trained_model_w1, \"./trained_model_40000.pt\")"
   ]
  },
  {
   "cell_type": "markdown",
   "id": "5b27ba38",
   "metadata": {},
   "source": [
    "# TESTING FORMULA"
   ]
  },
  {
   "cell_type": "code",
   "execution_count": null,
   "id": "f621e1cb",
   "metadata": {},
   "outputs": [],
   "source": [
    "rng = np.random.default_rng()\n",
    "t_eval = torch.arange(0, 2, 0.001, requires_grad=True)\n",
    "t_eval = t_eval[rng.integers(low=0, high=2000, size=500)]\n",
    "t_eval = t_eval.reshape(-1, 1)\n",
    "\n",
    "# forward pass to extract H \n",
    "output, H = trained_model_w1(t_eval) \n",
    "\n",
    "H = torch.cat((torch.ones(len(t_eval), 1), H), 1)\n",
    "\n",
    "dH_dt = torch.autograd.functional.jacobian(trained_model_w1 ,t_eval, create_graph=True)[1].sum(axis=2)\n",
    "dH_dt = torch.cat((torch.zeros(len(t_eval), 1, 1), dH_dt), 1)\n"
   ]
  },
  {
   "cell_type": "code",
   "execution_count": 49,
   "id": "10368ff1",
   "metadata": {},
   "outputs": [],
   "source": [
    "bias = list(trained_model_w1.parameters())[-1].unsqueeze(dim=-1).T\n",
    "w_r = list(trained_model_w1.parameters())[-2].detach().T\n",
    "w_r_new = torch.cat((bias, w_r), 0).T"
   ]
  },
  {
   "cell_type": "code",
   "execution_count": 50,
   "id": "776dd91b",
   "metadata": {},
   "outputs": [
    {
     "data": {
      "image/png": "[encoded data removed]",
      "text/plain": [
       "<Figure size 432x288 with 1 Axes>"
      ]
     },
     "metadata": {
      "needs_background": "light"
     },
     "output_type": "display_data"
    }
   ],
   "source": [
    "# compute dH_dt times dH_dt transpose and sum across time\n",
    "dH_dt_times_dH_dt_T = (torch.matmul(dH_dt, dH_dt.mT).sum(axis=0)) / len(t_eval)\n",
    "first_term = torch.matmul(w_r_new, dH_dt_times_dH_dt_T)\n",
    "\n",
    "# compute dH_dt times H transpose and sum across time\n",
    "new_H = torch.unsqueeze(H, dim=-1)\n",
    "dH_dt_times_H_T = (torch.matmul(dH_dt, new_H.mT).sum(axis=0)) / len(t_eval)\n",
    "second_term = torch.matmul(A.T, w_r_new)\n",
    "second_term = torch.matmul(second_term, dH_dt_times_H_T)\n",
    "\n",
    "# compute H times dH_dt transpose and sum across time\n",
    "H_times_dH_dt_T = (torch.matmul(new_H, dH_dt.mT).sum(axis=0)) / len(t_eval)\n",
    "third_term = torch.matmul(A, w_r_new)\n",
    "third_term = torch.matmul(third_term, H_times_dH_dt_T)\n",
    "\n",
    "# compute H times H transpose and sum across time\n",
    "H_times_H_T = (torch.matmul(new_H, new_H.mT).sum(axis=0)) / len(t_eval)\n",
    "fourth_term = torch.matmul(A.T, A)\n",
    "fourth_term = torch.matmul(fourth_term, w_r_new)\n",
    "fourth_term = torch.matmul(fourth_term, H_times_H_T)\n",
    "\n",
    "# compute H_0 times H_0 transpose\n",
    "output_0, H_0 = trained_model_w1(torch.tensor([[0.]], dtype=torch.float32, requires_grad=True))\n",
    "H_0 = torch.cat((torch.ones(1, 1), H_0), 1)\n",
    "H_0_T_times_H_0 = torch.matmul(H_0.T, H_0)\n",
    "fifth_term = torch.matmul(w_r_new, H_0_T_times_H_0)\n",
    "\n",
    "RHS = torch.matmul(v, H_0) - fifth_term\n",
    "LHS = first_term + second_term + third_term + fourth_term\n",
    "\n",
    "loss_vals_to_plot = (LHS - RHS).detach().numpy().reshape(-1, 1)\n",
    "plt.hist(loss_vals_to_plot);"
   ]
  },
  {
   "cell_type": "code",
   "execution_count": 51,
   "id": "c9b121e3",
   "metadata": {},
   "outputs": [
    {
     "data": {
      "image/png": "[encoded data removed]",
      "text/plain": [
       "<Figure size 432x288 with 1 Axes>"
      ]
     },
     "metadata": {
      "needs_background": "light"
     },
     "output_type": "display_data"
    }
   ],
   "source": [
    "# compute the P matrix \n",
    "P = torch.cat([dH_dt_times_dH_dt_T, dH_dt_times_H_T, H_times_dH_dt_T, H_times_H_T, H_0_T_times_H_0], dim=0)\n",
    "\n",
    "# compute the R matrix\n",
    "ones_mtx = torch.ones(num_equations, num_equations)\n",
    "ones_mtx[0, 1] = 0\n",
    "ones_mtx[1, 0] = 0\n",
    "R = torch.cat([ones_mtx, A.T, A, torch.matmul(A.T, A), ones_mtx], dim=0).T\n",
    "\n",
    "zero_mat = torch.zeros((2, 129))\n",
    "\n",
    "W1 = torch.cat([w_r_new, zero_mat, zero_mat, zero_mat, zero_mat])\n",
    "W2 = torch.cat([zero_mat, w_r_new, zero_mat, zero_mat, zero_mat])\n",
    "W3 = torch.cat([zero_mat, zero_mat, w_r_new, zero_mat, zero_mat])\n",
    "W4 = torch.cat([zero_mat, zero_mat, zero_mat, w_r_new, zero_mat])\n",
    "W5 = torch.cat([zero_mat, zero_mat, zero_mat, zero_mat, w_r_new])\n",
    "W = torch.cat([W1, W2, W3, W4, W5], dim =1)"
   ]
  },
  {
   "cell_type": "code",
   "execution_count": 52,
   "id": "87308ab8",
   "metadata": {},
   "outputs": [
    {
     "data": {
      "image/png": "[encoded data removed]",
      "text/plain": [
       "<Figure size 432x288 with 1 Axes>"
      ]
     },
     "metadata": {
      "needs_background": "light"
     },
     "output_type": "display_data"
    }
   ],
   "source": [
    "# CHECKING R * W * P = U_0 * H_0.T\n",
    "\n",
    "RW = torch.matmul(R, W)\n",
    "RWP = torch.matmul(RW, P)\n",
    "overall1 = RWP - torch.matmul(v, H_0)\n",
    "plt.hist(overall1.detach().numpy().reshape(-1,1));"
   ]
  },
  {
   "cell_type": "code",
   "execution_count": 59,
   "id": "1ffe12a8",
   "metadata": {},
   "outputs": [
    {
     "data": {
      "text/plain": [
       "torch.Size([2, 645])"
      ]
     },
     "execution_count": 59,
     "metadata": {},
     "output_type": "execute_result"
    }
   ],
   "source": [
    "RW.shape"
   ]
  },
  {
   "cell_type": "code",
   "execution_count": 60,
   "id": "9b8f862c",
   "metadata": {},
   "outputs": [
    {
     "name": "stdout",
     "output_type": "stream",
     "text": [
      "torch.Size([10, 129])\n",
      "torch.Size([10, 129])\n"
     ]
    },
    {
     "data": {
      "image/png": "[encoded data removed]",
      "text/plain": [
       "<Figure size 432x288 with 1 Axes>"
      ]
     },
     "metadata": {
      "needs_background": "light"
     },
     "output_type": "display_data"
    }
   ],
   "source": [
    "# CHECKING R.T * R * W * P = R.T * U_0 * H_0.T\n",
    "R_T_R = torch.matmul(R.T, R)\n",
    "R_T_R_W = torch.matmul(R_T_R, W)\n",
    "R_T_R_W_P = torch.matmul(R_T_R_W, P)\n",
    "print(R_T_R_W_P.shape)\n",
    "R_T_u_0 = torch.matmul(R.T, v)\n",
    "R_T_u_0_H_0_T = torch.matmul(R_T_u_0, H_0)\n",
    "print(R_T_u_0_H_0_T.shape)\n",
    "\n",
    "overall2 = R_T_u_0_H_0_T - R_T_R_W_P\n",
    "plt.hist(overall2.detach().numpy().reshape(-1,1));"
   ]
  },
  {
   "cell_type": "code",
   "execution_count": 71,
   "id": "d5b59096",
   "metadata": {},
   "outputs": [
    {
     "name": "stdout",
     "output_type": "stream",
     "text": [
      "torch.Size([10, 129])\n"
     ]
    },
    {
     "data": {
      "image/png": "[encoded data removed]",
      "text/plain": [
       "<Figure size 432x288 with 1 Axes>"
      ]
     },
     "metadata": {
      "needs_background": "light"
     },
     "output_type": "display_data"
    }
   ],
   "source": [
    "# CHECKING W * P = (R.T * R) ^ -1 * R.T * U_0 * H_0.T\n",
    "W_P = torch.matmul(W, P)\n",
    "print(W_P.shape)\n",
    "\n",
    "R_T_R = torch.matmul(R.T, R)\n",
    "R_T_R_inv = torch.linalg.pinv(R_T_R) # can't take inv here need pinv...\n",
    "R_T_R_inv_R_T = torch.matmul(R_T_R_inv, R.T)\n",
    "R_T_R_inv_R_T_u_0 = torch.matmul(R_T_R_inv_R_T, v)\n",
    "R_T_R_inv_R_T_u_0_H_0 = torch.matmul(R_T_R_inv_R_T_u_0, H_0)\n",
    "\n",
    "overall3 = R_T_R_inv_R_T_u_0_H_0 - W_P\n",
    "plt.hist(overall3.detach().numpy().reshape(-1,1));"
   ]
  },
  {
   "cell_type": "code",
   "execution_count": 77,
   "id": "e2b89bbf",
   "metadata": {},
   "outputs": [
    {
     "data": {
      "image/png": "[encoded data removed]",
      "text/plain": [
       "<Figure size 432x288 with 1 Axes>"
      ]
     },
     "metadata": {
      "needs_background": "light"
     },
     "output_type": "display_data"
    }
   ],
   "source": [
    "# CHECKING W * P * P.T = (R.T * R) ^ -1 * R.T * U_0 * H_0.T * P.T\n",
    "\n",
    "W_P_P_T = torch.matmul(W_P, P.T)\n",
    "R_T_R_inv_R_T_u_0_H_0_P_T = torch.matmul(R_T_R_inv_R_T_u_0_H_0, P.T)\n",
    "\n",
    "overall4 = R_T_R_inv_R_T_u_0_H_0_P_T - W_P_P_T\n",
    "plt.hist(overall4.detach().numpy().reshape(-1,1));"
   ]
  },
  {
   "cell_type": "markdown",
   "id": "6703ecb1",
   "metadata": {},
   "source": [
    "# Perform Transfer Learning"
   ]
  },
  {
   "cell_type": "code",
   "execution_count": 10,
   "id": "0b21dbc1",
   "metadata": {},
   "outputs": [
    {
     "name": "stdout",
     "output_type": "stream",
     "text": [
      "H shape before column of 1s:  torch.Size([500, 128])\n",
      "H shape after column of 1s:  torch.Size([500, 129])\n",
      "dh_dt before adjusting:  torch.Size([500, 128, 1])\n",
      "dh_dt after adjusting:  torch.Size([500, 129, 1])\n"
     ]
    }
   ],
   "source": [
    "# create a t to take derivative with respect to \n",
    "rng = np.random.default_rng()\n",
    "t_eval = torch.arange(0, 2, 0.001, requires_grad=True)\n",
    "t_eval = t_eval[rng.integers(low=0, high=2000, size=500)]\n",
    "t_eval = t_eval.reshape(-1, 1)\n",
    "# t_eval = torch.tensor([[0.3], [0.1], [0.5]], dtype=torch.float32, requires_grad=True) \n",
    "\n",
    "# forward pass to extract H \n",
    "output, H = trained_model_w1(t_eval) \n",
    "\n",
    "print(\"H shape before column of 1s: \", H.shape)\n",
    "H = torch.cat((torch.ones(len(t_eval), 1), H), 1)\n",
    "print(\"H shape after column of 1s: \", H.shape)\n",
    "\n",
    "# compute derivative w/r/t H and multiply it by its transpose\n",
    "dH_dt = torch.autograd.functional.jacobian(trained_model_w1 ,t_eval, create_graph=True)[1].sum(axis=2)\n",
    "\n",
    "print(\"dh_dt before adjusting: \", dH_dt.shape)\n",
    "dH_dt = torch.cat((torch.zeros(len(t_eval), 1, 1), dH_dt), 1)\n",
    "print(\"dh_dt after adjusting: \", dH_dt.shape)"
   ]
  },
  {
   "cell_type": "code",
   "execution_count": 37,
   "id": "13b0d12e",
   "metadata": {},
   "outputs": [
    {
     "name": "stdout",
     "output_type": "stream",
     "text": [
      "dH_dt * dH_dt_T:  torch.Size([129, 129])\n",
      "dH_dt * H_T:  torch.Size([129, 129])\n",
      "H * dH_dt_T:  torch.Size([129, 129])\n",
      "H * H_T:  torch.Size([129, 129])\n",
      "H_0 shape before appending 1:  torch.Size([1, 128])\n",
      "H_0 shape after appending 1:  torch.Size([1, 129])\n",
      "H_0_T * H_0 shape:  torch.Size([129, 129])\n",
      "P matrix shape:  torch.Size([645, 129])\n",
      "R matrix shape:  torch.Size([2, 10])\n"
     ]
    }
   ],
   "source": [
    "# compute dH_dt times dH_dt transpose and sum across time\n",
    "dH_dt_times_dH_dt_T = (torch.matmul(dH_dt, dH_dt.mT).sum(axis=0)) / len(t_eval)\n",
    "print(\"dH_dt * dH_dt_T: \", dH_dt_times_dH_dt_T.shape)\n",
    "\n",
    "# compute dH_dt times H transpose and sum across time\n",
    "new_H = torch.unsqueeze(H, dim=-1)\n",
    "dH_dt_times_H_T = (torch.matmul(dH_dt, new_H.mT).sum(axis=0)) / len(t_eval)\n",
    "print(\"dH_dt * H_T: \", dH_dt_times_H_T.shape)\n",
    "\n",
    "# compute H times dH_dt transpose and sum across time\n",
    "H_times_dH_dt_T = (torch.matmul(new_H, dH_dt.mT).sum(axis=0)) / len(t_eval)\n",
    "print(\"H * dH_dt_T: \", H_times_dH_dt_T.shape)\n",
    "\n",
    "# compute H times H transpose and sum across time\n",
    "H_times_H_T = (torch.matmul(new_H, new_H.mT).sum(axis=0)) / len(t_eval)\n",
    "print(\"H * H_T: \", H_times_H_T.shape)\n",
    "\n",
    "# compute H_0 times H_0 transpose\n",
    "output_0, H_0 = trained_model_w1(torch.tensor([[0.]], dtype=torch.float32, requires_grad=True))\n",
    "print(\"H_0 shape before appending 1: \", H_0.shape)\n",
    "H_0 = torch.cat((torch.ones(1, 1), H_0), 1)\n",
    "print(\"H_0 shape after appending 1: \", H_0.shape)\n",
    "H_0_T_times_H_0 = torch.matmul(H_0.T, H_0)\n",
    "print(\"H_0_T * H_0 shape: \", H_0_T_times_H_0.shape)\n",
    "\n",
    "# compute the P matrix \n",
    "P = torch.cat([dH_dt_times_dH_dt_T, dH_dt_times_H_T, H_times_dH_dt_T, H_times_H_T, H_0_T_times_H_0], dim=0)\n",
    "print(\"P matrix shape: \", P.shape)\n",
    "\n",
    "# compute the R matrix\n",
    "ones_mtx = torch.ones(num_equations, num_equations)\n",
    "ones_mtx[0, 1] = 0 # TODO: don't do this, instead just build ones_mtx to be a diagonal matrix to begin with...\n",
    "ones_mtx[1, 0] = 0\n",
    "R = torch.cat([ones_mtx, A.T, A, torch.matmul(A.T, A), ones_mtx], dim=0).T\n",
    "print(\"R matrix shape: \", R.shape)"
   ]
  },
  {
   "cell_type": "code",
   "execution_count": 34,
   "id": "95018843",
   "metadata": {},
   "outputs": [],
   "source": [
    "# compute R transpose times R\n",
    "R_T_times_R = torch.matmul(R.T, R)\n",
    "# compute inverse of (R transpose times R) times R transpose\n",
    "R_chunk_inverse_times_R_T = torch.matmul(torch.linalg.pinv(R_T_times_R), R.T)\n",
    "\n",
    "# compute P times P transpose\n",
    "P_times_P_T = torch.matmul(P, P.T)\n",
    "# compute inverse of P times P transpose\n",
    "P_times_P_T_inverse = torch.linalg.pinv(P_times_P_T)\n",
    "\n",
    "# compute the \"W matrix\"\n",
    "W = torch.matmul(R_chunk_inverse_times_R_T, v)\n",
    "W = torch.matmul(W, H_0)\n",
    "W = torch.matmul(W, P.T)\n",
    "W = torch.matmul(W, P_times_P_T_inverse)"
   ]
  },
  {
   "cell_type": "code",
   "execution_count": null,
   "id": "51b8ee17",
   "metadata": {},
   "outputs": [],
   "source": []
  },
  {
   "cell_type": "code",
   "execution_count": 36,
   "id": "d6a2f264",
   "metadata": {},
   "outputs": [
    {
     "data": {
      "image/png": "[encoded data removed]",
      "text/plain": [
       "<Figure size 432x288 with 1 Axes>"
      ]
     },
     "metadata": {
      "needs_background": "light"
     },
     "output_type": "display_data"
    }
   ],
   "source": [
    "true_f1 = lambda x: (0.5 * v[0] * np.exp(-1.1 * x) * (np.exp(2.2 * x) + 1) - (0.5 * v[1] * np.exp(-1.1 * x) * (np.exp(2.2 * x) - 1))).numpy()\n",
    "true_f2 = lambda x: (0.5 * v[1] * np.exp(-1.1 * x) * (np.exp(2.2 * x) + 1) - (0.5 * v[0] * np.exp(-1.1 * x) * (np.exp(2.2 * x) - 1))).numpy()\n",
    "yt1 = true_f1(t_eval.detach())\n",
    "yt2 = true_f2(t_eval.detach())\n",
    "\n",
    "transfer_learned = torch.matmul(W[0:2, 0:129], new_H).squeeze()\n",
    "# transfer_learned = [torch.matmul(W[0:2, 0:129], new_H[i]) for i in range(500)]\n",
    "ynet1 = transfer_learned[:, 0].detach()\n",
    "ynet2 = transfer_learned[:, 1].detach()\n",
    "\n",
    "plt.scatter(t_eval.detach(), yt1, label = 'Actual solution $u_1(t)$', s=5)\n",
    "plt.scatter(t_eval.detach(), yt2, label = 'Actual solution $u_2(t)$', s=5)\n",
    "plt.scatter(t_eval.detach(), ynet1, label = 'Network solution $u_1(t)$', s=5)\n",
    "plt.scatter(t_eval.detach(), ynet2, label = 'Network solution $u_2(t)$', s=5)\n",
    "plt.xlabel(\"t\")\n",
    "plt.ylabel('y')\n",
    "plt.title(\"Transfer Learning vs Analytical Solution\")\n",
    "plt.legend();"
   ]
  },
  {
   "cell_type": "code",
   "execution_count": null,
   "id": "00cb8707",
   "metadata": {},
   "outputs": [],
   "source": [
    "# TODO:\n",
    "\n",
    "# 1. figure out how:\n",
    "    # the torch.autograd.grad is working with du/dt\n",
    "    # understand what the H represents and what the W represents \n",
    "    # understand the number of parameters in the model.parameters() of the network\n",
    "    # understand why we add bias the way we do in testing the formula\n",
    "    # re-write jacobian so it is way faster (use gradient function)\n",
    "\n",
    "\n",
    "# 2. add the higher order terms, L_D and L_DD, etc?\n",
    "\n",
    "# 3. figure out how to add the the norm term in the loss function\n",
    "\n",
    "# 4. see which parts of the formula are dependent on time and ask Pavlos how that works\n",
    "    # (changing W_o means that only u_o will change eventually?)\n",
    "\n",
    "# 5. try using a different diff. equation\n",
    "\n",
    "# 6. make loss function proper"
   ]
  },
  {
   "cell_type": "markdown",
   "id": "968a600e",
   "metadata": {},
   "source": [
    "# Appendix"
   ]
  },
  {
   "cell_type": "markdown",
   "id": "aa7898bc",
   "metadata": {},
   "source": [
    "### Notes:\n",
    "\n",
    "- $u_t = lambda$ $t: A + t * model(t)$ is outdated, so we use $ u_t = lambda$ $t: A + (1 - exp(-t)) * model(t)$\n",
    "\n",
    "- We are solving $\\frac{du}{dt} + \\lambda * u = 0$ where $f = -\\lambda * u$\n",
    "\n",
    "- Old Model Code: model = nn.Sequential(nn.Linear(1, 64), nn.Tanh(), nn.Linear(64, 64), nn.Tanh(), nn.Linear(64,1))\n",
    "\n",
    "- Old solution parametrization: u_t = lambda t: A + (1 - torch.exp(-t)) * model(t)\n",
    "\n",
    "- Original normalization term: norm_term = 1 / u_t(torch.tensor([[0]], dtype=torch.float32)) ** 2"
   ]
  }
 ],
 "metadata": {
  "kernelspec": {
   "display_name": "Python 3",
   "language": "python",
   "name": "python3"
  },
  "language_info": {
   "codemirror_mode": {
    "name": "ipython",
    "version": 3
   },
   "file_extension": ".py",
   "mimetype": "text/x-python",
   "name": "python",
   "nbconvert_exporter": "python",
   "pygments_lexer": "ipython3",
   "version": "3.7.13"
  }
 },
 "nbformat": 4,
 "nbformat_minor": 5
}
