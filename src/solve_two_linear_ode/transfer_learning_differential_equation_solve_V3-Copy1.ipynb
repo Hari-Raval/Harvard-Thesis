{
 "cells": [
  {
   "cell_type": "code",
   "execution_count": 1,
   "id": "91f732e6",
   "metadata": {},
   "outputs": [
    {
     "name": "stderr",
     "output_type": "stream",
     "text": [
      "/Users/HariRaval/miniconda3/envs/thesis/lib/python3.7/site-packages/tqdm/auto.py:22: TqdmWarning: IProgress not found. Please update jupyter and ipywidgets. See https://ipywidgets.readthedocs.io/en/stable/user_install.html\n",
      "  from .autonotebook import tqdm as notebook_tqdm\n"
     ]
    }
   ],
   "source": [
    "# imports\n",
    "import torch\n",
    "import torch.nn as nn\n",
    "import matplotlib.pyplot as plt\n",
    "import numpy as np\n",
    "import time\n",
    "from collections import defaultdict"
   ]
  },
  {
   "cell_type": "code",
   "execution_count": 2,
   "id": "f871b7f9",
   "metadata": {},
   "outputs": [],
   "source": [
    "# calculate du^ n / dt^n for arbitrary n and use this to create a loss term\n",
    "def compute_derivative(u, t, norm_term, num_u_vectors):\n",
    "    \n",
    "    # compute derivative of outputs with respect to inputs \n",
    "    derivs_list = []\n",
    "    for i in range(num_u_vectors):\n",
    "        # individually compute du/dt for each u and combine them all togteher afterwards\n",
    "        du_dt = torch.autograd.grad(u[:, i, :], t, grad_outputs=torch.ones_like(u[:, i, :]), create_graph=True)[0]\n",
    "        derivs_list.append(du_dt)\n",
    "\n",
    "    deriv_to_t = torch.stack(derivs_list, dim=1) \n",
    "    \n",
    "    return deriv_to_t\n",
    "\n",
    "# build the loss function\n",
    "def loss(x, A, v, model):\n",
    "    \n",
    "    # loss results\n",
    "    loss_dict = {}\n",
    "            \n",
    "    # create the trial solution\n",
    "    model_result = lambda t: model(t)[0]\n",
    "    u = model_result(x).unsqueeze(dim=-1)\n",
    "    \n",
    "    # determine the number of u vectors\n",
    "    num_u_vectors = u.shape[1]\n",
    "        \n",
    "    # compute A * u\n",
    "    A_times_u = torch.matmul(A, u)\n",
    "    \n",
    "    # compute du/dt (Note: each u is computed separately to avoid torch.autograd.grad() summing them together)\n",
    "    du_dt = compute_derivative(u, x, 0, num_u_vectors)\n",
    "    # du_dt = torch.autograd.functional.jacobian(model_result, x, create_graph=True).sum(axis=2) \n",
    "\n",
    "    # compute the L_T term\n",
    "    L_t_term = du_dt + A_times_u\n",
    "    L_t = torch.matmul(L_t_term.mT, L_t_term)\n",
    "    \n",
    "    # compute the L_0 term\n",
    "    u_0 = model_result(torch.tensor([[0]], dtype=torch.float32))[0].unsqueeze(dim=-1)\n",
    "    L_0_term = u_0 - v\n",
    "    L_0 = torch.matmul(L_0_term.T, L_0_term)\n",
    "    \n",
    "    # compute the overall loss \n",
    "    L = torch.mean(L_t) + L_0\n",
    "    \n",
    "    # normalize loss and use it to compute the normalization factor\n",
    "    # norm_term1, norm_term2 = 1 / As[0] ** 2, 1 / As[1] ** 2 ---> these are now 1 / v[0] **2 (I.C.)\n",
    "    \n",
    "    loss_dict['L_D'] = L\n",
    "    loss_dict['L_total'] = L\n",
    "\n",
    "    return loss_dict\n"
   ]
  },
  {
   "cell_type": "code",
   "execution_count": 3,
   "id": "2a1adb98",
   "metadata": {},
   "outputs": [],
   "source": [
    "# class to build the network \n",
    "class BuildNetwork(nn.Module):\n",
    "    def __init__(self, input_size, h_size1, h_size2, h_size3, output_size):\n",
    "        super(BuildNetwork, self).__init__()\n",
    "        self.l1 = nn.Linear(input_size, h_size1)\n",
    "        self.tanh = nn.Tanh()\n",
    "        self.l2 = nn.Linear(h_size1, h_size2)\n",
    "        self.l3 = nn.Linear(h_size2, h_size3)\n",
    "        self.output = nn.Linear(h_size3, output_size)\n",
    "        \n",
    "    def forward(self, x):\n",
    "        result = self.l1(x)\n",
    "        result = self.tanh(result)\n",
    "        result = self.l2(result)\n",
    "        result = self.tanh(result)\n",
    "        result = self.l3(result)\n",
    "        h = self.tanh(result)\n",
    "        result = self.output(h)\n",
    "        \n",
    "        return result, h"
   ]
  },
  {
   "cell_type": "code",
   "execution_count": 4,
   "id": "08b54931",
   "metadata": {},
   "outputs": [],
   "source": [
    "# train and evaluate the model\n",
    "def run_model(iterations, x_range, A, v_list, hid_lay, num_equations, true_functs):\n",
    "        \n",
    "    assert num_equations > 0, 'The number of equations must be >= 1'\n",
    "    \n",
    "    # build the neural net model\n",
    "    model = BuildNetwork(1, hid_lay[0], hid_lay[1], hid_lay[2], num_equations)\n",
    "    # set-up the optimizer\n",
    "    optimizer = torch.optim.SGD(model.parameters(), lr=0.001, momentum=0.9)\n",
    "    # create a learning rate scheduler\n",
    "    scheduler = torch.optim.lr_scheduler.ExponentialLR(optimizer, gamma=0.99)\n",
    "    \n",
    "    # extract the min and max range of x values to sample\n",
    "    min_x, max_x = x_range\n",
    "    \n",
    "    # create a random number generator for loss computation\n",
    "    rng = np.random.default_rng()\n",
    "    \n",
    "    # store loss and mse values\n",
    "    loss_history = defaultdict(list)\n",
    "    MSEs = []\n",
    "    current_v_idx = -1\n",
    "    \n",
    "    start_time = time.time()\n",
    "    \n",
    "    for i in range(iterations):\n",
    "        \n",
    "        if i % 10000 == 0: \n",
    "            print(f\"Iteration {i + 1} starting\")\n",
    "            current_v_idx += 1\n",
    "            v = v_list[current_v_idx]\n",
    "            print(v)\n",
    "        \n",
    "        # every batch, randomly sample from min and max range\n",
    "        x = torch.arange(min_x, max_x, 0.001, requires_grad=True)\n",
    "        x = x[rng.integers(low=0, high=len(x), size=500)]\n",
    "        x = x.reshape(-1, 1)\n",
    "\n",
    "        # forward: compute loss\n",
    "        curr_loss = loss(x, A, v, model)\n",
    "        \n",
    "        # store individual loss terms for plotting\n",
    "        loss_history['LD_losses'].append(curr_loss['L_D'].item())\n",
    "        loss_history['Ltotal_losses'].append(curr_loss['L_total'].item())\n",
    "            \n",
    "        # backward: backpropagation\n",
    "        curr_loss['L_total'].backward()\n",
    "        \n",
    "        # update weights and reset the gradients\n",
    "        optimizer.step() \n",
    "        optimizer.zero_grad() \n",
    "        \n",
    "        # learning rate update\n",
    "        # scheduler.step()\n",
    "        \n",
    "        # compute the mse\n",
    "        with torch.no_grad():\n",
    "            current_mse = 0\n",
    "            for i in range(num_equations):\n",
    "                network_sol_i = model(x)[0][:, i].unsqueeze(dim=1).numpy()\n",
    "                true_sol_i = true_functs[i](x)\n",
    "                current_mse += np.mean((true_sol_i - network_sol_i) ** 2)\n",
    "            MSEs.append(current_mse)\n",
    "               \n",
    "    end_time = time.time()\n",
    "    total_time = end_time - start_time\n",
    "    \n",
    "    print(f\"Model Training Complete in{total_time: .3f} seconds\")\n",
    "    \n",
    "    return loss_history, model, total_time, MSEs"
   ]
  },
  {
   "cell_type": "code",
   "execution_count": 19,
   "id": "e9c934eb",
   "metadata": {},
   "outputs": [],
   "source": [
    "# function to plot the neural network vs exact solution\n",
    "def plot_solution(x_range, true_functs, trained_model, axis):\n",
    "    \n",
    "    # function to extract the model results\n",
    "    model_result = lambda t: trained_model(t)[0]\n",
    "    \n",
    "    # x values to predict on\n",
    "    min_x, max_x = x_range\n",
    "    xx = np.linspace(min_x, max_x, 200)[:, None]\n",
    "\n",
    "    # find the model results\n",
    "    u = model_result(torch.Tensor(xx))\n",
    "    # determine the number of curves to plot\n",
    "    num_curves = u.shape[1]\n",
    "    # store the true solutions and network solutions\n",
    "    yys, yts = [], []\n",
    "\n",
    "    # save the network solutions in a list for plotting \n",
    "    with torch.no_grad():\n",
    "        for i in range(num_curves):\n",
    "            yys.append(u[:, i].numpy())\n",
    "            yts.append(true_functs[i](xx))\n",
    "    \n",
    "    # plot the true solutions\n",
    "    for i in range(num_curves):\n",
    "         axis.plot(xx, yts[i], label=f'Actual Solution $u_{i+1}(t)$')\n",
    "     \n",
    "    # plot the network solutions\n",
    "    for i in range(num_curves):\n",
    "        axis.plot(xx, yys[i], '--', label=f'Neural Network Solution $u_{i+1}(t)$')\n",
    "            \n",
    "    axis.set_title(\"u(t) vs t for Actual and Approximation\")\n",
    "    axis.set_xlabel('$t$')\n",
    "    axis.set_ylabel('$u(t)$')\n",
    "    axis.legend(loc='best')\n",
    "    \n",
    "# function to plot the overall loss of the network solution\n",
    "def plot_total_loss(iterations, train_losses, axis, loss_label):\n",
    "    axis.plot(range(iterations), train_losses, label=loss_label)\n",
    "    axis.set_yscale(\"log\")\n",
    "    axis.set_title(\"Total Loss vs Iterations\")\n",
    "    axis.set_xlabel('Iterations')\n",
    "    axis.set_ylabel('Loss')\n",
    "    axis.legend(loc='best')\n",
    "    \n",
    "# function to plot the MSEs\n",
    "def plot_mse(iterations, mses, axis):\n",
    "    axis.plot(range(iterations), mses, label='MSE')\n",
    "    axis.set_yscale(\"log\")\n",
    "    axis.set_title(\"MSE vs Iterations\")\n",
    "    axis.set_xlabel('Iterations')\n",
    "    axis.set_ylabel('MSE')\n",
    "    axis.legend(loc='best')\n",
    "    \n",
    "# wrapper function to plot the solution and the overall loss & MSE of the network solution\n",
    "def plot_loss_mse_and_solution(x_range, true_functs, iterations, trained_model, train_losses, \n",
    "                               loss_label, mses):\n",
    "    \n",
    "    fig, axs = plt.subplots(1, 3,  tight_layout=True, figsize=(24, 8))\n",
    "    \n",
    "    plot_total_loss(iterations=iterations, train_losses=train_losses, \n",
    "                    axis=axs[0], loss_label=loss_label)\n",
    "    plot_solution(x_range=x_range, true_functs=true_functs, \n",
    "                  trained_model=trained_model, axis=axs[1])\n",
    "    plot_mse(iterations=iterations, mses=mses, axis=axs[2])\n",
    "    \n",
    "    plt.show()"
   ]
  },
  {
   "cell_type": "code",
   "execution_count": 17,
   "id": "9c7b6ee7",
   "metadata": {},
   "outputs": [],
   "source": [
    "# set-up differential equation parameters for network\n",
    "x_range = [0, 2]\n",
    "A = torch.tensor([[1]], dtype=torch.float32)\n",
    "v_list = [torch.tensor([[0.12]]), torch.tensor([[0.87]]), \n",
    "          torch.tensor([[0.34]]), torch.tensor([[0.75]])]\n",
    "# v_list = [torch.tensor([[0.75], [0.25]]), torch.tensor([[0.75], [0.25]]), \n",
    "#           torch.tensor([[0.75], [0.25]]), torch.tensor([[0.75], [0.25]])]\n",
    "hid_lay = [64, 64, 4]\n",
    "num_equations, iterations = 1, 40000\n",
    "\n",
    "# write actual solutions for computing MSE and plotting true solution\n",
    "v = v_list[3]\n",
    "true_f1 = lambda x: (0.5 * v[0] * np.exp(-1.1 * x) * (np.exp(2.2 * x) + 1) - (0.5 * v[0] * np.exp(-1.1 * x) * (np.exp(2.2 * x) - 1))).numpy()\n",
    "# true_f2 = lambda x: (0.5 * v[1] * np.exp(-1.1 * x) * (np.exp(2.2 * x) + 1) - (0.5 * v[0] * np.exp(-1.1 * x) * (np.exp(2.2 * x) - 1))).numpy()\n",
    "true_functs = [true_f1]\n"
   ]
  },
  {
   "cell_type": "code",
   "execution_count": 20,
   "id": "d9c46b71",
   "metadata": {},
   "outputs": [
    {
     "data": {
      "image/png": "[encoded data removed]",
      "text/plain": [
       "<Figure size 1728x576 with 3 Axes>"
      ]
     },
     "metadata": {
      "needs_background": "light"
     },
     "output_type": "display_data"
    }
   ],
   "source": [
    "\n",
    "if True:\n",
    "    # run model which has a loss of the MSE (i.e. no higher order terms)\n",
    "    loss_history_w1, trained_model_w1, time_w1, MSE_w1 = run_model(iterations=iterations, x_range=x_range, \n",
    "                                                                   A=A, v_list=v_list, hid_lay=hid_lay,\n",
    "                                                                   num_equations=num_equations, \n",
    "                                                                   true_functs=true_functs)\n",
    "\n",
    "    # plot the total loss, network vs true solution, and MSE\n",
    "    plot_loss_mse_and_solution(x_range=x_range, true_functs=true_functs, iterations=iterations, \n",
    "                               trained_model=trained_model_w1, \n",
    "                               train_losses=loss_history_w1['Ltotal_losses'], \n",
    "                               loss_label='Total Loss ($L_D$)', mses=MSE_w1)\n",
    "\n",
    "    # save the model \n",
    "#     torch.save(trained_model_w1, \"./trained_model_40000.pt\")"
   ]
  },
  {
   "cell_type": "markdown",
   "id": "ebd7cfa1",
   "metadata": {},
   "source": [
    "# TESTING FORMULA"
   ]
  },
  {
   "cell_type": "code",
   "execution_count": 21,
   "id": "9b246fd6",
   "metadata": {},
   "outputs": [],
   "source": [
    "rng = np.random.default_rng()\n",
    "t_eval = torch.arange(0, 2, 0.001, requires_grad=True)\n",
    "t_eval = t_eval[rng.integers(low=0, high=2000, size=500)]\n",
    "t_eval = t_eval.reshape(-1, 1)\n",
    "\n",
    "# forward pass to extract H \n",
    "output, H = trained_model_w1(t_eval) \n",
    "\n",
    "H = torch.cat((torch.ones(len(t_eval), 1), H), 1)\n",
    "\n",
    "dH_dt = torch.autograd.functional.jacobian(trained_model_w1 ,t_eval, create_graph=True)[1].sum(axis=2)\n",
    "dH_dt = torch.cat((torch.zeros(len(t_eval), 1, 1), dH_dt), 1)\n"
   ]
  },
  {
   "cell_type": "code",
   "execution_count": 22,
   "id": "6fc085af",
   "metadata": {},
   "outputs": [],
   "source": [
    "bias = list(trained_model_w1.parameters())[-1].unsqueeze(dim=-1).T\n",
    "w_r = list(trained_model_w1.parameters())[-2].detach().T\n",
    "w_r_new = torch.cat((bias, w_r), 0).T"
   ]
  },
  {
   "cell_type": "code",
   "execution_count": 23,
   "id": "c27a454f",
   "metadata": {},
   "outputs": [
    {
     "data": {
      "image/png": "[encoded data removed]",
      "text/plain": [
       "<Figure size 432x288 with 1 Axes>"
      ]
     },
     "metadata": {
      "needs_background": "light"
     },
     "output_type": "display_data"
    }
   ],
   "source": [
    "# compute dH_dt times dH_dt transpose and sum across time\n",
    "dH_dt_times_dH_dt_T = (torch.matmul(dH_dt, dH_dt.mT).sum(axis=0)) / len(t_eval)\n",
    "first_term = torch.matmul(w_r_new, dH_dt_times_dH_dt_T)\n",
    "\n",
    "# compute dH_dt times H transpose and sum across time\n",
    "new_H = torch.unsqueeze(H, dim=-1)\n",
    "dH_dt_times_H_T = (torch.matmul(dH_dt, new_H.mT).sum(axis=0)) / len(t_eval)\n",
    "second_term = torch.matmul(A.T, w_r_new)\n",
    "second_term = torch.matmul(second_term, dH_dt_times_H_T)\n",
    "\n",
    "# compute H times dH_dt transpose and sum across time\n",
    "H_times_dH_dt_T = (torch.matmul(new_H, dH_dt.mT).sum(axis=0)) / len(t_eval)\n",
    "third_term = torch.matmul(A, w_r_new)\n",
    "third_term = torch.matmul(third_term, H_times_dH_dt_T)\n",
    "\n",
    "# compute H times H transpose and sum across time\n",
    "H_times_H_T = (torch.matmul(new_H, new_H.mT).sum(axis=0)) / len(t_eval)\n",
    "fourth_term = torch.matmul(A.T, A)\n",
    "fourth_term = torch.matmul(fourth_term, w_r_new)\n",
    "fourth_term = torch.matmul(fourth_term, H_times_H_T)\n",
    "\n",
    "# compute H_0 times H_0 transpose\n",
    "output_0, H_0 = trained_model_w1(torch.tensor([[0.]], dtype=torch.float32, requires_grad=True))\n",
    "H_0 = torch.cat((torch.ones(1, 1), H_0), 1)\n",
    "H_0_T_times_H_0 = torch.matmul(H_0.T, H_0)\n",
    "fifth_term = torch.matmul(w_r_new, H_0_T_times_H_0)\n",
    "\n",
    "RHS = torch.matmul(v, H_0) - fifth_term\n",
    "LHS = first_term + second_term + third_term + fourth_term\n",
    "\n",
    "loss_vals_to_plot = (LHS - RHS).detach().numpy().reshape(-1, 1)\n",
    "plt.hist(loss_vals_to_plot);"
   ]
  },
  {
   "cell_type": "code",
   "execution_count": 30,
   "id": "1ed2e6e0",
   "metadata": {},
   "outputs": [],
   "source": [
    "# compute the P matrix \n",
    "P = torch.cat([dH_dt_times_dH_dt_T, dH_dt_times_H_T, H_times_dH_dt_T, H_times_H_T, H_0_T_times_H_0], dim=0)\n",
    "\n",
    "# compute the R matrix\n",
    "ones_mtx = torch.ones(num_equations, num_equations)\n",
    "# ones_mtx[0, 1] = 0\n",
    "# ones_mtx[1, 0] = 0\n",
    "R = torch.cat([ones_mtx, A.T, A, torch.matmul(A.T, A), ones_mtx], dim=0).T\n",
    "\n",
    "zero_mat = torch.zeros((1, 5))\n",
    "\n",
    "W1 = torch.cat([w_r_new, zero_mat, zero_mat, zero_mat, zero_mat])\n",
    "W2 = torch.cat([zero_mat, w_r_new, zero_mat, zero_mat, zero_mat])\n",
    "W3 = torch.cat([zero_mat, zero_mat, w_r_new, zero_mat, zero_mat])\n",
    "W4 = torch.cat([zero_mat, zero_mat, zero_mat, w_r_new, zero_mat])\n",
    "W5 = torch.cat([zero_mat, zero_mat, zero_mat, zero_mat, w_r_new])\n",
    "W = torch.cat([W1, W2, W3, W4, W5], dim =1)"
   ]
  },
  {
   "cell_type": "code",
   "execution_count": 31,
   "id": "9d6022c5",
   "metadata": {},
   "outputs": [
    {
     "data": {
      "text/plain": [
       "torch.Size([5, 25])"
      ]
     },
     "execution_count": 31,
     "metadata": {},
     "output_type": "execute_result"
    }
   ],
   "source": [
    "W.shape"
   ]
  },
  {
   "cell_type": "code",
   "execution_count": 32,
   "id": "5a9a54ce",
   "metadata": {},
   "outputs": [
    {
     "data": {
      "image/png": "[encoded data removed]",
      "text/plain": [
       "<Figure size 432x288 with 1 Axes>"
      ]
     },
     "metadata": {
      "needs_background": "light"
     },
     "output_type": "display_data"
    }
   ],
   "source": [
    "# CHECKING R * W * P = U_0 * H_0.T\n",
    "\n",
    "RW = torch.matmul(R, W)\n",
    "RWP = torch.matmul(RW, P)\n",
    "overall1 = RWP - torch.matmul(v, H_0)\n",
    "plt.hist(overall1.detach().numpy().reshape(-1,1));"
   ]
  },
  {
   "cell_type": "code",
   "execution_count": 33,
   "id": "f830b25e",
   "metadata": {},
   "outputs": [
    {
     "name": "stdout",
     "output_type": "stream",
     "text": [
      "torch.Size([5, 5])\n",
      "torch.Size([5, 5])\n"
     ]
    },
    {
     "data": {
      "image/png": "[encoded data removed]",
      "text/plain": [
       "<Figure size 432x288 with 1 Axes>"
      ]
     },
     "metadata": {
      "needs_background": "light"
     },
     "output_type": "display_data"
    }
   ],
   "source": [
    "# CHECKING R.T * R * W * P = R.T * U_0 * H_0.T\n",
    "R_T_R = torch.matmul(R.T, R)\n",
    "R_T_R_W = torch.matmul(R_T_R, W)\n",
    "R_T_R_W_P = torch.matmul(R_T_R_W, P)\n",
    "print(R_T_R_W_P.shape)\n",
    "R_T_u_0 = torch.matmul(R.T, v)\n",
    "R_T_u_0_H_0_T = torch.matmul(R_T_u_0, H_0)\n",
    "print(R_T_u_0_H_0_T.shape)\n",
    "\n",
    "overall2 = R_T_u_0_H_0_T - R_T_R_W_P\n",
    "plt.hist(overall2.detach().numpy().reshape(-1,1));"
   ]
  },
  {
   "cell_type": "code",
   "execution_count": 37,
   "id": "df072334",
   "metadata": {},
   "outputs": [
    {
     "name": "stdout",
     "output_type": "stream",
     "text": [
      "torch.Size([5, 5])\n"
     ]
    },
    {
     "data": {
      "image/png": "[encoded data removed]",
      "text/plain": [
       "<Figure size 432x288 with 1 Axes>"
      ]
     },
     "metadata": {
      "needs_background": "light"
     },
     "output_type": "display_data"
    }
   ],
   "source": [
    "# CHECKING W * P = (R.T * R) ^ -1 * R.T * U_0 * H_0.T\n",
    "W_P = torch.matmul(W, P)\n",
    "print(W_P.shape)\n",
    "\n",
    "R_T_R = torch.matmul(R.T, R)\n",
    "R_T_R_inv = torch.linalg.pinv(R_T_R) # can't take inv here need pinv...\n",
    "R_T_R_inv_R_T = torch.matmul(R_T_R_inv, R.T)\n",
    "R_T_R_inv_R_T_u_0 = torch.matmul(R_T_R_inv_R_T, v)\n",
    "R_T_R_inv_R_T_u_0_H_0 = torch.matmul(R_T_R_inv_R_T_u_0, H_0)\n",
    "\n",
    "overall3 = R_T_R_inv_R_T_u_0_H_0 - W_P\n",
    "plt.hist(overall3.detach().numpy().reshape(-1,1));"
   ]
  },
  {
   "cell_type": "code",
   "execution_count": 41,
   "id": "36fba226",
   "metadata": {},
   "outputs": [
    {
     "data": {
      "text/plain": [
       "tensor([[0.2000, 0.2000, 0.2000, 0.2000, 0.2000],\n",
       "        [0.2000, 0.2000, 0.2000, 0.2000, 0.2000],\n",
       "        [0.2000, 0.2000, 0.2000, 0.2000, 0.2000],\n",
       "        [0.2000, 0.2000, 0.2000, 0.2000, 0.2000],\n",
       "        [0.2000, 0.2000, 0.2000, 0.2000, 0.2000]])"
      ]
     },
     "execution_count": 41,
     "metadata": {},
     "output_type": "execute_result"
    }
   ],
   "source": [
    "torch.matmul(R_T_R_inv, R_T_R)"
   ]
  },
  {
   "cell_type": "code",
   "execution_count": 43,
   "id": "018d843a",
   "metadata": {},
   "outputs": [
    {
     "data": {
      "image/png": "[encoded data removed]",
      "text/plain": [
       "<Figure size 432x288 with 1 Axes>"
      ]
     },
     "metadata": {
      "needs_background": "light"
     },
     "output_type": "display_data"
    }
   ],
   "source": [
    "# for i in R_T_R:\n",
    "#     for j in i:\n",
    "#         print(np.round(j.item(), 1), end = '  ')\n",
    "#     print()\n",
    "\n",
    "# torch.matmul(torch.linalg.pinv(R_T_R), R_T_R)\n",
    "\n",
    "R_W = torch.matmul(R, W)\n",
    "\n",
    "u_o_H_0 = torch.matmul(v, H_0)\n",
    "u_o_H_0_PT = torch.matmul(u_o_H_0, P.T)\n",
    "P_P_T_inv = torch.linalg.pinv(torch.matmul(P, P.T))\n",
    "overall = torch.matmul(u_o_H_0_PT, P_P_T_inv)\n",
    "\n",
    "to_plot = overall - R_W\n",
    "plt.hist(to_plot.detach().numpy().reshape(-1,1));\n"
   ]
  },
  {
   "cell_type": "code",
   "execution_count": 45,
   "id": "7e30ae65",
   "metadata": {},
   "outputs": [
    {
     "data": {
      "text/plain": [
       "tensor([[ 0.0000e+00,  0.0000e+00,  0.0000e+00,  0.0000e+00,  0.0000e+00,\n",
       "          0.0000e+00,  0.0000e+00,  0.0000e+00,  0.0000e+00,  0.0000e+00,\n",
       "          0.0000e+00,  0.0000e+00,  0.0000e+00,  0.0000e+00,  0.0000e+00,\n",
       "          0.0000e+00,  0.0000e+00,  0.0000e+00,  0.0000e+00,  0.0000e+00,\n",
       "          0.0000e+00,  0.0000e+00,  0.0000e+00,  0.0000e+00,  0.0000e+00],\n",
       "        [ 0.0000e+00,  1.2801e-02,  2.4850e-03,  4.6292e-03,  1.5675e-02,\n",
       "          0.0000e+00,  1.3612e-03,  1.4682e-03,  6.1192e-03, -1.3397e-03,\n",
       "         -7.0833e-02, -2.6443e-02, -1.9027e-02, -6.6681e-02,  8.2843e-03,\n",
       "         -2.0248e-02, -3.1691e-03, -4.8226e-03, -2.1021e-02,  8.6396e-03,\n",
       "          1.9817e-02,  1.3202e-02,  5.4758e-03,  1.0020e-02,  8.3372e-03],\n",
       "        [ 0.0000e+00,  2.4865e-03,  1.7344e-03,  1.5795e-02, -1.6894e-03,\n",
       "          0.0000e+00, -2.7683e-03,  2.9327e-04,  4.8122e-03, -5.8135e-03,\n",
       "         -1.8144e-02, -1.2213e-03, -4.5871e-03, -2.3338e-02,  1.1723e-02,\n",
       "          8.4411e-03,  6.3913e-03,  2.6162e-03,  5.6936e-03,  4.0000e-03,\n",
       "         -1.0324e-02, -6.8772e-03, -2.8523e-03, -5.2192e-03, -4.3414e-03],\n",
       "        [ 0.0000e+00,  4.6291e-03,  1.5784e-02,  1.7881e-01, -5.0631e-02,\n",
       "          0.0000e+00, -3.5551e-02,  6.2886e-04,  4.5282e-02, -6.6485e-02,\n",
       "         -7.7769e-02,  3.6994e-02, -1.7481e-02, -1.4763e-01,  1.2327e-01,\n",
       "          1.3969e-01,  8.2126e-02,  4.0469e-02,  1.0858e-01,  3.0730e-02,\n",
       "         -1.6149e-01, -1.0759e-01, -4.4620e-02, -8.1648e-02, -6.7932e-02],\n",
       "        [ 0.0000e+00,  1.5675e-02, -1.6878e-03, -5.0630e-02,  3.7089e-02,\n",
       "          0.0000e+00,  1.3126e-02,  1.7671e-03, -6.1985e-03,  1.9343e-02,\n",
       "         -7.0165e-02, -4.7178e-02, -1.9931e-02, -4.2401e-02, -2.8080e-02,\n",
       "         -7.1541e-02, -3.0355e-02, -1.9328e-02, -6.2680e-02,  1.8051e-03,\n",
       "          7.7856e-02,  5.1861e-02,  2.1511e-02,  3.9360e-02,  3.2750e-02],\n",
       "        [ 0.0000e+00,  0.0000e+00,  0.0000e+00,  0.0000e+00,  0.0000e+00,\n",
       "          0.0000e+00,  0.0000e+00,  0.0000e+00,  0.0000e+00,  0.0000e+00,\n",
       "          0.0000e+00,  0.0000e+00,  0.0000e+00,  0.0000e+00,  0.0000e+00,\n",
       "          0.0000e+00,  0.0000e+00,  0.0000e+00,  0.0000e+00,  0.0000e+00,\n",
       "          0.0000e+00,  0.0000e+00,  0.0000e+00,  0.0000e+00,  0.0000e+00],\n",
       "        [ 0.0000e+00,  1.3616e-03, -2.7663e-03, -3.5550e-02,  1.3126e-02,\n",
       "          0.0000e+00,  1.5764e-02,  9.2463e-04, -1.6964e-02,  2.6909e-02,\n",
       "          3.1056e-03, -1.2281e-02,  1.3936e-04,  1.8064e-02, -2.3601e-02,\n",
       "         -7.7088e-02, -3.7952e-02, -2.1301e-02, -6.3182e-02, -6.4351e-03,\n",
       "         -8.5717e-03, -5.7099e-03, -2.3687e-03, -4.3352e-03, -3.6074e-03],\n",
       "        [ 0.0000e+00,  1.4682e-03,  2.9311e-04,  6.2928e-04,  1.7671e-03,\n",
       "          0.0000e+00,  9.2461e-04,  2.4350e-04, -1.1662e-04,  1.1060e-03,\n",
       "         -8.1508e-03, -3.0067e-03, -2.1876e-03, -7.7145e-03,  1.0160e-03,\n",
       "         -6.5253e-03, -2.2846e-03, -1.6905e-03, -5.8969e-03,  8.4099e-04,\n",
       "         -2.1030e-03, -1.4009e-03, -5.8107e-04, -1.0632e-03, -8.8464e-04],\n",
       "        [ 0.0000e+00,  6.1188e-03,  4.8088e-03,  4.5279e-02, -6.1985e-03,\n",
       "          0.0000e+00, -1.6964e-02, -1.1664e-04,  2.2853e-02, -3.1241e-02,\n",
       "         -4.6568e-02, -1.3260e-03, -1.1679e-02, -6.1929e-02,  3.3211e-02,\n",
       "          7.4164e-02,  4.0814e-02,  2.0992e-02,  5.8056e-02,  1.2697e-02,\n",
       "          1.6543e-02,  1.1021e-02,  4.5704e-03,  8.3654e-03,  6.9618e-03],\n",
       "        [ 0.0000e+00, -1.3395e-03, -5.8093e-03, -6.6485e-02,  1.9343e-02,\n",
       "          0.0000e+00,  2.6909e-02,  1.1061e-03, -3.1241e-02,  4.7128e-02,\n",
       "          2.6890e-02, -1.4573e-02,  5.9505e-03,  5.3039e-02, -4.5696e-02,\n",
       "         -1.2668e-01, -6.4681e-02, -3.5281e-02, -1.0242e-01, -1.4046e-02,\n",
       "         -1.3216e-02, -8.8055e-03, -3.6511e-03, -6.6827e-03, -5.5620e-03],\n",
       "        [ 0.0000e+00, -7.0833e-02, -1.8133e-02, -7.7771e-02, -7.0162e-02,\n",
       "          0.0000e+00,  3.1059e-03, -8.1508e-03, -4.6573e-02,  2.6893e-02,\n",
       "          4.0731e-01,  1.3261e-01,  1.0841e-01,  4.0535e-01, -8.1253e-02,\n",
       "          6.8600e-02, -7.0501e-03,  1.4211e-02,  8.1984e-02, -5.5941e-02,\n",
       "         -6.0157e-02, -4.0071e-02, -1.6622e-02, -3.0419e-02, -2.5311e-02],\n",
       "        [ 0.0000e+00, -2.6443e-02, -1.2211e-03,  3.6994e-02, -4.7178e-02,\n",
       "          0.0000e+00, -1.2281e-02, -3.0067e-03, -1.3260e-03, -1.4572e-02,\n",
       "          1.3261e-01,  6.6859e-02,  3.6518e-02,  1.0528e-01,  1.4497e-02,\n",
       "          8.0445e-02,  2.8421e-02,  2.1051e-02,  7.3934e-02, -1.0592e-02,\n",
       "         -8.5292e-02, -5.6816e-02, -2.3566e-02, -4.3120e-02, -3.5880e-02],\n",
       "        [ 0.0000e+00, -1.9027e-02, -4.5845e-03, -1.7482e-02, -1.9930e-02,\n",
       "          0.0000e+00,  1.4016e-04, -2.1876e-03, -1.1679e-02,  5.9520e-03,\n",
       "          1.0841e-01,  3.6518e-02,  2.8915e-02,  1.0651e-01, -1.9511e-02,\n",
       "          2.1266e-02, -2.8852e-04,  4.6319e-03,  2.4263e-02, -1.4495e-02,\n",
       "         -1.9396e-02, -1.2921e-02, -5.3586e-03, -9.8078e-03, -8.1612e-03],\n",
       "        [ 0.0000e+00, -6.6681e-02, -2.3324e-02, -1.4763e-01, -4.2397e-02,\n",
       "          0.0000e+00,  1.8066e-02, -7.7145e-03, -6.1932e-02,  5.3043e-02,\n",
       "          4.0535e-01,  1.0528e-01,  1.0650e-01,  4.3348e-01, -1.2702e-01,\n",
       "          2.8268e-03, -4.1617e-02, -4.3533e-03,  2.8375e-02, -6.4259e-02,\n",
       "          1.4236e-02,  9.4807e-03,  3.9318e-03,  7.1896e-03,  5.9803e-03],\n",
       "        [ 0.0000e+00,  8.2844e-03,  1.1715e-02,  1.2327e-01, -2.8081e-02,\n",
       "          0.0000e+00, -2.3603e-02,  1.0159e-03,  3.3212e-02, -4.5697e-02,\n",
       "         -8.1252e-02,  1.4497e-02, -1.9511e-02, -1.2701e-01,  8.7020e-02,\n",
       "          8.6766e-02,  5.4510e-02,  2.5559e-02,  6.5319e-02,  2.4337e-02,\n",
       "         -1.0164e-01, -6.7704e-02, -2.8083e-02, -5.1385e-02, -4.2753e-02],\n",
       "        [ 0.0000e+00, -2.0250e-02,  8.4332e-03,  1.3969e-01, -7.1542e-02,\n",
       "          0.0000e+00, -7.7087e-02, -6.5254e-03,  7.4163e-02, -1.2668e-01,\n",
       "          6.8617e-02,  8.0446e-02,  2.1267e-02,  2.8400e-03,  8.6768e-02,\n",
       "          3.9869e-01,  1.8645e-01,  1.0895e-01,  3.3239e-01,  1.8682e-02,\n",
       "          7.3191e-02,  4.8753e-02,  2.0221e-02,  3.7005e-02,  3.0790e-02],\n",
       "        [ 0.0000e+00, -3.1697e-03,  6.3864e-03,  8.2119e-02, -3.0355e-02,\n",
       "          0.0000e+00, -3.7951e-02, -2.2846e-03,  4.0814e-02, -6.4681e-02,\n",
       "         -7.0449e-03,  2.8421e-02, -2.8687e-04, -4.1609e-02,  5.4508e-02,\n",
       "          1.8645e-01,  9.1505e-02,  5.1474e-02,  1.5290e-01,  1.5171e-02,\n",
       "          2.8090e-02,  1.8712e-02,  7.7597e-03,  1.4201e-02,  1.1817e-02],\n",
       "        [ 0.0000e+00, -4.8229e-03,  2.6139e-03,  4.0470e-02, -1.9328e-02,\n",
       "          0.0000e+00, -2.1301e-02, -1.6906e-03,  2.0991e-02, -3.5280e-02,\n",
       "          1.4218e-02,  2.1051e-02,  4.6333e-03, -4.3479e-03,  2.5556e-02,\n",
       "          1.0895e-01,  5.1474e-02,  2.9838e-02,  9.0533e-02,  5.8809e-03,\n",
       "          1.8592e-02,  1.2386e-02,  5.1378e-03,  9.4007e-03,  7.8216e-03],\n",
       "        [ 0.0000e+00, -2.1021e-02,  5.6895e-03,  1.0857e-01, -6.2679e-02,\n",
       "          0.0000e+00, -6.3180e-02, -5.8971e-03,  5.8053e-02, -1.0242e-01,\n",
       "          8.1991e-02,  7.3935e-02,  2.4265e-02,  2.8388e-02,  6.5315e-02,\n",
       "          3.3239e-01,  1.5290e-01,  9.0534e-02,  2.7869e-01,  1.1738e-02,\n",
       "          5.9481e-02,  3.9623e-02,  1.6434e-02,  3.0070e-02,  2.5023e-02],\n",
       "        [ 0.0000e+00,  8.6396e-03,  3.9974e-03,  3.0731e-02,  1.8048e-03,\n",
       "          0.0000e+00, -6.4349e-03,  8.4104e-04,  1.2698e-02, -1.4046e-02,\n",
       "         -5.5941e-02, -1.0592e-02, -1.4495e-02, -6.4259e-02,  2.4337e-02,\n",
       "          1.8681e-02,  1.5171e-02,  5.8810e-03,  1.1737e-02,  1.0497e-02,\n",
       "         -3.4818e-03, -2.3194e-03, -9.6062e-04, -1.7597e-03, -1.4620e-03],\n",
       "        [ 0.0000e+00,  1.9816e-02, -1.0317e-02, -1.6151e-01,  7.7857e-02,\n",
       "          0.0000e+00, -8.5708e-03, -2.1030e-03,  1.6540e-02, -1.3211e-02,\n",
       "         -6.0143e-02, -8.5292e-02, -1.9395e-02,  1.4251e-02, -1.0164e-01,\n",
       "          7.3181e-02,  2.8087e-02,  1.8591e-02,  5.9471e-02, -3.4795e-03,\n",
       "          4.3572e-01,  2.9024e-01,  1.2039e-01,  2.2028e-01,  1.8329e-01],\n",
       "        [ 0.0000e+00,  1.3201e-02, -6.8719e-03, -1.0758e-01,  5.1863e-02,\n",
       "          0.0000e+00, -5.7107e-03, -1.4009e-03,  1.1020e-02, -8.8004e-03,\n",
       "         -4.0069e-02, -5.6816e-02, -1.2921e-02,  9.4845e-03, -6.7705e-02,\n",
       "          4.8754e-02,  1.8708e-02,  1.2383e-02,  3.9615e-02, -2.3163e-03,\n",
       "          2.9024e-01,  1.9334e-01,  8.0192e-02,  1.4673e-01,  1.2210e-01],\n",
       "        [ 0.0000e+00,  5.4755e-03, -2.8503e-03, -4.4623e-02,  2.1511e-02,\n",
       "          0.0000e+00, -2.3685e-03, -5.8100e-04,  4.5712e-03, -3.6507e-03,\n",
       "         -1.6620e-02, -2.3566e-02, -5.3593e-03,  3.9340e-03, -2.8082e-02,\n",
       "          2.0223e-02,  7.7592e-03,  5.1362e-03,  1.6430e-02, -9.6065e-04,\n",
       "          1.2038e-01,  8.0191e-02,  3.3261e-02,  6.0861e-02,  5.0640e-02],\n",
       "        [ 0.0000e+00,  1.0019e-02, -5.2151e-03, -8.1648e-02,  3.9361e-02,\n",
       "          0.0000e+00, -4.3336e-03, -1.0631e-03,  8.3641e-03, -6.6810e-03,\n",
       "         -3.0413e-02, -4.3121e-02, -9.8069e-03,  7.1949e-03, -5.1383e-02,\n",
       "          3.7003e-02,  1.4199e-02,  9.3993e-03,  3.0067e-02, -1.7574e-03,\n",
       "          2.2027e-01,  1.4673e-01,  6.0861e-02,  1.1136e-01,  9.2663e-02],\n",
       "        [ 0.0000e+00,  8.3370e-03, -4.3394e-03, -6.7938e-02,  3.2752e-02,\n",
       "          0.0000e+00, -3.6064e-03, -8.8457e-04,  6.9591e-03, -5.5590e-03,\n",
       "         -2.5307e-02, -3.5880e-02, -8.1604e-03,  5.9865e-03, -4.2755e-02,\n",
       "          3.0787e-02,  1.1816e-02,  7.8206e-03,  2.5020e-02, -1.4623e-03,\n",
       "          1.8329e-01,  1.2209e-01,  5.0641e-02,  9.2661e-02,  7.7102e-02]],\n",
       "       grad_fn=<MmBackward0>)"
      ]
     },
     "execution_count": 45,
     "metadata": {},
     "output_type": "execute_result"
    }
   ],
   "source": [
    "P_P_T_inv = torch.linalg.pinv(torch.matmul(P, P.T))\n",
    "P_P_T = torch.matmul(P, P.T)\n",
    "\n",
    "torch.matmul(P_P_T_inv, P_P_T)\n"
   ]
  },
  {
   "cell_type": "code",
   "execution_count": null,
   "id": "6282cb8b",
   "metadata": {},
   "outputs": [],
   "source": [
    "# CHECKING W * P * P.T = (R.T * R) ^ -1 * R.T * U_0 * H_0.T * P.T\n",
    "\n",
    "W_P_P_T = torch.matmul(W_P, P.T)\n",
    "R_T_R_inv_R_T_u_0_H_0_P_T = torch.matmul(R_T_R_inv_R_T_u_0_H_0, P.T)\n",
    "\n",
    "overall4 = R_T_R_inv_R_T_u_0_H_0_P_T - W_P_P_T\n",
    "plt.hist(overall4.detach().numpy().reshape(-1,1));"
   ]
  },
  {
   "cell_type": "markdown",
   "id": "b6c291a1",
   "metadata": {},
   "source": [
    "# Perform Transfer Learning"
   ]
  },
  {
   "cell_type": "code",
   "execution_count": null,
   "id": "962fe7c1",
   "metadata": {},
   "outputs": [],
   "source": [
    "# create a t to take derivative with respect to \n",
    "rng = np.random.default_rng()\n",
    "t_eval = torch.arange(0, 2, 0.001, requires_grad=True)\n",
    "t_eval = t_eval[rng.integers(low=0, high=2000, size=500)]\n",
    "t_eval = t_eval.reshape(-1, 1)\n",
    "# t_eval = torch.tensor([[0.3], [0.1], [0.5]], dtype=torch.float32, requires_grad=True) \n",
    "\n",
    "# forward pass to extract H \n",
    "output, H = trained_model_w1(t_eval) \n",
    "\n",
    "print(\"H shape before column of 1s: \", H.shape)\n",
    "H = torch.cat((torch.ones(len(t_eval), 1), H), 1)\n",
    "print(\"H shape after column of 1s: \", H.shape)\n",
    "\n",
    "# compute derivative w/r/t H and multiply it by its transpose\n",
    "dH_dt = torch.autograd.functional.jacobian(trained_model_w1 ,t_eval, create_graph=True)[1].sum(axis=2)\n",
    "\n",
    "print(\"dh_dt before adjusting: \", dH_dt.shape)\n",
    "dH_dt = torch.cat((torch.zeros(len(t_eval), 1, 1), dH_dt), 1)\n",
    "print(\"dh_dt after adjusting: \", dH_dt.shape)"
   ]
  },
  {
   "cell_type": "code",
   "execution_count": null,
   "id": "d9f75803",
   "metadata": {},
   "outputs": [],
   "source": [
    "# compute dH_dt times dH_dt transpose and sum across time\n",
    "dH_dt_times_dH_dt_T = (torch.matmul(dH_dt, dH_dt.mT).sum(axis=0)) / len(t_eval)\n",
    "print(\"dH_dt * dH_dt_T: \", dH_dt_times_dH_dt_T.shape)\n",
    "\n",
    "# compute dH_dt times H transpose and sum across time\n",
    "new_H = torch.unsqueeze(H, dim=-1)\n",
    "dH_dt_times_H_T = (torch.matmul(dH_dt, new_H.mT).sum(axis=0)) / len(t_eval)\n",
    "print(\"dH_dt * H_T: \", dH_dt_times_H_T.shape)\n",
    "\n",
    "# compute H times dH_dt transpose and sum across time\n",
    "H_times_dH_dt_T = (torch.matmul(new_H, dH_dt.mT).sum(axis=0)) / len(t_eval)\n",
    "print(\"H * dH_dt_T: \", H_times_dH_dt_T.shape)\n",
    "\n",
    "# compute H times H transpose and sum across time\n",
    "H_times_H_T = (torch.matmul(new_H, new_H.mT).sum(axis=0)) / len(t_eval)\n",
    "print(\"H * H_T: \", H_times_H_T.shape)\n",
    "\n",
    "# compute H_0 times H_0 transpose\n",
    "output_0, H_0 = trained_model_w1(torch.tensor([[0.]], dtype=torch.float32, requires_grad=True))\n",
    "print(\"H_0 shape before appending 1: \", H_0.shape)\n",
    "H_0 = torch.cat((torch.ones(1, 1), H_0), 1)\n",
    "print(\"H_0 shape after appending 1: \", H_0.shape)\n",
    "H_0_T_times_H_0 = torch.matmul(H_0.T, H_0)\n",
    "print(\"H_0_T * H_0 shape: \", H_0_T_times_H_0.shape)\n",
    "\n",
    "# compute the P matrix \n",
    "P = torch.cat([dH_dt_times_dH_dt_T, dH_dt_times_H_T, H_times_dH_dt_T, H_times_H_T, H_0_T_times_H_0], dim=0)\n",
    "print(\"P matrix shape: \", P.shape)\n",
    "\n",
    "# compute the R matrix\n",
    "ones_mtx = torch.ones(num_equations, num_equations)\n",
    "ones_mtx[0, 1] = 0 # TODO: don't do this, instead just build ones_mtx to be a diagonal matrix to begin with...\n",
    "ones_mtx[1, 0] = 0\n",
    "R = torch.cat([ones_mtx, A.T, A, torch.matmul(A.T, A), ones_mtx], dim=0).T\n",
    "print(\"R matrix shape: \", R.shape)"
   ]
  },
  {
   "cell_type": "code",
   "execution_count": null,
   "id": "e8222459",
   "metadata": {},
   "outputs": [],
   "source": [
    "# compute R transpose times R\n",
    "R_T_times_R = torch.matmul(R.T, R)\n",
    "# compute inverse of (R transpose times R) times R transpose\n",
    "R_chunk_inverse_times_R_T = torch.matmul(torch.linalg.pinv(R_T_times_R), R.T)\n",
    "\n",
    "# compute P times P transpose\n",
    "P_times_P_T = torch.matmul(P, P.T)\n",
    "# compute inverse of P times P transpose\n",
    "P_times_P_T_inverse = torch.linalg.pinv(P_times_P_T)\n",
    "\n",
    "# compute the \"W matrix\"\n",
    "W = torch.matmul(R_chunk_inverse_times_R_T, v)\n",
    "W = torch.matmul(W, H_0)\n",
    "W = torch.matmul(W, P.T)\n",
    "W = torch.matmul(W, P_times_P_T_inverse)"
   ]
  },
  {
   "cell_type": "code",
   "execution_count": null,
   "id": "40b0995e",
   "metadata": {},
   "outputs": [],
   "source": []
  },
  {
   "cell_type": "code",
   "execution_count": null,
   "id": "a5bc559b",
   "metadata": {},
   "outputs": [],
   "source": [
    "true_f1 = lambda x: (0.5 * v[0] * np.exp(-1.1 * x) * (np.exp(2.2 * x) + 1) - (0.5 * v[1] * np.exp(-1.1 * x) * (np.exp(2.2 * x) - 1))).numpy()\n",
    "true_f2 = lambda x: (0.5 * v[1] * np.exp(-1.1 * x) * (np.exp(2.2 * x) + 1) - (0.5 * v[0] * np.exp(-1.1 * x) * (np.exp(2.2 * x) - 1))).numpy()\n",
    "yt1 = true_f1(t_eval.detach())\n",
    "yt2 = true_f2(t_eval.detach())\n",
    "\n",
    "transfer_learned = torch.matmul(W[0:2, 0:129], new_H).squeeze()\n",
    "# transfer_learned = [torch.matmul(W[0:2, 0:129], new_H[i]) for i in range(500)]\n",
    "ynet1 = transfer_learned[:, 0].detach()\n",
    "ynet2 = transfer_learned[:, 1].detach()\n",
    "\n",
    "plt.scatter(t_eval.detach(), yt1, label = 'Actual solution $u_1(t)$', s=5)\n",
    "plt.scatter(t_eval.detach(), yt2, label = 'Actual solution $u_2(t)$', s=5)\n",
    "plt.scatter(t_eval.detach(), ynet1, label = 'Network solution $u_1(t)$', s=5)\n",
    "plt.scatter(t_eval.detach(), ynet2, label = 'Network solution $u_2(t)$', s=5)\n",
    "plt.xlabel(\"t\")\n",
    "plt.ylabel('y')\n",
    "plt.title(\"Transfer Learning vs Analytical Solution\")\n",
    "plt.legend();"
   ]
  },
  {
   "cell_type": "code",
   "execution_count": null,
   "id": "00cb8707",
   "metadata": {},
   "outputs": [],
   "source": [
    "# TODO:\n",
    "\n",
    "# 1. figure out how:\n",
    "    # the torch.autograd.grad is working with du/dt\n",
    "    # understand what the H represents and what the W represents \n",
    "    # understand the number of parameters in the model.parameters() of the network\n",
    "    # understand why we add bias the way we do in testing the formula\n",
    "    # re-write jacobian so it is way faster (use gradient function)\n",
    "\n",
    "\n",
    "# 2. add the higher order terms, L_D and L_DD, etc?\n",
    "\n",
    "# 3. figure out how to add the the norm term in the loss function\n",
    "\n",
    "# 4. see which parts of the formula are dependent on time and ask Pavlos how that works\n",
    "    # (changing W_o means that only u_o will change eventually?)\n",
    "\n",
    "# 5. try using a different diff. equation\n",
    "\n",
    "# 6. make loss function proper"
   ]
  },
  {
   "cell_type": "markdown",
   "id": "968a600e",
   "metadata": {},
   "source": [
    "# Appendix"
   ]
  },
  {
   "cell_type": "markdown",
   "id": "aa7898bc",
   "metadata": {},
   "source": [
    "### Notes:\n",
    "\n",
    "- $u_t = lambda$ $t: A + t * model(t)$ is outdated, so we use $ u_t = lambda$ $t: A + (1 - exp(-t)) * model(t)$\n",
    "\n",
    "- We are solving $\\frac{du}{dt} + \\lambda * u = 0$ where $f = -\\lambda * u$\n",
    "\n",
    "- Old Model Code: model = nn.Sequential(nn.Linear(1, 64), nn.Tanh(), nn.Linear(64, 64), nn.Tanh(), nn.Linear(64,1))\n",
    "\n",
    "- Old solution parametrization: u_t = lambda t: A + (1 - torch.exp(-t)) * model(t)\n",
    "\n",
    "- Original normalization term: norm_term = 1 / u_t(torch.tensor([[0]], dtype=torch.float32)) ** 2"
   ]
  }
 ],
 "metadata": {
  "kernelspec": {
   "display_name": "Python 3",
   "language": "python",
   "name": "python3"
  },
  "language_info": {
   "codemirror_mode": {
    "name": "ipython",
    "version": 3
   },
   "file_extension": ".py",
   "mimetype": "text/x-python",
   "name": "python",
   "nbconvert_exporter": "python",
   "pygments_lexer": "ipython3",
   "version": "3.7.13"
  }
 },
 "nbformat": 4,
 "nbformat_minor": 5
}
