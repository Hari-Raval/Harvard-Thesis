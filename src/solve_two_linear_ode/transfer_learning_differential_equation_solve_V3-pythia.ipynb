{
 "cells": [
  {
   "cell_type": "code",
   "execution_count": 1,
   "id": "91f732e6",
   "metadata": {},
   "outputs": [
    {
     "name": "stderr",
     "output_type": "stream",
     "text": [
      "/Users/HariRaval/miniconda3/envs/thesis/lib/python3.7/site-packages/tqdm/auto.py:22: TqdmWarning: IProgress not found. Please update jupyter and ipywidgets. See https://ipywidgets.readthedocs.io/en/stable/user_install.html\n",
      "  from .autonotebook import tqdm as notebook_tqdm\n"
     ]
    }
   ],
   "source": [
    "# imports\n",
    "import torch\n",
    "import torch.nn as nn\n",
    "import matplotlib.pyplot as plt\n",
    "import numpy as np\n",
    "import time\n",
    "from collections import defaultdict"
   ]
  },
  {
   "cell_type": "code",
   "execution_count": 2,
   "id": "f871b7f9",
   "metadata": {},
   "outputs": [],
   "source": [
    "# calculate du^ n / dt^n for arbitrary n and use this to create a loss term\n",
    "def compute_derivative(u, t, norm_term, num_u_vectors):\n",
    "    \n",
    "    # compute derivative of outputs with respect to inputs \n",
    "    derivs_list = []\n",
    "    for i in range(num_u_vectors):\n",
    "        # individually compute du/dt for each u and combine them all togteher afterwards\n",
    "        du_dt = torch.autograd.grad(u[:, i, :], t, grad_outputs=torch.ones_like(u[:, i, :]), create_graph=True)[0]\n",
    "        derivs_list.append(du_dt)\n",
    "\n",
    "    deriv_to_t = torch.stack(derivs_list, dim=1) \n",
    "    \n",
    "    return deriv_to_t\n",
    "\n",
    "# build the loss function\n",
    "def loss(x, A, v, model):\n",
    "    \n",
    "    # loss results\n",
    "    loss_dict = {}\n",
    "            \n",
    "    # create the trial solution\n",
    "    model_result = lambda t: model(t)[0]\n",
    "    u = model_result(x).unsqueeze(dim=-1)\n",
    "    \n",
    "    # determine the number of u vectors\n",
    "    num_u_vectors = u.shape[1]\n",
    "        \n",
    "    # compute A * u\n",
    "    A_times_u = torch.matmul(A, u)\n",
    "    \n",
    "    # compute du/dt (Note: each u is computed separately to avoid torch.autograd.grad() summing them together)\n",
    "    du_dt = compute_derivative(u, x, 0, num_u_vectors)\n",
    "    # du_dt = torch.autograd.functional.jacobian(model_result, x, create_graph=True).sum(axis=2) \n",
    "\n",
    "    # compute the L_T term\n",
    "    L_t_term = du_dt + A_times_u\n",
    "    L_t = torch.matmul(L_t_term.mT, L_t_term)\n",
    "    \n",
    "    # compute the L_0 term\n",
    "    u_0 = model_result(torch.tensor([[0]], dtype=torch.float32))[0].unsqueeze(dim=-1)\n",
    "    L_0_term = u_0 - v\n",
    "    L_0 = torch.matmul(L_0_term.T, L_0_term)\n",
    "    \n",
    "    # compute the overall loss \n",
    "    L = torch.mean(L_t) + L_0\n",
    "    \n",
    "    # normalize loss and use it to compute the normalization factor\n",
    "    # norm_term1, norm_term2 = 1 / As[0] ** 2, 1 / As[1] ** 2 ---> these are now 1 / v[0] **2 (I.C.)\n",
    "    \n",
    "    loss_dict['L_D'] = L\n",
    "    loss_dict['L_total'] = L\n",
    "\n",
    "    return loss_dict\n"
   ]
  },
  {
   "cell_type": "code",
   "execution_count": 3,
   "id": "2a1adb98",
   "metadata": {},
   "outputs": [],
   "source": [
    "# class to build the network \n",
    "class BuildNetwork(nn.Module):\n",
    "    def __init__(self, input_size, h_size1, h_size2, h_size3, output_size):\n",
    "        super(BuildNetwork, self).__init__()\n",
    "        self.l1 = nn.Linear(input_size, h_size1)\n",
    "        self.tanh = nn.Tanh()\n",
    "        self.l2 = nn.Linear(h_size1, h_size2)\n",
    "        self.l3 = nn.Linear(h_size2, h_size3)\n",
    "        self.output = nn.Linear(h_size3, output_size)\n",
    "        \n",
    "    def forward(self, x):\n",
    "        result = self.l1(x)\n",
    "        result = self.tanh(result)\n",
    "        result = self.l2(result)\n",
    "        result = self.tanh(result)\n",
    "        result = self.l3(result)\n",
    "        h = self.tanh(result)\n",
    "        result = self.output(h)\n",
    "        \n",
    "        return result, h"
   ]
  },
  {
   "cell_type": "code",
   "execution_count": 4,
   "id": "08b54931",
   "metadata": {},
   "outputs": [],
   "source": [
    "# train and evaluate the model\n",
    "def run_model(iterations, x_range, A, v_list, hid_lay, num_equations, true_functs):\n",
    "        \n",
    "    assert num_equations > 0, 'The number of equations must be >= 1'\n",
    "    \n",
    "    # build the neural net model\n",
    "    model = BuildNetwork(1, hid_lay[0], hid_lay[1], hid_lay[2], num_equations)\n",
    "    # set-up the optimizer\n",
    "    optimizer = torch.optim.SGD(model.parameters(), lr=0.001, momentum=0.9)\n",
    "    # create a learning rate scheduler\n",
    "    scheduler = torch.optim.lr_scheduler.ExponentialLR(optimizer, gamma=0.99)\n",
    "    \n",
    "    # extract the min and max range of x values to sample\n",
    "    min_x, max_x = x_range\n",
    "    \n",
    "    # create a random number generator for loss computation\n",
    "    rng = np.random.default_rng()\n",
    "    \n",
    "    # store loss and mse values\n",
    "    loss_history = defaultdict(list)\n",
    "    MSEs = []\n",
    "    current_v_idx = -1\n",
    "    \n",
    "    start_time = time.time()\n",
    "    \n",
    "    for i in range(iterations):\n",
    "        \n",
    "        if i % 10000 == 0: \n",
    "            print(f\"Iteration {i + 1} starting\")\n",
    "            current_v_idx += 1\n",
    "            v = v_list[current_v_idx]\n",
    "            print(v)\n",
    "        \n",
    "        # every batch, randomly sample from min and max range\n",
    "        x = torch.arange(min_x, max_x, 0.001, requires_grad=True)\n",
    "        x = x[rng.integers(low=0, high=len(x), size=500)]\n",
    "        x = x.reshape(-1, 1)\n",
    "\n",
    "        # forward: compute loss\n",
    "        curr_loss = loss(x, A, v, model)\n",
    "        \n",
    "        # store individual loss terms for plotting\n",
    "        loss_history['LD_losses'].append(curr_loss['L_D'].item())\n",
    "        loss_history['Ltotal_losses'].append(curr_loss['L_total'].item())\n",
    "            \n",
    "        # backward: backpropagation\n",
    "        curr_loss['L_total'].backward()\n",
    "        \n",
    "        # update weights and reset the gradients\n",
    "        optimizer.step() \n",
    "        optimizer.zero_grad() \n",
    "        \n",
    "        # learning rate update\n",
    "        # scheduler.step()\n",
    "        \n",
    "        # compute the mse\n",
    "        with torch.no_grad():\n",
    "            current_mse = 0\n",
    "            for i in range(num_equations):\n",
    "                network_sol_i = model(x)[0][:, i].unsqueeze(dim=1).numpy()\n",
    "                true_sol_i = true_functs[i](x)\n",
    "                current_mse += np.mean((true_sol_i - network_sol_i) ** 2)\n",
    "            MSEs.append(current_mse)\n",
    "               \n",
    "    end_time = time.time()\n",
    "    total_time = end_time - start_time\n",
    "    \n",
    "    print(f\"Model Training Complete in{total_time: .3f} seconds\")\n",
    "    \n",
    "    return loss_history, model, total_time, MSEs"
   ]
  },
  {
   "cell_type": "code",
   "execution_count": 5,
   "id": "e9c934eb",
   "metadata": {},
   "outputs": [],
   "source": [
    "# function to plot the neural network vs exact solution\n",
    "def plot_solution(x_range, true_functs, trained_model, axis):\n",
    "    \n",
    "    # function to extract the model results\n",
    "    model_result = lambda t: trained_model(t)[0]\n",
    "    \n",
    "    # x values to predict on\n",
    "    min_x, max_x = x_range\n",
    "    xx = np.linspace(min_x, max_x, 200)[:, None]\n",
    "\n",
    "    # find the model results\n",
    "    u = model_result(torch.Tensor(xx))\n",
    "    # determine the number of curves to plot\n",
    "    num_curves = u.shape[1]\n",
    "    # store the true solutions and network solutions\n",
    "    yys, yts = [], []\n",
    "\n",
    "    # save the network solutions in a list for plotting \n",
    "    with torch.no_grad():\n",
    "        for i in range(num_curves):\n",
    "            yys.append(u[:, i].numpy())\n",
    "            yts.append(true_functs[i](xx))\n",
    "    \n",
    "    # plot the true solutions\n",
    "    for i in range(num_curves):\n",
    "         axis.plot(xx, yts[i], label=f'Actual Solution $u_{i+1}(t)$')\n",
    "     \n",
    "    # plot the network solutions\n",
    "    for i in range(num_curves):\n",
    "        axis.plot(xx, yys[i], '--', label=f'Neural Network Solution $u_{i+1}(t)$')\n",
    "            \n",
    "    axis.set_title(\"u(t) vs t for Actual and Approximation\")\n",
    "    axis.set_xlabel('$t$')\n",
    "    axis.set_ylabel('$u(t)$')\n",
    "    axis.legend(loc='best')\n",
    "    \n",
    "# function to plot the overall loss of the network solution\n",
    "def plot_total_loss(iterations, train_losses, axis, loss_label):\n",
    "    axis.plot(range(iterations), train_losses, label=loss_label)\n",
    "    axis.set_yscale(\"log\")\n",
    "    axis.set_title(\"Total Loss vs Iterations\")\n",
    "    axis.set_xlabel('Iterations')\n",
    "    axis.set_ylabel('Loss')\n",
    "    axis.legend(loc='best')\n",
    "    \n",
    "# function to plot the MSEs\n",
    "def plot_mse(iterations, mses, axis):\n",
    "    axis.plot(range(iterations), mses, label='MSE')\n",
    "    axis.set_yscale(\"log\")\n",
    "    axis.set_title(\"MSE vs Iterations\")\n",
    "    axis.set_xlabel('Iterations')\n",
    "    axis.set_ylabel('MSE')\n",
    "    axis.legend(loc='best')\n",
    "    \n",
    "# wrapper function to plot the solution and the overall loss & MSE of the network solution\n",
    "def plot_loss_mse_and_solution(x_range, true_functs, iterations, trained_model, train_losses, \n",
    "                               loss_label, mses):\n",
    "    \n",
    "    fig, axs = plt.subplots(1, 3,  tight_layout=True, figsize=(24, 8))\n",
    "    \n",
    "    plot_total_loss(iterations=iterations, train_losses=train_losses, \n",
    "                    axis=axs[0], loss_label=loss_label)\n",
    "    plot_solution(x_range=x_range, true_functs=true_functs, \n",
    "                  trained_model=trained_model, axis=axs[1])\n",
    "    plot_mse(iterations=iterations, mses=mses, axis=axs[2])\n",
    "    \n",
    "    plt.show()"
   ]
  },
  {
   "cell_type": "code",
   "execution_count": 6,
   "id": "9c7b6ee7",
   "metadata": {},
   "outputs": [],
   "source": [
    "# set-up differential equation parameters for network\n",
    "x_range = [0, 2]\n",
    "A = torch.tensor([[1.1, 0], [0, 3]]) # non-coupled equations\n",
    "v_list = [torch.tensor([[0.12], [0.35]]), torch.tensor([[0.87], [0.62]]), \n",
    "          torch.tensor([[0.34], [0.69]]), torch.tensor([[0.75], [0.25]])]\n",
    "hid_lay = [64, 64, 64]\n",
    "num_equations, iterations = 2, 40000\n",
    "\n",
    "# write actual solutions for computing MSE and plotting true solution\n",
    "v = v_list[3]\n",
    "true_f1 = lambda x: (v[0] * np.exp(-1.1 * x)).numpy()\n",
    "true_f2 = lambda x: (v[1] * np.exp(-3 * x)).numpy()\n",
    "true_functs = [true_f1, true_f2]\n"
   ]
  },
  {
   "cell_type": "code",
   "execution_count": 7,
   "id": "d9c46b71",
   "metadata": {},
   "outputs": [
    {
     "name": "stdout",
     "output_type": "stream",
     "text": [
      "Iteration 1 starting\n",
      "tensor([[0.1200],\n",
      "        [0.3500]])\n",
      "Iteration 10001 starting\n",
      "tensor([[0.8700],\n",
      "        [0.6200]])\n",
      "Iteration 20001 starting\n",
      "tensor([[0.3400],\n",
      "        [0.6900]])\n",
      "Iteration 30001 starting\n",
      "tensor([[0.7500],\n",
      "        [0.2500]])\n",
      "Model Training Complete in 146.940 seconds\n"
     ]
    },
    {
     "data": {
      "image/png": "[encoded data removed]",
      "text/plain": [
       "<Figure size 1728x576 with 3 Axes>"
      ]
     },
     "metadata": {
      "needs_background": "light"
     },
     "output_type": "display_data"
    }
   ],
   "source": [
    "if True:\n",
    "    # run model which has a loss of the MSE (i.e. no higher order terms)\n",
    "    loss_history_w1, trained_model_w1, time_w1, MSE_w1 = run_model(iterations=iterations, x_range=x_range, \n",
    "                                                                   A=A, v_list=v_list, hid_lay=hid_lay,\n",
    "                                                                   num_equations=num_equations, \n",
    "                                                                   true_functs=true_functs)\n",
    "\n",
    "    # plot the total loss, network vs true solution, and MSE\n",
    "    plot_loss_mse_and_solution(x_range=x_range, true_functs=true_functs, iterations=iterations, \n",
    "                               trained_model=trained_model_w1, \n",
    "                               train_losses=loss_history_w1['Ltotal_losses'], \n",
    "                               loss_label='Total Loss ($L_D$)', mses=MSE_w1)\n",
    "\n",
    "#     save the model \n",
    "#     torch.save(trained_model_w1, \"./trained_model_40000.pt\")"
   ]
  },
  {
   "cell_type": "markdown",
   "id": "259e919b",
   "metadata": {},
   "source": [
    "# Sanity Check Formula Construction"
   ]
  },
  {
   "cell_type": "code",
   "execution_count": null,
   "id": "4cd9b234",
   "metadata": {},
   "outputs": [],
   "source": [
    "rng = np.random.default_rng()\n",
    "t_eval = torch.arange(0, 2, 0.001, requires_grad=True)\n",
    "t_eval = t_eval[rng.integers(low=0, high=2000, size=500)]\n",
    "t_eval = t_eval.reshape(-1, 1)\n",
    "\n",
    "# forward pass to extract H \n",
    "output, H = trained_model_w1(t_eval) \n",
    "H = torch.cat((torch.ones(len(t_eval), 1), H), 1)\n",
    "dH_dt_old = torch.autograd.functional.jacobian(trained_model_w1, t_eval, create_graph=True)[1].sum(axis=2)"
   ]
  },
  {
   "cell_type": "code",
   "execution_count": null,
   "id": "76a89627",
   "metadata": {},
   "outputs": [],
   "source": [
    "dH_dt = torch.cat((torch.zeros(len(t_eval), 1, 1), dH_dt_old), 1)\n",
    "bias = list(trained_model_w1.parameters())[-1].unsqueeze(dim=-1).T\n",
    "w_r = list(trained_model_w1.parameters())[-2].detach().T\n",
    "w_r_new = torch.cat((bias, w_r), 0).T"
   ]
  },
  {
   "cell_type": "markdown",
   "id": "4682c03b",
   "metadata": {},
   "source": [
    "### Empirically transfer learn to compute the w_out"
   ]
  },
  {
   "cell_type": "code",
   "execution_count": 18,
   "id": "f92f25df",
   "metadata": {},
   "outputs": [],
   "source": [
    "# freeze all weights but the last layer\n",
    "for n, p in trained_model_w1.named_parameters():\n",
    "    if 'output' not in n:\n",
    "        p.requires_grad = False\n",
    "                 \n",
    "# step 1: write code to freeze all but output.weight and output.bias\n",
    "\n",
    "# step 2: extract run_model code from function and paste in new cell --> use the trained model instead of a new model (but use new optimzer and loss as before)\n",
    "\n",
    "# step 3: randomly change output.weight and output.bias in trained_model_w1 before training\n",
    "\n",
    "# step 4: train the network\n",
    "\n",
    "# step 5: compare the W_out from step 4 against the W_out we originally find without this transfer learning\n"
   ]
  },
  {
   "cell_type": "code",
   "execution_count": 19,
   "id": "0269c259",
   "metadata": {},
   "outputs": [
    {
     "data": {
      "text/plain": [
       "{'state': {},\n",
       " 'param_groups': [{'lr': 0.001,\n",
       "   'momentum': 0.9,\n",
       "   'dampening': 0,\n",
       "   'weight_decay': 0,\n",
       "   'nesterov': False,\n",
       "   'maximize': False,\n",
       "   'foreach': None,\n",
       "   'params': [0, 1, 2, 3, 4, 5, 6, 7]}]}"
      ]
     },
     "execution_count": 19,
     "metadata": {},
     "output_type": "execute_result"
    }
   ],
   "source": [
    "# test =  torch.optim.SGD(trained_model_w1.parameters(), lr=0.001, momentum=0.9) \n",
    "\n",
    "# test.state_dict()"
   ]
  },
  {
   "cell_type": "code",
   "execution_count": 124,
   "id": "6a7c5148",
   "metadata": {},
   "outputs": [
    {
     "data": {
      "text/plain": [
       "Parameter containing:\n",
       "tensor([[ 0.1449, -0.1250,  0.0591, -0.0828,  0.0420, -0.1288, -0.0015,  0.1367,\n",
       "         -0.1260, -0.1393, -0.0705, -0.0229,  0.0178,  0.1134, -0.0480,  0.0238,\n",
       "         -0.0352,  0.0576,  0.0797, -0.0767, -0.0357, -0.0885,  0.0057, -0.0738,\n",
       "         -0.1103,  0.0948,  0.0855, -0.0134, -0.0430,  0.0726,  0.1585, -0.0642,\n",
       "          0.0554,  0.0474,  0.0352,  0.0447,  0.1372, -0.1235,  0.0064, -0.0629,\n",
       "         -0.1466, -0.1507, -0.0440, -0.0026, -0.1623,  0.1020, -0.0649,  0.1200,\n",
       "         -0.0095, -0.0217, -0.0870, -0.0124,  0.1185,  0.0385, -0.0816,  0.0418,\n",
       "         -0.1271,  0.0586, -0.0580, -0.0237,  0.0005, -0.0724,  0.0811, -0.0798],\n",
       "        [ 0.0656,  0.0342, -0.1502, -0.1180,  0.2668, -0.0610,  0.1504,  0.1323,\n",
       "          0.0246, -0.1322, -0.0581,  0.0901,  0.0146,  0.0876,  0.0438, -0.1496,\n",
       "          0.1570,  0.0616,  0.2458, -0.1355,  0.2010,  0.2717,  0.1097,  0.1326,\n",
       "          0.0601,  0.0829,  0.0016, -0.0635, -0.0763,  0.0843,  0.0132,  0.0655,\n",
       "          0.1794, -0.2923,  0.1165,  0.0202, -0.0361, -0.1099, -0.0768,  0.1257,\n",
       "         -0.1794,  0.0029, -0.1628,  0.0125, -0.0478,  0.0754, -0.0242, -0.0177,\n",
       "         -0.1429, -0.2363, -0.0737, -0.0389, -0.0346, -0.1782, -0.1316,  0.1761,\n",
       "         -0.2022,  0.1368,  0.0061, -0.0489,  0.0885, -0.1076, -0.1863, -0.0444]],\n",
       "       requires_grad=True)"
      ]
     },
     "execution_count": 124,
     "metadata": {},
     "output_type": "execute_result"
    }
   ],
   "source": [
    "# set-up the optimizer (consider using the same optimizer from before)\n",
    "optimizer = torch.optim.SGD(trained_model_w1.parameters(), lr=0.001, momentum=0.9) \n",
    "\n",
    "# if using a new optimizer doesn't work, consider using the optimizer state from before\n",
    "\n",
    "# extract the min and max range of x values to sample\n",
    "min_x, max_x = 0, 2\n",
    "\n",
    "# create a random number generator for loss computation\n",
    "rng = np.random.default_rng()\n",
    "v = v_list[3]\n",
    "\n",
    "for i in range(100):\n",
    "\n",
    "    # every batch, randomly sample from min and max range\n",
    "    x = torch.arange(min_x, max_x, 0.001, requires_grad=True)\n",
    "    x = x[rng.integers(low=0, high=len(x), size=500)]\n",
    "    x = x.reshape(-1, 1)\n",
    "\n",
    "    # forward: compute loss\n",
    "    curr_loss = loss(x, A, v, trained_model_w1)\n",
    "    \n",
    "    # backward: backpropagation\n",
    "    curr_loss['L_total'].backward()\n",
    "\n",
    "    # update weights and reset the gradients\n",
    "    optimizer.step() \n",
    "    optimizer.zero_grad() \n",
    "\n",
    "list(trained_model_w1.parameters())[-2]"
   ]
  },
  {
   "cell_type": "code",
   "execution_count": 126,
   "id": "35747621",
   "metadata": {},
   "outputs": [],
   "source": [
    "# optimizer.state_dict()"
   ]
  },
  {
   "cell_type": "code",
   "execution_count": null,
   "id": "1ddbdc50",
   "metadata": {},
   "outputs": [],
   "source": []
  },
  {
   "cell_type": "code",
   "execution_count": null,
   "id": "19497dc4",
   "metadata": {},
   "outputs": [],
   "source": [
    "# compute dH_dt times dH_dt transpose and sum across time\n",
    "dH_dt_times_dH_dt_T = (torch.matmul(dH_dt, dH_dt.mT).sum(axis=0)) / len(t_eval)\n",
    "first_term = torch.matmul(w_r_new, dH_dt_times_dH_dt_T)\n",
    "\n",
    "# compute dH_dt times H transpose and sum across time\n",
    "new_H = torch.unsqueeze(H, dim=-1)\n",
    "dH_dt_times_H_T = (torch.matmul(dH_dt, new_H.mT).sum(axis=0)) / len(t_eval)\n",
    "second_term = torch.matmul(A.T, w_r_new)\n",
    "second_term = torch.matmul(second_term, dH_dt_times_H_T)\n",
    "\n",
    "# compute H times dH_dt transpose and sum across time\n",
    "H_times_dH_dt_T = (torch.matmul(new_H, dH_dt.mT).sum(axis=0)) / len(t_eval)\n",
    "third_term = torch.matmul(A, w_r_new)\n",
    "third_term = torch.matmul(third_term, H_times_dH_dt_T)\n",
    "\n",
    "# compute H times H transpose and sum across time\n",
    "H_times_H_T = (torch.matmul(new_H, new_H.mT).sum(axis=0)) / len(t_eval)\n",
    "fourth_term = torch.matmul(A.T, A)\n",
    "fourth_term = torch.matmul(fourth_term, w_r_new)\n",
    "fourth_term = torch.matmul(fourth_term, H_times_H_T)\n",
    "\n",
    "# compute H_0 times H_0 transpose\n",
    "output_0, H_0 = trained_model_w1(torch.tensor([[0.]], dtype=torch.float32, requires_grad=True))\n",
    "H_0 = torch.cat((torch.ones(1, 1), H_0), 1)\n",
    "H_0_T_times_H_0 = torch.matmul(H_0.T, H_0)\n",
    "fifth_term = torch.matmul(w_r_new, H_0_T_times_H_0)\n",
    "\n",
    "RHS = torch.matmul(v, H_0) - fifth_term\n",
    "LHS = first_term + second_term + third_term + fourth_term\n",
    "\n",
    "loss_vals_to_plot = (LHS - RHS).detach().numpy().reshape(-1, 1)\n",
    "plt.hist(loss_vals_to_plot);\n",
    "plt.title(\"Check Original Equation\")\n",
    "plt.xlabel(\"Loss\")\n",
    "plt.ylabel(\"Frequency\");"
   ]
  },
  {
   "cell_type": "markdown",
   "id": "65be7782",
   "metadata": {},
   "source": [
    "# Unstable Behavior?"
   ]
  },
  {
   "cell_type": "code",
   "execution_count": null,
   "id": "1c77d691",
   "metadata": {},
   "outputs": [],
   "source": [
    "# # a and b are not identical?\n",
    "# a = (torch.matmul(dH_dt, dH_dt.mT).sum(axis=0)) / 500 + (torch.matmul(dH_dt, new_H.mT).sum(axis=0)) / 500 \n",
    "\n",
    "# b = torch.matmul(dH_dt, dH_dt.mT) + torch.matmul(dH_dt, new_H.mT)\n",
    "# b = b.sum(axis=0)\n",
    "# b = b / 500"
   ]
  },
  {
   "cell_type": "markdown",
   "id": "af8b523b",
   "metadata": {},
   "source": [
    "# Oracle Approach to Find W"
   ]
  },
  {
   "cell_type": "code",
   "execution_count": null,
   "id": "23f25782",
   "metadata": {},
   "outputs": [],
   "source": [
    "H_summation = dH_dt_times_dH_dt_T + dH_dt_times_H_T + H_times_dH_dt_T + H_times_H_T + H_0_T_times_H_0\n",
    "inv_H_summation = torch.linalg.inv(H_summation)\n",
    "W_oracle = torch.matmul(torch.matmul(v, H_0), inv_H_summation)\n",
    "W_oracle"
   ]
  },
  {
   "cell_type": "code",
   "execution_count": null,
   "id": "306abb5b",
   "metadata": {},
   "outputs": [],
   "source": [
    "# this happened to work one time, but ONLY with pinv and not when we combine the sums and divisions\n",
    "summ_term = (torch.matmul(dH_dt, dH_dt.mT).sum(axis=0)) / 500 + \\\n",
    "(torch.matmul(dH_dt, new_H.mT).sum(axis=0)) / 500 + \\\n",
    "(torch.matmul(new_H, dH_dt.mT).sum(axis=0)) / 500 + \\\n",
    "(torch.matmul(new_H, new_H.mT).sum(axis=0)) / 500 + torch.matmul(H_0.T, H_0)\n",
    "\n",
    "# summ_term = summ_term.sum(axis=0)\n",
    "# summ_term = summ_term / len(t_eval)\n",
    "summ_term = torch.linalg.pinv(summ_term)\n",
    "W_oracle2 = torch.matmul(torch.matmul(v, H_0), summ_term)\n",
    "\n",
    "W_oracle2"
   ]
  },
  {
   "cell_type": "markdown",
   "id": "e453491c",
   "metadata": {},
   "source": [
    "# Validating $RWP  = U_0 * H_0^T$ Math  - Step by Step"
   ]
  },
  {
   "cell_type": "code",
   "execution_count": null,
   "id": "4b56d0d9",
   "metadata": {},
   "outputs": [],
   "source": [
    "# compute the P matrix \n",
    "P = torch.cat([dH_dt_times_dH_dt_T, dH_dt_times_H_T, H_times_dH_dt_T, H_times_H_T, H_0_T_times_H_0], dim=0)\n",
    "# compute the R matrix\n",
    "ones_mtx = torch.ones(num_equations, num_equations)\n",
    "ones_mtx[0, 1] = 0\n",
    "ones_mtx[1, 0] = 0\n",
    "R = torch.cat([ones_mtx, A.T, A, torch.matmul(A.T, A), ones_mtx], dim=0).T\n",
    "\n",
    "zero_mat = torch.zeros((2, 65))\n",
    "\n",
    "W1 = torch.cat([w_r_new, zero_mat, zero_mat, zero_mat, zero_mat])\n",
    "W2 = torch.cat([zero_mat, w_r_new, zero_mat, zero_mat, zero_mat])\n",
    "W3 = torch.cat([zero_mat, zero_mat, w_r_new, zero_mat, zero_mat])\n",
    "W4 = torch.cat([zero_mat, zero_mat, zero_mat, w_r_new, zero_mat])\n",
    "W5 = torch.cat([zero_mat, zero_mat, zero_mat, zero_mat, w_r_new])\n",
    "W = torch.cat([W1, W2, W3, W4, W5], dim=1)"
   ]
  },
  {
   "cell_type": "code",
   "execution_count": null,
   "id": "8b549985",
   "metadata": {},
   "outputs": [],
   "source": [
    "# CHECKING R * W * P = U_0 * H_0.T\n",
    "RW = torch.matmul(R, W)\n",
    "RWP = torch.matmul(RW, P)\n",
    "overall1 = RWP - torch.matmul(v, H_0)\n",
    "plt.hist(overall1.detach().numpy().reshape(-1,1));\n",
    "plt.title(\"Compute $R * W * P = U_0 * H_0.T$\");"
   ]
  },
  {
   "cell_type": "code",
   "execution_count": null,
   "id": "2bf19c0c",
   "metadata": {},
   "outputs": [],
   "source": [
    "# CHECKING R.T * R * W * P = R.T * U_0 * H_0.T\n",
    "R_T_R = torch.matmul(R.T, R)\n",
    "R_T_R_W = torch.matmul(R_T_R, W)\n",
    "R_T_R_W_P = torch.matmul(R_T_R_W, P)\n",
    "R_T_u_0 = torch.matmul(R.T, v)\n",
    "R_T_u_0_H_0_T = torch.matmul(R_T_u_0, H_0)\n",
    "overall2 = R_T_u_0_H_0_T - R_T_R_W_P\n",
    "plt.hist(overall2.detach().numpy().reshape(-1,1));\n",
    "plt.xticks(rotation=45)\n",
    "plt.title(\"Compute R.T * R * W * P = R.T * U_0 * H_0.T\");"
   ]
  },
  {
   "cell_type": "code",
   "execution_count": null,
   "id": "030e32a8",
   "metadata": {},
   "outputs": [],
   "source": [
    "# CHECKING W * P = (R.T * R) ^ -1 * R.T * U_0 * H_0.T\n",
    "W_P = torch.matmul(W, P)\n",
    "R_T_R = torch.matmul(R.T, R)\n",
    "R_T_R_inv = torch.linalg.pinv(R_T_R)\n",
    "R_T_R_inv_R_T = torch.matmul(R_T_R_inv, R.T)\n",
    "R_T_R_inv_R_T_u_0 = torch.matmul(R_T_R_inv_R_T, v)\n",
    "R_T_R_inv_R_T_u_0_H_0 = torch.matmul(R_T_R_inv_R_T_u_0, H_0)\n",
    "\n",
    "overall3 = R_T_R_inv_R_T_u_0_H_0 - W_P\n",
    "plt.hist(overall3.detach().numpy().reshape(-1,1));\n",
    "plt.title(\"Compute $W * P = (R.T * R)^-1 * R.T * U_0 * H_0.T$\");"
   ]
  },
  {
   "cell_type": "code",
   "execution_count": null,
   "id": "cdc0741f",
   "metadata": {},
   "outputs": [],
   "source": [
    "# compute RW = U_0 * H_0.T * P_T * (P * P_T) ^ -1\n",
    "R_W = torch.matmul(R, W)\n",
    "u_o_H_0 = torch.matmul(v, H_0)\n",
    "u_o_H_0_PT = torch.matmul(u_o_H_0, P.T)\n",
    "P_PT = torch.matmul(P, P.T)\n",
    "P_P_T_inv = torch.linalg.pinv(P_PT)\n",
    "overall = torch.matmul(u_o_H_0_PT, P_P_T_inv)\n",
    "\n",
    "to_plot = overall - R_W\n",
    "plt.hist(to_plot.detach().numpy().reshape(-1,1));\n",
    "plt.title(\"Compute RW = U_0 * H_0.T * P_T * (P * P_T) ^ -1\");"
   ]
  },
  {
   "cell_type": "code",
   "execution_count": null,
   "id": "0035aa93",
   "metadata": {},
   "outputs": [],
   "source": [
    "# compute RW = U_0 * H_0.T * P_T * (P * P_T) ^ -1 (using P matrix perturbation on diagonal)\n",
    "R_W = torch.matmul(R, W)\n",
    "u_o_H_0 = torch.matmul(v, H_0)\n",
    "u_o_H_0_PT = torch.matmul(u_o_H_0, P.T)\n",
    "P_PT = torch.matmul(P, P.T)\n",
    "small_vals = torch.full((325, 1), 1e-5)\n",
    "diag_mat = torch.diag(small_vals.reshape(325))\n",
    "P_PT = P_PT + diag_mat\n",
    "P_P_T_inv = torch.linalg.pinv(P_PT)\n",
    "overall = torch.matmul(u_o_H_0_PT,  P_P_T_inv)\n",
    "\n",
    "to_plot = overall - R_W\n",
    "plt.hist(to_plot.detach().numpy().reshape(-1,1));\n",
    "plt.title(\"Compute RW = U_0 * H_0.T * P_T * (P * P_T) ^ -1\");"
   ]
  },
  {
   "cell_type": "code",
   "execution_count": null,
   "id": "37d6024e",
   "metadata": {},
   "outputs": [],
   "source": [
    "plt.scatter(t_eval.detach().numpy(), torch.matmul(W_oracle2, H.T)[0].detach().numpy(), label= 'oracle 1');\n",
    "plt.scatter(t_eval.detach().numpy(), torch.matmul(W[0:2, 0:65], H.T)[0].detach().numpy(), label='truth 1', s=8);\n",
    "plt.scatter(t_eval.detach().numpy(), torch.matmul(W_oracle2, H.T)[1].detach().numpy(), label= 'oracle 2');\n",
    "plt.scatter(t_eval.detach().numpy(), torch.matmul(W[0:2, 0:65], H.T)[1].detach().numpy(), label='truth 2', s=8);\n",
    "# plt.scatter(t_eval.detach().numpy(), torch.matmul(w_transfer[0:2, 0:65], H.T)[0].detach().numpy(), label= 'transfer 1');\n",
    "# plt.scatter(t_eval.detach().numpy(), torch.matmul(w_transfer[0:2, 0:65], H.T)[1].detach().numpy(), label= 'transfer 2');\n",
    "# plt.scatter(t_eval.detach().numpy(), torch.matmul(RW_lst_sqr[0:2, 0:65], H.T)[0].detach().numpy(), label= 'lstq 1');\n",
    "# plt.scatter(t_eval.detach().numpy(), torch.matmul(RW_lst_sqr[0:2, 0:65], H.T)[1].detach().numpy(),label= 'lstq 2');\n",
    "plt.legend();\n",
    "\n",
    "\n"
   ]
  },
  {
   "cell_type": "markdown",
   "id": "baba0799",
   "metadata": {},
   "source": [
    "# Least Squares Approach to solve $RWP = U_0 * H_0^T$"
   ]
  },
  {
   "cell_type": "code",
   "execution_count": null,
   "id": "36f5703f",
   "metadata": {},
   "outputs": [],
   "source": [
    "# # WP = u_0 * H_o ^ T \n",
    "# a = P.T\n",
    "# b = torch.matmul(H_0.T, v.T)\n",
    "# lst_sol = torch.linalg.lstsq(a, b, rcond=None, driver=None).solution\n",
    "# RW_lst_sqr = lst_sol.T\n",
    "# RW_lst_sqr[0:2, 0:65]"
   ]
  },
  {
   "cell_type": "markdown",
   "id": "1b79b255",
   "metadata": {},
   "source": [
    "# Transfer Learning Approach to solve $RWP = U_0 * H_0^T$"
   ]
  },
  {
   "cell_type": "code",
   "execution_count": null,
   "id": "8c33474b",
   "metadata": {},
   "outputs": [],
   "source": [
    "# create a t to take derivative with respect to \n",
    "# rng = np.random.default_rng()\n",
    "# t_eval = torch.arange(0, 2, 0.001, requires_grad=True)\n",
    "# t_eval = t_eval[rng.integers(low=0, high=2000, size=500)]\n",
    "# t_eval = t_eval.reshape(-1, 1)\n",
    "\n",
    "# forward pass to extract H \n",
    "output, H = trained_model_w1(t_eval) \n",
    "\n",
    "print(\"H shape before column of 1s: \", H.shape)\n",
    "H = torch.cat((torch.ones(len(t_eval), 1), H), 1)\n",
    "print(\"H shape after column of 1s: \", H.shape)\n",
    "\n",
    "# compute derivative w/r/t H and multiply it by its transpose\n",
    "dH_dt_old = torch.autograd.functional.jacobian(trained_model_w1 ,t_eval, create_graph=True)[1].sum(axis=2)\n",
    "\n",
    "print(\"dh_dt before adjusting: \", dH_dt_old.shape)\n",
    "dH_dt = torch.cat((torch.zeros(len(t_eval), 1, 1), dH_dt_old), 1)\n",
    "print(\"dh_dt after adjusting: \", dH_dt.shape)"
   ]
  },
  {
   "cell_type": "code",
   "execution_count": null,
   "id": "95637674",
   "metadata": {},
   "outputs": [],
   "source": [
    "# compute dH_dt times dH_dt transpose and sum across time\n",
    "dH_dt_times_dH_dt_T = (torch.matmul(dH_dt, dH_dt.mT).sum(axis=0)) / len(t_eval)\n",
    "print(\"dH_dt * dH_dt_T: \", dH_dt_times_dH_dt_T.shape)\n",
    "\n",
    "# compute dH_dt times H transpose and sum across time\n",
    "new_H = torch.unsqueeze(H, dim=-1)\n",
    "dH_dt_times_H_T = (torch.matmul(dH_dt, new_H.mT).sum(axis=0)) / len(t_eval)\n",
    "print(\"dH_dt * H_T: \", dH_dt_times_H_T.shape)\n",
    "\n",
    "# compute H times dH_dt transpose and sum across time\n",
    "H_times_dH_dt_T = (torch.matmul(new_H, dH_dt.mT).sum(axis=0)) / len(t_eval)\n",
    "print(\"H * dH_dt_T: \", H_times_dH_dt_T.shape)\n",
    "\n",
    "# compute H times H transpose and sum across time\n",
    "H_times_H_T = (torch.matmul(new_H, new_H.mT).sum(axis=0)) / len(t_eval)\n",
    "print(\"H * H_T: \", H_times_H_T.shape)\n",
    "\n",
    "# compute H_0 times H_0 transpose\n",
    "output_0, H_0 = trained_model_w1(torch.tensor([[0.]], dtype=torch.float32, requires_grad=True))\n",
    "print(\"H_0 shape before appending 1: \", H_0.shape)\n",
    "H_0 = torch.cat((torch.ones(1, 1), H_0), 1)\n",
    "print(\"H_0 shape after appending 1: \", H_0.shape)\n",
    "H_0_T_times_H_0 = torch.matmul(H_0.T, H_0)\n",
    "print(\"H_0_T * H_0 shape: \", H_0_T_times_H_0.shape)\n",
    "\n",
    "# compute the P matrix \n",
    "P = torch.cat([dH_dt_times_dH_dt_T, dH_dt_times_H_T, H_times_dH_dt_T, H_times_H_T, H_0_T_times_H_0], dim=0)\n",
    "print(\"P matrix shape: \", P.shape)\n",
    "\n",
    "# compute the R matrix\n",
    "ones_mtx = torch.ones(num_equations, num_equations)\n",
    "ones_mtx[0, 1] = 0 # TODO: don't do this, instead just build ones_mtx to be a diagonal matrix to begin with...\n",
    "ones_mtx[1, 0] = 0\n",
    "R = torch.cat([ones_mtx, A.T, A, torch.matmul(A.T, A), ones_mtx], dim=0).T\n",
    "print(\"R matrix shape: \", R.shape)"
   ]
  },
  {
   "cell_type": "code",
   "execution_count": null,
   "id": "094d948c",
   "metadata": {},
   "outputs": [],
   "source": [
    "# compute R transpose times R\n",
    "R_T_times_R = torch.matmul(R.T, R)\n",
    "# compute inverse of (R transpose times R) times R transpose\n",
    "R_chunk_inverse_times_R_T = torch.matmul(torch.linalg.pinv(R_T_times_R), R.T)\n",
    "\n",
    "# compute P times P transpose\n",
    "P_times_P_T = torch.matmul(P, P.T)\n",
    "# compute inverse of P times P transpose\n",
    "P_times_P_T_inverse = torch.linalg.pinv(P_times_P_T)\n",
    "\n",
    "# compute the \"W matrix\"\n",
    "w_transfer = torch.matmul(R_chunk_inverse_times_R_T, v)\n",
    "w_transfer = torch.matmul(w_transfer, H_0)\n",
    "w_transfer = torch.matmul(w_transfer, P.T)\n",
    "w_transfer = torch.matmul(w_transfer, P_times_P_T_inverse)"
   ]
  },
  {
   "cell_type": "code",
   "execution_count": null,
   "id": "839f23fd",
   "metadata": {},
   "outputs": [],
   "source": [
    "# true_f1 = lambda x: (0.5 * v[0] * np.exp(-1.1 * x) * (np.exp(2.2 * x) + 1) - (0.5 * v[1] * np.exp(-1.1 * x) * (np.exp(2.2 * x) - 1))).numpy()\n",
    "# true_f2 = lambda x: (0.5 * v[1] * np.exp(-1.1 * x) * (np.exp(2.2 * x) + 1) - (0.5 * v[0] * np.exp(-1.1 * x) * (np.exp(2.2 * x) - 1))).numpy()\n",
    "# yt1 = true_f1(t_eval.detach())\n",
    "# yt2 = true_f2(t_eval.detach())\n",
    "\n",
    "# transfer_learned = torch.matmul(W[0:2, 0:129], new_H).squeeze()\n",
    "# # transfer_learned = [torch.matmul(W[0:2, 0:129], new_H[i]) for i in range(500)]\n",
    "# ynet1 = transfer_learned[:, 0].detach()\n",
    "# ynet2 = transfer_learned[:, 1].detach()\n",
    "\n",
    "# plt.scatter(t_eval.detach(), yt1, label = 'Actual solution $u_1(t)$', s=5)\n",
    "# plt.scatter(t_eval.detach(), yt2, label = 'Actual solution $u_2(t)$', s=5)\n",
    "# plt.scatter(t_eval.detach(), ynet1, label = 'Network solution $u_1(t)$', s=5)\n",
    "# plt.scatter(t_eval.detach(), ynet2, label = 'Network solution $u_2(t)$', s=5)\n",
    "# plt.xlabel(\"t\")\n",
    "# plt.ylabel('y')\n",
    "# plt.title(\"Transfer Learning vs Analytical Solution\")\n",
    "# plt.legend();"
   ]
  },
  {
   "cell_type": "markdown",
   "id": "f74d017f",
   "metadata": {},
   "source": [
    "# Compare W from different approaches"
   ]
  },
  {
   "cell_type": "code",
   "execution_count": null,
   "id": "be3de4aa",
   "metadata": {},
   "outputs": [],
   "source": [
    "# true W\n",
    "RW = torch.matmul(R, W)\n",
    "RWP = torch.matmul(RW, P)\n",
    "overall1 = RWP - torch.matmul(v, H_0)\n",
    "plt.hist(overall1.detach().numpy().reshape(-1,1));\n",
    "plt.xticks(rotation=45)\n",
    "plt.title(\"Compute $R * W * P = U_0 * H_0.T$\");"
   ]
  },
  {
   "cell_type": "code",
   "execution_count": null,
   "id": "cbcde3a6",
   "metadata": {},
   "outputs": [],
   "source": [
    "# transfer learning by inverting R and P\n",
    "RW = torch.matmul(R, w_transfer)\n",
    "RWP = torch.matmul(RW, P)\n",
    "overall1 = RWP - torch.matmul(v, H_0)\n",
    "plt.hist(overall1.detach().numpy().reshape(-1,1));\n",
    "plt.xticks(rotation=45)\n",
    "plt.title(\"Compute $R * W * P = U_0 * H_0.T$\");"
   ]
  },
  {
   "cell_type": "code",
   "execution_count": null,
   "id": "00cb8707",
   "metadata": {},
   "outputs": [],
   "source": [
    "# TODO:\n",
    "\n",
    "# 1. figure out how:\n",
    "    # the torch.autograd.grad is working with du/dt\n",
    "    # understand the number of parameters in the model.parameters() of the network\n",
    "    # understand why we add bias the way we do in testing the formula\n",
    "    # re-write jacobian so it is way faster (use gradient function)\n",
    "\n",
    "\n",
    "# 2. add the higher order terms, L_D and L_DD, etc?\n",
    "\n",
    "# 3. figure out how to add the the norm term in the loss function\n",
    "\n",
    "# 4. see which parts of the formula are dependent on time and ask Pavlos how that works\n",
    "    # (changing W_o means that only u_o will change eventually?)\n",
    "\n",
    "# 5. try using a different diff. equation\n",
    "\n",
    "# 6. make loss function proper"
   ]
  },
  {
   "cell_type": "markdown",
   "id": "968a600e",
   "metadata": {},
   "source": [
    "# Appendix"
   ]
  },
  {
   "cell_type": "markdown",
   "id": "aa7898bc",
   "metadata": {},
   "source": [
    "### Notes:\n",
    "\n",
    "- $u_t = lambda$ $t: A + t * model(t)$ is outdated, so we use $ u_t = lambda$ $t: A + (1 - exp(-t)) * model(t)$\n",
    "\n",
    "- We are solving $\\frac{du}{dt} + \\lambda * u = 0$ where $f = -\\lambda * u$\n",
    "\n",
    "- Old Model Code: model = nn.Sequential(nn.Linear(1, 64), nn.Tanh(), nn.Linear(64, 64), nn.Tanh(), nn.Linear(64,1))\n",
    "\n",
    "- Old solution parametrization: u_t = lambda t: A + (1 - torch.exp(-t)) * model(t)\n",
    "\n",
    "- Original normalization term: norm_term = 1 / u_t(torch.tensor([[0]], dtype=torch.float32)) ** 2"
   ]
  }
 ],
 "metadata": {
  "kernelspec": {
   "display_name": "Python 3",
   "language": "python",
   "name": "python3"
  },
  "language_info": {
   "codemirror_mode": {
    "name": "ipython",
    "version": 3
   },
   "file_extension": ".py",
   "mimetype": "text/x-python",
   "name": "python",
   "nbconvert_exporter": "python",
   "pygments_lexer": "ipython3",
   "version": "3.7.13"
  }
 },
 "nbformat": 4,
 "nbformat_minor": 5
}
