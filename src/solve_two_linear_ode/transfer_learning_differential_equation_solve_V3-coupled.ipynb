{
 "cells": [
  {
   "cell_type": "code",
   "execution_count": 1,
   "id": "91f732e6",
   "metadata": {},
   "outputs": [
    {
     "name": "stderr",
     "output_type": "stream",
     "text": [
      "/Users/HariRaval/miniconda3/envs/thesis/lib/python3.7/site-packages/tqdm/auto.py:22: TqdmWarning: IProgress not found. Please update jupyter and ipywidgets. See https://ipywidgets.readthedocs.io/en/stable/user_install.html\n",
      "  from .autonotebook import tqdm as notebook_tqdm\n"
     ]
    }
   ],
   "source": [
    "# imports\n",
    "import torch\n",
    "import torch.nn as nn\n",
    "import matplotlib.pyplot as plt\n",
    "import numpy as np\n",
    "import time\n",
    "from collections import defaultdict"
   ]
  },
  {
   "cell_type": "code",
   "execution_count": 2,
   "id": "f871b7f9",
   "metadata": {},
   "outputs": [],
   "source": [
    "# calculate du^ n / dt^n for arbitrary n and use this to create a loss term\n",
    "def compute_derivative(u, t, norm_term, num_u_vectors):\n",
    "    \n",
    "    # compute derivative of outputs with respect to inputs \n",
    "    derivs_list = []\n",
    "    for i in range(num_u_vectors):\n",
    "        # individually compute du/dt for each u and combine them all togteher afterwards\n",
    "        du_dt = torch.autograd.grad(u[:, i, :], t, grad_outputs=torch.ones_like(u[:, i, :]), create_graph=True)[0]\n",
    "        derivs_list.append(du_dt)\n",
    "\n",
    "    deriv_to_t = torch.stack(derivs_list, dim=1) \n",
    "    \n",
    "    return deriv_to_t\n",
    "\n",
    "# build the loss function\n",
    "def loss(x, A, v, model):\n",
    "    \n",
    "    # loss results\n",
    "    loss_dict = {}\n",
    "            \n",
    "    # create the trial solution\n",
    "    model_result = lambda t: model(t)[0]\n",
    "    u = model_result(x).unsqueeze(dim=-1)\n",
    "    \n",
    "    # determine the number of u vectors\n",
    "    num_u_vectors = u.shape[1]\n",
    "        \n",
    "    # compute A * u\n",
    "    A_times_u = torch.matmul(A, u)\n",
    "    \n",
    "    # compute du/dt (Note: each u is computed separately to avoid torch.autograd.grad() summing them together)\n",
    "    du_dt = compute_derivative(u, x, 0, num_u_vectors)\n",
    "    # du_dt = torch.autograd.functional.jacobian(model_result, x, create_graph=True).sum(axis=2) \n",
    "\n",
    "    # compute the L_T term\n",
    "    L_t_term = du_dt + A_times_u\n",
    "    L_t = torch.matmul(L_t_term.mT, L_t_term)\n",
    "    \n",
    "    # compute the L_0 term\n",
    "    u_0 = model_result(torch.tensor([[0]], dtype=torch.float32))[0].unsqueeze(dim=-1)\n",
    "    L_0_term = u_0 - v\n",
    "    L_0 = torch.matmul(L_0_term.T, L_0_term)\n",
    "    \n",
    "    # compute the overall loss \n",
    "    L = torch.mean(L_t) + L_0\n",
    "    \n",
    "    # normalize loss and use it to compute the normalization factor\n",
    "    # norm_term1, norm_term2 = 1 / As[0] ** 2, 1 / As[1] ** 2 ---> these are now 1 / v[0] **2 (I.C.)\n",
    "    \n",
    "    loss_dict['L_D'] = L\n",
    "    loss_dict['L_total'] = L\n",
    "\n",
    "    return loss_dict\n"
   ]
  },
  {
   "cell_type": "code",
   "execution_count": 3,
   "id": "2a1adb98",
   "metadata": {},
   "outputs": [],
   "source": [
    "# class to build the network \n",
    "class BuildNetwork(nn.Module):\n",
    "    def __init__(self, input_size, h_size1, h_size2, h_size3, output_size):\n",
    "        super(BuildNetwork, self).__init__()\n",
    "        self.l1 = nn.Linear(input_size, h_size1)\n",
    "        self.tanh = nn.Tanh()\n",
    "        self.l2 = nn.Linear(h_size1, h_size2)\n",
    "        self.l3 = nn.Linear(h_size2, h_size3)\n",
    "        self.output = nn.Linear(h_size3, output_size)\n",
    "        \n",
    "    def forward(self, x):\n",
    "        result = self.l1(x)\n",
    "        result = self.tanh(result)\n",
    "        result = self.l2(result)\n",
    "        result = self.tanh(result)\n",
    "        result = self.l3(result)\n",
    "        h = self.tanh(result)\n",
    "        result = self.output(h)\n",
    "        \n",
    "        return result, h"
   ]
  },
  {
   "cell_type": "code",
   "execution_count": 4,
   "id": "08b54931",
   "metadata": {},
   "outputs": [],
   "source": [
    "# train and evaluate the model\n",
    "def run_model(iterations, x_range, A, v_list, hid_lay, num_equations, true_functs):\n",
    "        \n",
    "    assert num_equations > 0, 'The number of equations must be >= 1'\n",
    "    \n",
    "    # build the neural net model\n",
    "    model = BuildNetwork(1, hid_lay[0], hid_lay[1], hid_lay[2], num_equations)\n",
    "    # set-up the optimizer\n",
    "    optimizer = torch.optim.SGD(model.parameters(), lr=0.001, momentum=0.9)\n",
    "    # create a learning rate scheduler\n",
    "    scheduler = torch.optim.lr_scheduler.ExponentialLR(optimizer, gamma=0.99)\n",
    "    \n",
    "    # extract the min and max range of x values to sample\n",
    "    min_x, max_x = x_range\n",
    "    \n",
    "    # create a random number generator for loss computation\n",
    "    rng = np.random.default_rng()\n",
    "    \n",
    "    # store loss and mse values\n",
    "    loss_history = defaultdict(list)\n",
    "    MSEs = []\n",
    "    current_v_idx = -1\n",
    "    \n",
    "    start_time = time.time()\n",
    "    \n",
    "    for i in range(iterations):\n",
    "        \n",
    "        if i % 5000 == 0: \n",
    "            print(f\"Iteration {i + 1} starting\")\n",
    "            current_v_idx += 1\n",
    "            v = v_list[current_v_idx]\n",
    "            print(v)\n",
    "        \n",
    "        # every batch, randomly sample from min and max range\n",
    "        x = torch.arange(min_x, max_x, 0.001, requires_grad=True)\n",
    "        x = x[rng.integers(low=0, high=len(x), size=500)]\n",
    "        x = x.reshape(-1, 1)\n",
    "\n",
    "        # forward: compute loss\n",
    "        curr_loss = loss(x, A, v, model)\n",
    "        \n",
    "        # store individual loss terms for plotting\n",
    "        loss_history['LD_losses'].append(curr_loss['L_D'].item())\n",
    "        loss_history['Ltotal_losses'].append(curr_loss['L_total'].item())\n",
    "            \n",
    "        # backward: backpropagation\n",
    "        curr_loss['L_total'].backward()\n",
    "        \n",
    "        # update weights and reset the gradients\n",
    "        optimizer.step() \n",
    "        optimizer.zero_grad() \n",
    "        \n",
    "        # learning rate update\n",
    "        # scheduler.step()\n",
    "        \n",
    "        # compute the mse\n",
    "        with torch.no_grad():\n",
    "            current_mse = 0\n",
    "            for i in range(num_equations):\n",
    "                network_sol_i = model(x)[0][:, i].unsqueeze(dim=1).numpy()\n",
    "                true_sol_i = true_functs[i](x)\n",
    "                current_mse += np.mean((true_sol_i - network_sol_i) ** 2)\n",
    "            MSEs.append(current_mse)\n",
    "               \n",
    "    end_time = time.time()\n",
    "    total_time = end_time - start_time\n",
    "    \n",
    "    print(f\"Model Training Complete in{total_time: .3f} seconds\")\n",
    "    \n",
    "    return loss_history, model, total_time, MSEs"
   ]
  },
  {
   "cell_type": "code",
   "execution_count": 5,
   "id": "e9c934eb",
   "metadata": {},
   "outputs": [],
   "source": [
    "# function to plot the neural network vs exact solution\n",
    "def plot_solution(x_range, true_functs, trained_model, axis):\n",
    "    \n",
    "    # function to extract the model results\n",
    "    model_result = lambda t: trained_model(t)[0]\n",
    "    \n",
    "    # x values to predict on\n",
    "    min_x, max_x = x_range\n",
    "    xx = np.linspace(min_x, max_x, 200)[:, None]\n",
    "\n",
    "    # find the model results\n",
    "    u = model_result(torch.Tensor(xx))\n",
    "    # determine the number of curves to plot\n",
    "    num_curves = u.shape[1]\n",
    "    # store the true solutions and network solutions\n",
    "    yys, yts = [], []\n",
    "\n",
    "    # save the network solutions in a list for plotting \n",
    "    with torch.no_grad():\n",
    "        for i in range(num_curves):\n",
    "            yys.append(u[:, i].numpy())\n",
    "            yts.append(true_functs[i](xx))\n",
    "    \n",
    "    # plot the true solutions\n",
    "    for i in range(num_curves):\n",
    "         axis.plot(xx, yts[i], label=f'Actual Solution $u_{i+1}(t)$')\n",
    "     \n",
    "    # plot the network solutions\n",
    "    for i in range(num_curves):\n",
    "        axis.plot(xx, yys[i], '--', label=f'Neural Network Solution $u_{i+1}(t)$')\n",
    "            \n",
    "    axis.set_title(\"u(t) vs t for Actual and Approximation\")\n",
    "    axis.set_xlabel('$t$')\n",
    "    axis.set_ylabel('$u(t)$')\n",
    "    axis.legend(loc='best')\n",
    "    \n",
    "# function to plot the overall loss of the network solution\n",
    "def plot_total_loss(iterations, train_losses, axis, loss_label):\n",
    "    axis.plot(range(iterations), train_losses, label=loss_label)\n",
    "    axis.set_yscale(\"log\")\n",
    "    axis.set_title(\"Total Loss vs Iterations\")\n",
    "    axis.set_xlabel('Iterations')\n",
    "    axis.set_ylabel('Loss')\n",
    "    axis.legend(loc='best')\n",
    "    \n",
    "# function to plot the MSEs\n",
    "def plot_mse(iterations, mses, axis):\n",
    "    axis.plot(range(iterations), mses, label='MSE')\n",
    "    axis.set_yscale(\"log\")\n",
    "    axis.set_title(\"MSE vs Iterations\")\n",
    "    axis.set_xlabel('Iterations')\n",
    "    axis.set_ylabel('MSE')\n",
    "    axis.legend(loc='best')\n",
    "    \n",
    "# wrapper function to plot the solution and the overall loss & MSE of the network solution\n",
    "def plot_loss_mse_and_solution(x_range, true_functs, iterations, trained_model, train_losses, \n",
    "                               loss_label, mses):\n",
    "    \n",
    "    fig, axs = plt.subplots(1, 3,  tight_layout=True, figsize=(24, 8))\n",
    "    \n",
    "    plot_total_loss(iterations=iterations, train_losses=train_losses, \n",
    "                    axis=axs[0], loss_label=loss_label)\n",
    "    plot_solution(x_range=x_range, true_functs=true_functs, \n",
    "                  trained_model=trained_model, axis=axs[1])\n",
    "    plot_mse(iterations=iterations, mses=mses, axis=axs[2])\n",
    "    \n",
    "    plt.show()"
   ]
  },
  {
   "cell_type": "code",
   "execution_count": 6,
   "id": "9c7b6ee7",
   "metadata": {},
   "outputs": [],
   "source": [
    "# set-up differential equation parameters for network\n",
    "x_range = [0, 2]\n",
    "A = torch.tensor([[0, 1.1], [1.1, 0]])  # coupled equations\n",
    "# A = torch.tensor([[1.1, 0], [0, 1.1]]) # non-coupled equations\n",
    "# v_list = [torch.tensor([[0.12], [0.35]]), torch.tensor([[0.87], [0.62]]), \n",
    "#           torch.tensor([[0.34], [0.69]]), torch.tensor([[0.75], [0.25]])]\n",
    "v_list = [torch.tensor([[0.12], [0.35]]), torch.tensor([[0.34], [0.98]]), \n",
    "          torch.tensor([[0.80], [0.05]]), torch.tensor([[0.86], [0.23]]),\n",
    "          torch.tensor([[0.26], [0.01]]), torch.tensor([[0.23], [0.54]]),\n",
    "          torch.tensor([[0.34], [0.69]]), torch.tensor([[0.75], [0.25]])]\n",
    "hid_lay = [64, 64, 64]\n",
    "num_equations, iterations = 2, 40000\n",
    "\n",
    "# write actual solutions for computing MSE and plotting true solution\n",
    "v = v_list[-1]\n",
    "true_f1 = lambda x: (0.5 * v[0] * np.exp(-1.1 * x) * (np.exp(2.2 * x) + 1) - (0.5 * v[1] * np.exp(-1.1 * x) * (np.exp(2.2 * x) - 1))).numpy()\n",
    "true_f2 = lambda x: (0.5 * v[1] * np.exp(-1.1 * x) * (np.exp(2.2 * x) + 1) - (0.5 * v[0] * np.exp(-1.1 * x) * (np.exp(2.2 * x) - 1))).numpy()\n",
    "true_functs = [true_f1, true_f2]\n"
   ]
  },
  {
   "cell_type": "code",
   "execution_count": 7,
   "id": "d9c46b71",
   "metadata": {},
   "outputs": [
    {
     "name": "stdout",
     "output_type": "stream",
     "text": [
      "Iteration 1 starting\n",
      "tensor([[0.1200],\n",
      "        [0.3500]])\n",
      "Iteration 5001 starting\n",
      "tensor([[0.3400],\n",
      "        [0.9800]])\n",
      "Iteration 10001 starting\n",
      "tensor([[0.8000],\n",
      "        [0.0500]])\n",
      "Iteration 15001 starting\n",
      "tensor([[0.8600],\n",
      "        [0.2300]])\n",
      "Iteration 20001 starting\n",
      "tensor([[0.2600],\n",
      "        [0.0100]])\n",
      "Iteration 25001 starting\n",
      "tensor([[0.2300],\n",
      "        [0.5400]])\n",
      "Iteration 30001 starting\n",
      "tensor([[0.3400],\n",
      "        [0.6900]])\n",
      "Iteration 35001 starting\n",
      "tensor([[0.7500],\n",
      "        [0.2500]])\n",
      "Model Training Complete in 143.536 seconds\n"
     ]
    },
    {
     "data": {
      "image/png": "[encoded data removed]",
      "text/plain": [
       "<Figure size 1728x576 with 3 Axes>"
      ]
     },
     "metadata": {
      "needs_background": "light"
     },
     "output_type": "display_data"
    }
   ],
   "source": [
    "if True:\n",
    "    # run model which has a loss of the MSE (i.e. no higher order terms)\n",
    "    loss_history_w1, trained_model_w1, time_w1, MSE_w1 = run_model(iterations=iterations, x_range=x_range, \n",
    "                                                                   A=A, v_list=v_list, hid_lay=hid_lay,\n",
    "                                                                   num_equations=num_equations, \n",
    "                                                                   true_functs=true_functs)\n",
    "\n",
    "    # plot the total loss, network vs true solution, and MSE\n",
    "    plot_loss_mse_and_solution(x_range=x_range, true_functs=true_functs, iterations=iterations, \n",
    "                               trained_model=trained_model_w1, \n",
    "                               train_losses=loss_history_w1['Ltotal_losses'], \n",
    "                               loss_label='Total Loss ($L_D$)', mses=MSE_w1)\n",
    "\n",
    "#     save the model \n",
    "#     torch.save(trained_model_w1, \"./trained_model_40000.pt\")"
   ]
  },
  {
   "cell_type": "markdown",
   "id": "259e919b",
   "metadata": {},
   "source": [
    "# Sanity Check Formula Construction"
   ]
  },
  {
   "cell_type": "code",
   "execution_count": 8,
   "id": "4cd9b234",
   "metadata": {},
   "outputs": [],
   "source": [
    "rng = np.random.default_rng()\n",
    "t_eval = torch.arange(0, 2, 0.001, requires_grad=True)\n",
    "t_eval = t_eval[rng.integers(low=0, high=2000, size=500)]\n",
    "t_eval = t_eval.reshape(-1, 1)\n",
    "\n",
    "# forward pass to extract H \n",
    "output, H = trained_model_w1(t_eval) \n",
    "H = torch.cat((torch.ones(len(t_eval), 1), H), 1)\n",
    "dH_dt_old = torch.autograd.functional.jacobian(trained_model_w1, t_eval, create_graph=True)[1].sum(axis=2)"
   ]
  },
  {
   "cell_type": "code",
   "execution_count": 9,
   "id": "76a89627",
   "metadata": {},
   "outputs": [],
   "source": [
    "dH_dt = torch.cat((torch.zeros(len(t_eval), 1, 1), dH_dt_old), 1)\n",
    "bias = list(trained_model_w1.parameters())[-1].unsqueeze(dim=-1).T\n",
    "w_r = list(trained_model_w1.parameters())[-2].detach().T\n",
    "w_r_new = torch.cat((bias, w_r), 0).T"
   ]
  },
  {
   "cell_type": "code",
   "execution_count": 10,
   "id": "19497dc4",
   "metadata": {},
   "outputs": [
    {
     "data": {
      "image/png": "[encoded data removed]",
      "text/plain": [
       "<Figure size 432x288 with 1 Axes>"
      ]
     },
     "metadata": {
      "needs_background": "light"
     },
     "output_type": "display_data"
    }
   ],
   "source": [
    "# compute dH_dt times dH_dt transpose and sum across time\n",
    "dH_dt_times_dH_dt_T = (torch.matmul(dH_dt, dH_dt.mT).sum(axis=0)) / len(t_eval)\n",
    "first_term = torch.matmul(w_r_new, dH_dt_times_dH_dt_T)\n",
    "\n",
    "# compute dH_dt times H transpose and sum across time\n",
    "new_H = torch.unsqueeze(H, dim=-1)\n",
    "dH_dt_times_H_T = (torch.matmul(dH_dt, new_H.mT).sum(axis=0)) / len(t_eval)\n",
    "second_term = torch.matmul(A.T, w_r_new)\n",
    "second_term = torch.matmul(second_term, dH_dt_times_H_T)\n",
    "\n",
    "# compute H times dH_dt transpose and sum across time\n",
    "H_times_dH_dt_T = (torch.matmul(new_H, dH_dt.mT).sum(axis=0)) / len(t_eval)\n",
    "third_term = torch.matmul(A, w_r_new)\n",
    "third_term = torch.matmul(third_term, H_times_dH_dt_T)\n",
    "\n",
    "# compute H times H transpose and sum across time\n",
    "H_times_H_T = (torch.matmul(new_H, new_H.mT).sum(axis=0)) / len(t_eval)\n",
    "fourth_term = torch.matmul(A.T, A)\n",
    "fourth_term = torch.matmul(fourth_term, w_r_new)\n",
    "fourth_term = torch.matmul(fourth_term, H_times_H_T)\n",
    "\n",
    "# compute H_0 times H_0 transpose\n",
    "output_0, H_0 = trained_model_w1(torch.tensor([[0.]], dtype=torch.float32, requires_grad=True))\n",
    "H_0 = torch.cat((torch.ones(1, 1), H_0), 1)\n",
    "H_0_T_times_H_0 = torch.matmul(H_0.T, H_0)\n",
    "fifth_term = torch.matmul(w_r_new, H_0_T_times_H_0)\n",
    "\n",
    "RHS = torch.matmul(v, H_0) - fifth_term\n",
    "LHS = first_term + second_term + third_term + fourth_term\n",
    "\n",
    "loss_vals_to_plot = (LHS - RHS).detach().numpy().reshape(-1, 1)\n",
    "plt.hist(loss_vals_to_plot);\n",
    "plt.title(\"Check Original Equation\")\n",
    "plt.xlabel(\"Loss\")\n",
    "plt.xticks(rotation=45)\n",
    "plt.ylabel(\"Frequency\");"
   ]
  },
  {
   "cell_type": "markdown",
   "id": "5cbb1c34",
   "metadata": {},
   "source": [
    "# Unstable Behavior?"
   ]
  },
  {
   "cell_type": "code",
   "execution_count": null,
   "id": "cbf7e0d6",
   "metadata": {},
   "outputs": [],
   "source": [
    "# # a and b are not identical?\n",
    "# a = (torch.matmul(dH_dt, dH_dt.mT).sum(axis=0)) / 500 + (torch.matmul(dH_dt, new_H.mT).sum(axis=0)) / 500 \n",
    "\n",
    "# b = torch.matmul(dH_dt, dH_dt.mT) + torch.matmul(dH_dt, new_H.mT)\n",
    "# b = b.sum(axis=0)\n",
    "# b = b / 500\n",
    "\n",
    "# # torch.isclose(a, b)\n",
    "# print(torch.equal(a, b))"
   ]
  },
  {
   "cell_type": "markdown",
   "id": "d07bcdb7",
   "metadata": {},
   "source": [
    "# Oracle Approach to Find W"
   ]
  },
  {
   "cell_type": "code",
   "execution_count": 153,
   "id": "b9c65d7c",
   "metadata": {},
   "outputs": [
    {
     "data": {
      "text/plain": [
       "tensor([[ 9.8186e-02,  6.6434e-02, -1.3692e-01, -6.1342e-02, -2.0031e-01,\n",
       "         -1.4603e-01,  1.0901e-01,  8.2016e-02, -1.4443e-01,  4.8520e-02,\n",
       "         -7.8647e-02, -8.6390e-02,  5.0462e-03, -5.5442e-02, -3.5433e-02,\n",
       "         -3.3400e-02, -3.9325e-02,  1.8528e-01, -5.0154e-02, -1.5709e-02,\n",
       "         -1.4048e-02, -2.9866e-02, -3.9045e-02,  7.1781e-02,  8.5061e-02,\n",
       "          7.6771e-02, -3.9124e-03, -4.2777e-03, -1.5393e-01,  1.2969e-02,\n",
       "          5.2425e-02,  3.3750e-02, -6.2850e-02,  1.5170e-01,  1.4062e-01,\n",
       "          2.6817e-02,  1.6202e-01, -8.3414e-02, -8.0127e-02,  1.0080e-02,\n",
       "          2.7231e-02, -9.5047e-02, -4.9305e-04,  2.8939e-02, -3.8857e-02,\n",
       "         -6.9738e-02,  1.0026e-02, -1.0057e-01,  4.6614e-02, -1.5922e-02,\n",
       "          3.6133e-02, -7.7514e-02, -1.3123e-01, -1.0343e-01,  3.6557e-03,\n",
       "          9.4581e-02,  2.1377e-02,  5.7776e-02,  1.7909e-01,  2.0972e-02,\n",
       "          2.1639e-02, -7.6511e-02,  5.1959e-02, -1.0226e-01,  5.4124e-02],\n",
       "        [ 3.2729e-02,  2.2144e-02, -4.5638e-02, -2.0446e-02, -6.6771e-02,\n",
       "         -4.8675e-02,  3.6338e-02,  2.7339e-02, -4.8144e-02,  1.6173e-02,\n",
       "         -2.6216e-02, -2.8794e-02,  1.6821e-03, -1.8480e-02, -1.1811e-02,\n",
       "         -1.1133e-02, -1.3109e-02,  6.1762e-02, -1.6717e-02, -5.2368e-03,\n",
       "         -4.6834e-03, -9.9554e-03, -1.3015e-02,  2.3927e-02,  2.8354e-02,\n",
       "          2.5590e-02, -1.3034e-03, -1.4259e-03, -5.1310e-02,  4.3225e-03,\n",
       "          1.7475e-02,  1.1250e-02, -2.0950e-02,  5.0568e-02,  4.6873e-02,\n",
       "          8.9390e-03,  5.4008e-02, -2.7805e-02, -2.6709e-02,  3.3600e-03,\n",
       "          9.0770e-03, -3.1681e-02, -1.6391e-04,  9.6465e-03, -1.2952e-02,\n",
       "         -2.3246e-02,  3.3422e-03, -3.3522e-02,  1.5539e-02, -5.3077e-03,\n",
       "          1.2044e-02, -2.5839e-02, -4.3743e-02, -3.4477e-02,  1.2192e-03,\n",
       "          3.1526e-02,  7.1251e-03,  1.9258e-02,  5.9697e-02,  6.9931e-03,\n",
       "          7.2123e-03, -2.5504e-02,  1.7319e-02, -3.4088e-02,  1.8040e-02]],\n",
       "       grad_fn=<MmBackward0>)"
      ]
     },
     "execution_count": 153,
     "metadata": {},
     "output_type": "execute_result"
    }
   ],
   "source": [
    "H_summation = dH_dt_times_dH_dt_T + dH_dt_times_H_T + H_times_dH_dt_T + H_times_H_T + H_0_T_times_H_0\n",
    "inv_H_summation = torch.linalg.pinv(H_summation)\n",
    "W_oracle = torch.matmul(torch.matmul(v, H_0), inv_H_summation)\n",
    "W_oracle"
   ]
  },
  {
   "cell_type": "code",
   "execution_count": 171,
   "id": "cac6a7c0",
   "metadata": {},
   "outputs": [
    {
     "data": {
      "text/plain": [
       "tensor([[ 9.8186e-02,  6.6434e-02, -1.3692e-01, -6.1342e-02, -2.0031e-01,\n",
       "         -1.4603e-01,  1.0901e-01,  8.2016e-02, -1.4443e-01,  4.8520e-02,\n",
       "         -7.8647e-02, -8.6390e-02,  5.0462e-03, -5.5442e-02, -3.5433e-02,\n",
       "         -3.3400e-02, -3.9325e-02,  1.8528e-01, -5.0154e-02, -1.5709e-02,\n",
       "         -1.4048e-02, -2.9866e-02, -3.9045e-02,  7.1781e-02,  8.5061e-02,\n",
       "          7.6771e-02, -3.9124e-03, -4.2777e-03, -1.5393e-01,  1.2969e-02,\n",
       "          5.2425e-02,  3.3750e-02, -6.2850e-02,  1.5170e-01,  1.4062e-01,\n",
       "          2.6817e-02,  1.6202e-01, -8.3414e-02, -8.0127e-02,  1.0080e-02,\n",
       "          2.7231e-02, -9.5047e-02, -4.9305e-04,  2.8939e-02, -3.8857e-02,\n",
       "         -6.9738e-02,  1.0026e-02, -1.0057e-01,  4.6614e-02, -1.5922e-02,\n",
       "          3.6133e-02, -7.7514e-02, -1.3123e-01, -1.0343e-01,  3.6557e-03,\n",
       "          9.4581e-02,  2.1377e-02,  5.7776e-02,  1.7909e-01,  2.0972e-02,\n",
       "          2.1639e-02, -7.6511e-02,  5.1959e-02, -1.0226e-01,  5.4124e-02],\n",
       "        [ 3.2729e-02,  2.2144e-02, -4.5638e-02, -2.0446e-02, -6.6771e-02,\n",
       "         -4.8675e-02,  3.6338e-02,  2.7339e-02, -4.8144e-02,  1.6173e-02,\n",
       "         -2.6216e-02, -2.8794e-02,  1.6821e-03, -1.8480e-02, -1.1811e-02,\n",
       "         -1.1133e-02, -1.3109e-02,  6.1762e-02, -1.6717e-02, -5.2368e-03,\n",
       "         -4.6834e-03, -9.9554e-03, -1.3015e-02,  2.3927e-02,  2.8354e-02,\n",
       "          2.5590e-02, -1.3034e-03, -1.4259e-03, -5.1310e-02,  4.3225e-03,\n",
       "          1.7475e-02,  1.1250e-02, -2.0950e-02,  5.0568e-02,  4.6873e-02,\n",
       "          8.9390e-03,  5.4008e-02, -2.7805e-02, -2.6709e-02,  3.3600e-03,\n",
       "          9.0770e-03, -3.1681e-02, -1.6391e-04,  9.6465e-03, -1.2952e-02,\n",
       "         -2.3246e-02,  3.3422e-03, -3.3522e-02,  1.5539e-02, -5.3077e-03,\n",
       "          1.2044e-02, -2.5839e-02, -4.3743e-02, -3.4477e-02,  1.2192e-03,\n",
       "          3.1526e-02,  7.1251e-03,  1.9258e-02,  5.9697e-02,  6.9931e-03,\n",
       "          7.2123e-03, -2.5504e-02,  1.7319e-02, -3.4088e-02,  1.8040e-02]],\n",
       "       grad_fn=<MmBackward0>)"
      ]
     },
     "execution_count": 171,
     "metadata": {},
     "output_type": "execute_result"
    }
   ],
   "source": [
    "# this happened to work, but ONLY with pinv and not when we combine the sums and divisions\n",
    "summ_term = (torch.matmul(dH_dt, dH_dt.mT).sum(axis=0)) / 500 + \\\n",
    "(torch.matmul(dH_dt, new_H.mT).sum(axis=0)) / 500 + (torch.matmul(new_H, dH_dt.mT).sum(axis=0)) / 500 \\\n",
    "+ (torch.matmul(new_H, new_H.mT).sum(axis=0)) / 500 + torch.matmul(H_0.T, H_0)\n",
    "\n",
    "summ_term = torch.linalg.pinv(summ_term)\n",
    "W_oracle2 = torch.matmul(torch.matmul(v, H_0), summ_term)\n",
    "\n",
    "W_oracle2"
   ]
  },
  {
   "cell_type": "code",
   "execution_count": 49,
   "id": "bfb04d31",
   "metadata": {},
   "outputs": [],
   "source": [
    "# summ_term = torch.matmul(dH_dt, dH_dt.mT) + torch.matmul(dH_dt, new_H.mT) + torch.matmul(new_H, dH_dt.mT) + torch.matmul(new_H, new_H.mT) + torch.matmul(H_0.T, H_0)\n",
    "# summ_term = summ_term.sum(axis=0)\n",
    "# summ_term = summ_term / len(t_eval)\n",
    "# summ_term = torch.linalg.pinv(summ_term)\n",
    "# W_oracle2 = torch.matmul(torch.matmul(v, H_0), summ_term)\n",
    "# W_oracle2"
   ]
  },
  {
   "cell_type": "code",
   "execution_count": 169,
   "id": "2fc13b08",
   "metadata": {},
   "outputs": [
    {
     "data": {
      "text/plain": [
       "tensor([[ 0.0329, -0.0124, -0.1704, -0.2897, -0.1644, -0.3498,  0.1700,  0.1160,\n",
       "          0.0685,  0.0836, -0.4215,  0.1308, -0.1225, -0.1548,  0.1889, -0.1006,\n",
       "         -0.0187,  0.2722, -0.4108,  0.0498, -0.2894,  0.1358, -0.1199,  0.3936,\n",
       "          0.3989,  0.1439,  0.0493, -0.1562, -0.1608,  0.3505, -0.1528,  0.2296,\n",
       "          0.0544,  0.0039,  0.2503, -0.0513,  0.0696, -0.4545, -0.1357,  0.1612,\n",
       "          0.1995, -0.2281, -0.3131,  0.1743,  0.1006, -0.0346,  0.0768, -0.0229,\n",
       "         -0.0727, -0.2483, -0.1120,  0.1649,  0.0245,  0.0803, -0.2945,  0.0438,\n",
       "         -0.0799,  0.2951,  0.0656,  0.0788,  0.2157, -0.2362,  0.2073, -0.2244,\n",
       "         -0.2196],\n",
       "        [ 0.2294,  0.0790, -0.0407,  0.2046, -0.1329,  0.1044, -0.0657,  0.1050,\n",
       "         -0.3867, -0.0051,  0.3221, -0.2455,  0.0393,  0.1365, -0.3422, -0.0811,\n",
       "         -0.1793, -0.0464,  0.3172, -0.0934,  0.2539, -0.0602,  0.0802, -0.5206,\n",
       "         -0.4248, -0.0270, -0.0608,  0.1989, -0.1210, -0.2605,  0.1416, -0.1894,\n",
       "         -0.2480,  0.0843, -0.1282,  0.1828,  0.1984,  0.2571, -0.0774, -0.1112,\n",
       "         -0.1007,  0.1478,  0.2773, -0.0786, -0.2936, -0.1314,  0.0457,  0.0564,\n",
       "          0.1731,  0.1233,  0.1211, -0.2166, -0.2304, -0.3430,  0.2861,  0.0616,\n",
       "          0.2532, -0.1866,  0.1481,  0.0350, -0.2270,  0.0548, -0.1043,  0.1059,\n",
       "          0.2044]], grad_fn=<PermuteBackward0>)"
      ]
     },
     "execution_count": 169,
     "metadata": {},
     "output_type": "execute_result"
    }
   ],
   "source": [
    "# print(65*2 - torch.isclose(W_oracle, W_oracle2).sum())\n",
    "w_r_new"
   ]
  },
  {
   "cell_type": "markdown",
   "id": "d44f06e6",
   "metadata": {},
   "source": [
    "# Validating $RWP  = U_0 * H_0^T$ Math  - Step by Step"
   ]
  },
  {
   "cell_type": "code",
   "execution_count": 14,
   "id": "4b56d0d9",
   "metadata": {},
   "outputs": [],
   "source": [
    "# compute the P matrix \n",
    "P = torch.cat([dH_dt_times_dH_dt_T, dH_dt_times_H_T, H_times_dH_dt_T, H_times_H_T, H_0_T_times_H_0], dim=0)\n",
    "# compute the R matrix\n",
    "ones_mtx = torch.ones(num_equations, num_equations)\n",
    "ones_mtx[0, 1] = 0\n",
    "ones_mtx[1, 0] = 0\n",
    "R = torch.cat([ones_mtx, A.T, A, torch.matmul(A.T, A), ones_mtx], dim=0).T\n",
    "\n",
    "zero_mat = torch.zeros((2, 65))\n",
    "\n",
    "W1 = torch.cat([w_r_new, zero_mat, zero_mat, zero_mat, zero_mat])\n",
    "W2 = torch.cat([zero_mat, w_r_new, zero_mat, zero_mat, zero_mat])\n",
    "W3 = torch.cat([zero_mat, zero_mat, w_r_new, zero_mat, zero_mat])\n",
    "W4 = torch.cat([zero_mat, zero_mat, zero_mat, w_r_new, zero_mat])\n",
    "W5 = torch.cat([zero_mat, zero_mat, zero_mat, zero_mat, w_r_new])\n",
    "W = torch.cat([W1, W2, W3, W4, W5], dim=1)"
   ]
  },
  {
   "cell_type": "code",
   "execution_count": null,
   "id": "8b549985",
   "metadata": {},
   "outputs": [],
   "source": [
    "# CHECKING R * W * P = U_0 * H_0.T\n",
    "RW = torch.matmul(R, W)\n",
    "RWP = torch.matmul(RW, P)\n",
    "overall1 = RWP - torch.matmul(v, H_0)\n",
    "plt.hist(overall1.detach().numpy().reshape(-1,1));\n",
    "plt.title(\"Compute $R * W * P = U_0 * H_0.T$\");"
   ]
  },
  {
   "cell_type": "code",
   "execution_count": null,
   "id": "2bf19c0c",
   "metadata": {},
   "outputs": [],
   "source": [
    "# CHECKING R.T * R * W * P = R.T * U_0 * H_0.T\n",
    "R_T_R = torch.matmul(R.T, R)\n",
    "R_T_R_W = torch.matmul(R_T_R, W)\n",
    "R_T_R_W_P = torch.matmul(R_T_R_W, P)\n",
    "R_T_u_0 = torch.matmul(R.T, v)\n",
    "R_T_u_0_H_0_T = torch.matmul(R_T_u_0, H_0)\n",
    "overall2 = R_T_u_0_H_0_T - R_T_R_W_P\n",
    "plt.hist(overall2.detach().numpy().reshape(-1,1));\n",
    "plt.xticks(rotation=45)\n",
    "plt.title(\"Compute R.T * R * W * P = R.T * U_0 * H_0.T\");"
   ]
  },
  {
   "cell_type": "code",
   "execution_count": null,
   "id": "030e32a8",
   "metadata": {},
   "outputs": [],
   "source": [
    "# CHECKING W * P = (R.T * R) ^ -1 * R.T * U_0 * H_0.T\n",
    "W_P = torch.matmul(W, P)\n",
    "R_T_R = torch.matmul(R.T, R)\n",
    "R_T_R_inv = torch.linalg.pinv(R_T_R)\n",
    "R_T_R_inv_R_T = torch.matmul(R_T_R_inv, R.T)\n",
    "R_T_R_inv_R_T_u_0 = torch.matmul(R_T_R_inv_R_T, v)\n",
    "R_T_R_inv_R_T_u_0_H_0 = torch.matmul(R_T_R_inv_R_T_u_0, H_0)\n",
    "\n",
    "overall3 = R_T_R_inv_R_T_u_0_H_0 - W_P\n",
    "plt.hist(overall3.detach().numpy().reshape(-1,1));\n",
    "plt.title(\"Compute $W * P = (R.T * R)^-1 * R.T * U_0 * H_0.T$\");"
   ]
  },
  {
   "cell_type": "code",
   "execution_count": null,
   "id": "cdc0741f",
   "metadata": {},
   "outputs": [],
   "source": [
    "# compute RW = U_0 * H_0.T * P_T * (P * P_T) ^ -1\n",
    "R_W = torch.matmul(R, W)\n",
    "u_o_H_0 = torch.matmul(v, H_0)\n",
    "u_o_H_0_PT = torch.matmul(u_o_H_0, P.T)\n",
    "P_PT = torch.matmul(P, P.T)\n",
    "P_P_T_inv = torch.linalg.pinv(P_PT)\n",
    "overall = torch.matmul(u_o_H_0_PT, P_P_T_inv)\n",
    "\n",
    "to_plot = overall - R_W\n",
    "plt.hist(to_plot.detach().numpy().reshape(-1,1));\n",
    "plt.title(\"Compute RW = U_0 * H_0.T * P_T * (P * P_T) ^ -1\");"
   ]
  },
  {
   "cell_type": "code",
   "execution_count": null,
   "id": "0035aa93",
   "metadata": {},
   "outputs": [],
   "source": [
    "# compute RW = U_0 * H_0.T * P_T * (P * P_T) ^ -1 (using P matrix perturbation on diagonal)\n",
    "R_W = torch.matmul(R, W)\n",
    "u_o_H_0 = torch.matmul(v, H_0)\n",
    "u_o_H_0_PT = torch.matmul(u_o_H_0, P.T)\n",
    "P_PT = torch.matmul(P, P.T)\n",
    "small_vals = torch.full((325, 1), 1e-5)\n",
    "diag_mat = torch.diag(small_vals.reshape(325))\n",
    "P_PT = P_PT + diag_mat\n",
    "P_P_T_inv = torch.linalg.pinv(P_PT)\n",
    "overall = torch.matmul(u_o_H_0_PT,  P_P_T_inv)\n",
    "\n",
    "to_plot = overall - R_W\n",
    "plt.hist(to_plot.detach().numpy().reshape(-1,1));\n",
    "plt.title(\"Compute RW = U_0 * H_0.T * P_T * (P * P_T) ^ -1\");"
   ]
  },
  {
   "cell_type": "code",
   "execution_count": 175,
   "id": "37d6024e",
   "metadata": {},
   "outputs": [
    {
     "data": {
      "image/png": "[encoded data removed]",
      "text/plain": [
       "<Figure size 432x288 with 1 Axes>"
      ]
     },
     "metadata": {
      "needs_background": "light"
     },
     "output_type": "display_data"
    }
   ],
   "source": [
    "plt.scatter(t_eval.detach().numpy(), torch.matmul(W_oracle2, H.T)[0].detach().numpy(), label= 'oracle 1');\n",
    "plt.scatter(t_eval.detach().numpy(), torch.matmul(W[0:2, 0:65], H.T)[0].detach().numpy(), label='truth 1', s=8);\n",
    "plt.scatter(t_eval.detach().numpy(), torch.matmul(W_oracle2, H.T)[1].detach().numpy(), label= 'oracle 2');\n",
    "plt.scatter(t_eval.detach().numpy(), torch.matmul(W[0:2, 0:65], H.T)[1].detach().numpy(), label='truth 2', s=8);\n",
    "# plt.scatter(t_eval.detach().numpy(), true_f1(t_eval.detach().numpy()), label='true 1 TEST');\n",
    "# plt.scatter(t_eval.detach().numpy(), true_f2(t_eval.detach().numpy()), label='true 2 TEST');\n",
    "# plt.scatter(t_eval.detach().numpy(), torch.matmul(w_transfer[0:2, 0:65], H.T)[0].detach().numpy(), label= 'transfer 1');\n",
    "# plt.scatter(t_eval.detach().numpy(), torch.matmul(w_transfer[0:2, 0:65], H.T)[1].detach().numpy(), label= 'transfer 2');\n",
    "# plt.scatter(t_eval.detach().numpy(), torch.matmul(RW_lst_sqr[0:2, 0:65], H.T)[0].detach().numpy(), label= 'lstq 1');\n",
    "# plt.scatter(t_eval.detach().numpy(), torch.matmul(RW_lst_sqr[0:2, 0:65], H.T)[1].detach().numpy(),label= 'lstq 2');\n",
    "plt.legend();"
   ]
  },
  {
   "cell_type": "code",
   "execution_count": 51,
   "id": "7073d55f",
   "metadata": {},
   "outputs": [],
   "source": [
    "# true_f1 = lambda x: (v[0] * np.exp(-1.1 * x)).numpy()\n",
    "# true_f2 = lambda x: (v[1] * np.exp(-1.1 * x)).numpy()\n",
    "\n",
    "# plt.scatter(t_eval.detach().numpy(), true_f1(t_eval.detach().numpy()), label='true 1 TEST')\n",
    "\n",
    "# plt.scatter(t_eval.detach().numpy(), trained_model_w1(t_eval)[0][:, 0].detach().numpy())\n",
    "# plt.scatter(t_eval.detach().numpy(), trained_model_w1(t_eval)[0][:, 1].detach().numpy())"
   ]
  },
  {
   "cell_type": "code",
   "execution_count": null,
   "id": "e8a748cc",
   "metadata": {},
   "outputs": [],
   "source": [
    "# # CHECKING W * P * P.T = (R.T * R) ^ -1 * R.T * U_0 * H_0.T * P.T\n",
    "\n",
    "# W_P_P_T = torch.matmul(W_P, P.T)\n",
    "# R_T_R_inv_R_T_u_0_H_0_P_T = torch.matmul(R_T_R_inv_R_T_u_0_H_0, P.T)\n",
    "\n",
    "# overall4 = R_T_R_inv_R_T_u_0_H_0_P_T - W_P_P_T\n",
    "# plt.hist(overall4.detach().numpy().reshape(-1,1));\n",
    "# plt.title(\"Compute W * P * P.T = (R.T * R) ^ -1 * R.T * U_0 * H_0.T * P.T\");"
   ]
  },
  {
   "cell_type": "markdown",
   "id": "ae9e1127",
   "metadata": {},
   "source": [
    "# Least Squares Approach to solve $RWP = U_0 * H_0^T$"
   ]
  },
  {
   "cell_type": "code",
   "execution_count": null,
   "id": "36f5703f",
   "metadata": {},
   "outputs": [],
   "source": [
    "# # WP = u_0 * H_o ^ T \n",
    "# a = P.T\n",
    "# b = torch.matmul(H_0.T, v.T)\n",
    "# lst_sol = torch.linalg.lstsq(a, b, rcond=None, driver=None).solution\n",
    "# RW_lst_sqr = lst_sol.T\n",
    "# RW_lst_sqr[0:2, 0:65]"
   ]
  },
  {
   "cell_type": "markdown",
   "id": "1b79b255",
   "metadata": {},
   "source": [
    "# Transfer Learning Approach to solve $RWP = U_0 * H_0^T$"
   ]
  },
  {
   "cell_type": "code",
   "execution_count": null,
   "id": "8c33474b",
   "metadata": {},
   "outputs": [],
   "source": [
    "# create a t to take derivative with respect to \n",
    "# rng = np.random.default_rng()\n",
    "# t_eval = torch.arange(0, 2, 0.001, requires_grad=True)\n",
    "# t_eval = t_eval[rng.integers(low=0, high=2000, size=500)]\n",
    "# t_eval = t_eval.reshape(-1, 1)\n",
    "\n",
    "# forward pass to extract H \n",
    "output, H = trained_model_w1(t_eval) \n",
    "\n",
    "print(\"H shape before column of 1s: \", H.shape)\n",
    "H = torch.cat((torch.ones(len(t_eval), 1), H), 1)\n",
    "print(\"H shape after column of 1s: \", H.shape)\n",
    "\n",
    "# compute derivative w/r/t H and multiply it by its transpose\n",
    "dH_dt_old = torch.autograd.functional.jacobian(trained_model_w1 ,t_eval, create_graph=True)[1].sum(axis=2)\n",
    "\n",
    "print(\"dh_dt before adjusting: \", dH_dt_old.shape)\n",
    "dH_dt = torch.cat((torch.zeros(len(t_eval), 1, 1), dH_dt_old), 1)\n",
    "print(\"dh_dt after adjusting: \", dH_dt.shape)"
   ]
  },
  {
   "cell_type": "code",
   "execution_count": null,
   "id": "95637674",
   "metadata": {},
   "outputs": [],
   "source": [
    "# compute dH_dt times dH_dt transpose and sum across time\n",
    "dH_dt_times_dH_dt_T = (torch.matmul(dH_dt, dH_dt.mT).sum(axis=0)) / len(t_eval)\n",
    "print(\"dH_dt * dH_dt_T: \", dH_dt_times_dH_dt_T.shape)\n",
    "\n",
    "# compute dH_dt times H transpose and sum across time\n",
    "new_H = torch.unsqueeze(H, dim=-1)\n",
    "dH_dt_times_H_T = (torch.matmul(dH_dt, new_H.mT).sum(axis=0)) / len(t_eval)\n",
    "print(\"dH_dt * H_T: \", dH_dt_times_H_T.shape)\n",
    "\n",
    "# compute H times dH_dt transpose and sum across time\n",
    "H_times_dH_dt_T = (torch.matmul(new_H, dH_dt.mT).sum(axis=0)) / len(t_eval)\n",
    "print(\"H * dH_dt_T: \", H_times_dH_dt_T.shape)\n",
    "\n",
    "# compute H times H transpose and sum across time\n",
    "H_times_H_T = (torch.matmul(new_H, new_H.mT).sum(axis=0)) / len(t_eval)\n",
    "print(\"H * H_T: \", H_times_H_T.shape)\n",
    "\n",
    "# compute H_0 times H_0 transpose\n",
    "output_0, H_0 = trained_model_w1(torch.tensor([[0.]], dtype=torch.float32, requires_grad=True))\n",
    "print(\"H_0 shape before appending 1: \", H_0.shape)\n",
    "H_0 = torch.cat((torch.ones(1, 1), H_0), 1)\n",
    "print(\"H_0 shape after appending 1: \", H_0.shape)\n",
    "H_0_T_times_H_0 = torch.matmul(H_0.T, H_0)\n",
    "print(\"H_0_T * H_0 shape: \", H_0_T_times_H_0.shape)\n",
    "\n",
    "# compute the P matrix \n",
    "P = torch.cat([dH_dt_times_dH_dt_T, dH_dt_times_H_T, H_times_dH_dt_T, H_times_H_T, H_0_T_times_H_0], dim=0)\n",
    "print(\"P matrix shape: \", P.shape)\n",
    "\n",
    "# compute the R matrix\n",
    "ones_mtx = torch.ones(num_equations, num_equations)\n",
    "ones_mtx[0, 1] = 0 # TODO: don't do this, instead just build ones_mtx to be a diagonal matrix to begin with...\n",
    "ones_mtx[1, 0] = 0\n",
    "R = torch.cat([ones_mtx, A.T, A, torch.matmul(A.T, A), ones_mtx], dim=0).T\n",
    "print(\"R matrix shape: \", R.shape)"
   ]
  },
  {
   "cell_type": "code",
   "execution_count": null,
   "id": "094d948c",
   "metadata": {},
   "outputs": [],
   "source": [
    "# compute R transpose times R\n",
    "R_T_times_R = torch.matmul(R.T, R)\n",
    "# compute inverse of (R transpose times R) times R transpose\n",
    "R_chunk_inverse_times_R_T = torch.matmul(torch.linalg.pinv(R_T_times_R), R.T)\n",
    "\n",
    "# compute P times P transpose\n",
    "P_times_P_T = torch.matmul(P, P.T)\n",
    "# compute inverse of P times P transpose\n",
    "P_times_P_T_inverse = torch.linalg.pinv(P_times_P_T)\n",
    "\n",
    "# compute the \"W matrix\"\n",
    "w_transfer = torch.matmul(R_chunk_inverse_times_R_T, v)\n",
    "w_transfer = torch.matmul(w_transfer, H_0)\n",
    "w_transfer = torch.matmul(w_transfer, P.T)\n",
    "w_transfer = torch.matmul(w_transfer, P_times_P_T_inverse)"
   ]
  },
  {
   "cell_type": "code",
   "execution_count": null,
   "id": "839f23fd",
   "metadata": {},
   "outputs": [],
   "source": [
    "# true_f1 = lambda x: (0.5 * v[0] * np.exp(-1.1 * x) * (np.exp(2.2 * x) + 1) - (0.5 * v[1] * np.exp(-1.1 * x) * (np.exp(2.2 * x) - 1))).numpy()\n",
    "# true_f2 = lambda x: (0.5 * v[1] * np.exp(-1.1 * x) * (np.exp(2.2 * x) + 1) - (0.5 * v[0] * np.exp(-1.1 * x) * (np.exp(2.2 * x) - 1))).numpy()\n",
    "# yt1 = true_f1(t_eval.detach())\n",
    "# yt2 = true_f2(t_eval.detach())\n",
    "\n",
    "# transfer_learned = torch.matmul(W[0:2, 0:129], new_H).squeeze()\n",
    "# # transfer_learned = [torch.matmul(W[0:2, 0:129], new_H[i]) for i in range(500)]\n",
    "# ynet1 = transfer_learned[:, 0].detach()\n",
    "# ynet2 = transfer_learned[:, 1].detach()\n",
    "\n",
    "# plt.scatter(t_eval.detach(), yt1, label = 'Actual solution $u_1(t)$', s=5)\n",
    "# plt.scatter(t_eval.detach(), yt2, label = 'Actual solution $u_2(t)$', s=5)\n",
    "# plt.scatter(t_eval.detach(), ynet1, label = 'Network solution $u_1(t)$', s=5)\n",
    "# plt.scatter(t_eval.detach(), ynet2, label = 'Network solution $u_2(t)$', s=5)\n",
    "# plt.xlabel(\"t\")\n",
    "# plt.ylabel('y')\n",
    "# plt.title(\"Transfer Learning vs Analytical Solution\")\n",
    "# plt.legend();"
   ]
  },
  {
   "cell_type": "markdown",
   "id": "ec63d30f",
   "metadata": {},
   "source": [
    "# Compare W from different approaches"
   ]
  },
  {
   "cell_type": "code",
   "execution_count": null,
   "id": "c2fa1c4a",
   "metadata": {},
   "outputs": [],
   "source": [
    "# true W\n",
    "RW = torch.matmul(R, W)\n",
    "RWP = torch.matmul(RW, P)\n",
    "overall1 = RWP - torch.matmul(v, H_0)\n",
    "plt.hist(overall1.detach().numpy().reshape(-1,1));\n",
    "plt.xticks(rotation=45)\n",
    "plt.title(\"Compute $R * W * P = U_0 * H_0.T$\");"
   ]
  },
  {
   "cell_type": "code",
   "execution_count": null,
   "id": "2237e4e7",
   "metadata": {},
   "outputs": [],
   "source": [
    "# transfer learning by inverting R and P\n",
    "RW = torch.matmul(R, w_transfer)\n",
    "RWP = torch.matmul(RW, P)\n",
    "overall1 = RWP - torch.matmul(v, H_0)\n",
    "plt.hist(overall1.detach().numpy().reshape(-1,1));\n",
    "plt.xticks(rotation=45)\n",
    "plt.title(\"Compute $R * W * P = U_0 * H_0.T$\");"
   ]
  },
  {
   "cell_type": "code",
   "execution_count": null,
   "id": "00cb8707",
   "metadata": {},
   "outputs": [],
   "source": [
    "# TODO:\n",
    "\n",
    "# 1. figure out how:\n",
    "    # the torch.autograd.grad is working with du/dt\n",
    "    # understand the number of parameters in the model.parameters() of the network\n",
    "    # understand why we add bias the way we do in testing the formula\n",
    "    # re-write jacobian so it is way faster (use gradient function)\n",
    "\n",
    "\n",
    "# 2. add the higher order terms, L_D and L_DD, etc?\n",
    "\n",
    "# 3. figure out how to add the the norm term in the loss function\n",
    "\n",
    "# 4. see which parts of the formula are dependent on time and ask Pavlos how that works\n",
    "    # (changing W_o means that only u_o will change eventually?)\n",
    "\n",
    "# 5. try using a different diff. equation\n",
    "\n",
    "# 6. make loss function proper"
   ]
  },
  {
   "cell_type": "markdown",
   "id": "968a600e",
   "metadata": {},
   "source": [
    "# Appendix"
   ]
  },
  {
   "cell_type": "markdown",
   "id": "aa7898bc",
   "metadata": {},
   "source": [
    "### Notes:\n",
    "\n",
    "- $u_t = lambda$ $t: A + t * model(t)$ is outdated, so we use $ u_t = lambda$ $t: A + (1 - exp(-t)) * model(t)$\n",
    "\n",
    "- We are solving $\\frac{du}{dt} + \\lambda * u = 0$ where $f = -\\lambda * u$\n",
    "\n",
    "- Old Model Code: model = nn.Sequential(nn.Linear(1, 64), nn.Tanh(), nn.Linear(64, 64), nn.Tanh(), nn.Linear(64,1))\n",
    "\n",
    "- Old solution parametrization: u_t = lambda t: A + (1 - torch.exp(-t)) * model(t)\n",
    "\n",
    "- Original normalization term: norm_term = 1 / u_t(torch.tensor([[0]], dtype=torch.float32)) ** 2"
   ]
  }
 ],
 "metadata": {
  "kernelspec": {
   "display_name": "Python 3",
   "language": "python",
   "name": "python3"
  },
  "language_info": {
   "codemirror_mode": {
    "name": "ipython",
    "version": 3
   },
   "file_extension": ".py",
   "mimetype": "text/x-python",
   "name": "python",
   "nbconvert_exporter": "python",
   "pygments_lexer": "ipython3",
   "version": "3.7.13"
  }
 },
 "nbformat": 4,
 "nbformat_minor": 5
}
