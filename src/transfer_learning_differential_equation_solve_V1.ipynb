{
 "cells": [
  {
   "cell_type": "code",
   "execution_count": 1,
   "id": "91f732e6",
   "metadata": {},
   "outputs": [
    {
     "name": "stderr",
     "output_type": "stream",
     "text": [
      "/Users/HariRaval/miniconda3/envs/thesis/lib/python3.7/site-packages/tqdm/auto.py:22: TqdmWarning: IProgress not found. Please update jupyter and ipywidgets. See https://ipywidgets.readthedocs.io/en/stable/user_install.html\n",
      "  from .autonotebook import tqdm as notebook_tqdm\n"
     ]
    }
   ],
   "source": [
    "# imports\n",
    "import torch\n",
    "import torch.nn as nn\n",
    "import matplotlib.pyplot as plt\n",
    "import numpy as np\n",
    "import time\n",
    "from collections import defaultdict"
   ]
  },
  {
   "cell_type": "code",
   "execution_count": 2,
   "id": "f871b7f9",
   "metadata": {},
   "outputs": [],
   "source": [
    "# calculate du^ n / dt^n for arbitrary n and use this to create a loss term\n",
    "def higher_order_loss_term(weight, outputs, t, norm_term, forcing_funct):\n",
    "    \n",
    "    # compute derivative of outputs with respect to inputs \n",
    "    deriv_to_t = torch.autograd.grad(outputs, t, grad_outputs=torch.ones_like(outputs), \n",
    "                                 create_graph=True)[0]\n",
    "          \n",
    "    # additional loss term\n",
    "#     loss_term = norm_term * weight * torch.mean((deriv_to_t - forcing_funct) ** 2)\n",
    "    loss_term = weight * torch.mean((deriv_to_t - forcing_funct) ** 2)\n",
    "    \n",
    "    return loss_term, deriv_to_t\n",
    "\n",
    "# build the loss function\n",
    "def loss(t, A, lambda_val, model, loss_term_weights):\n",
    "            \n",
    "    # create the trial solution\n",
    "    u_t = lambda t: model(t)[0] # TODO: this is weird, just use model(t)[0] directly, no lambda function needed\n",
    "\n",
    "    # normalize loss and use it to compute the normalization factor\n",
    "    norm_term = 1 / u_t(torch.tensor([[0]], dtype=torch.float32)) ** 2\n",
    "    \n",
    "    # initialize all loss terms in case they do not need to be computed\n",
    "    L_D, L_DD, L_DDD, L_DDDD = [torch.tensor([[0.]])] * 4\n",
    "    \n",
    "    # loss results\n",
    "    loss_dict = {}\n",
    "    \n",
    "    # define f (aka forcing function)\n",
    "    f = lambda t, u: -lambda_val * u # TODO: remove minus here and change loss_term above to deriv_to_t + forcing_funct\n",
    "    # compute u(t)\n",
    "    outputs = u_t(t)\n",
    "    \n",
    "    # initial value loss terms\n",
    "    initial_val_loss = (A - u_t(torch.tensor([[0]], dtype=torch.float32)))**2\n",
    "\n",
    "    \n",
    "    # computes residual (function call also returns du / dt as u_t_x)\n",
    "    L_D, u_t_x = higher_order_loss_term(loss_term_weights[0], outputs, t, norm_term, f(t, outputs))\n",
    "                \n",
    "    if loss_term_weights[1] or loss_term_weights[2] or loss_term_weights[3]:\n",
    "        # define f' (derivative of f)\n",
    "        f_t = -lambda_val * u_t_x\n",
    "        # first derivative of residual (function call also returns d^2u / dt^2 as u_tt_x)\n",
    "        L_DD, u_tt_x = higher_order_loss_term(loss_term_weights[1], u_t_x, t, norm_term, f_t)\n",
    "\n",
    "    if loss_term_weights[2] or loss_term_weights[3]:\n",
    "        # define f'' (derivative of f')\n",
    "        f_tt = -lambda_val * u_tt_x\n",
    "        # second derivative of residual (function call also returns d^3u / dt^3 as u_ttt_x)\n",
    "        L_DDD, u_ttt_x = higher_order_loss_term(loss_term_weights[2], u_tt_x, t, norm_term, f_tt)\n",
    "        \n",
    "    if loss_term_weights[3]:\n",
    "        # define f''' (derivative of f'')\n",
    "        f_ttt = -lambda_val * u_ttt_x\n",
    "        # third derivative of residual (function call also returns d^4u / dt^4 as u_tttt_x)\n",
    "        L_DDDD, u_tttt_x = higher_order_loss_term(loss_term_weights[3], u_ttt_x, t, norm_term, f_ttt)\n",
    "        \n",
    "    # total loss \n",
    "    L_total = L_D + L_DD + L_DDD + L_DDDD + initial_val_loss\n",
    "    \n",
    "    loss_dict['L_D'] = L_D\n",
    "    loss_dict['L_DD'] = L_DD\n",
    "    loss_dict['L_DDD'] = L_DDD\n",
    "    loss_dict['L_DDDD'] = L_DDDD\n",
    "    loss_dict['L_total'] = L_total\n",
    "\n",
    "    return loss_dict\n"
   ]
  },
  {
   "cell_type": "code",
   "execution_count": 3,
   "id": "2a1adb98",
   "metadata": {},
   "outputs": [],
   "source": [
    "# class to build the network \n",
    "class BuildNetwork(nn.Module):\n",
    "    def __init__(self, input_size, h_size1, h_size2, h_size3, output_size):\n",
    "        super(BuildNetwork, self).__init__()\n",
    "        self.l1 = nn.Linear(input_size, h_size1)\n",
    "        self.tanh = nn.Tanh()\n",
    "        self.l2 = nn.Linear(h_size1, h_size2)\n",
    "        self.l3 = nn.Linear(h_size2, h_size3)\n",
    "        self.output = nn.Linear(h_size3, output_size) # NOTE: BIAS FALSE VS TRUE SET HERE\n",
    "        \n",
    "    def forward(self, x):\n",
    "        result = self.l1(x)\n",
    "        result = self.tanh(result)\n",
    "        result = self.l2(result)\n",
    "        result = self.tanh(result)\n",
    "        result = self.l3(result)\n",
    "        h = self.tanh(result)\n",
    "        result = self.output(h)\n",
    "        \n",
    "        return result, h"
   ]
  },
  {
   "cell_type": "code",
   "execution_count": 4,
   "id": "08b54931",
   "metadata": {},
   "outputs": [],
   "source": [
    "# train and evaluate the model\n",
    "def run_model(iterations, min_x, max_x, A_vals, lambda_val, loss_term_weights):\n",
    "    \n",
    "    assert sum(loss_term_weights) != 0, \"ERROR: Invalid Loss Function\"\n",
    "    \n",
    "    for idx, num in enumerate(loss_term_weights[:-1]):\n",
    "        next_num = loss_term_weights[idx + 1]\n",
    "        assert next_num <= num, 'ERROR: Invalid Loss Function'\n",
    "      \n",
    "    # build the neural net model\n",
    "    model = BuildNetwork(1, 64, 64, 64, 1)\n",
    "    # set-up the optimizer\n",
    "    optimizer = torch.optim.SGD(model.parameters(), lr=0.001, momentum=0.9)\n",
    "    # create a learning rate scheduler\n",
    "    scheduler = torch.optim.lr_scheduler.ExponentialLR(optimizer, gamma=0.99)\n",
    "    \n",
    "    # create a random number generator for loss computation\n",
    "    rng = np.random.default_rng()\n",
    "    \n",
    "    # store loss and mse values\n",
    "    loss_history = defaultdict(list)\n",
    "    MSEs = []\n",
    "    \n",
    "    start_time = time.time()\n",
    "    \n",
    "    # starting initial value for transfer learning\n",
    "    curr_A_indx = 0\n",
    "    A = A_vals[curr_A_indx]\n",
    "    print(f\"Initial Condition: {A}\")\n",
    "    # run the training loop\n",
    "    for i in range(iterations):\n",
    "        \n",
    "        if i % 4000 == 0 and i != 0: \n",
    "            curr_A_indx += 1 \n",
    "            A = A_vals[curr_A_indx]\n",
    "            print(f\"Initial Condition: {A}\")\n",
    "        \n",
    "        # every batch, randomly sample from min and max range\n",
    "        x = torch.arange(min_x, max_x, 0.001, requires_grad=True)\n",
    "        x = x[rng.integers(low=0, high=len(x), size=500)]\n",
    "        x = x.reshape(-1, 1)\n",
    "\n",
    "        # forward: compute loss\n",
    "        curr_loss = loss(x, A, lambda_val, model, loss_term_weights)\n",
    "        \n",
    "        # store individual loss terms for plotting\n",
    "        loss_history['LD_losses'].append(curr_loss['L_D'].item())\n",
    "        loss_history['LDD_losses'].append(curr_loss['L_DD'].item())\n",
    "        loss_history['LDDD_losses'].append(curr_loss['L_DDD'].item())\n",
    "        loss_history['LDDDD_losses'].append(curr_loss['L_DDDD'].item())\n",
    "        loss_history['Ltotal_losses'].append(curr_loss['L_total'].item())\n",
    "            \n",
    "        # backward: backpropagation\n",
    "        curr_loss['L_total'].backward()\n",
    "        \n",
    "        # update weights and reset the gradients\n",
    "        optimizer.step() \n",
    "        optimizer.zero_grad() \n",
    "        \n",
    "        # learning rate update\n",
    "        # scheduler.step()\n",
    "        \n",
    "        # compute the mse\n",
    "        with torch.no_grad():\n",
    "            true_sol = (A * np.exp(-lambda_val * x)).numpy()\n",
    "            network_sol = model(x)[0].numpy()\n",
    "        current_mse = np.mean((true_sol - network_sol) ** 2)\n",
    "        MSEs.append(current_mse)\n",
    "   \n",
    "    end_time = time.time()\n",
    "    total_time = end_time - start_time\n",
    "    \n",
    "    print(f\"Model Training Complete in{total_time: .3f} seconds\")\n",
    "    \n",
    "    return loss_history, model, total_time, MSEs"
   ]
  },
  {
   "cell_type": "code",
   "execution_count": 5,
   "id": "e9c934eb",
   "metadata": {},
   "outputs": [],
   "source": [
    "# function to plot the neural network vs exact solution\n",
    "def plot_solution(min_x, max_x, A, lambda_val, trained_model, axis):\n",
    "    \n",
    "    u_t = lambda t: trained_model(t)[0]\n",
    "    \n",
    "    # plot the solution accuracies\n",
    "    xx = np.linspace(min_x, max_x, 200)[:, None]\n",
    "\n",
    "    with torch.no_grad():\n",
    "        yy = u_t(torch.Tensor(xx)).numpy()\n",
    "\n",
    "    yt = A * np.exp(-lambda_val * xx)\n",
    "\n",
    "    axis.plot(xx, yt, label='Actual Solution')\n",
    "    axis.plot(xx, yy, '--', label='Neural Network Solution')\n",
    "    axis.set_title(\"u(t) vs t for Actual and Approximation\")\n",
    "    axis.set_xlabel('$t$')\n",
    "    axis.set_ylabel('$u(t)$')\n",
    "    axis.legend(loc='best')\n",
    "    \n",
    "# function to plot the overall loss of the network solution\n",
    "def plot_total_loss(iterations, train_losses, axis, loss_label):\n",
    "    axis.plot(range(iterations), train_losses, label=loss_label)\n",
    "    axis.set_yscale(\"log\")\n",
    "    axis.set_title(\"Total Loss vs Iterations\")\n",
    "    axis.set_xlabel('Iterations')\n",
    "    axis.set_ylabel('Loss')\n",
    "    axis.legend(loc='best')\n",
    "    \n",
    "# function to plot the MSEs\n",
    "def plot_mse(iterations, mses, axis):\n",
    "    axis.plot(range(iterations), mses, label='MSE')\n",
    "    axis.set_yscale(\"log\")\n",
    "    axis.set_title(\"MSE vs Iterations\")\n",
    "    axis.set_xlabel('Iterations')\n",
    "    axis.set_ylabel('MSE')\n",
    "    axis.legend(loc='best')\n",
    "    \n",
    "# wrapper function to plot the solution and the overall loss of the network solution\n",
    "def plot_loss_mse_and_solution(min_x, max_x, A, lambda_val, iterations, \n",
    "                               trained_model, train_losses, loss_label, mses):\n",
    "    fig, axs = plt.subplots(1, 3,  tight_layout=True, figsize=(24, 8))\n",
    "    \n",
    "    plot_total_loss(iterations=iterations, train_losses=train_losses, \n",
    "                    axis=axs[0], loss_label=loss_label)\n",
    "    plot_solution(min_x=min_x, max_x=max_x, A=A, lambda_val=lambda_val, \n",
    "                  trained_model=trained_model, axis=axs[1])\n",
    "    plot_mse(iterations=iterations, mses=mses, axis=axs[2])\n",
    "    \n",
    "    plt.show()\n",
    "    \n",
    "# function to plot the loss terms for a given model\n",
    "def plot_individual_loss_terms(iterations, loss_dictionary):\n",
    "    \n",
    "    plt.figure(figsize=(9, 9))\n",
    "    for label, losses in loss_dictionary.items():\n",
    "        plt.plot(range(iterations), losses, label=label)\n",
    "        \n",
    "    plt.yscale(\"log\")\n",
    "    plt.title(\"Loss Terms vs Iterations\")\n",
    "    plt.xlabel('Iterations')\n",
    "    plt.ylabel('Loss')\n",
    "    plt.legend(loc='best')\n",
    "    plt.grid()\n",
    "    plt.show()"
   ]
  },
  {
   "cell_type": "code",
   "execution_count": 6,
   "id": "9c7b6ee7",
   "metadata": {},
   "outputs": [
    {
     "name": "stdout",
     "output_type": "stream",
     "text": [
      "Initial Condition: 0.9\n",
      "Initial Condition: 0.2\n",
      "Initial Condition: 0.35\n",
      "Initial Condition: 0.75\n",
      "Model Training Complete in 35.792 seconds\n"
     ]
    }
   ],
   "source": [
    "# set-up differential equation parameters for network\n",
    "min_x, max_x = 0, 2\n",
    "A_vals = [0.9, 0.2, 0.35, 0.75]\n",
    "# A_vals = [0.75, 0.75, 0.75, 0.75]\n",
    "lambda_val = 1\n",
    "iterations = 16000\n",
    "\n",
    "# run model which has a loss of the MSE (i.e. no higher order terms)\n",
    "loss_history_w1, trained_model_w1, time_w1, MSE_w1 = run_model(iterations=iterations, min_x=min_x, max_x=max_x, A_vals=A_vals, \n",
    "                                                              lambda_val=lambda_val, loss_term_weights=[1, 0, 0, 0])\n",
    "\n",
    "if False:\n",
    "    \n",
    "    # run model which has a loss of the residual and the first derivative of the residual (i.e. one higher order term)\n",
    "    loss_history_w2, trained_model_w2, time_w2, MSE_w2 = run_model(iterations=iterations, min_x=min_x, max_x=max_x, A=A, \n",
    "                                                                    lambda_val=lambda_val, loss_term_weights=[1, 1, 0, 0])\n",
    "\n",
    "    # run model which has a loss of the residual and the first two derivatives of the residual (i.e. two higher order terms)\n",
    "    loss_history_w3, trained_model_w3, time_w3, MSE_w3 = run_model(iterations=iterations, min_x=min_x, max_x=max_x, A=A, \n",
    "                                                                    lambda_val=lambda_val, loss_term_weights=[1, 1, 1, 0])\n",
    "\n",
    "\n",
    "    # run model which has a loss of the residual and the first three derivatives of the residual (i.e. three higher order terms)\n",
    "    loss_history_w4, trained_model_w4, time_w4, MSE_w4 = run_model(iterations=iterations, min_x=min_x, max_x=max_x, A=A, \n",
    "                                                                    lambda_val=lambda_val, loss_term_weights=[1, 1, 1, 1])\n"
   ]
  },
  {
   "cell_type": "code",
   "execution_count": 7,
   "id": "88962d4e",
   "metadata": {},
   "outputs": [
    {
     "name": "stdout",
     "output_type": "stream",
     "text": [
      "\n",
      " Model 1: Loss = L_D\n"
     ]
    },
    {
     "data": {
      "image/png": "[encoded data removed]",
      "text/plain": [
       "<Figure size 1728x576 with 3 Axes>"
      ]
     },
     "metadata": {
      "needs_background": "light"
     },
     "output_type": "display_data"
    }
   ],
   "source": [
    "# plot overall loss and network solution for model which has a loss of the MSE (i.e. no higher order terms)\n",
    "print(\"\\n Model 1: Loss = L_D\")\n",
    "plot_loss_mse_and_solution(min_x=min_x, max_x=max_x, A=A_vals[3], lambda_val=lambda_val, \n",
    "                       iterations=iterations, trained_model=trained_model_w1, \n",
    "                       train_losses=loss_history_w1['Ltotal_losses'], \n",
    "                       loss_label='Total Loss ($L_D$)', mses=MSE_w1)\n",
    "\n",
    "if False: \n",
    "    \n",
    "    # plot overall loss and network solution for model which has a loss of the residual and the first derivative of the residual (i.e. one higher order term)\n",
    "    print(\"\\n Model 2: Loss = L_D + L_DD\")\n",
    "    plot_loss_mse_and_solution(min_x=min_x, max_x=max_x, A=A, lambda_val=lambda_val, \n",
    "                           iterations=iterations, trained_model=trained_model_w2, \n",
    "                           train_losses=loss_history_w2['Ltotal_losses'], \n",
    "                           loss_label='Total Loss ($L_D + L_{DD}$)', mses=MSE_w2)\n",
    "\n",
    "    # plot overall loss and network solution for model which has a loss of the residual and the first two derivatives of the residual (i.e. two higher order terms)\n",
    "    print(\"\\n Model 3: Loss = L_D + L_DD + L_DDD\")\n",
    "    plot_loss_mse_and_solution(min_x=min_x, max_x=max_x, A=A, lambda_val=lambda_val, \n",
    "                           iterations=iterations, trained_model=trained_model_w3, \n",
    "                           train_losses=loss_history_w3['Ltotal_losses'], \n",
    "                           loss_label='Total Loss ($L_D + L_{DD} + L_{DDD}$)', mses=MSE_w3)\n",
    "\n",
    "    # plot overall loss and network solution for model which has a loss of the residual and the first three derivatives of the residual (i.e. three higher order terms)\n",
    "    print(\"\\n Model 4: Loss = L_D + L_DD + L_DDD + L_DDDD\")\n",
    "    plot_loss_mse_and_solution(min_x=min_x, max_x=max_x, A=A, lambda_val=lambda_val, \n",
    "                           iterations=iterations, trained_model=trained_model_w4, \n",
    "                           train_losses=loss_history_w4['Ltotal_losses'], \n",
    "                           loss_label='Total Loss ($L_D + L_{DD} + L_{DDD} + L_{DDDD}$)', mses=MSE_w4)"
   ]
  },
  {
   "cell_type": "code",
   "execution_count": 8,
   "id": "2ba73139",
   "metadata": {
    "scrolled": false
   },
   "outputs": [],
   "source": [
    "if False:\n",
    "    \n",
    "    # plot of differential equation residual (L_D) for each updated model\n",
    "    plot_individual_loss_terms(iterations, {'$L_D$ (loss = $L_D$)' : loss_history_w1['LD_losses'],\n",
    "                                            '$L_D$ (loss = $L_D + L_{DD}$)' : loss_history_w2['LD_losses'],\n",
    "                                            '$L_D$ (loss = $L_D + L_{DD} + L_{DDD}$)' : loss_history_w3['LD_losses'],\n",
    "                                            '$L_D$ (loss = $L_D + L_{DD} + L_{DDD} + L_{DDDD}$)' : loss_history_w4['LD_losses']})\n",
    "\n",
    "    # plot of L_D and L_DD when using a loss of the residual and the first derivative of the residual (i.e. one higher order term)\n",
    "    plot_individual_loss_terms(iterations, {'$L_D$ (loss = $L_D + L_{DD}$)' : loss_history_w2['LD_losses'], \n",
    "                                            '$L_{DD}$ (loss = $L_D + L_{DD}$)' : loss_history_w2['LDD_losses']})\n",
    "\n",
    "    # plot of L_D, L_DD, and L_DDD when using a loss of the residual and the first two derivatives of the residual (i.e. two higher order terms)\n",
    "    plot_individual_loss_terms(iterations, {'$L_D$ (loss = $L_D + L_{DD} + L_{DDD}$)' : loss_history_w3['LD_losses'], \n",
    "                                            '$L_{DD}$ (loss = $L_D + L_{DD} + L_{DDD}$)' : loss_history_w3['LDD_losses'],\n",
    "                                            '$L_{DDD}$ (loss = $L_D + L_{DD} + L_{DDD}$)' : loss_history_w3['LDDD_losses']})\n",
    "\n",
    "    # plot of L_D, L_DD, L_DDD, and L_DDDD when using a loss of the residual and the first three derivatives of the residual (i.e. three higher order terms)\n",
    "    plot_individual_loss_terms(iterations, {'$L_D$ (loss = $L_D + L_{DD} + L_{DDD} + L_{DDDD}$)' : loss_history_w4['LD_losses'], \n",
    "                                            '$L_{DD}$ (loss = $L_D + L_{DD} + L_{DDD} + L_{DDDD}$)' : loss_history_w4['LDD_losses'],\n",
    "                                            '$L_{DDD}$ (loss = $L_D + L_{DD} + L_{DDD} + L_{DDDD}$)' : loss_history_w4['LDDD_losses'],\n",
    "                                            '$L_{DDDD}$ (loss = $L_D + L_{DD} + L_{DDD} + L_{DDDD}$)' : loss_history_w4['LDDDD_losses']})\n"
   ]
  },
  {
   "cell_type": "code",
   "execution_count": 9,
   "id": "4b2bdd0c",
   "metadata": {},
   "outputs": [
    {
     "name": "stdout",
     "output_type": "stream",
     "text": [
      "H shape before column of 1s:  torch.Size([500, 64])\n",
      "H shape after column of 1s:  torch.Size([500, 65])\n",
      "dh_dt before adjusting:  torch.Size([500, 64, 1])\n",
      "dh_dt after adjusting:  torch.Size([500, 65, 1])\n"
     ]
    }
   ],
   "source": [
    "# create a t to take derivative with respect to \n",
    "rng = np.random.default_rng()\n",
    "t_eval = torch.arange(0, 2, 0.001, requires_grad=True)\n",
    "t_eval = t_eval[rng.integers(low=0, high=2000, size=500)]\n",
    "t_eval = t_eval.reshape(-1, 1)\n",
    "# t_eval = torch.tensor([[0.3], [0.1], [0.5]], dtype=torch.float32, requires_grad=True) \n",
    "\n",
    "# forward pass to extract H \n",
    "output, H = trained_model_w1(t_eval) \n",
    "\n",
    "print(\"H shape before column of 1s: \", H.shape)\n",
    "H = torch.cat((torch.ones(len(t_eval), 1), H), 1)\n",
    "print(\"H shape after column of 1s: \", H.shape)\n",
    "\n",
    "# compute derivative w/r/t H and multiply it by its transpose\n",
    "dH_dt = torch.autograd.functional.jacobian(trained_model_w1 ,t_eval, create_graph=True)[1].sum(axis=2)\n",
    "\n",
    "print(\"dh_dt before adjusting: \", dH_dt.shape)\n",
    "dH_dt = torch.cat((torch.zeros(len(t_eval), 1, 1), dH_dt), 1)\n",
    "print(\"dh_dt after adjusting: \", dH_dt.shape)"
   ]
  },
  {
   "cell_type": "code",
   "execution_count": null,
   "id": "28f4a584",
   "metadata": {},
   "outputs": [],
   "source": [
    "print(dH_dt[499] * new_H[499].T)\n",
    "print()\n",
    "print(new_H[499] * dH_dt[499].T)\n",
    "print()\n",
    "print(new_H[499].T * dH_dt[499])"
   ]
  },
  {
   "cell_type": "code",
   "execution_count": 10,
   "id": "89234f0b",
   "metadata": {},
   "outputs": [
    {
     "name": "stdout",
     "output_type": "stream",
     "text": [
      "dH_dt * dH_dt_T:  torch.Size([500, 65, 65])\n",
      "\n",
      "dH_dt * H_T:  torch.Size([500, 65, 65])\n",
      "\n",
      "H * H_T:  torch.Size([500, 65, 65])\n",
      "\n",
      "W_sum shape before summing across time:  torch.Size([500, 65, 65])\n",
      "W_sum shape after summing across time:  torch.Size([65, 65])\n",
      "\n",
      "H_0 shape before appending 1:  torch.Size([1, 64])\n",
      "H_0 shape after appending 1:  torch.Size([1, 65])\n",
      "H_0_T * H_0 shape:  torch.Size([65, 65])\n"
     ]
    }
   ],
   "source": [
    "# compute dH_dt times dH_dt transpose \n",
    "dH_dt_times_dH_dt_T = torch.matmul(dH_dt, dH_dt.mT)\n",
    "print(\"dH_dt * dH_dt_T: \", dH_dt_times_dH_dt_T.shape)\n",
    "print()\n",
    "\n",
    "# compute dH_dt times H transpose \n",
    "new_H = torch.unsqueeze(H, dim=-1)\n",
    "dH_dt_times_H_T = torch.matmul(dH_dt, new_H.mT)\n",
    "print(\"dH_dt * H_T: \", dH_dt_times_H_T.shape)\n",
    "print()\n",
    "\n",
    "# compute H times H transpose\n",
    "H_times_H_T = torch.matmul(new_H, new_H.mT)\n",
    "print(\"H * H_T: \", H_times_H_T.shape)\n",
    "print()\n",
    "\n",
    "# compute the sum of matrices across time\n",
    "# w_sum_term = dH_dt_times_dH_dt_T + 2 * lambda_val * dH_dt_times_H_T + lambda_val ** 2 * H_times_H_T\n",
    "w_sum_term = dH_dt_times_dH_dt_T + lambda_val * dH_dt_times_H_T + lambda_val * torch.matmul(new_H, dH_dt.mT) + lambda_val ** 2 * H_times_H_T \n",
    "\n",
    "print(\"W_sum shape before summing across time: \", w_sum_term.shape)\n",
    "w_sum_term = w_sum_term.sum(axis=0)\n",
    "w_sum_term = w_sum_term / len(t_eval)\n",
    "print(\"W_sum shape after summing across time: \", w_sum_term.shape)\n",
    "print()\n",
    "\n",
    "# compute H_0 and multiply it by its transpose \n",
    "output_0, H_0 = trained_model_w1(torch.tensor([[0.]], dtype=torch.float32, requires_grad=True))\n",
    "print(\"H_0 shape before appending 1: \", H_0.shape)\n",
    "H_0 = torch.cat((torch.ones(1, 1), H_0), 1)\n",
    "print(\"H_0 shape after appending 1: \", H_0.shape)\n",
    "\n",
    "H_0_T_times_H_0 = torch.matmul(H_0.T, H_0)\n",
    "print(\"H_0_T * H_0 shape: \", H_0_T_times_H_0.shape)"
   ]
  },
  {
   "cell_type": "code",
   "execution_count": 11,
   "id": "a250bb72",
   "metadata": {},
   "outputs": [],
   "source": [
    "# build the M matrix and find its inverse \n",
    "M = w_sum_term + H_0_T_times_H_0\n",
    "M_inverse = torch.linalg.pinv(M)\n",
    "\n",
    "# compute W_out\n",
    "w_out = torch.matmul(M_inverse, H_0.T) * 0.75"
   ]
  },
  {
   "cell_type": "code",
   "execution_count": 15,
   "id": "c52eede6",
   "metadata": {},
   "outputs": [
    {
     "data": {
      "image/png": "[encoded data removed]",
      "text/plain": [
       "<Figure size 432x288 with 1 Axes>"
      ]
     },
     "metadata": {
      "needs_background": "light"
     },
     "output_type": "display_data"
    }
   ],
   "source": [
    "tranfer_learned = [torch.matmul(w_out.T, new_H[i]).item() for i in range(500)]\n",
    "times = list(t_eval.detach().numpy().squeeze())\n",
    "\n",
    "true = [0.75 * np.exp(-lambda_val * time) for time in times]\n",
    "plt.scatter(times, tranfer_learned, label = 'Transfer Learning')\n",
    "plt.scatter(times, true, label='Analytical')\n",
    "plt.xlabel(\"t\")\n",
    "plt.ylabel('y')\n",
    "plt.title(\"Transfer Learning vs Analytical Solution\")\n",
    "plt.legend();"
   ]
  },
  {
   "cell_type": "code",
   "execution_count": null,
   "id": "7786342f",
   "metadata": {},
   "outputs": [],
   "source": [
    "# w_out\n",
    "# list(trained_model_w1.parameters())\n",
    "\n",
    "# TODO:\n",
    "\n",
    "# address todos at the top of the code with model() and minus signs \n",
    "# see if 1 / u_0 ** 2 works or not for norm term\n",
    "# see how formula works and what can be changed while still doing it in \"one shot\"\n",
    "# see which parts of the formula are dependent on time and ask Pavlos how that works\n",
    "# make loss function proper"
   ]
  },
  {
   "cell_type": "code",
   "execution_count": null,
   "id": "0698eb2e",
   "metadata": {},
   "outputs": [],
   "source": [
    "res = (torch.matmul(w_out.T, dH_dt[:]) + torch.matmul(w_out.T, new_H[:])) ** 2\n",
    "res = res.reshape(500, 1).detach().numpy()\n",
    "plt.plot(res);\n",
    "print(res.mean())\n",
    "res2 = (torch.matmul(w_out.T, H_0.T) - 0.75) ** 2\n",
    "print(res2)"
   ]
  },
  {
   "cell_type": "code",
   "execution_count": null,
   "id": "1ae5dead",
   "metadata": {},
   "outputs": [],
   "source": [
    "# # get output u for the three t examples\n",
    "print(torch.matmul(w_out.T, H[0]))\n",
    "print(torch.matmul(w_out.T, H[1]))\n",
    "print(torch.matmul(w_out.T, H[2]))"
   ]
  },
  {
   "cell_type": "code",
   "execution_count": null,
   "id": "41d217aa",
   "metadata": {},
   "outputs": [],
   "source": [
    "print(0.75 * np.exp(-lambda_val * times[0]))\n",
    "print(0.75 * np.exp(-lambda_val * times[1]))\n",
    "print(0.75 * np.exp(-lambda_val * times[2]))"
   ]
  },
  {
   "cell_type": "code",
   "execution_count": null,
   "id": "f365f2ee",
   "metadata": {},
   "outputs": [],
   "source": [
    "print(\"Difference: \", 0.75 * np.exp(-lambda_val * times[0]) - torch.matmul(w_out.T, H[0]))\n",
    "print(\"Difference: \", 0.75 * np.exp(-lambda_val * times[1]) - torch.matmul(w_out.T, H[1]))\n",
    "print(\"Difference: \", 0.75 * np.exp(-lambda_val * times[2]) - torch.matmul(w_out.T, H[2]))"
   ]
  },
  {
   "cell_type": "code",
   "execution_count": null,
   "id": "79a9818b",
   "metadata": {},
   "outputs": [],
   "source": [
    "# print(\"Manually Multiply last layer weights: \")\n",
    "# bias = list(trained_model_w1.parameters())[-1].item()\n",
    "# print(torch.matmul(list(trained_model_w1.parameters())[-2][0].T, H[0]) + bias)\n",
    "# print(torch.matmul(list(trained_model_w1.parameters())[-2][0].T, H[1]) + bias)\n",
    "# print(torch.matmul(list(trained_model_w1.parameters())[-2][0].T, H[2]) + bias)\n",
    "# print(\"-\" * 50)\n",
    "# print(\"Model Outputs: \\n \", output)"
   ]
  },
  {
   "cell_type": "markdown",
   "id": "968a600e",
   "metadata": {},
   "source": [
    "# Appendix"
   ]
  },
  {
   "cell_type": "markdown",
   "id": "aa7898bc",
   "metadata": {},
   "source": [
    "### Notes:\n",
    "\n",
    "- $u_t = lambda$ $t: A + t * model(t)$ is outdated, so we use $ u_t = lambda$ $t: A + (1 - exp(-t)) * model(t)$\n",
    "\n",
    "- We are solving $\\frac{du}{dt} + \\lambda * u = 0$ where $f = -\\lambda * u$\n",
    "\n",
    "- Old Model Code: model = nn.Sequential(nn.Linear(1, 64), nn.Tanh(), nn.Linear(64, 64), nn.Tanh(), nn.Linear(64,1))\n",
    "\n",
    "- Old solution parametrization: u_t = lambda t: A + (1 - torch.exp(-t)) * model(t)"
   ]
  }
 ],
 "metadata": {
  "kernelspec": {
   "display_name": "Python 3",
   "language": "python",
   "name": "python3"
  },
  "language_info": {
   "codemirror_mode": {
    "name": "ipython",
    "version": 3
   },
   "file_extension": ".py",
   "mimetype": "text/x-python",
   "name": "python",
   "nbconvert_exporter": "python",
   "pygments_lexer": "ipython3",
   "version": "3.7.13"
  }
 },
 "nbformat": 4,
 "nbformat_minor": 5
}
