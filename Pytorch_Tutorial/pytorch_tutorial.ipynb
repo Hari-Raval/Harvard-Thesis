{
 "cells": [
  {
   "cell_type": "code",
   "execution_count": 1,
   "id": "46958851",
   "metadata": {},
   "outputs": [],
   "source": [
    "import torch # entire torch library\n",
    "import torch.nn as nn\n",
    "import numpy as np\n",
    "# import torch.nn as nn # all the neural network modules and loss functions\n",
    "# import torch.optim as optim # all the optimization algorithms\n",
    "# import torch.nn.functional as F # functions that do not have parameters like activation functions\n",
    "# from torch.utils.data import DataLoader # helps us create minibatches to train on\n",
    "# import torchvision.datasets as datasets # used to import the MNIST dataset\n",
    "# import torchvision.transforms as transforms # contains tranformations we can perform on the dataset"
   ]
  },
  {
   "cell_type": "markdown",
   "id": "485190f7",
   "metadata": {},
   "source": [
    "# Tensor Basics"
   ]
  },
  {
   "cell_type": "code",
   "execution_count": null,
   "id": "67831195",
   "metadata": {},
   "outputs": [],
   "source": [
    "# create a 1-d vector with 3 empty elements\n",
    "x = torch.empty(3)\n",
    "print(x)\n",
    "\n",
    "# like a 2-d vector with 6 empty elements\n",
    "x = torch.empty(2, 3) \n",
    "print(x)"
   ]
  },
  {
   "cell_type": "code",
   "execution_count": null,
   "id": "012507b0",
   "metadata": {},
   "outputs": [],
   "source": [
    "# create a randomly-filled tensor\n",
    "x = torch.rand(2,2)\n",
    "# create a zero-filled tensor\n",
    "x = torch.zeros(2,2)\n",
    "# create an empty tensor\n",
    "x = torch.empty(2,2)\n",
    "\n",
    "# change the datatype of the tensor\n",
    "x = torch.ones(2,2, dtype=torch.int)\n",
    "print(x.dtype)"
   ]
  },
  {
   "cell_type": "code",
   "execution_count": null,
   "id": "83b5d26a",
   "metadata": {},
   "outputs": [],
   "source": [
    "test = torch.rand(4, 4)\n",
    "# view lets you reshape the tensor\n",
    "test2 = test.view(16)\n",
    "print(test2)\n",
    "print(test.view(16,1))"
   ]
  },
  {
   "cell_type": "code",
   "execution_count": null,
   "id": "0640a3dd",
   "metadata": {},
   "outputs": [],
   "source": [
    "# requires_grad tells pytorch that the gradient will need to be calculated for the value at a certain time\n",
    "x = torch.ones(5, requires_grad=True)\n",
    "print(x)"
   ]
  },
  {
   "cell_type": "markdown",
   "id": "7cf36d6f",
   "metadata": {},
   "source": [
    "# Autograd"
   ]
  },
  {
   "cell_type": "code",
   "execution_count": null,
   "id": "bdada7e6",
   "metadata": {},
   "outputs": [],
   "source": [
    "x = torch.ones(3, requires_grad=True)\n",
    "print(x)\n",
    "\n",
    "y = x + 2\n",
    "print(y)\n",
    "z = y * y * 2\n",
    "# z = z.mean()\n",
    "print(z)\n",
    "v = torch.tensor([0.1, 1.0, 10], dtype=torch.float32)\n",
    "z.backward(v) # calculates the gradient of z with respect to x\n",
    "x.grad # this is where the gradients are stored\n"
   ]
  },
  {
   "cell_type": "code",
   "execution_count": null,
   "id": "32b2cc85",
   "metadata": {},
   "outputs": [],
   "source": [
    "weights = torch.ones(4, requires_grad=True)\n",
    "\n",
    "for epoch in range(1):\n",
    "    model_output = (weights * 3).sum()\n",
    "    model_output.backward()\n",
    "    \n",
    "    print(weights.grad)"
   ]
  },
  {
   "cell_type": "markdown",
   "id": "6f10417f",
   "metadata": {},
   "source": [
    "# Backpropagation"
   ]
  },
  {
   "cell_type": "code",
   "execution_count": null,
   "id": "57a3bd51",
   "metadata": {},
   "outputs": [],
   "source": [
    "x = torch.tensor(1.0)\n",
    "y = torch.tensor(2.0)\n",
    "w = torch.tensor(1.0, requires_grad=True) # interested in the gradient\n",
    "\n",
    "# forward pass and compute the loss\n",
    "y_hat = w * x\n",
    "loss = (y_hat - y) ** 2\n",
    "print(loss)\n",
    "\n",
    "# backward pass\n",
    "loss.backward() # this is the whole gradient computation\n",
    "print(w.grad) # this is the first gradient afte the whole forward and backward pass\n",
    "\n",
    "\n",
    "### update weights\n",
    "### next forward and backward pass\n"
   ]
  },
  {
   "cell_type": "markdown",
   "id": "01b80f69",
   "metadata": {},
   "source": [
    "# Gradient Descent"
   ]
  },
  {
   "cell_type": "code",
   "execution_count": null,
   "id": "5b7c142f",
   "metadata": {},
   "outputs": [],
   "source": [
    "# IMPLEMENT LINEAR REGRESSION MANUALLY FIRST:\n",
    "\n",
    "# f = w * x\n",
    "# In our example, let's say f = 2 * x\n",
    "# training sample: X\n",
    "\n",
    "X = np.array([1, 2, 3, 4], dtype=np.float32)\n",
    "Y = np.array([2, 4, 6, 8], dtype=np.float32)\n",
    "w = 0.0\n",
    "\n",
    "# model prediction\n",
    "def forward(x):\n",
    "    return w * x\n",
    "\n",
    "# loss = MSE\n",
    "def loss(y, y_predicted):\n",
    "    return ((y_predicted - y) ** 2).mean()\n",
    "    \n",
    "# gradient (compute gradient of loss w/r/t parameters)\n",
    "\n",
    "# MSE = 1 / N * (w * x - y)**2\n",
    "# dJ/dw = 1 / N * 2x * (wx - y)\n",
    "def gradient(x, y, y_predicted):\n",
    "    return np.dot(2*x, y_predicted - y).mean()\n",
    "\n",
    "\n",
    "print(f\"Prediction before training: f(5) = {forward(5): .3f}\")\n",
    "\n",
    "# Training\n",
    "learning_rate = 0.01\n",
    "n_iters = 10\n",
    "\n",
    "for epoch in range(n_iters):\n",
    "    # prediction = forward pass\n",
    "    y_pred = forward(X)\n",
    "    # loss\n",
    "    l = loss(Y, y_pred)\n",
    "    \n",
    "    # gradients\n",
    "    dw = gradient(X, Y, y_pred)\n",
    "    \n",
    "    # update weights\n",
    "    w -= learning_rate * dw\n",
    "    \n",
    "    # print\n",
    "    if epoch % 1 == 0:\n",
    "        print(f'epoch {epoch + 1}: w = {w: .3f}, loss = {l:.8f}')\n",
    "        \n",
    "\n",
    "print(f\"Prediction after training: f(5) = {forward(5): .3f}\")\n"
   ]
  },
  {
   "cell_type": "code",
   "execution_count": null,
   "id": "5d467b50",
   "metadata": {},
   "outputs": [],
   "source": [
    "# IMPLEMENT LINEAR REGRESSION MANUALLY BUT USE PYTORCH GRADIENT:\n",
    "\n",
    "# f = w * x\n",
    "# In our example, let's say f = 2 * x\n",
    "# training sample: X\n",
    "\n",
    "X = torch.tensor([1, 2, 3, 4], dtype=torch.float32)\n",
    "Y = torch.tensor([2, 4, 6, 8], dtype=torch.float32)\n",
    "w = torch.tensor(0.0, dtype=torch.float32, requires_grad=True)\n",
    "\n",
    "# model prediction\n",
    "def forward(x):\n",
    "    return w * x\n",
    "\n",
    "# loss = MSE\n",
    "def loss(y, y_predicted):\n",
    "    return ((y_predicted - y) ** 2).mean()\n",
    "    \n",
    "\n",
    "print(f\"Prediction before training: f(5) = {forward(5): .3f}\")\n",
    "\n",
    "# Training\n",
    "learning_rate = 0.01\n",
    "n_iters = 20\n",
    "\n",
    "for epoch in range(n_iters):\n",
    "    # prediction = forward pass\n",
    "    y_pred = forward(X)\n",
    "    \n",
    "    # loss\n",
    "    l = loss(Y, y_pred)\n",
    "    \n",
    "    # gradients = backward_pass\n",
    "    l.backward() # dl / dw\n",
    "    \n",
    "    \n",
    "    # update weights (not part of computational graph)\n",
    "    with torch.no_grad():\n",
    "        w -= learning_rate * w.grad\n",
    "        \n",
    "    # zero gradients (so they don't accumulate in w.grad)\n",
    "    w.grad.zero_()\n",
    "        \n",
    "    # print\n",
    "    if epoch % 1 == 0:\n",
    "        print(f'epoch {epoch + 1}: w = {w: .3f}, loss = {l:.8f}')\n",
    "        \n",
    "\n",
    "print(f\"Prediction after training: f(5) = {forward(5): .3f}\")\n"
   ]
  },
  {
   "cell_type": "code",
   "execution_count": null,
   "id": "8cf8d0e3",
   "metadata": {},
   "outputs": [],
   "source": [
    "# Pytorch typical work-flow\n",
    "# step 1.) Design model (input, output size, forward pass)\n",
    "# step 2.) construct loss and optimizer\n",
    "# step 3.) Training Loop\n",
    "    # - forward pass: compute prediction\n",
    "    # - backward pass: gradients (back propogation)\n",
    "    # - update weights"
   ]
  },
  {
   "cell_type": "code",
   "execution_count": 7,
   "id": "eeef5a3c",
   "metadata": {},
   "outputs": [
    {
     "name": "stdout",
     "output_type": "stream",
     "text": [
      "Prediction before training: f(5) = -1.097\n"
     ]
    }
   ],
   "source": [
    "# IMPLEMENT LINEAR REGRESSION with all pytorch pieces:\n",
    "\n",
    "# f = w * x\n",
    "# In our example, let's say f = 2 * x\n",
    "# training sample: X\n",
    "\n",
    "X = torch.tensor([[1], [2], [3], [4]], dtype=torch.float32)\n",
    "Y = torch.tensor([[2], [4], [6], [8]], dtype=torch.float32)\n",
    "\n",
    "X_test = torch.tensor([5], dtype=torch.float32)\n",
    "\n",
    "n_samples, n_features = X.shape\n",
    "input_size = n_features # 1\n",
    "output_size = n_features # 1\n",
    "\n",
    "# model = nn.Linear(input_size, output_size) # only 1 layer but typically need to come up with model here\n",
    "\n",
    "# if we needed a custom model:\n",
    "\n",
    "class LinearRegression(nn.Module):\n",
    "    def __init__(self, input_dim, output_dim):\n",
    "        super(LinearRegression, self).__init__()\n",
    "        # define layers\n",
    "        self.lin = nn.Linear(input_dim, output_dim)\n",
    "    def forward(self, x):\n",
    "        return self.lin(x)\n",
    "    \n",
    "model = LinearRegression(input_size, output_size)\n",
    "    \n",
    "\n",
    "print(f\"Prediction before training: f(5) = {model(X_test).item(): .3f}\")\n",
    "\n",
    "# Training\n",
    "learning_rate = 0.01\n",
    "n_iters = 100\n",
    "\n",
    "loss = nn.MSELoss()\n",
    "optimizer = torch.optim.SGD(model.parameters(), lr=learning_rate)\n",
    "\n",
    "for epoch in range(n_iters):\n",
    "    # prediction = forward pass\n",
    "    y_pred = model(X)\n",
    "    \n",
    "    # loss\n",
    "    l = loss(Y, y_pred)\n",
    "    \n",
    "    # gradients = backward_pass\n",
    "    l.backward() # dl / dw\n",
    "    \n",
    "    # update weights\n",
    "    optimizer.step()\n",
    "   \n",
    "    # zero gradients (so they don't accumulate in w.grad)\n",
    "    optimizer.zero_grad()\n",
    "        \n",
    "    # print\n",
    "    if epoch % 10 == 0:\n",
    "        [w, b] = model.parameters()\n",
    "        print(f'epoch {epoch + 1}: w = {w[0][0].item(): .3f}, loss = {l:.8f}')\n",
    "        \n",
    "print(f\"Prediction after training: f(5) = {model(X_test).item(): .3f}\")"
   ]
  }
 ],
 "metadata": {
  "kernelspec": {
   "display_name": "Python 3",
   "language": "python",
   "name": "python3"
  },
  "language_info": {
   "codemirror_mode": {
    "name": "ipython",
    "version": 3
   },
   "file_extension": ".py",
   "mimetype": "text/x-python",
   "name": "python",
   "nbconvert_exporter": "python",
   "pygments_lexer": "ipython3",
   "version": "3.7.13"
  }
 },
 "nbformat": 4,
 "nbformat_minor": 5
}
